{
 "cells": [
  {
   "cell_type": "code",
   "execution_count": 15,
   "id": "f8a235f2",
   "metadata": {},
   "outputs": [],
   "source": [
    "from bs4 import BeautifulSoup\n",
    "import requests\n",
    "import json\n",
    "import os\n",
    "import multiprocessing as mp"
   ]
  },
  {
   "cell_type": "code",
   "execution_count": 2,
   "id": "9aef1bf3",
   "metadata": {},
   "outputs": [],
   "source": [
    "base_url=\"https://dblp.org/db/conf/acl/index.html\""
   ]
  },
  {
   "cell_type": "code",
   "execution_count": 8,
   "id": "d464081c",
   "metadata": {
    "scrolled": true
   },
   "outputs": [
    {
     "name": "stdout",
     "output_type": "stream",
     "text": [
      "['https://dblp.org/db/conf/acl/acl2023-1.html', 'https://dblp.org/db/conf/acl/acl2023-2.html', 'https://dblp.org/db/conf/acl/acl2023s.html', 'https://dblp.org/db/conf/acl/acl2023f.html', 'https://dblp.org/db/conf/acl/acl2023d.html', 'https://dblp.org/db/conf/acl/acl2023i.html', 'https://dblp.org/db/conf/acl/acl2023t.html', 'https://dblp.org/db/conf/acl/acl2022-1.html', 'https://dblp.org/db/conf/acl/acl2022-2.html', 'https://dblp.org/db/conf/acl/acl2022s.html', 'https://dblp.org/db/conf/acl/acl2022f.html', 'https://dblp.org/db/conf/acl/acl2022-d.html', 'https://dblp.org/db/conf/acl/acl2022-t.html', 'https://dblp.org/db/conf/acl/acl2021-1.html', 'https://dblp.org/db/conf/acl/acl2021-2.html', 'https://dblp.org/db/conf/acl/acl2021-s.html', 'https://dblp.org/db/conf/acl/acl2021f.html', 'https://dblp.org/db/conf/acl/acl2021-d.html', 'https://dblp.org/db/conf/acl/acl2020.html', 'https://dblp.org/db/conf/acl/acl2020-d.html', 'https://dblp.org/db/conf/acl/acl2020-s.html', 'https://dblp.org/db/conf/acl/acl2020-t.html', 'https://dblp.org/db/conf/acl/nuse2020.html', 'https://dblp.org/db/conf/acl/acl2019-1.html', 'https://dblp.org/db/conf/acl/acl2019-2.html', 'https://dblp.org/db/conf/acl/acl2019-3.html', 'https://dblp.org/db/conf/acl/acl2019-4.html', 'https://dblp.org/db/conf/acl/acl2018-1.html', 'https://dblp.org/db/conf/acl/acl2018-2.html', 'https://dblp.org/db/conf/acl/acl2018-3.html', 'https://dblp.org/db/conf/acl/acl2018-4.html', 'https://dblp.org/db/conf/acl/acl2018-5.html', 'https://dblp.org/db/conf/acl/qa2018.html', 'https://dblp.org/db/conf/acl/econlp2018.html', 'https://dblp.org/db/conf/acl/acl2017-1.html', 'https://dblp.org/db/conf/acl/acl2017-2.html', 'https://dblp.org/db/conf/acl/acl2017-s.html', 'https://dblp.org/db/conf/acl/acl2017-d.html', 'https://dblp.org/db/conf/acl/acl2017-t.html', 'https://dblp.org/db/conf/acl/robonlp2017.html', 'https://dblp.org/db/conf/latech/latech2017.html', 'https://dblp.org/db/conf/acl/acl2016-1.html', 'https://dblp.org/db/conf/acl/acl2016-2.html', 'https://dblp.org/db/conf/acl/acl2016-d.html', 'https://dblp.org/db/conf/acl/acl2016-s.html', 'https://dblp.org/db/conf/acl/argmining2016.html', 'https://dblp.org/db/conf/acl/vl2016.html', 'https://dblp.org/db/conf/latech/latech2016.html', 'https://dblp.org/db/conf/mwe/mwe2016.html', 'https://dblp.org/db/conf/acllaw/law2016.html', 'https://dblp.org/db/conf/sigmorphon/sigmorphon2016.html', 'https://dblp.org/db/conf/acl/acl2015-1.html', 'https://dblp.org/db/conf/acl/acl2015-2.html', 'https://dblp.org/db/conf/acl/acl2015-s.html', 'https://dblp.org/db/conf/acl/acl2015-d.html', 'https://dblp.org/db/conf/acl/acl2015-t.html', 'https://dblp.org/db/conf/latech/latech2015.html', 'https://dblp.org/db/conf/hytra/hytra2015.html', 'https://dblp.org/db/conf/acl/acl2014-1.html', 'https://dblp.org/db/conf/acl/acl2014-2.html', 'https://dblp.org/db/conf/acl/acl2014-d.html', 'https://dblp.org/db/conf/acl/acl2014-s.html', 'https://dblp.org/db/conf/acl/acl2014-t.html', 'https://dblp.org/db/conf/acl/argmining2014.html', 'https://dblp.org/db/conf/wmt/wmt2014.html', 'https://dblp.org/db/conf/wassa/wassa2014.html', 'https://dblp.org/db/conf/bea/bea2014.html', 'https://dblp.org/db/conf/sigmorphon/sigmorphon2014.html', 'https://dblp.org/db/conf/acl/ltcss2014.html', 'https://dblp.org/db/conf/acl/acl2013-1.html', 'https://dblp.org/db/conf/acl/acl2013-2.html', 'https://dblp.org/db/conf/acl/acl2013-d.html', 'https://dblp.org/db/conf/acl/acl2013-s.html', 'https://dblp.org/db/conf/acl/acl2013-t.html', 'https://dblp.org/db/conf/wmt/wmt2013.html', 'https://dblp.org/db/conf/latech/latech2013.html', 'https://dblp.org/db/conf/hytra/hytra2013.html', 'https://dblp.org/db/conf/acllaw/law2013.html', 'https://dblp.org/db/conf/acl/cvsm2013.html', 'https://dblp.org/db/conf/acl/acl2012-1.html', 'https://dblp.org/db/conf/acl/acl2012-2.html', 'https://dblp.org/db/conf/acl/acl2012d.html', 'https://dblp.org/db/conf/acl/acl2012t.html', 'https://dblp.org/db/conf/acllaw/law2012.html', 'https://dblp.org/db/conf/wassa/wassa2012.html', 'https://dblp.org/db/conf/textgraphs/textgraphs2012.html', 'https://dblp.org/db/conf/ssst/ssst2012.html', 'https://dblp.org/db/conf/acl/discoveries2012.html', 'https://dblp.org/db/conf/acl/exprom2012.html', 'https://dblp.org/db/conf/acl/smiae2012.html', 'https://dblp.org/db/conf/acl/acl2011.html', 'https://dblp.org/db/conf/acl/acl2011s.html', 'https://dblp.org/db/conf/acl/acl2011r.html', 'https://dblp.org/db/conf/acl/acl2011d.html', 'https://dblp.org/db/conf/acl/acl2011t.html', 'https://dblp.org/db/conf/latech/latech2011.html', 'https://dblp.org/db/conf/ssst/ssst2011.html', 'https://dblp.org/db/conf/acl/monolingual2011.html', 'https://dblp.org/db/conf/acl/relms2011.html', 'https://dblp.org/db/conf/acl/acl2010.html', 'https://dblp.org/db/conf/acl/acl2010s.html', 'https://dblp.org/db/conf/acl/acl2010r.html', 'https://dblp.org/db/conf/acl/acl2010d.html', 'https://dblp.org/db/conf/sigmorphon/sigmorphon2010.html', 'https://dblp.org/db/conf/acl/atanlp2010.html', 'https://dblp.org/db/conf/acl/nesp2010.html', 'https://dblp.org/db/conf/acl/acl2009.html', 'https://dblp.org/db/conf/acl/acl2009s.html', 'https://dblp.org/db/conf/acl/acl2009r.html', 'https://dblp.org/db/conf/acl/acl2009d.html', 'https://dblp.org/db/conf/acl/acl2009-t.html', 'https://dblp.org/db/conf/acl/textinfer2009.html', 'https://dblp.org/db/conf/acl/acl2008.html', 'https://dblp.org/db/conf/acl/acl2008s.html', 'https://dblp.org/db/conf/acl/acl2008r.html', 'https://dblp.org/db/conf/acl/acl2008d.html', 'https://dblp.org/db/conf/acl/acl2008t.html', 'https://dblp.org/db/conf/sigmorphon/sigmorphon2008.html', 'https://dblp.org/db/conf/acl/setqalnp2008.html', 'https://dblp.org/db/conf/acl/acl2007.html', 'https://dblp.org/db/conf/sigmorphon/sigmorphon2007.html', 'https://dblp.org/db/conf/acl/2007pascal.html', 'https://dblp.org/db/conf/acl/acl2006.html', 'https://dblp.org/db/conf/acl/onthologylearning2006.html', 'https://dblp.org/db/conf/acl/acl2005.html', 'https://dblp.org/db/conf/acl/paralleltexts2005.html', 'https://dblp.org/db/conf/acl/ieevaluation2005.html', 'https://dblp.org/db/conf/acl/emsee2005.html', 'https://dblp.org/db/conf/acl/fca2005.html', 'https://dblp.org/db/conf/acl/acl2004.html', 'https://dblp.org/db/conf/acl/acl2004-sr.html', 'https://dblp.org/db/conf/acl/acl2004-p.html', 'https://dblp.org/db/conf/acl/acl2003.html', 'https://dblp.org/db/conf/acl/acl2003c.html', 'https://dblp.org/db/conf/acl/ner2003.html', 'https://dblp.org/db/conf/acl/acl2003la.html', 'https://dblp.org/db/conf/acl/acl2002.html', 'https://dblp.org/db/conf/acl/bio2002.html', 'https://dblp.org/db/conf/acl/stst2002.html', 'https://dblp.org/db/conf/acl/acl2001.html', 'https://dblp.org/db/conf/acl/acl2001-c.html', 'https://dblp.org/db/conf/acl/ddmmt2001.html', 'https://dblp.org/db/conf/acl/hltkm2001.html', 'https://dblp.org/db/conf/acl/acl2000.html', 'https://dblp.org/db/conf/acl/acl1999.html', 'https://dblp.org/db/conf/acl/coref1999.html', 'https://dblp.org/db/conf/acl/acl98.html', 'https://dblp.org/db/conf/acl/acl97.html', 'https://dblp.org/db/conf/conll/conll1997.html', 'https://dblp.org/db/conf/acl/acl96.html', 'https://dblp.org/db/conf/acl/acl95.html', 'https://dblp.org/db/conf/acl/acl94.html', 'https://dblp.org/db/conf/acl/acl93.html', 'https://dblp.org/db/conf/acl/acl92.html', 'https://dblp.org/db/conf/acl/acl91.html', 'https://dblp.org/db/conf/siglex/siglex1991.html', 'https://dblp.org/db/conf/acl/acl90.html', 'https://dblp.org/db/conf/acl/acl1989.html', 'https://dblp.org/db/conf/acl/acl1988.html', 'https://dblp.org/db/conf/acl/acl1987.html', 'https://dblp.org/db/conf/acl/acl1986.html', 'https://dblp.org/db/conf/acl/acl85.html', 'https://dblp.org/db/conf/coling/coling1984.html', 'https://dblp.org/db/conf/acl/acl1983.html', 'https://dblp.org/db/conf/acl/acl1982.html', 'https://dblp.org/db/conf/acl/acl1981.html', 'https://dblp.org/db/conf/acl/acl1980.html', 'https://dblp.org/db/conf/acl/acl1979.html']\n"
     ]
    }
   ],
   "source": [
    "#Conference List Each Year\n",
    "links_response = requests.get(base_url)\n",
    "links=[]\n",
    "if links_response.status_code == 200:\n",
    "    # Parse the HTML content using BeautifulSoup\n",
    "    soup = BeautifulSoup(links_response.text, 'html.parser')\n",
    "    for link in soup.select('ul > li > cite > a.toc-link'):\n",
    "        links.append(link.get('href'))\n",
    "    soup.decompose()\n",
    "    print(links)"
   ]
  },
  {
   "cell_type": "code",
   "execution_count": 44,
   "id": "cdea6a60",
   "metadata": {},
   "outputs": [],
   "source": [
    "#Crawling Papers in Each Conference\n",
    "paper_links=[]\n",
    "for link in links:\n",
    "    link_response = requests.get(link)\n",
    "    if link_response.status_code == 200:\n",
    "        # Parse the HTML content using BeautifulSoup\n",
    "        soup = BeautifulSoup(link_response.text, 'html.parser')\n",
    "        temp_list=soup.select('ul > li.inproceedings > nav > ul > li > div > ul > li.ee > a')\n",
    "        temp_list_len=len(temp_list)\n",
    "        for i in range(0,temp_list_len):\n",
    "            if temp_list[i].get('href').startswith('https://doi.org/'):\n",
    "                paper_links.append(temp_list[i].get('href'))\n",
    "        soup.decompose()\n",
    "    elif link_response.status_code == 404:\n",
    "        pass\n",
    "    else:\n",
    "        print(\"THERE IS AN ERROR!\")\n",
    "        break"
   ]
  },
  {
   "cell_type": "markdown",
   "id": "33262997",
   "metadata": {},
   "source": [
    "## Use Semanticscholar API to get Paper informations\n",
    "### https://github.com/danielnsilva/semanticscholar"
   ]
  },
  {
   "cell_type": "code",
   "execution_count": 36,
   "id": "86ef1c9b",
   "metadata": {
    "scrolled": false
   },
   "outputs": [
    {
     "name": "stdout",
     "output_type": "stream",
     "text": [
      "Requirement already satisfied: semanticscholar in /root/anaconda3/lib/python3.11/site-packages (0.5.0)\n",
      "Requirement already satisfied: requests in /root/anaconda3/lib/python3.11/site-packages (from semanticscholar) (2.31.0)\n",
      "Requirement already satisfied: tenacity in /root/anaconda3/lib/python3.11/site-packages (from semanticscholar) (8.2.2)\n",
      "Requirement already satisfied: charset-normalizer<4,>=2 in /root/anaconda3/lib/python3.11/site-packages (from requests->semanticscholar) (2.0.4)\n",
      "Requirement already satisfied: idna<4,>=2.5 in /root/anaconda3/lib/python3.11/site-packages (from requests->semanticscholar) (3.4)\n",
      "Requirement already satisfied: urllib3<3,>=1.21.1 in /root/anaconda3/lib/python3.11/site-packages (from requests->semanticscholar) (1.26.16)\n",
      "Requirement already satisfied: certifi>=2017.4.17 in /root/anaconda3/lib/python3.11/site-packages (from requests->semanticscholar) (2023.7.22)\n",
      "\u001b[33mWARNING: Running pip as the 'root' user can result in broken permissions and conflicting behaviour with the system package manager. It is recommended to use a virtual environment instead: https://pip.pypa.io/warnings/venv\u001b[0m\u001b[33m\n",
      "\u001b[0m"
     ]
    }
   ],
   "source": [
    "!pip install semanticscholar"
   ]
  },
  {
   "cell_type": "code",
   "execution_count": 69,
   "id": "ad283f5c",
   "metadata": {},
   "outputs": [
    {
     "name": "stdout",
     "output_type": "stream",
     "text": [
      "['10.18653/v1/2023.acl-long.1', '10.18653/v1/2023.acl-long.2', '10.18653/v1/2023.acl-long.3', '10.18653/v1/2023.acl-long.4', '10.18653/v1/2023.acl-long.5', '10.18653/v1/2023.acl-long.6', '10.18653/v1/2023.acl-long.7', '10.18653/v1/2023.acl-long.8', '10.18653/v1/2023.acl-long.9', '10.18653/v1/2023.acl-long.10', '10.18653/v1/2023.acl-long.11', '10.18653/v1/2023.acl-long.12', '10.18653/v1/2023.acl-long.13', '10.18653/v1/2023.acl-long.14', '10.18653/v1/2023.acl-long.15', '10.18653/v1/2023.acl-long.16', '10.18653/v1/2023.acl-long.17', '10.18653/v1/2023.acl-long.18', '10.18653/v1/2023.acl-long.19', '10.18653/v1/2023.acl-long.20', '10.18653/v1/2023.acl-long.21', '10.18653/v1/2023.acl-long.22', '10.18653/v1/2023.acl-long.23', '10.18653/v1/2023.acl-long.24', '10.18653/v1/2023.acl-long.25', '10.18653/v1/2023.acl-long.26', '10.18653/v1/2023.acl-long.27', '10.18653/v1/2023.acl-long.28', '10.18653/v1/2023.acl-long.29', '10.18653/v1/2023.acl-long.30', '10.18653/v1/2023.acl-long.31', '10.18653/v1/2023.acl-long.32', '10.18653/v1/2023.acl-long.33', '10.18653/v1/2023.acl-long.34', '10.18653/v1/2023.acl-long.35', '10.18653/v1/2023.acl-long.36', '10.18653/v1/2023.acl-long.37', '10.18653/v1/2023.acl-long.38', '10.18653/v1/2023.acl-long.39', '10.18653/v1/2023.acl-long.40', '10.18653/v1/2023.acl-long.41', '10.18653/v1/2023.acl-long.42', '10.18653/v1/2023.acl-long.43', '10.18653/v1/2023.acl-long.44', '10.18653/v1/2023.acl-long.45', '10.18653/v1/2023.acl-long.46', '10.18653/v1/2023.acl-long.47', '10.18653/v1/2023.acl-long.48', '10.18653/v1/2023.acl-long.49', '10.18653/v1/2023.acl-long.50', '10.18653/v1/2023.acl-long.51', '10.18653/v1/2023.acl-long.52', '10.18653/v1/2023.acl-long.53', '10.18653/v1/2023.acl-long.54', '10.18653/v1/2023.acl-long.55', '10.18653/v1/2023.acl-long.56', '10.18653/v1/2023.acl-long.57', '10.18653/v1/2023.acl-long.58', '10.18653/v1/2023.acl-long.59', '10.18653/v1/2023.acl-long.60', '10.18653/v1/2023.acl-long.61', '10.18653/v1/2023.acl-long.62', '10.18653/v1/2023.acl-long.63', '10.18653/v1/2023.acl-long.64', '10.18653/v1/2023.acl-long.65', '10.18653/v1/2023.acl-long.66', '10.18653/v1/2023.acl-long.67', '10.18653/v1/2023.acl-long.68', '10.18653/v1/2023.acl-long.69', '10.18653/v1/2023.acl-long.70', '10.18653/v1/2023.acl-long.71', '10.18653/v1/2023.acl-long.72', '10.18653/v1/2023.acl-long.73', '10.18653/v1/2023.acl-long.74', '10.18653/v1/2023.acl-long.75', '10.18653/v1/2023.acl-long.76', '10.18653/v1/2023.acl-long.77', '10.18653/v1/2023.acl-long.78', '10.18653/v1/2023.acl-long.79', '10.18653/v1/2023.acl-long.80', '10.18653/v1/2023.acl-long.81', '10.18653/v1/2023.acl-long.82', '10.18653/v1/2023.acl-long.83', '10.18653/v1/2023.acl-long.84', '10.18653/v1/2023.acl-long.85', '10.18653/v1/2023.acl-long.86', '10.18653/v1/2023.acl-long.87', '10.18653/v1/2023.acl-long.88', '10.18653/v1/2023.acl-long.89', '10.18653/v1/2023.acl-long.90', '10.18653/v1/2023.acl-long.91', '10.18653/v1/2023.acl-long.92', '10.18653/v1/2023.acl-long.93', '10.18653/v1/2023.acl-long.94', '10.18653/v1/2023.acl-long.95', '10.18653/v1/2023.acl-long.96', '10.18653/v1/2023.acl-long.97', '10.18653/v1/2023.acl-long.98', '10.18653/v1/2023.acl-long.99', '10.18653/v1/2023.acl-long.100', '10.18653/v1/2023.acl-long.101', '10.18653/v1/2023.acl-long.102', '10.18653/v1/2023.acl-long.103', '10.18653/v1/2023.acl-long.104', '10.18653/v1/2023.acl-long.105', '10.18653/v1/2023.acl-long.106', '10.18653/v1/2023.acl-long.107', '10.18653/v1/2023.acl-long.108', '10.18653/v1/2023.acl-long.109', '10.18653/v1/2023.acl-long.110', '10.18653/v1/2023.acl-long.111', '10.18653/v1/2023.acl-long.112', '10.18653/v1/2023.acl-long.113', '10.18653/v1/2023.acl-long.114', '10.18653/v1/2023.acl-long.115', '10.18653/v1/2023.acl-long.116', '10.18653/v1/2023.acl-long.117', '10.18653/v1/2023.acl-long.118', '10.18653/v1/2023.acl-long.119', '10.18653/v1/2023.acl-long.120', '10.18653/v1/2023.acl-long.121', '10.18653/v1/2023.acl-long.122', '10.18653/v1/2023.acl-long.123', '10.18653/v1/2023.acl-long.124', '10.18653/v1/2023.acl-long.125', '10.18653/v1/2023.acl-long.126', '10.18653/v1/2023.acl-long.127', '10.18653/v1/2023.acl-long.128', '10.18653/v1/2023.acl-long.129', '10.18653/v1/2023.acl-long.130', '10.18653/v1/2023.acl-long.131', '10.18653/v1/2023.acl-long.132', '10.18653/v1/2023.acl-long.133', '10.18653/v1/2023.acl-long.134', '10.18653/v1/2023.acl-long.135', '10.18653/v1/2023.acl-long.136', '10.18653/v1/2023.acl-long.137', '10.18653/v1/2023.acl-long.138', '10.18653/v1/2023.acl-long.139', '10.18653/v1/2023.acl-long.140', '10.18653/v1/2023.acl-long.141', '10.18653/v1/2023.acl-long.142', '10.18653/v1/2023.acl-long.143', '10.18653/v1/2023.acl-long.144', '10.18653/v1/2023.acl-long.145', '10.18653/v1/2023.acl-long.146', '10.18653/v1/2023.acl-long.147', '10.18653/v1/2023.acl-long.148', '10.18653/v1/2023.acl-long.149', '10.18653/v1/2023.acl-long.150', '10.18653/v1/2023.acl-long.151', '10.18653/v1/2023.acl-long.152', '10.18653/v1/2023.acl-long.153', '10.18653/v1/2023.acl-long.154', '10.18653/v1/2023.acl-long.155', '10.18653/v1/2023.acl-long.156', '10.18653/v1/2023.acl-long.157', '10.18653/v1/2023.acl-long.158', '10.18653/v1/2023.acl-long.159', '10.18653/v1/2023.acl-long.160', '10.18653/v1/2023.acl-long.161', '10.18653/v1/2023.acl-long.162', '10.18653/v1/2023.acl-long.163', '10.18653/v1/2023.acl-long.164', '10.18653/v1/2023.acl-long.165', '10.18653/v1/2023.acl-long.166', '10.18653/v1/2023.acl-long.167', '10.18653/v1/2023.acl-long.168', '10.18653/v1/2023.acl-long.169', '10.18653/v1/2023.acl-long.170', '10.18653/v1/2023.acl-long.171', '10.18653/v1/2023.acl-long.172', '10.18653/v1/2023.acl-long.173', '10.18653/v1/2023.acl-long.174', '10.18653/v1/2023.acl-long.175', '10.18653/v1/2023.acl-long.176', '10.18653/v1/2023.acl-long.177', '10.18653/v1/2023.acl-long.178', '10.18653/v1/2023.acl-long.179', '10.18653/v1/2023.acl-long.180', '10.18653/v1/2023.acl-long.181', '10.18653/v1/2023.acl-long.182', '10.18653/v1/2023.acl-long.183', '10.18653/v1/2023.acl-long.184', '10.18653/v1/2023.acl-long.185', '10.18653/v1/2023.acl-long.186', '10.18653/v1/2023.acl-long.187', '10.18653/v1/2023.acl-long.188', '10.18653/v1/2023.acl-long.189', '10.18653/v1/2023.acl-long.190', '10.18653/v1/2023.acl-long.191', '10.18653/v1/2023.acl-long.192', '10.18653/v1/2023.acl-long.193', '10.18653/v1/2023.acl-long.194', '10.18653/v1/2023.acl-long.195', '10.18653/v1/2023.acl-long.196', '10.18653/v1/2023.acl-long.197', '10.18653/v1/2023.acl-long.198', '10.18653/v1/2023.acl-long.199', '10.18653/v1/2023.acl-long.200', '10.18653/v1/2023.acl-long.201', '10.18653/v1/2023.acl-long.202', '10.18653/v1/2023.acl-long.203', '10.18653/v1/2023.acl-long.204', '10.18653/v1/2023.acl-long.205', '10.18653/v1/2023.acl-long.206', '10.18653/v1/2023.acl-long.207', '10.18653/v1/2023.acl-long.208', '10.18653/v1/2023.acl-long.209', '10.18653/v1/2023.acl-long.210', '10.18653/v1/2023.acl-long.211', '10.18653/v1/2023.acl-long.212', '10.18653/v1/2023.acl-long.213', '10.18653/v1/2023.acl-long.214', '10.18653/v1/2023.acl-long.215', '10.18653/v1/2023.acl-long.216', '10.18653/v1/2023.acl-long.217', '10.18653/v1/2023.acl-long.218', '10.18653/v1/2023.acl-long.219', '10.18653/v1/2023.acl-long.220', '10.18653/v1/2023.acl-long.221', '10.18653/v1/2023.acl-long.222', '10.18653/v1/2023.acl-long.223', '10.18653/v1/2023.acl-long.224', '10.18653/v1/2023.acl-long.225', '10.18653/v1/2023.acl-long.226', '10.18653/v1/2023.acl-long.227', '10.18653/v1/2023.acl-long.228', '10.18653/v1/2023.acl-long.229', '10.18653/v1/2023.acl-long.230', '10.18653/v1/2023.acl-long.231', '10.18653/v1/2023.acl-long.232', '10.18653/v1/2023.acl-long.233', '10.18653/v1/2023.acl-long.234', '10.18653/v1/2023.acl-long.235', '10.18653/v1/2023.acl-long.236', '10.18653/v1/2023.acl-long.237', '10.18653/v1/2023.acl-long.238', '10.18653/v1/2023.acl-long.239', '10.18653/v1/2023.acl-long.240', '10.18653/v1/2023.acl-long.241', '10.18653/v1/2023.acl-long.242', '10.18653/v1/2023.acl-long.243', '10.18653/v1/2023.acl-long.244', '10.18653/v1/2023.acl-long.245', '10.18653/v1/2023.acl-long.246', '10.18653/v1/2023.acl-long.247', '10.18653/v1/2023.acl-long.248', '10.18653/v1/2023.acl-long.249', '10.18653/v1/2023.acl-long.250', '10.18653/v1/2023.acl-long.251', '10.18653/v1/2023.acl-long.252', '10.18653/v1/2023.acl-long.253', '10.18653/v1/2023.acl-long.254', '10.18653/v1/2023.acl-long.255', '10.18653/v1/2023.acl-long.256', '10.18653/v1/2023.acl-long.257', '10.18653/v1/2023.acl-long.258', '10.18653/v1/2023.acl-long.259', '10.18653/v1/2023.acl-long.260', '10.18653/v1/2023.acl-long.261', '10.18653/v1/2023.acl-long.262', '10.18653/v1/2023.acl-long.263', '10.18653/v1/2023.acl-long.264', '10.18653/v1/2023.acl-long.265', '10.18653/v1/2023.acl-long.266', '10.18653/v1/2023.acl-long.267', '10.18653/v1/2023.acl-long.268', '10.18653/v1/2023.acl-long.269', '10.18653/v1/2023.acl-long.270', '10.18653/v1/2023.acl-long.271', '10.18653/v1/2023.acl-long.272', '10.18653/v1/2023.acl-long.273', '10.18653/v1/2023.acl-long.274', '10.18653/v1/2023.acl-long.275', '10.18653/v1/2023.acl-long.276', '10.18653/v1/2023.acl-long.277', '10.18653/v1/2023.acl-long.278', '10.18653/v1/2023.acl-long.279', '10.18653/v1/2023.acl-long.280', '10.18653/v1/2023.acl-long.281', '10.18653/v1/2023.acl-long.282', '10.18653/v1/2023.acl-long.283', '10.18653/v1/2023.acl-long.284', '10.18653/v1/2023.acl-long.285', '10.18653/v1/2023.acl-long.286', '10.18653/v1/2023.acl-long.287', '10.18653/v1/2023.acl-long.288', '10.18653/v1/2023.acl-long.289', '10.18653/v1/2023.acl-long.290', '10.18653/v1/2023.acl-long.291', '10.18653/v1/2023.acl-long.292', '10.18653/v1/2023.acl-long.293', '10.18653/v1/2023.acl-long.294', '10.18653/v1/2023.acl-long.295', '10.18653/v1/2023.acl-long.296', '10.18653/v1/2023.acl-long.297', '10.18653/v1/2023.acl-long.298', '10.18653/v1/2023.acl-long.299', '10.18653/v1/2023.acl-long.300', '10.18653/v1/2023.acl-long.301', '10.18653/v1/2023.acl-long.302', '10.18653/v1/2023.acl-long.303', '10.18653/v1/2023.acl-long.304', '10.18653/v1/2023.acl-long.305', '10.18653/v1/2023.acl-long.306', '10.18653/v1/2023.acl-long.307', '10.18653/v1/2023.acl-long.308', '10.18653/v1/2023.acl-long.309', '10.18653/v1/2023.acl-long.310', '10.18653/v1/2023.acl-long.311', '10.18653/v1/2023.acl-long.312', '10.18653/v1/2023.acl-long.313', '10.18653/v1/2023.acl-long.314', '10.18653/v1/2023.acl-long.315', '10.18653/v1/2023.acl-long.316', '10.18653/v1/2023.acl-long.317', '10.18653/v1/2023.acl-long.318', '10.18653/v1/2023.acl-long.319', '10.18653/v1/2023.acl-long.320', '10.18653/v1/2023.acl-long.321', '10.18653/v1/2023.acl-long.322', '10.18653/v1/2023.acl-long.323', '10.18653/v1/2023.acl-long.324', '10.18653/v1/2023.acl-long.325', '10.18653/v1/2023.acl-long.326', '10.18653/v1/2023.acl-long.327', '10.18653/v1/2023.acl-long.328', '10.18653/v1/2023.acl-long.329', '10.18653/v1/2023.acl-long.330', '10.18653/v1/2023.acl-long.331', '10.18653/v1/2023.acl-long.332', '10.18653/v1/2023.acl-long.333', '10.18653/v1/2023.acl-long.334', '10.18653/v1/2023.acl-long.335', '10.18653/v1/2023.acl-long.336', '10.18653/v1/2023.acl-long.337', '10.18653/v1/2023.acl-long.338', '10.18653/v1/2023.acl-long.339', '10.18653/v1/2023.acl-long.340', '10.18653/v1/2023.acl-long.341', '10.18653/v1/2023.acl-long.342', '10.18653/v1/2023.acl-long.343', '10.18653/v1/2023.acl-long.344', '10.18653/v1/2023.acl-long.345', '10.18653/v1/2023.acl-long.346', '10.18653/v1/2023.acl-long.347', '10.18653/v1/2023.acl-long.348', '10.18653/v1/2023.acl-long.349', '10.18653/v1/2023.acl-long.350', '10.18653/v1/2023.acl-long.351', '10.18653/v1/2023.acl-long.352', '10.18653/v1/2023.acl-long.353', '10.18653/v1/2023.acl-long.354', '10.18653/v1/2023.acl-long.355', '10.18653/v1/2023.acl-long.356', '10.18653/v1/2023.acl-long.357', '10.18653/v1/2023.acl-long.358', '10.18653/v1/2023.acl-long.359', '10.18653/v1/2023.acl-long.360', '10.18653/v1/2023.acl-long.361', '10.18653/v1/2023.acl-long.362', '10.18653/v1/2023.acl-long.363', '10.18653/v1/2023.acl-long.364', '10.18653/v1/2023.acl-long.365', '10.18653/v1/2023.acl-long.366', '10.18653/v1/2023.acl-long.367', '10.18653/v1/2023.acl-long.368', '10.18653/v1/2023.acl-long.369', '10.18653/v1/2023.acl-long.370', '10.18653/v1/2023.acl-long.371', '10.18653/v1/2023.acl-long.372', '10.18653/v1/2023.acl-long.373', '10.18653/v1/2023.acl-long.374', '10.18653/v1/2023.acl-long.375', '10.18653/v1/2023.acl-long.376', '10.18653/v1/2023.acl-long.377', '10.18653/v1/2023.acl-long.378', '10.18653/v1/2023.acl-long.379', '10.18653/v1/2023.acl-long.380', '10.18653/v1/2023.acl-long.381', '10.18653/v1/2023.acl-long.382', '10.18653/v1/2023.acl-long.383', '10.18653/v1/2023.acl-long.384', '10.18653/v1/2023.acl-long.385', '10.18653/v1/2023.acl-long.386', '10.18653/v1/2023.acl-long.387', '10.18653/v1/2023.acl-long.388', '10.18653/v1/2023.acl-long.389', '10.18653/v1/2023.acl-long.390', '10.18653/v1/2023.acl-long.391', '10.18653/v1/2023.acl-long.392', '10.18653/v1/2023.acl-long.393', '10.18653/v1/2023.acl-long.394', '10.18653/v1/2023.acl-long.395', '10.18653/v1/2023.acl-long.396', '10.18653/v1/2023.acl-long.397', '10.18653/v1/2023.acl-long.398', '10.18653/v1/2023.acl-long.399', '10.18653/v1/2023.acl-long.400', '10.18653/v1/2023.acl-long.401', '10.18653/v1/2023.acl-long.402', '10.18653/v1/2023.acl-long.403', '10.18653/v1/2023.acl-long.404', '10.18653/v1/2023.acl-long.405', '10.18653/v1/2023.acl-long.406', '10.18653/v1/2023.acl-long.407', '10.18653/v1/2023.acl-long.408', '10.18653/v1/2023.acl-long.409', '10.18653/v1/2023.acl-long.410', '10.18653/v1/2023.acl-long.411', '10.18653/v1/2023.acl-long.412', '10.18653/v1/2023.acl-long.413', '10.18653/v1/2023.acl-long.414', '10.18653/v1/2023.acl-long.415', '10.18653/v1/2023.acl-long.416', '10.18653/v1/2023.acl-long.417', '10.18653/v1/2023.acl-long.418', '10.18653/v1/2023.acl-long.419', '10.18653/v1/2023.acl-long.420', '10.18653/v1/2023.acl-long.421', '10.18653/v1/2023.acl-long.422', '10.18653/v1/2023.acl-long.423', '10.18653/v1/2023.acl-long.424', '10.18653/v1/2023.acl-long.425', '10.18653/v1/2023.acl-long.426', '10.18653/v1/2023.acl-long.427', '10.18653/v1/2023.acl-long.428', '10.18653/v1/2023.acl-long.429', '10.18653/v1/2023.acl-long.430', '10.18653/v1/2023.acl-long.431', '10.18653/v1/2023.acl-long.432', '10.18653/v1/2023.acl-long.433', '10.18653/v1/2023.acl-long.434', '10.18653/v1/2023.acl-long.435', '10.18653/v1/2023.acl-long.436', '10.18653/v1/2023.acl-long.437', '10.18653/v1/2023.acl-long.438', '10.18653/v1/2023.acl-long.439', '10.18653/v1/2023.acl-long.440', '10.18653/v1/2023.acl-long.441', '10.18653/v1/2023.acl-long.442', '10.18653/v1/2023.acl-long.443', '10.18653/v1/2023.acl-long.444', '10.18653/v1/2023.acl-long.445', '10.18653/v1/2023.acl-long.446', '10.18653/v1/2023.acl-long.447', '10.18653/v1/2023.acl-long.448', '10.18653/v1/2023.acl-long.449', '10.18653/v1/2023.acl-long.450', '10.18653/v1/2023.acl-long.451', '10.18653/v1/2023.acl-long.452', '10.18653/v1/2023.acl-long.453', '10.18653/v1/2023.acl-long.454', '10.18653/v1/2023.acl-long.455', '10.18653/v1/2023.acl-long.456', '10.18653/v1/2023.acl-long.457', '10.18653/v1/2023.acl-long.458', '10.18653/v1/2023.acl-long.459', '10.18653/v1/2023.acl-long.460', '10.18653/v1/2023.acl-long.461', '10.18653/v1/2023.acl-long.462', '10.18653/v1/2023.acl-long.463', '10.18653/v1/2023.acl-long.464', '10.18653/v1/2023.acl-long.465', '10.18653/v1/2023.acl-long.466', '10.18653/v1/2023.acl-long.467', '10.18653/v1/2023.acl-long.468', '10.18653/v1/2023.acl-long.469', '10.18653/v1/2023.acl-long.470', '10.18653/v1/2023.acl-long.471', '10.18653/v1/2023.acl-long.472', '10.18653/v1/2023.acl-long.473', '10.18653/v1/2023.acl-long.474', '10.18653/v1/2023.acl-long.475', '10.18653/v1/2023.acl-long.476', '10.18653/v1/2023.acl-long.477', '10.18653/v1/2023.acl-long.478', '10.18653/v1/2023.acl-long.479', '10.18653/v1/2023.acl-long.480', '10.18653/v1/2023.acl-long.481', '10.18653/v1/2023.acl-long.482', '10.18653/v1/2023.acl-long.483', '10.18653/v1/2023.acl-long.484', '10.18653/v1/2023.acl-long.485', '10.18653/v1/2023.acl-long.486', '10.18653/v1/2023.acl-long.487', '10.18653/v1/2023.acl-long.488', '10.18653/v1/2023.acl-long.489', '10.18653/v1/2023.acl-long.490', '10.18653/v1/2023.acl-long.491', '10.18653/v1/2023.acl-long.492', '10.18653/v1/2023.acl-long.493', '10.18653/v1/2023.acl-long.494', '10.18653/v1/2023.acl-long.495', '10.18653/v1/2023.acl-long.496', '10.18653/v1/2023.acl-long.497', '10.18653/v1/2023.acl-long.498', '10.18653/v1/2023.acl-long.499', '10.18653/v1/2023.acl-long.500', '10.18653/v1/2023.acl-long.501', '10.18653/v1/2023.acl-long.502', '10.18653/v1/2023.acl-long.503', '10.18653/v1/2023.acl-long.504', '10.18653/v1/2023.acl-long.505', '10.18653/v1/2023.acl-long.506', '10.18653/v1/2023.acl-long.507', '10.18653/v1/2023.acl-long.508', '10.18653/v1/2023.acl-long.509', '10.18653/v1/2023.acl-long.510', '10.18653/v1/2023.acl-long.511', '10.18653/v1/2023.acl-long.512', '10.18653/v1/2023.acl-long.513', '10.18653/v1/2023.acl-long.514', '10.18653/v1/2023.acl-long.515', '10.18653/v1/2023.acl-long.516', '10.18653/v1/2023.acl-long.517', '10.18653/v1/2023.acl-long.518', '10.18653/v1/2023.acl-long.519', '10.18653/v1/2023.acl-long.520', '10.18653/v1/2023.acl-long.521', '10.18653/v1/2023.acl-long.522', '10.18653/v1/2023.acl-long.523', '10.18653/v1/2023.acl-long.524', '10.18653/v1/2023.acl-long.525', '10.18653/v1/2023.acl-long.526', '10.18653/v1/2023.acl-long.527', '10.18653/v1/2023.acl-long.528', '10.18653/v1/2023.acl-long.529', '10.18653/v1/2023.acl-long.530', '10.18653/v1/2023.acl-long.531', '10.18653/v1/2023.acl-long.532', '10.18653/v1/2023.acl-long.533', '10.18653/v1/2023.acl-long.534', '10.18653/v1/2023.acl-long.535', '10.18653/v1/2023.acl-long.536', '10.18653/v1/2023.acl-long.537', '10.18653/v1/2023.acl-long.538', '10.18653/v1/2023.acl-long.539', '10.18653/v1/2023.acl-long.540', '10.18653/v1/2023.acl-long.541', '10.18653/v1/2023.acl-long.542', '10.18653/v1/2023.acl-long.543', '10.18653/v1/2023.acl-long.544', '10.18653/v1/2023.acl-long.545', '10.18653/v1/2023.acl-long.546', '10.18653/v1/2023.acl-long.547', '10.18653/v1/2023.acl-long.548', '10.18653/v1/2023.acl-long.549', '10.18653/v1/2023.acl-long.550', '10.18653/v1/2023.acl-long.551', '10.18653/v1/2023.acl-long.552', '10.18653/v1/2023.acl-long.553', '10.18653/v1/2023.acl-long.554', '10.18653/v1/2023.acl-long.555', '10.18653/v1/2023.acl-long.556', '10.18653/v1/2023.acl-long.557', '10.18653/v1/2023.acl-long.558', '10.18653/v1/2023.acl-long.559', '10.18653/v1/2023.acl-long.560', '10.18653/v1/2023.acl-long.561', '10.18653/v1/2023.acl-long.562', '10.18653/v1/2023.acl-long.563', '10.18653/v1/2023.acl-long.564', '10.18653/v1/2023.acl-long.565', '10.18653/v1/2023.acl-long.566', '10.18653/v1/2023.acl-long.567', '10.18653/v1/2023.acl-long.568', '10.18653/v1/2023.acl-long.569', '10.18653/v1/2023.acl-long.570', '10.18653/v1/2023.acl-long.571', '10.18653/v1/2023.acl-long.572', '10.18653/v1/2023.acl-long.573', '10.18653/v1/2023.acl-long.574', '10.18653/v1/2023.acl-long.575', '10.18653/v1/2023.acl-long.576', '10.18653/v1/2023.acl-long.577', '10.18653/v1/2023.acl-long.578', '10.18653/v1/2023.acl-long.579', '10.18653/v1/2023.acl-long.580', '10.18653/v1/2023.acl-long.581', '10.18653/v1/2023.acl-long.582', '10.18653/v1/2023.acl-long.583', '10.18653/v1/2023.acl-long.584', '10.18653/v1/2023.acl-long.585', '10.18653/v1/2023.acl-long.586', '10.18653/v1/2023.acl-long.587', '10.18653/v1/2023.acl-long.588', '10.18653/v1/2023.acl-long.589', '10.18653/v1/2023.acl-long.590', '10.18653/v1/2023.acl-long.591', '10.18653/v1/2023.acl-long.592', '10.18653/v1/2023.acl-long.593', '10.18653/v1/2023.acl-long.594', '10.18653/v1/2023.acl-long.595', '10.18653/v1/2023.acl-long.596', '10.18653/v1/2023.acl-long.597', '10.18653/v1/2023.acl-long.598', '10.18653/v1/2023.acl-long.599', '10.18653/v1/2023.acl-long.600', '10.18653/v1/2023.acl-long.601', '10.18653/v1/2023.acl-long.602', '10.18653/v1/2023.acl-long.603', '10.18653/v1/2023.acl-long.604', '10.18653/v1/2023.acl-long.605', '10.18653/v1/2023.acl-long.606', '10.18653/v1/2023.acl-long.607', '10.18653/v1/2023.acl-long.608', '10.18653/v1/2023.acl-long.609', '10.18653/v1/2023.acl-long.610', '10.18653/v1/2023.acl-long.611', '10.18653/v1/2023.acl-long.612', '10.18653/v1/2023.acl-long.613', '10.18653/v1/2023.acl-long.614', '10.18653/v1/2023.acl-long.615', '10.18653/v1/2023.acl-long.616', '10.18653/v1/2023.acl-long.617', '10.18653/v1/2023.acl-long.618', '10.18653/v1/2023.acl-long.619', '10.18653/v1/2023.acl-long.620', '10.18653/v1/2023.acl-long.621', '10.18653/v1/2023.acl-long.622', '10.18653/v1/2023.acl-long.623', '10.18653/v1/2023.acl-long.624', '10.18653/v1/2023.acl-long.625', '10.18653/v1/2023.acl-long.626', '10.18653/v1/2023.acl-long.627', '10.18653/v1/2023.acl-long.628', '10.18653/v1/2023.acl-long.629', '10.18653/v1/2023.acl-long.630', '10.18653/v1/2023.acl-long.631', '10.18653/v1/2023.acl-long.632', '10.18653/v1/2023.acl-long.633', '10.18653/v1/2023.acl-long.634', '10.18653/v1/2023.acl-long.635', '10.18653/v1/2023.acl-long.636', '10.18653/v1/2023.acl-long.637', '10.18653/v1/2023.acl-long.638', '10.18653/v1/2023.acl-long.639', '10.18653/v1/2023.acl-long.640', '10.18653/v1/2023.acl-long.641', '10.18653/v1/2023.acl-long.642', '10.18653/v1/2023.acl-long.643', '10.18653/v1/2023.acl-long.644', '10.18653/v1/2023.acl-long.645', '10.18653/v1/2023.acl-long.646', '10.18653/v1/2023.acl-long.647', '10.18653/v1/2023.acl-long.648', '10.18653/v1/2023.acl-long.649', '10.18653/v1/2023.acl-long.650', '10.18653/v1/2023.acl-long.651', '10.18653/v1/2023.acl-long.652', '10.18653/v1/2023.acl-long.653', '10.18653/v1/2023.acl-long.654', '10.18653/v1/2023.acl-long.655', '10.18653/v1/2023.acl-long.656', '10.18653/v1/2023.acl-long.657', '10.18653/v1/2023.acl-long.658', '10.18653/v1/2023.acl-long.659', '10.18653/v1/2023.acl-long.660', '10.18653/v1/2023.acl-long.661', '10.18653/v1/2023.acl-long.662', '10.18653/v1/2023.acl-long.663', '10.18653/v1/2023.acl-long.664', '10.18653/v1/2023.acl-long.665', '10.18653/v1/2023.acl-long.666', '10.18653/v1/2023.acl-long.667', '10.18653/v1/2023.acl-long.668', '10.18653/v1/2023.acl-long.669', '10.18653/v1/2023.acl-long.670', '10.18653/v1/2023.acl-long.671', '10.18653/v1/2023.acl-long.672', '10.18653/v1/2023.acl-long.673', '10.18653/v1/2023.acl-long.674', '10.18653/v1/2023.acl-long.675', '10.18653/v1/2023.acl-long.676', '10.18653/v1/2023.acl-long.677', '10.18653/v1/2023.acl-long.678', '10.18653/v1/2023.acl-long.679', '10.18653/v1/2023.acl-long.680', '10.18653/v1/2023.acl-long.681', '10.18653/v1/2023.acl-long.682', '10.18653/v1/2023.acl-long.683', '10.18653/v1/2023.acl-long.684', '10.18653/v1/2023.acl-long.685', '10.18653/v1/2023.acl-long.686', '10.18653/v1/2023.acl-long.687', '10.18653/v1/2023.acl-long.688', '10.18653/v1/2023.acl-long.689', '10.18653/v1/2023.acl-long.690', '10.18653/v1/2023.acl-long.691', '10.18653/v1/2023.acl-long.692', '10.18653/v1/2023.acl-long.693', '10.18653/v1/2023.acl-long.694', '10.18653/v1/2023.acl-long.695', '10.18653/v1/2023.acl-long.696', '10.18653/v1/2023.acl-long.697', '10.18653/v1/2023.acl-long.698', '10.18653/v1/2023.acl-long.699', '10.18653/v1/2023.acl-long.700', '10.18653/v1/2023.acl-long.701', '10.18653/v1/2023.acl-long.702', '10.18653/v1/2023.acl-long.703', '10.18653/v1/2023.acl-long.704', '10.18653/v1/2023.acl-long.705', '10.18653/v1/2023.acl-long.706', '10.18653/v1/2023.acl-long.707', '10.18653/v1/2023.acl-long.708', '10.18653/v1/2023.acl-long.709', '10.18653/v1/2023.acl-long.710', '10.18653/v1/2023.acl-long.711', '10.18653/v1/2023.acl-long.712', '10.18653/v1/2023.acl-long.713', '10.18653/v1/2023.acl-long.714', '10.18653/v1/2023.acl-long.715', '10.18653/v1/2023.acl-long.716', '10.18653/v1/2023.acl-long.717', '10.18653/v1/2023.acl-long.718', '10.18653/v1/2023.acl-long.719', '10.18653/v1/2023.acl-long.720', '10.18653/v1/2023.acl-long.721', '10.18653/v1/2023.acl-long.722', '10.18653/v1/2023.acl-long.723', '10.18653/v1/2023.acl-long.724', '10.18653/v1/2023.acl-long.725', '10.18653/v1/2023.acl-long.726', '10.18653/v1/2023.acl-long.727', '10.18653/v1/2023.acl-long.728', '10.18653/v1/2023.acl-long.729', '10.18653/v1/2023.acl-long.730', '10.18653/v1/2023.acl-long.731', '10.18653/v1/2023.acl-long.732', '10.18653/v1/2023.acl-long.733', '10.18653/v1/2023.acl-long.734', '10.18653/v1/2023.acl-long.735', '10.18653/v1/2023.acl-long.736', '10.18653/v1/2023.acl-long.737', '10.18653/v1/2023.acl-long.738', '10.18653/v1/2023.acl-long.739', '10.18653/v1/2023.acl-long.740', '10.18653/v1/2023.acl-long.741', '10.18653/v1/2023.acl-long.742', '10.18653/v1/2023.acl-long.743', '10.18653/v1/2023.acl-long.744', '10.18653/v1/2023.acl-long.745', '10.18653/v1/2023.acl-long.746', '10.18653/v1/2023.acl-long.747', '10.18653/v1/2023.acl-long.748', '10.18653/v1/2023.acl-long.749', '10.18653/v1/2023.acl-long.750', '10.18653/v1/2023.acl-long.751', '10.18653/v1/2023.acl-long.752', '10.18653/v1/2023.acl-long.753', '10.18653/v1/2023.acl-long.754', '10.18653/v1/2023.acl-long.755', '10.18653/v1/2023.acl-long.756', '10.18653/v1/2023.acl-long.757', '10.18653/v1/2023.acl-long.758', '10.18653/v1/2023.acl-long.759', '10.18653/v1/2023.acl-long.760', '10.18653/v1/2023.acl-long.761', '10.18653/v1/2023.acl-long.762', '10.18653/v1/2023.acl-long.763', '10.18653/v1/2023.acl-long.764', '10.18653/v1/2023.acl-long.765', '10.18653/v1/2023.acl-long.766', '10.18653/v1/2023.acl-long.767', '10.18653/v1/2023.acl-long.768', '10.18653/v1/2023.acl-long.769', '10.18653/v1/2023.acl-long.770', '10.18653/v1/2023.acl-long.771', '10.18653/v1/2023.acl-long.772', '10.18653/v1/2023.acl-long.773', '10.18653/v1/2023.acl-long.774', '10.18653/v1/2023.acl-long.775', '10.18653/v1/2023.acl-long.776', '10.18653/v1/2023.acl-long.777', '10.18653/v1/2023.acl-long.778', '10.18653/v1/2023.acl-long.779', '10.18653/v1/2023.acl-long.780', '10.18653/v1/2023.acl-long.781', '10.18653/v1/2023.acl-long.782', '10.18653/v1/2023.acl-long.783', '10.18653/v1/2023.acl-long.784', '10.18653/v1/2023.acl-long.785', '10.18653/v1/2023.acl-long.786', '10.18653/v1/2023.acl-long.787', '10.18653/v1/2023.acl-long.788', '10.18653/v1/2023.acl-long.789', '10.18653/v1/2023.acl-long.790', '10.18653/v1/2023.acl-long.791', '10.18653/v1/2023.acl-long.792', '10.18653/v1/2023.acl-long.793', '10.18653/v1/2023.acl-long.794', '10.18653/v1/2023.acl-long.795', '10.18653/v1/2023.acl-long.796', '10.18653/v1/2023.acl-long.797', '10.18653/v1/2023.acl-long.798', '10.18653/v1/2023.acl-long.799', '10.18653/v1/2023.acl-long.800', '10.18653/v1/2023.acl-long.801', '10.18653/v1/2023.acl-long.802', '10.18653/v1/2023.acl-long.803', '10.18653/v1/2023.acl-long.804', '10.18653/v1/2023.acl-long.805', '10.18653/v1/2023.acl-long.806', '10.18653/v1/2023.acl-long.807', '10.18653/v1/2023.acl-long.808', '10.18653/v1/2023.acl-long.809', '10.18653/v1/2023.acl-long.810', '10.18653/v1/2023.acl-long.811', '10.18653/v1/2023.acl-long.812', '10.18653/v1/2023.acl-long.813', '10.18653/v1/2023.acl-long.814', '10.18653/v1/2023.acl-long.815', '10.18653/v1/2023.acl-long.816', '10.18653/v1/2023.acl-long.817', '10.18653/v1/2023.acl-long.818', '10.18653/v1/2023.acl-long.819', '10.18653/v1/2023.acl-long.820', '10.18653/v1/2023.acl-long.821', '10.18653/v1/2023.acl-long.822', '10.18653/v1/2023.acl-long.823', '10.18653/v1/2023.acl-long.824', '10.18653/v1/2023.acl-long.825', '10.18653/v1/2023.acl-long.826', '10.18653/v1/2023.acl-long.827', '10.18653/v1/2023.acl-long.828', '10.18653/v1/2023.acl-long.829', '10.18653/v1/2023.acl-long.830', '10.18653/v1/2023.acl-long.831', '10.18653/v1/2023.acl-long.832', '10.18653/v1/2023.acl-long.833', '10.18653/v1/2023.acl-long.834', '10.18653/v1/2023.acl-long.835', '10.18653/v1/2023.acl-long.836', '10.18653/v1/2023.acl-long.837', '10.18653/v1/2023.acl-long.838', '10.18653/v1/2023.acl-long.839', '10.18653/v1/2023.acl-long.840', '10.18653/v1/2023.acl-long.841', '10.18653/v1/2023.acl-long.842', '10.18653/v1/2023.acl-long.843', '10.18653/v1/2023.acl-long.844', '10.18653/v1/2023.acl-long.845', '10.18653/v1/2023.acl-long.846', '10.18653/v1/2023.acl-long.847', '10.18653/v1/2023.acl-long.848', '10.18653/v1/2023.acl-long.849', '10.18653/v1/2023.acl-long.850', '10.18653/v1/2023.acl-long.851', '10.18653/v1/2023.acl-long.852', '10.18653/v1/2023.acl-long.853', '10.18653/v1/2023.acl-long.854', '10.18653/v1/2023.acl-long.855', '10.18653/v1/2023.acl-long.856', '10.18653/v1/2023.acl-long.857', '10.18653/v1/2023.acl-long.858', '10.18653/v1/2023.acl-long.859', '10.18653/v1/2023.acl-long.860', '10.18653/v1/2023.acl-long.861', '10.18653/v1/2023.acl-long.862', '10.18653/v1/2023.acl-long.863', '10.18653/v1/2023.acl-long.864', '10.18653/v1/2023.acl-long.865', '10.18653/v1/2023.acl-long.866', '10.18653/v1/2023.acl-long.867', '10.18653/v1/2023.acl-long.868', '10.18653/v1/2023.acl-long.869', '10.18653/v1/2023.acl-long.870', '10.18653/v1/2023.acl-long.871', '10.18653/v1/2023.acl-long.872', '10.18653/v1/2023.acl-long.873', '10.18653/v1/2023.acl-long.874', '10.18653/v1/2023.acl-long.875', '10.18653/v1/2023.acl-long.876', '10.18653/v1/2023.acl-long.877', '10.18653/v1/2023.acl-long.878', '10.18653/v1/2023.acl-long.879', '10.18653/v1/2023.acl-long.880', '10.18653/v1/2023.acl-long.881', '10.18653/v1/2023.acl-long.882', '10.18653/v1/2023.acl-long.883', '10.18653/v1/2023.acl-long.884', '10.18653/v1/2023.acl-long.885', '10.18653/v1/2023.acl-long.886', '10.18653/v1/2023.acl-long.887', '10.18653/v1/2023.acl-long.888', '10.18653/v1/2023.acl-long.889', '10.18653/v1/2023.acl-long.890', '10.18653/v1/2023.acl-long.891', '10.18653/v1/2023.acl-long.892', '10.18653/v1/2023.acl-long.893', '10.18653/v1/2023.acl-long.894', '10.18653/v1/2023.acl-long.895', '10.18653/v1/2023.acl-long.896', '10.18653/v1/2023.acl-long.897', '10.18653/v1/2023.acl-long.898', '10.18653/v1/2023.acl-long.899', '10.18653/v1/2023.acl-long.900', '10.18653/v1/2023.acl-long.901', '10.18653/v1/2023.acl-long.902', '10.18653/v1/2023.acl-long.903', '10.18653/v1/2023.acl-long.904', '10.18653/v1/2023.acl-long.905', '10.18653/v1/2023.acl-long.906', '10.18653/v1/2023.acl-long.907', '10.18653/v1/2023.acl-long.908', '10.18653/v1/2023.acl-long.909', '10.18653/v1/2023.acl-long.910', '10.18653/v1/2023.acl-short.1', '10.18653/v1/2023.acl-short.2', '10.18653/v1/2023.acl-short.3', '10.18653/v1/2023.acl-short.4', '10.18653/v1/2023.acl-short.5', '10.18653/v1/2023.acl-short.6', '10.18653/v1/2023.acl-short.7', '10.18653/v1/2023.acl-short.8', '10.18653/v1/2023.acl-short.9', '10.18653/v1/2023.acl-short.10', '10.18653/v1/2023.acl-short.11', '10.18653/v1/2023.acl-short.12', '10.18653/v1/2023.acl-short.13', '10.18653/v1/2023.acl-short.14', '10.18653/v1/2023.acl-short.15', '10.18653/v1/2023.acl-short.16', '10.18653/v1/2023.acl-short.17', '10.18653/v1/2023.acl-short.18', '10.18653/v1/2023.acl-short.19', '10.18653/v1/2023.acl-short.20', '10.18653/v1/2023.acl-short.21', '10.18653/v1/2023.acl-short.22', '10.18653/v1/2023.acl-short.23', '10.18653/v1/2023.acl-short.24', '10.18653/v1/2023.acl-short.25', '10.18653/v1/2023.acl-short.26', '10.18653/v1/2023.acl-short.27', '10.18653/v1/2023.acl-short.28', '10.18653/v1/2023.acl-short.29', '10.18653/v1/2023.acl-short.30', '10.18653/v1/2023.acl-short.31', '10.18653/v1/2023.acl-short.32', '10.18653/v1/2023.acl-short.33', '10.18653/v1/2023.acl-short.34', '10.18653/v1/2023.acl-short.35', '10.18653/v1/2023.acl-short.36', '10.18653/v1/2023.acl-short.37', '10.18653/v1/2023.acl-short.38', '10.18653/v1/2023.acl-short.39', '10.18653/v1/2023.acl-short.40', '10.18653/v1/2023.acl-short.41', '10.18653/v1/2023.acl-short.42', '10.18653/v1/2023.acl-short.43', '10.18653/v1/2023.acl-short.44', '10.18653/v1/2023.acl-short.45', '10.18653/v1/2023.acl-short.46', '10.18653/v1/2023.acl-short.47', '10.18653/v1/2023.acl-short.48', '10.18653/v1/2023.acl-short.49', '10.18653/v1/2023.acl-short.50', '10.18653/v1/2023.acl-short.51', '10.18653/v1/2023.acl-short.52', '10.18653/v1/2023.acl-short.53', '10.18653/v1/2023.acl-short.54', '10.18653/v1/2023.acl-short.55', '10.18653/v1/2023.acl-short.56', '10.18653/v1/2023.acl-short.57', '10.18653/v1/2023.acl-short.58', '10.18653/v1/2023.acl-short.59', '10.18653/v1/2023.acl-short.60', '10.18653/v1/2023.acl-short.61', '10.18653/v1/2023.acl-short.62', '10.18653/v1/2023.acl-short.63', '10.18653/v1/2023.acl-short.64', '10.18653/v1/2023.acl-short.65', '10.18653/v1/2023.acl-short.66', '10.18653/v1/2023.acl-short.67', '10.18653/v1/2023.acl-short.68', '10.18653/v1/2023.acl-short.69', '10.18653/v1/2023.acl-short.70', '10.18653/v1/2023.acl-short.71', '10.18653/v1/2023.acl-short.72', '10.18653/v1/2023.acl-short.73', '10.18653/v1/2023.acl-short.74', '10.18653/v1/2023.acl-short.75', '10.18653/v1/2023.acl-short.76', '10.18653/v1/2023.acl-short.77', '10.18653/v1/2023.acl-short.78', '10.18653/v1/2023.acl-short.79', '10.18653/v1/2023.acl-short.80', '10.18653/v1/2023.acl-short.81', '10.18653/v1/2023.acl-short.82', '10.18653/v1/2023.acl-short.83', '10.18653/v1/2023.acl-short.84', '10.18653/v1/2023.acl-short.85', '10.18653/v1/2023.acl-short.86', '10.18653/v1/2023.acl-short.87', '10.18653/v1/2023.acl-short.88', '10.18653/v1/2023.acl-short.89', '10.18653/v1/2023.acl-short.90', '10.18653/v1/2023.acl-short.91', '10.18653/v1/2023.acl-short.92', '10.18653/v1/2023.acl-short.93', '10.18653/v1/2023.acl-short.94', '10.18653/v1/2023.acl-short.95', '10.18653/v1/2023.acl-short.96', '10.18653/v1/2023.acl-short.97', '10.18653/v1/2023.acl-short.98', '10.18653/v1/2023.acl-short.99', '10.18653/v1/2023.acl-short.100', '10.18653/v1/2023.acl-short.101', '10.18653/v1/2023.acl-short.102', '10.18653/v1/2023.acl-short.103', '10.18653/v1/2023.acl-short.104', '10.18653/v1/2023.acl-short.105', '10.18653/v1/2023.acl-short.106', '10.18653/v1/2023.acl-short.107', '10.18653/v1/2023.acl-short.108', '10.18653/v1/2023.acl-short.109', '10.18653/v1/2023.acl-short.110', '10.18653/v1/2023.acl-short.111', '10.18653/v1/2023.acl-short.112', '10.18653/v1/2023.acl-short.113', '10.18653/v1/2023.acl-short.114', '10.18653/v1/2023.acl-short.115', '10.18653/v1/2023.acl-short.116', '10.18653/v1/2023.acl-short.117', '10.18653/v1/2023.acl-short.118', '10.18653/v1/2023.acl-short.119', '10.18653/v1/2023.acl-short.120', '10.18653/v1/2023.acl-short.121', '10.18653/v1/2023.acl-short.122', '10.18653/v1/2023.acl-short.123', '10.18653/v1/2023.acl-short.124', '10.18653/v1/2023.acl-short.125', '10.18653/v1/2023.acl-short.126', '10.18653/v1/2023.acl-short.127', '10.18653/v1/2023.acl-short.128', '10.18653/v1/2023.acl-short.129', '10.18653/v1/2023.acl-short.130', '10.18653/v1/2023.acl-short.131', '10.18653/v1/2023.acl-short.132', '10.18653/v1/2023.acl-short.133', '10.18653/v1/2023.acl-short.134', '10.18653/v1/2023.acl-short.135', '10.18653/v1/2023.acl-short.136', '10.18653/v1/2023.acl-short.137', '10.18653/v1/2023.acl-short.138', '10.18653/v1/2023.acl-short.139', '10.18653/v1/2023.acl-short.140', '10.18653/v1/2023.acl-short.141', '10.18653/v1/2023.acl-short.142', '10.18653/v1/2023.acl-short.143', '10.18653/v1/2023.acl-short.144', '10.18653/v1/2023.acl-short.145', '10.18653/v1/2023.acl-short.146', '10.18653/v1/2023.acl-short.147', '10.18653/v1/2023.acl-short.148', '10.18653/v1/2023.acl-short.149', '10.18653/v1/2023.acl-short.150', '10.18653/v1/2023.acl-short.151', '10.18653/v1/2023.acl-short.152', '10.18653/v1/2023.acl-short.153', '10.18653/v1/2023.acl-short.154', '10.18653/v1/2023.acl-short.155', '10.18653/v1/2023.acl-short.156', '10.18653/v1/2023.acl-short.157', '10.18653/v1/2023.acl-short.158', '10.18653/v1/2023.acl-short.159', '10.18653/v1/2023.acl-short.160', '10.18653/v1/2023.acl-short.161', '10.18653/v1/2023.acl-short.162', '10.18653/v1/2023.acl-short.163', '10.18653/v1/2023.acl-short.164', '10.18653/v1/2023.acl-srw.1', '10.18653/v1/2023.acl-srw.2', '10.18653/v1/2023.acl-srw.4', '10.18653/v1/2023.acl-srw.5', '10.18653/v1/2023.acl-srw.7', '10.18653/v1/2023.acl-srw.8', '10.18653/v1/2023.acl-srw.10', '10.18653/v1/2023.acl-srw.12', '10.18653/v1/2023.acl-srw.15', '10.18653/v1/2023.acl-srw.17', '10.18653/v1/2023.acl-srw.18', '10.18653/v1/2023.acl-srw.19', '10.18653/v1/2023.acl-srw.20', '10.18653/v1/2023.acl-srw.22', '10.18653/v1/2023.acl-srw.24', '10.18653/v1/2023.acl-srw.26', '10.18653/v1/2023.acl-srw.27', '10.18653/v1/2023.acl-srw.28', '10.18653/v1/2023.acl-srw.29', '10.18653/v1/2023.acl-srw.30', '10.18653/v1/2023.acl-srw.31', '10.18653/v1/2023.acl-srw.33', '10.18653/v1/2023.acl-srw.34', '10.18653/v1/2023.acl-srw.35', '10.18653/v1/2023.acl-srw.36', '10.18653/v1/2023.acl-srw.37', '10.18653/v1/2023.acl-srw.38', '10.18653/v1/2023.acl-srw.40', '10.18653/v1/2023.acl-srw.43', '10.18653/v1/2023.acl-srw.44', '10.18653/v1/2023.acl-srw.46', '10.18653/v1/2023.acl-srw.47', '10.18653/v1/2023.acl-srw.48', '10.18653/v1/2023.findings-acl.1', '10.18653/v1/2023.findings-acl.2', '10.18653/v1/2023.findings-acl.3', '10.18653/v1/2023.findings-acl.4', '10.18653/v1/2023.findings-acl.5', '10.18653/v1/2023.findings-acl.6', '10.18653/v1/2023.findings-acl.7', '10.18653/v1/2023.findings-acl.8', '10.18653/v1/2023.findings-acl.9', '10.18653/v1/2023.findings-acl.10', '10.18653/v1/2023.findings-acl.11', '10.18653/v1/2023.findings-acl.12', '10.18653/v1/2023.findings-acl.13', '10.18653/v1/2023.findings-acl.14', '10.18653/v1/2023.findings-acl.15', '10.18653/v1/2023.findings-acl.16', '10.18653/v1/2023.findings-acl.17', '10.18653/v1/2023.findings-acl.18', '10.18653/v1/2023.findings-acl.19', '10.18653/v1/2023.findings-acl.20', '10.18653/v1/2023.findings-acl.21', '10.18653/v1/2023.findings-acl.22', '10.18653/v1/2023.findings-acl.23', '10.18653/v1/2023.findings-acl.24', '10.18653/v1/2023.findings-acl.25', '10.18653/v1/2023.findings-acl.26', '10.18653/v1/2023.findings-acl.27', '10.18653/v1/2023.findings-acl.28', '10.18653/v1/2023.findings-acl.29', '10.18653/v1/2023.findings-acl.30', '10.18653/v1/2023.findings-acl.31', '10.18653/v1/2023.findings-acl.32', '10.18653/v1/2023.findings-acl.33', '10.18653/v1/2023.findings-acl.34', '10.18653/v1/2023.findings-acl.35', '10.18653/v1/2023.findings-acl.36', '10.18653/v1/2023.findings-acl.37', '10.18653/v1/2023.findings-acl.38', '10.18653/v1/2023.findings-acl.39', '10.18653/v1/2023.findings-acl.40', '10.18653/v1/2023.findings-acl.41', '10.18653/v1/2023.findings-acl.42', '10.18653/v1/2023.findings-acl.43', '10.18653/v1/2023.findings-acl.44', '10.18653/v1/2023.findings-acl.45', '10.18653/v1/2023.findings-acl.46', '10.18653/v1/2023.findings-acl.47', '10.18653/v1/2023.findings-acl.48', '10.18653/v1/2023.findings-acl.49', '10.18653/v1/2023.findings-acl.50', '10.18653/v1/2023.findings-acl.51', '10.18653/v1/2023.findings-acl.52', '10.18653/v1/2023.findings-acl.53', '10.18653/v1/2023.findings-acl.54', '10.18653/v1/2023.findings-acl.55', '10.18653/v1/2023.findings-acl.56', '10.18653/v1/2023.findings-acl.57', '10.18653/v1/2023.findings-acl.58', '10.18653/v1/2023.findings-acl.59', '10.18653/v1/2023.findings-acl.60', '10.18653/v1/2023.findings-acl.61', '10.18653/v1/2023.findings-acl.62', '10.18653/v1/2023.findings-acl.63', '10.18653/v1/2023.findings-acl.64', '10.18653/v1/2023.findings-acl.65', '10.18653/v1/2023.findings-acl.66', '10.18653/v1/2023.findings-acl.67', '10.18653/v1/2023.findings-acl.68', '10.18653/v1/2023.findings-acl.69', '10.18653/v1/2023.findings-acl.70', '10.18653/v1/2023.findings-acl.71', '10.18653/v1/2023.findings-acl.72', '10.18653/v1/2023.findings-acl.73', '10.18653/v1/2023.findings-acl.74', '10.18653/v1/2023.findings-acl.75', '10.18653/v1/2023.findings-acl.76', '10.18653/v1/2023.findings-acl.77', '10.18653/v1/2023.findings-acl.78', '10.18653/v1/2023.findings-acl.79', '10.18653/v1/2023.findings-acl.80', '10.18653/v1/2023.findings-acl.81', '10.18653/v1/2023.findings-acl.82', '10.18653/v1/2023.findings-acl.83', '10.18653/v1/2023.findings-acl.84', '10.18653/v1/2023.findings-acl.85', '10.18653/v1/2023.findings-acl.86', '10.18653/v1/2023.findings-acl.87', '10.18653/v1/2023.findings-acl.88', '10.18653/v1/2023.findings-acl.89', '10.18653/v1/2023.findings-acl.90', '10.18653/v1/2023.findings-acl.91', '10.18653/v1/2023.findings-acl.92', '10.18653/v1/2023.findings-acl.93', '10.18653/v1/2023.findings-acl.94', '10.18653/v1/2023.findings-acl.95', '10.18653/v1/2023.findings-acl.96', '10.18653/v1/2023.findings-acl.97', '10.18653/v1/2023.findings-acl.98', '10.18653/v1/2023.findings-acl.99', '10.18653/v1/2023.findings-acl.100', '10.18653/v1/2023.findings-acl.101', '10.18653/v1/2023.findings-acl.102', '10.18653/v1/2023.findings-acl.103', '10.18653/v1/2023.findings-acl.104', '10.18653/v1/2023.findings-acl.105', '10.18653/v1/2023.findings-acl.106', '10.18653/v1/2023.findings-acl.107', '10.18653/v1/2023.findings-acl.108', '10.18653/v1/2023.findings-acl.109', '10.18653/v1/2023.findings-acl.110', '10.18653/v1/2023.findings-acl.111', '10.18653/v1/2023.findings-acl.112', '10.18653/v1/2023.findings-acl.113', '10.18653/v1/2023.findings-acl.114', '10.18653/v1/2023.findings-acl.115', '10.18653/v1/2023.findings-acl.116', '10.18653/v1/2023.findings-acl.117', '10.18653/v1/2023.findings-acl.118', '10.18653/v1/2023.findings-acl.119', '10.18653/v1/2023.findings-acl.120', '10.18653/v1/2023.findings-acl.121', '10.18653/v1/2023.findings-acl.122', '10.18653/v1/2023.findings-acl.123', '10.18653/v1/2023.findings-acl.124', '10.18653/v1/2023.findings-acl.125', '10.18653/v1/2023.findings-acl.126', '10.18653/v1/2023.findings-acl.127', '10.18653/v1/2023.findings-acl.128', '10.18653/v1/2023.findings-acl.129', '10.18653/v1/2023.findings-acl.130', '10.18653/v1/2023.findings-acl.131', '10.18653/v1/2023.findings-acl.132', '10.18653/v1/2023.findings-acl.133', '10.18653/v1/2023.findings-acl.134', '10.18653/v1/2023.findings-acl.135', '10.18653/v1/2023.findings-acl.136', '10.18653/v1/2023.findings-acl.137', '10.18653/v1/2023.findings-acl.138', '10.18653/v1/2023.findings-acl.139', '10.18653/v1/2023.findings-acl.140', '10.18653/v1/2023.findings-acl.141', '10.18653/v1/2023.findings-acl.142', '10.18653/v1/2023.findings-acl.143', '10.18653/v1/2023.findings-acl.144', '10.18653/v1/2023.findings-acl.145', '10.18653/v1/2023.findings-acl.146', '10.18653/v1/2023.findings-acl.147', '10.18653/v1/2023.findings-acl.148', '10.18653/v1/2023.findings-acl.149', '10.18653/v1/2023.findings-acl.150', '10.18653/v1/2023.findings-acl.151', '10.18653/v1/2023.findings-acl.152', '10.18653/v1/2023.findings-acl.153', '10.18653/v1/2023.findings-acl.154', '10.18653/v1/2023.findings-acl.155', '10.18653/v1/2023.findings-acl.156', '10.18653/v1/2023.findings-acl.157', '10.18653/v1/2023.findings-acl.158', '10.18653/v1/2023.findings-acl.159', '10.18653/v1/2023.findings-acl.160', '10.18653/v1/2023.findings-acl.161', '10.18653/v1/2023.findings-acl.162', '10.18653/v1/2023.findings-acl.163', '10.18653/v1/2023.findings-acl.164', '10.18653/v1/2023.findings-acl.165', '10.18653/v1/2023.findings-acl.166', '10.18653/v1/2023.findings-acl.167', '10.18653/v1/2023.findings-acl.168', '10.18653/v1/2023.findings-acl.169', '10.18653/v1/2023.findings-acl.170', '10.18653/v1/2023.findings-acl.171', '10.18653/v1/2023.findings-acl.172', '10.18653/v1/2023.findings-acl.173', '10.18653/v1/2023.findings-acl.174', '10.18653/v1/2023.findings-acl.175', '10.18653/v1/2023.findings-acl.176', '10.18653/v1/2023.findings-acl.177', '10.18653/v1/2023.findings-acl.178', '10.18653/v1/2023.findings-acl.179', '10.18653/v1/2023.findings-acl.180', '10.18653/v1/2023.findings-acl.181', '10.18653/v1/2023.findings-acl.182', '10.18653/v1/2023.findings-acl.183', '10.18653/v1/2023.findings-acl.184', '10.18653/v1/2023.findings-acl.185', '10.18653/v1/2023.findings-acl.186', '10.18653/v1/2023.findings-acl.187', '10.18653/v1/2023.findings-acl.188', '10.18653/v1/2023.findings-acl.189', '10.18653/v1/2023.findings-acl.190', '10.18653/v1/2023.findings-acl.191', '10.18653/v1/2023.findings-acl.192', '10.18653/v1/2023.findings-acl.193', '10.18653/v1/2023.findings-acl.194', '10.18653/v1/2023.findings-acl.195', '10.18653/v1/2023.findings-acl.196', '10.18653/v1/2023.findings-acl.197', '10.18653/v1/2023.findings-acl.198', '10.18653/v1/2023.findings-acl.199', '10.18653/v1/2023.findings-acl.200', '10.18653/v1/2023.findings-acl.201', '10.18653/v1/2023.findings-acl.202', '10.18653/v1/2023.findings-acl.203', '10.18653/v1/2023.findings-acl.204', '10.18653/v1/2023.findings-acl.205', '10.18653/v1/2023.findings-acl.206', '10.18653/v1/2023.findings-acl.207', '10.18653/v1/2023.findings-acl.208', '10.18653/v1/2023.findings-acl.209', '10.18653/v1/2023.findings-acl.210', '10.18653/v1/2023.findings-acl.211', '10.18653/v1/2023.findings-acl.212', '10.18653/v1/2023.findings-acl.213', '10.18653/v1/2023.findings-acl.214', '10.18653/v1/2023.findings-acl.215', '10.18653/v1/2023.findings-acl.216', '10.18653/v1/2023.findings-acl.217', '10.18653/v1/2023.findings-acl.218', '10.18653/v1/2023.findings-acl.219', '10.18653/v1/2023.findings-acl.220', '10.18653/v1/2023.findings-acl.221', '10.18653/v1/2023.findings-acl.222', '10.18653/v1/2023.findings-acl.223', '10.18653/v1/2023.findings-acl.224', '10.18653/v1/2023.findings-acl.225', '10.18653/v1/2023.findings-acl.226', '10.18653/v1/2023.findings-acl.227', '10.18653/v1/2023.findings-acl.228', '10.18653/v1/2023.findings-acl.229', '10.18653/v1/2023.findings-acl.230', '10.18653/v1/2023.findings-acl.231', '10.18653/v1/2023.findings-acl.232', '10.18653/v1/2023.findings-acl.233', '10.18653/v1/2023.findings-acl.234', '10.18653/v1/2023.findings-acl.235', '10.18653/v1/2023.findings-acl.236', '10.18653/v1/2023.findings-acl.237', '10.18653/v1/2023.findings-acl.238', '10.18653/v1/2023.findings-acl.239', '10.18653/v1/2023.findings-acl.240', '10.18653/v1/2023.findings-acl.241', '10.18653/v1/2023.findings-acl.242', '10.18653/v1/2023.findings-acl.243', '10.18653/v1/2023.findings-acl.244', '10.18653/v1/2023.findings-acl.245', '10.18653/v1/2023.findings-acl.246', '10.18653/v1/2023.findings-acl.247', '10.18653/v1/2023.findings-acl.248', '10.18653/v1/2023.findings-acl.249', '10.18653/v1/2023.findings-acl.250', '10.18653/v1/2023.findings-acl.251', '10.18653/v1/2023.findings-acl.252', '10.18653/v1/2023.findings-acl.253', '10.18653/v1/2023.findings-acl.254', '10.18653/v1/2023.findings-acl.255', '10.18653/v1/2023.findings-acl.256', '10.18653/v1/2023.findings-acl.257', '10.18653/v1/2023.findings-acl.258', '10.18653/v1/2023.findings-acl.259', '10.18653/v1/2023.findings-acl.260', '10.18653/v1/2023.findings-acl.261', '10.18653/v1/2023.findings-acl.262', '10.18653/v1/2023.findings-acl.263', '10.18653/v1/2023.findings-acl.264', '10.18653/v1/2023.findings-acl.265', '10.18653/v1/2023.findings-acl.266', '10.18653/v1/2023.findings-acl.267', '10.18653/v1/2023.findings-acl.268', '10.18653/v1/2023.findings-acl.269', '10.18653/v1/2023.findings-acl.270', '10.18653/v1/2023.findings-acl.271', '10.18653/v1/2023.findings-acl.272', '10.18653/v1/2023.findings-acl.273', '10.18653/v1/2023.findings-acl.274', '10.18653/v1/2023.findings-acl.275', '10.18653/v1/2023.findings-acl.276', '10.18653/v1/2023.findings-acl.277', '10.18653/v1/2023.findings-acl.278', '10.18653/v1/2023.findings-acl.279', '10.18653/v1/2023.findings-acl.280', '10.18653/v1/2023.findings-acl.281', '10.18653/v1/2023.findings-acl.282', '10.18653/v1/2023.findings-acl.283', '10.18653/v1/2023.findings-acl.284', '10.18653/v1/2023.findings-acl.285', '10.18653/v1/2023.findings-acl.286', '10.18653/v1/2023.findings-acl.287', '10.18653/v1/2023.findings-acl.288', '10.18653/v1/2023.findings-acl.289', '10.18653/v1/2023.findings-acl.290', '10.18653/v1/2023.findings-acl.291', '10.18653/v1/2023.findings-acl.292', '10.18653/v1/2023.findings-acl.293', '10.18653/v1/2023.findings-acl.294', '10.18653/v1/2023.findings-acl.295', '10.18653/v1/2023.findings-acl.296', '10.18653/v1/2023.findings-acl.297', '10.18653/v1/2023.findings-acl.298', '10.18653/v1/2023.findings-acl.299', '10.18653/v1/2023.findings-acl.300', '10.18653/v1/2023.findings-acl.301', '10.18653/v1/2023.findings-acl.302', '10.18653/v1/2023.findings-acl.303', '10.18653/v1/2023.findings-acl.304', '10.18653/v1/2023.findings-acl.305', '10.18653/v1/2023.findings-acl.306', '10.18653/v1/2023.findings-acl.307', '10.18653/v1/2023.findings-acl.308', '10.18653/v1/2023.findings-acl.309', '10.18653/v1/2023.findings-acl.310', '10.18653/v1/2023.findings-acl.311', '10.18653/v1/2023.findings-acl.312', '10.18653/v1/2023.findings-acl.313', '10.18653/v1/2023.findings-acl.314', '10.18653/v1/2023.findings-acl.315', '10.18653/v1/2023.findings-acl.316', '10.18653/v1/2023.findings-acl.317', '10.18653/v1/2023.findings-acl.318', '10.18653/v1/2023.findings-acl.319', '10.18653/v1/2023.findings-acl.320', '10.18653/v1/2023.findings-acl.321', '10.18653/v1/2023.findings-acl.322', '10.18653/v1/2023.findings-acl.323', '10.18653/v1/2023.findings-acl.324', '10.18653/v1/2023.findings-acl.325', '10.18653/v1/2023.findings-acl.326', '10.18653/v1/2023.findings-acl.327', '10.18653/v1/2023.findings-acl.328', '10.18653/v1/2023.findings-acl.329', '10.18653/v1/2023.findings-acl.330', '10.18653/v1/2023.findings-acl.331', '10.18653/v1/2023.findings-acl.332', '10.18653/v1/2023.findings-acl.333', '10.18653/v1/2023.findings-acl.334', '10.18653/v1/2023.findings-acl.335', '10.18653/v1/2023.findings-acl.336', '10.18653/v1/2023.findings-acl.337', '10.18653/v1/2023.findings-acl.338', '10.18653/v1/2023.findings-acl.339', '10.18653/v1/2023.findings-acl.340', '10.18653/v1/2023.findings-acl.341', '10.18653/v1/2023.findings-acl.342', '10.18653/v1/2023.findings-acl.343', '10.18653/v1/2023.findings-acl.344', '10.18653/v1/2023.findings-acl.345', '10.18653/v1/2023.findings-acl.346', '10.18653/v1/2023.findings-acl.347', '10.18653/v1/2023.findings-acl.348', '10.18653/v1/2023.findings-acl.349', '10.18653/v1/2023.findings-acl.350', '10.18653/v1/2023.findings-acl.351', '10.18653/v1/2023.findings-acl.352', '10.18653/v1/2023.findings-acl.353', '10.18653/v1/2023.findings-acl.354', '10.18653/v1/2023.findings-acl.355', '10.18653/v1/2023.findings-acl.356', '10.18653/v1/2023.findings-acl.357', '10.18653/v1/2023.findings-acl.358', '10.18653/v1/2023.findings-acl.359', '10.18653/v1/2023.findings-acl.360', '10.18653/v1/2023.findings-acl.361', '10.18653/v1/2023.findings-acl.362', '10.18653/v1/2023.findings-acl.363', '10.18653/v1/2023.findings-acl.364', '10.18653/v1/2023.findings-acl.365', '10.18653/v1/2023.findings-acl.366', '10.18653/v1/2023.findings-acl.367', '10.18653/v1/2023.findings-acl.368', '10.18653/v1/2023.findings-acl.369', '10.18653/v1/2023.findings-acl.370', '10.18653/v1/2023.findings-acl.371', '10.18653/v1/2023.findings-acl.372', '10.18653/v1/2023.findings-acl.373', '10.18653/v1/2023.findings-acl.374', '10.18653/v1/2023.findings-acl.375', '10.18653/v1/2023.findings-acl.376', '10.18653/v1/2023.findings-acl.377', '10.18653/v1/2023.findings-acl.378', '10.18653/v1/2023.findings-acl.379', '10.18653/v1/2023.findings-acl.380', '10.18653/v1/2023.findings-acl.381', '10.18653/v1/2023.findings-acl.382', '10.18653/v1/2023.findings-acl.383', '10.18653/v1/2023.findings-acl.384', '10.18653/v1/2023.findings-acl.385', '10.18653/v1/2023.findings-acl.386', '10.18653/v1/2023.findings-acl.387', '10.18653/v1/2023.findings-acl.388', '10.18653/v1/2023.findings-acl.389', '10.18653/v1/2023.findings-acl.390', '10.18653/v1/2023.findings-acl.391', '10.18653/v1/2023.findings-acl.392', '10.18653/v1/2023.findings-acl.393', '10.18653/v1/2023.findings-acl.394', '10.18653/v1/2023.findings-acl.395', '10.18653/v1/2023.findings-acl.396', '10.18653/v1/2023.findings-acl.397', '10.18653/v1/2023.findings-acl.398', '10.18653/v1/2023.findings-acl.399', '10.18653/v1/2023.findings-acl.400', '10.18653/v1/2023.findings-acl.401', '10.18653/v1/2023.findings-acl.402', '10.18653/v1/2023.findings-acl.403', '10.18653/v1/2023.findings-acl.404', '10.18653/v1/2023.findings-acl.405', '10.18653/v1/2023.findings-acl.406', '10.18653/v1/2023.findings-acl.407', '10.18653/v1/2023.findings-acl.408', '10.18653/v1/2023.findings-acl.409', '10.18653/v1/2023.findings-acl.410', '10.18653/v1/2023.findings-acl.411', '10.18653/v1/2023.findings-acl.412', '10.18653/v1/2023.findings-acl.413', '10.18653/v1/2023.findings-acl.414', '10.18653/v1/2023.findings-acl.415', '10.18653/v1/2023.findings-acl.416', '10.18653/v1/2023.findings-acl.417', '10.18653/v1/2023.findings-acl.418', '10.18653/v1/2023.findings-acl.419', '10.18653/v1/2023.findings-acl.420', '10.18653/v1/2023.findings-acl.421', '10.18653/v1/2023.findings-acl.422', '10.18653/v1/2023.findings-acl.423', '10.18653/v1/2023.findings-acl.424', '10.18653/v1/2023.findings-acl.425', '10.18653/v1/2023.findings-acl.426', '10.18653/v1/2023.findings-acl.427', '10.18653/v1/2023.findings-acl.428', '10.18653/v1/2023.findings-acl.429', '10.18653/v1/2023.findings-acl.430', '10.18653/v1/2023.findings-acl.431', '10.18653/v1/2023.findings-acl.432', '10.18653/v1/2023.findings-acl.433', '10.18653/v1/2023.findings-acl.434', '10.18653/v1/2023.findings-acl.435', '10.18653/v1/2023.findings-acl.436', '10.18653/v1/2023.findings-acl.437', '10.18653/v1/2023.findings-acl.438', '10.18653/v1/2023.findings-acl.439', '10.18653/v1/2023.findings-acl.440', '10.18653/v1/2023.findings-acl.441', '10.18653/v1/2023.findings-acl.442', '10.18653/v1/2023.findings-acl.443', '10.18653/v1/2023.findings-acl.444', '10.18653/v1/2023.findings-acl.445', '10.18653/v1/2023.findings-acl.446', '10.18653/v1/2023.findings-acl.447', '10.18653/v1/2023.findings-acl.448', '10.18653/v1/2023.findings-acl.449', '10.18653/v1/2023.findings-acl.450', '10.18653/v1/2023.findings-acl.451', '10.18653/v1/2023.findings-acl.452', '10.18653/v1/2023.findings-acl.453', '10.18653/v1/2023.findings-acl.454', '10.18653/v1/2023.findings-acl.455', '10.18653/v1/2023.findings-acl.456', '10.18653/v1/2023.findings-acl.457', '10.18653/v1/2023.findings-acl.458', '10.18653/v1/2023.findings-acl.459', '10.18653/v1/2023.findings-acl.460', '10.18653/v1/2023.findings-acl.461', '10.18653/v1/2023.findings-acl.462', '10.18653/v1/2023.findings-acl.463', '10.18653/v1/2023.findings-acl.464', '10.18653/v1/2023.findings-acl.465', '10.18653/v1/2023.findings-acl.466', '10.18653/v1/2023.findings-acl.467', '10.18653/v1/2023.findings-acl.468', '10.18653/v1/2023.findings-acl.469', '10.18653/v1/2023.findings-acl.470', '10.18653/v1/2023.findings-acl.471', '10.18653/v1/2023.findings-acl.472', '10.18653/v1/2023.findings-acl.473', '10.18653/v1/2023.findings-acl.474', '10.18653/v1/2023.findings-acl.475', '10.18653/v1/2023.findings-acl.476', '10.18653/v1/2023.findings-acl.477', '10.18653/v1/2023.findings-acl.478', '10.18653/v1/2023.findings-acl.479', '10.18653/v1/2023.findings-acl.480', '10.18653/v1/2023.findings-acl.481', '10.18653/v1/2023.findings-acl.482', '10.18653/v1/2023.findings-acl.483', '10.18653/v1/2023.findings-acl.484', '10.18653/v1/2023.findings-acl.485', '10.18653/v1/2023.findings-acl.486', '10.18653/v1/2023.findings-acl.487', '10.18653/v1/2023.findings-acl.488', '10.18653/v1/2023.findings-acl.489', '10.18653/v1/2023.findings-acl.490', '10.18653/v1/2023.findings-acl.491', '10.18653/v1/2023.findings-acl.492', '10.18653/v1/2023.findings-acl.493', '10.18653/v1/2023.findings-acl.494', '10.18653/v1/2023.findings-acl.495', '10.18653/v1/2023.findings-acl.496', '10.18653/v1/2023.findings-acl.497', '10.18653/v1/2023.findings-acl.498', '10.18653/v1/2023.findings-acl.499', '10.18653/v1/2023.findings-acl.500', '10.18653/v1/2023.findings-acl.501', '10.18653/v1/2023.findings-acl.502', '10.18653/v1/2023.findings-acl.503', '10.18653/v1/2023.findings-acl.504', '10.18653/v1/2023.findings-acl.505', '10.18653/v1/2023.findings-acl.506', '10.18653/v1/2023.findings-acl.507', '10.18653/v1/2023.findings-acl.508', '10.18653/v1/2023.findings-acl.509', '10.18653/v1/2023.findings-acl.510', '10.18653/v1/2023.findings-acl.511', '10.18653/v1/2023.findings-acl.512', '10.18653/v1/2023.findings-acl.513', '10.18653/v1/2023.findings-acl.514', '10.18653/v1/2023.findings-acl.515', '10.18653/v1/2023.findings-acl.516', '10.18653/v1/2023.findings-acl.517', '10.18653/v1/2023.findings-acl.518', '10.18653/v1/2023.findings-acl.519', '10.18653/v1/2023.findings-acl.520', '10.18653/v1/2023.findings-acl.521', '10.18653/v1/2023.findings-acl.522', '10.18653/v1/2023.findings-acl.523', '10.18653/v1/2023.findings-acl.524', '10.18653/v1/2023.findings-acl.525', '10.18653/v1/2023.findings-acl.526', '10.18653/v1/2023.findings-acl.527', '10.18653/v1/2023.findings-acl.528', '10.18653/v1/2023.findings-acl.529', '10.18653/v1/2023.findings-acl.530', '10.18653/v1/2023.findings-acl.531', '10.18653/v1/2023.findings-acl.532', '10.18653/v1/2023.findings-acl.533', '10.18653/v1/2023.findings-acl.534', '10.18653/v1/2023.findings-acl.535', '10.18653/v1/2023.findings-acl.536', '10.18653/v1/2023.findings-acl.537', '10.18653/v1/2023.findings-acl.538', '10.18653/v1/2023.findings-acl.539', '10.18653/v1/2023.findings-acl.540', '10.18653/v1/2023.findings-acl.541', '10.18653/v1/2023.findings-acl.542', '10.18653/v1/2023.findings-acl.543', '10.18653/v1/2023.findings-acl.544', '10.18653/v1/2023.findings-acl.545', '10.18653/v1/2023.findings-acl.546', '10.18653/v1/2023.findings-acl.547', '10.18653/v1/2023.findings-acl.548', '10.18653/v1/2023.findings-acl.549', '10.18653/v1/2023.findings-acl.550', '10.18653/v1/2023.findings-acl.551', '10.18653/v1/2023.findings-acl.552', '10.18653/v1/2023.findings-acl.553', '10.18653/v1/2023.findings-acl.554', '10.18653/v1/2023.findings-acl.555', '10.18653/v1/2023.findings-acl.556', '10.18653/v1/2023.findings-acl.557', '10.18653/v1/2023.findings-acl.558', '10.18653/v1/2023.findings-acl.559', '10.18653/v1/2023.findings-acl.560', '10.18653/v1/2023.findings-acl.561', '10.18653/v1/2023.findings-acl.562', '10.18653/v1/2023.findings-acl.563', '10.18653/v1/2023.findings-acl.564', '10.18653/v1/2023.findings-acl.565', '10.18653/v1/2023.findings-acl.566', '10.18653/v1/2023.findings-acl.567', '10.18653/v1/2023.findings-acl.568', '10.18653/v1/2023.findings-acl.569', '10.18653/v1/2023.findings-acl.570', '10.18653/v1/2023.findings-acl.571', '10.18653/v1/2023.findings-acl.572', '10.18653/v1/2023.findings-acl.573', '10.18653/v1/2023.findings-acl.574', '10.18653/v1/2023.findings-acl.575', '10.18653/v1/2023.findings-acl.576', '10.18653/v1/2023.findings-acl.577', '10.18653/v1/2023.findings-acl.578', '10.18653/v1/2023.findings-acl.579', '10.18653/v1/2023.findings-acl.580', '10.18653/v1/2023.findings-acl.581', '10.18653/v1/2023.findings-acl.582', '10.18653/v1/2023.findings-acl.583', '10.18653/v1/2023.findings-acl.584', '10.18653/v1/2023.findings-acl.585', '10.18653/v1/2023.findings-acl.586', '10.18653/v1/2023.findings-acl.587', '10.18653/v1/2023.findings-acl.588', '10.18653/v1/2023.findings-acl.589', '10.18653/v1/2023.findings-acl.590', '10.18653/v1/2023.findings-acl.591', '10.18653/v1/2023.findings-acl.592', '10.18653/v1/2023.findings-acl.593', '10.18653/v1/2023.findings-acl.594', '10.18653/v1/2023.findings-acl.595', '10.18653/v1/2023.findings-acl.596', '10.18653/v1/2023.findings-acl.597', '10.18653/v1/2023.findings-acl.598', '10.18653/v1/2023.findings-acl.599', '10.18653/v1/2023.findings-acl.600', '10.18653/v1/2023.findings-acl.601', '10.18653/v1/2023.findings-acl.602', '10.18653/v1/2023.findings-acl.603', '10.18653/v1/2023.findings-acl.604', '10.18653/v1/2023.findings-acl.605', '10.18653/v1/2023.findings-acl.606', '10.18653/v1/2023.findings-acl.607', '10.18653/v1/2023.findings-acl.608', '10.18653/v1/2023.findings-acl.609', '10.18653/v1/2023.findings-acl.610', '10.18653/v1/2023.findings-acl.611', '10.18653/v1/2023.findings-acl.612', '10.18653/v1/2023.findings-acl.613', '10.18653/v1/2023.findings-acl.614', '10.18653/v1/2023.findings-acl.615', '10.18653/v1/2023.findings-acl.616', '10.18653/v1/2023.findings-acl.617', '10.18653/v1/2023.findings-acl.618', '10.18653/v1/2023.findings-acl.619', '10.18653/v1/2023.findings-acl.620', '10.18653/v1/2023.findings-acl.621', '10.18653/v1/2023.findings-acl.622', '10.18653/v1/2023.findings-acl.623', '10.18653/v1/2023.findings-acl.624', '10.18653/v1/2023.findings-acl.625', '10.18653/v1/2023.findings-acl.626', '10.18653/v1/2023.findings-acl.627', '10.18653/v1/2023.findings-acl.628', '10.18653/v1/2023.findings-acl.629', '10.18653/v1/2023.findings-acl.630', '10.18653/v1/2023.findings-acl.631', '10.18653/v1/2023.findings-acl.632', '10.18653/v1/2023.findings-acl.633', '10.18653/v1/2023.findings-acl.634', '10.18653/v1/2023.findings-acl.635', '10.18653/v1/2023.findings-acl.636', '10.18653/v1/2023.findings-acl.637', '10.18653/v1/2023.findings-acl.638', '10.18653/v1/2023.findings-acl.639', '10.18653/v1/2023.findings-acl.640', '10.18653/v1/2023.findings-acl.641', '10.18653/v1/2023.findings-acl.642', '10.18653/v1/2023.findings-acl.643', '10.18653/v1/2023.findings-acl.644', '10.18653/v1/2023.findings-acl.645', '10.18653/v1/2023.findings-acl.646', '10.18653/v1/2023.findings-acl.647', '10.18653/v1/2023.findings-acl.648', '10.18653/v1/2023.findings-acl.649', '10.18653/v1/2023.findings-acl.650', '10.18653/v1/2023.findings-acl.651', '10.18653/v1/2023.findings-acl.652', '10.18653/v1/2023.findings-acl.653', '10.18653/v1/2023.findings-acl.654', '10.18653/v1/2023.findings-acl.655', '10.18653/v1/2023.findings-acl.656', '10.18653/v1/2023.findings-acl.657', '10.18653/v1/2023.findings-acl.658', '10.18653/v1/2023.findings-acl.659', '10.18653/v1/2023.findings-acl.660', '10.18653/v1/2023.findings-acl.661', '10.18653/v1/2023.findings-acl.662', '10.18653/v1/2023.findings-acl.663', '10.18653/v1/2023.findings-acl.664', '10.18653/v1/2023.findings-acl.665', '10.18653/v1/2023.findings-acl.666', '10.18653/v1/2023.findings-acl.667', '10.18653/v1/2023.findings-acl.668', '10.18653/v1/2023.findings-acl.669', '10.18653/v1/2023.findings-acl.670', '10.18653/v1/2023.findings-acl.671', '10.18653/v1/2023.findings-acl.672', '10.18653/v1/2023.findings-acl.673', '10.18653/v1/2023.findings-acl.674', '10.18653/v1/2023.findings-acl.675', '10.18653/v1/2023.findings-acl.676', '10.18653/v1/2023.findings-acl.677', '10.18653/v1/2023.findings-acl.678', '10.18653/v1/2023.findings-acl.679', '10.18653/v1/2023.findings-acl.680', '10.18653/v1/2023.findings-acl.681', '10.18653/v1/2023.findings-acl.682', '10.18653/v1/2023.findings-acl.683', '10.18653/v1/2023.findings-acl.684', '10.18653/v1/2023.findings-acl.685', '10.18653/v1/2023.findings-acl.686', '10.18653/v1/2023.findings-acl.687', '10.18653/v1/2023.findings-acl.688', '10.18653/v1/2023.findings-acl.689', '10.18653/v1/2023.findings-acl.690', '10.18653/v1/2023.findings-acl.691', '10.18653/v1/2023.findings-acl.692', '10.18653/v1/2023.findings-acl.693', '10.18653/v1/2023.findings-acl.694', '10.18653/v1/2023.findings-acl.695', '10.18653/v1/2023.findings-acl.696', '10.18653/v1/2023.findings-acl.697', '10.18653/v1/2023.findings-acl.698', '10.18653/v1/2023.findings-acl.699', '10.18653/v1/2023.findings-acl.700', '10.18653/v1/2023.findings-acl.701', '10.18653/v1/2023.findings-acl.702', '10.18653/v1/2023.findings-acl.703', '10.18653/v1/2023.findings-acl.704', '10.18653/v1/2023.findings-acl.705', '10.18653/v1/2023.findings-acl.706', '10.18653/v1/2023.findings-acl.707', '10.18653/v1/2023.findings-acl.708', '10.18653/v1/2023.findings-acl.709', '10.18653/v1/2023.findings-acl.710', '10.18653/v1/2023.findings-acl.711', '10.18653/v1/2023.findings-acl.712', '10.18653/v1/2023.findings-acl.713', '10.18653/v1/2023.findings-acl.714', '10.18653/v1/2023.findings-acl.715', '10.18653/v1/2023.findings-acl.716', '10.18653/v1/2023.findings-acl.717', '10.18653/v1/2023.findings-acl.718', '10.18653/v1/2023.findings-acl.719', '10.18653/v1/2023.findings-acl.720', '10.18653/v1/2023.findings-acl.721', '10.18653/v1/2023.findings-acl.722', '10.18653/v1/2023.findings-acl.723', '10.18653/v1/2023.findings-acl.724', '10.18653/v1/2023.findings-acl.725', '10.18653/v1/2023.findings-acl.726', '10.18653/v1/2023.findings-acl.727', '10.18653/v1/2023.findings-acl.728', '10.18653/v1/2023.findings-acl.729', '10.18653/v1/2023.findings-acl.730', '10.18653/v1/2023.findings-acl.731', '10.18653/v1/2023.findings-acl.732', '10.18653/v1/2023.findings-acl.733', '10.18653/v1/2023.findings-acl.734', '10.18653/v1/2023.findings-acl.735', '10.18653/v1/2023.findings-acl.736', '10.18653/v1/2023.findings-acl.737', '10.18653/v1/2023.findings-acl.738', '10.18653/v1/2023.findings-acl.739', '10.18653/v1/2023.findings-acl.740', '10.18653/v1/2023.findings-acl.741', '10.18653/v1/2023.findings-acl.742', '10.18653/v1/2023.findings-acl.743', '10.18653/v1/2023.findings-acl.744', '10.18653/v1/2023.findings-acl.745', '10.18653/v1/2023.findings-acl.746', '10.18653/v1/2023.findings-acl.747', '10.18653/v1/2023.findings-acl.748', '10.18653/v1/2023.findings-acl.749', '10.18653/v1/2023.findings-acl.750', '10.18653/v1/2023.findings-acl.751', '10.18653/v1/2023.findings-acl.752', '10.18653/v1/2023.findings-acl.753', '10.18653/v1/2023.findings-acl.754', '10.18653/v1/2023.findings-acl.755', '10.18653/v1/2023.findings-acl.756', '10.18653/v1/2023.findings-acl.757', '10.18653/v1/2023.findings-acl.758', '10.18653/v1/2023.findings-acl.759', '10.18653/v1/2023.findings-acl.760', '10.18653/v1/2023.findings-acl.761', '10.18653/v1/2023.findings-acl.762', '10.18653/v1/2023.findings-acl.763', '10.18653/v1/2023.findings-acl.764', '10.18653/v1/2023.findings-acl.765', '10.18653/v1/2023.findings-acl.766', '10.18653/v1/2023.findings-acl.767', '10.18653/v1/2023.findings-acl.768', '10.18653/v1/2023.findings-acl.769', '10.18653/v1/2023.findings-acl.770', '10.18653/v1/2023.findings-acl.771', '10.18653/v1/2023.findings-acl.772', '10.18653/v1/2023.findings-acl.773', '10.18653/v1/2023.findings-acl.774', '10.18653/v1/2023.findings-acl.775', '10.18653/v1/2023.findings-acl.776', '10.18653/v1/2023.findings-acl.777', '10.18653/v1/2023.findings-acl.778', '10.18653/v1/2023.findings-acl.779', '10.18653/v1/2023.findings-acl.780', '10.18653/v1/2023.findings-acl.781', '10.18653/v1/2023.findings-acl.782', '10.18653/v1/2023.findings-acl.783', '10.18653/v1/2023.findings-acl.784', '10.18653/v1/2023.findings-acl.785', '10.18653/v1/2023.findings-acl.786', '10.18653/v1/2023.findings-acl.787', '10.18653/v1/2023.findings-acl.788', '10.18653/v1/2023.findings-acl.789', '10.18653/v1/2023.findings-acl.790', '10.18653/v1/2023.findings-acl.791', '10.18653/v1/2023.findings-acl.792', '10.18653/v1/2023.findings-acl.793', '10.18653/v1/2023.findings-acl.794', '10.18653/v1/2023.findings-acl.795', '10.18653/v1/2023.findings-acl.796', '10.18653/v1/2023.findings-acl.797', '10.18653/v1/2023.findings-acl.798', '10.18653/v1/2023.findings-acl.799', '10.18653/v1/2023.findings-acl.800', '10.18653/v1/2023.findings-acl.801', '10.18653/v1/2023.findings-acl.802', '10.18653/v1/2023.findings-acl.803', '10.18653/v1/2023.findings-acl.804', '10.18653/v1/2023.findings-acl.805', '10.18653/v1/2023.findings-acl.806', '10.18653/v1/2023.findings-acl.807', '10.18653/v1/2023.findings-acl.808', '10.18653/v1/2023.findings-acl.809', '10.18653/v1/2023.findings-acl.810', '10.18653/v1/2023.findings-acl.811', '10.18653/v1/2023.findings-acl.812', '10.18653/v1/2023.findings-acl.813', '10.18653/v1/2023.findings-acl.814', '10.18653/v1/2023.findings-acl.815', '10.18653/v1/2023.findings-acl.816', '10.18653/v1/2023.findings-acl.817', '10.18653/v1/2023.findings-acl.818', '10.18653/v1/2023.findings-acl.819', '10.18653/v1/2023.findings-acl.820', '10.18653/v1/2023.findings-acl.821', '10.18653/v1/2023.findings-acl.822', '10.18653/v1/2023.findings-acl.823', '10.18653/v1/2023.findings-acl.824', '10.18653/v1/2023.findings-acl.825', '10.18653/v1/2023.findings-acl.826', '10.18653/v1/2023.findings-acl.827', '10.18653/v1/2023.findings-acl.828', '10.18653/v1/2023.findings-acl.829', '10.18653/v1/2023.findings-acl.830', '10.18653/v1/2023.findings-acl.831', '10.18653/v1/2023.findings-acl.832', '10.18653/v1/2023.findings-acl.833', '10.18653/v1/2023.findings-acl.834', '10.18653/v1/2023.findings-acl.835', '10.18653/v1/2023.findings-acl.836', '10.18653/v1/2023.findings-acl.837', '10.18653/v1/2023.findings-acl.838', '10.18653/v1/2023.findings-acl.839', '10.18653/v1/2023.findings-acl.840', '10.18653/v1/2023.findings-acl.841', '10.18653/v1/2023.findings-acl.842', '10.18653/v1/2023.findings-acl.843', '10.18653/v1/2023.findings-acl.844', '10.18653/v1/2023.findings-acl.845', '10.18653/v1/2023.findings-acl.846', '10.18653/v1/2023.findings-acl.847', '10.18653/v1/2023.findings-acl.848', '10.18653/v1/2023.findings-acl.849', '10.18653/v1/2023.findings-acl.850', '10.18653/v1/2023.findings-acl.851', '10.18653/v1/2023.findings-acl.852', '10.18653/v1/2023.findings-acl.853', '10.18653/v1/2023.findings-acl.854', '10.18653/v1/2023.findings-acl.855', '10.18653/v1/2023.findings-acl.856', '10.18653/v1/2023.findings-acl.857', '10.18653/v1/2023.findings-acl.858', '10.18653/v1/2023.findings-acl.859', '10.18653/v1/2023.findings-acl.860', '10.18653/v1/2023.findings-acl.861', '10.18653/v1/2023.findings-acl.862', '10.18653/v1/2023.findings-acl.863', '10.18653/v1/2023.findings-acl.864', '10.18653/v1/2023.findings-acl.865', '10.18653/v1/2023.findings-acl.866', '10.18653/v1/2023.findings-acl.867', '10.18653/v1/2023.findings-acl.868', '10.18653/v1/2023.findings-acl.869', '10.18653/v1/2023.findings-acl.870', '10.18653/v1/2023.findings-acl.871', '10.18653/v1/2023.findings-acl.872', '10.18653/v1/2023.findings-acl.873', '10.18653/v1/2023.findings-acl.874', '10.18653/v1/2023.findings-acl.875', '10.18653/v1/2023.findings-acl.876', '10.18653/v1/2023.findings-acl.877', '10.18653/v1/2023.findings-acl.878', '10.18653/v1/2023.findings-acl.879', '10.18653/v1/2023.findings-acl.880', '10.18653/v1/2023.findings-acl.881', '10.18653/v1/2023.findings-acl.882', '10.18653/v1/2023.findings-acl.883', '10.18653/v1/2023.findings-acl.884', '10.18653/v1/2023.findings-acl.885', '10.18653/v1/2023.findings-acl.886', '10.18653/v1/2023.findings-acl.887', '10.18653/v1/2023.findings-acl.888', '10.18653/v1/2023.findings-acl.889', '10.18653/v1/2023.findings-acl.890', '10.18653/v1/2023.findings-acl.891', '10.18653/v1/2023.findings-acl.892', '10.18653/v1/2023.findings-acl.893', '10.18653/v1/2023.findings-acl.894', '10.18653/v1/2023.findings-acl.895', '10.18653/v1/2023.findings-acl.896', '10.18653/v1/2023.findings-acl.897', '10.18653/v1/2023.findings-acl.898', '10.18653/v1/2023.findings-acl.899', '10.18653/v1/2023.findings-acl.900', '10.18653/v1/2023.findings-acl.901', '10.18653/v1/2023.acl-demo.1', '10.18653/v1/2023.acl-demo.2', '10.18653/v1/2023.acl-demo.3', '10.18653/v1/2023.acl-demo.4', '10.18653/v1/2023.acl-demo.5', '10.18653/v1/2023.acl-demo.6', '10.18653/v1/2023.acl-demo.7', '10.18653/v1/2023.acl-demo.8', '10.18653/v1/2023.acl-demo.9', '10.18653/v1/2023.acl-demo.10', '10.18653/v1/2023.acl-demo.11', '10.18653/v1/2023.acl-demo.12', '10.18653/v1/2023.acl-demo.13', '10.18653/v1/2023.acl-demo.14', '10.18653/v1/2023.acl-demo.15', '10.18653/v1/2023.acl-demo.16', '10.18653/v1/2023.acl-demo.17', '10.18653/v1/2023.acl-demo.18', '10.18653/v1/2023.acl-demo.19', '10.18653/v1/2023.acl-demo.20', '10.18653/v1/2023.acl-demo.21', '10.18653/v1/2023.acl-demo.22', '10.18653/v1/2023.acl-demo.23', '10.18653/v1/2023.acl-demo.24', '10.18653/v1/2023.acl-demo.25', '10.18653/v1/2023.acl-demo.26', '10.18653/v1/2023.acl-demo.27', '10.18653/v1/2023.acl-demo.28', '10.18653/v1/2023.acl-demo.29', '10.18653/v1/2023.acl-demo.30', '10.18653/v1/2023.acl-demo.31', '10.18653/v1/2023.acl-demo.32', '10.18653/v1/2023.acl-demo.33', '10.18653/v1/2023.acl-demo.34', '10.18653/v1/2023.acl-demo.35', '10.18653/v1/2023.acl-demo.36', '10.18653/v1/2023.acl-demo.37', '10.18653/v1/2023.acl-demo.38', '10.18653/v1/2023.acl-demo.39', '10.18653/v1/2023.acl-demo.40', '10.18653/v1/2023.acl-demo.41', '10.18653/v1/2023.acl-demo.42', '10.18653/v1/2023.acl-demo.43', '10.18653/v1/2023.acl-demo.44', '10.18653/v1/2023.acl-demo.45', '10.18653/v1/2023.acl-demo.46', '10.18653/v1/2023.acl-demo.47', '10.18653/v1/2023.acl-demo.48', '10.18653/v1/2023.acl-demo.49', '10.18653/v1/2023.acl-demo.50', '10.18653/v1/2023.acl-demo.51', '10.18653/v1/2023.acl-demo.52', '10.18653/v1/2023.acl-demo.53', '10.18653/v1/2023.acl-demo.54', '10.18653/v1/2023.acl-demo.55', '10.18653/v1/2023.acl-demo.56', '10.18653/v1/2023.acl-demo.57', '10.18653/v1/2023.acl-demo.58', '10.18653/v1/2023.acl-industry.1', '10.18653/v1/2023.acl-industry.2', '10.18653/v1/2023.acl-industry.3', '10.18653/v1/2023.acl-industry.4', '10.18653/v1/2023.acl-industry.5', '10.18653/v1/2023.acl-industry.6', '10.18653/v1/2023.acl-industry.7', '10.18653/v1/2023.acl-industry.8', '10.18653/v1/2023.acl-industry.9', '10.18653/v1/2023.acl-industry.10', '10.18653/v1/2023.acl-industry.11', '10.18653/v1/2023.acl-industry.12', '10.18653/v1/2023.acl-industry.13', '10.18653/v1/2023.acl-industry.14', '10.18653/v1/2023.acl-industry.15', '10.18653/v1/2023.acl-industry.16', '10.18653/v1/2023.acl-industry.17', '10.18653/v1/2023.acl-industry.18', '10.18653/v1/2023.acl-industry.19', '10.18653/v1/2023.acl-industry.20', '10.18653/v1/2023.acl-industry.21', '10.18653/v1/2023.acl-industry.22', '10.18653/v1/2023.acl-industry.23', '10.18653/v1/2023.acl-industry.24', '10.18653/v1/2023.acl-industry.25', '10.18653/v1/2023.acl-industry.26', '10.18653/v1/2023.acl-industry.27', '10.18653/v1/2023.acl-industry.28', '10.18653/v1/2023.acl-industry.29', '10.18653/v1/2023.acl-industry.30', '10.18653/v1/2023.acl-industry.31', '10.18653/v1/2023.acl-industry.32', '10.18653/v1/2023.acl-industry.33', '10.18653/v1/2023.acl-industry.34', '10.18653/v1/2023.acl-industry.35', '10.18653/v1/2023.acl-industry.36', '10.18653/v1/2023.acl-industry.37', '10.18653/v1/2023.acl-industry.38', '10.18653/v1/2023.acl-industry.39', '10.18653/v1/2023.acl-industry.40', '10.18653/v1/2023.acl-industry.41', '10.18653/v1/2023.acl-industry.42', '10.18653/v1/2023.acl-industry.43', '10.18653/v1/2023.acl-industry.44', '10.18653/v1/2023.acl-industry.45', '10.18653/v1/2023.acl-industry.46', '10.18653/v1/2023.acl-industry.47', '10.18653/v1/2023.acl-industry.48', '10.18653/v1/2023.acl-industry.49', '10.18653/v1/2023.acl-industry.50', '10.18653/v1/2023.acl-industry.51', '10.18653/v1/2023.acl-industry.52', '10.18653/v1/2023.acl-industry.53', '10.18653/v1/2023.acl-industry.54', '10.18653/v1/2023.acl-industry.55', '10.18653/v1/2023.acl-industry.56', '10.18653/v1/2023.acl-industry.57', '10.18653/v1/2023.acl-industry.58', '10.18653/v1/2023.acl-industry.59', '10.18653/v1/2023.acl-industry.60', '10.18653/v1/2023.acl-industry.61', '10.18653/v1/2023.acl-industry.62', '10.18653/v1/2023.acl-industry.63', '10.18653/v1/2023.acl-industry.64', '10.18653/v1/2023.acl-industry.65', '10.18653/v1/2023.acl-industry.66', '10.18653/v1/2023.acl-industry.67', '10.18653/v1/2023.acl-industry.68', '10.18653/v1/2023.acl-industry.69', '10.18653/v1/2023.acl-industry.70', '10.18653/v1/2023.acl-industry.71', '10.18653/v1/2023.acl-industry.72', '10.18653/v1/2023.acl-industry.73', '10.18653/v1/2023.acl-industry.74', '10.18653/v1/2023.acl-industry.75', '10.18653/v1/2023.acl-industry.76', '10.18653/v1/2023.acl-tutorials.1', '10.18653/v1/2023.acl-tutorials.2', '10.18653/v1/2023.acl-tutorials.3', '10.18653/v1/2023.acl-tutorials.4', '10.18653/v1/2023.acl-tutorials.5', '10.18653/v1/2023.acl-tutorials.6', '10.18653/v1/2022.acl-long.1', '10.18653/v1/2022.acl-long.2', '10.18653/v1/2022.acl-long.3', '10.18653/v1/2022.acl-long.4', '10.18653/v1/2022.acl-long.5', '10.18653/v1/2022.acl-long.6', '10.18653/v1/2022.acl-long.7', '10.18653/v1/2022.acl-long.8', '10.18653/v1/2022.acl-long.9', '10.18653/v1/2022.acl-long.10', '10.18653/v1/2022.acl-long.11', '10.18653/v1/2022.acl-long.12', '10.18653/v1/2022.acl-long.13', '10.18653/v1/2022.acl-long.14', '10.18653/v1/2022.acl-long.15', '10.18653/v1/2022.acl-long.16', '10.18653/v1/2022.acl-long.17', '10.18653/v1/2022.acl-long.18', '10.18653/v1/2022.acl-long.19', '10.18653/v1/2022.acl-long.20', '10.18653/v1/2022.acl-long.21', '10.18653/v1/2022.acl-long.22', '10.18653/v1/2022.acl-long.23', '10.18653/v1/2022.acl-long.24', '10.18653/v1/2022.acl-long.25', '10.18653/v1/2022.acl-long.26', '10.18653/v1/2022.acl-long.27', '10.18653/v1/2022.acl-long.28', '10.18653/v1/2022.acl-long.29', '10.18653/v1/2022.acl-long.30', '10.18653/v1/2022.acl-long.31', '10.18653/v1/2022.acl-long.32', '10.18653/v1/2022.acl-long.33', '10.18653/v1/2022.acl-long.34', '10.18653/v1/2022.acl-long.35', '10.18653/v1/2022.acl-long.36', '10.18653/v1/2022.acl-long.37', '10.18653/v1/2022.acl-long.38', '10.18653/v1/2022.acl-long.39', '10.18653/v1/2022.acl-long.40', '10.18653/v1/2022.acl-long.41', '10.18653/v1/2022.acl-long.42', '10.18653/v1/2022.acl-long.43', '10.18653/v1/2022.acl-long.44', '10.18653/v1/2022.acl-long.45', '10.18653/v1/2022.acl-long.46', '10.18653/v1/2022.acl-long.47', '10.18653/v1/2022.acl-long.48', '10.18653/v1/2022.acl-long.49', '10.18653/v1/2022.acl-long.50', '10.18653/v1/2022.acl-long.51', '10.18653/v1/2022.acl-long.52', '10.18653/v1/2022.acl-long.53', '10.18653/v1/2022.acl-long.54', '10.18653/v1/2022.acl-long.55', '10.18653/v1/2022.acl-long.56', '10.18653/v1/2022.acl-long.57', '10.18653/v1/2022.acl-long.58', '10.18653/v1/2022.acl-long.59', '10.18653/v1/2022.acl-long.60', '10.18653/v1/2022.acl-long.61', '10.18653/v1/2022.acl-long.62', '10.18653/v1/2022.acl-long.63', '10.18653/v1/2022.acl-long.64', '10.18653/v1/2022.acl-long.65', '10.18653/v1/2022.acl-long.66', '10.18653/v1/2022.acl-long.67', '10.18653/v1/2022.acl-long.68', '10.18653/v1/2022.acl-long.69', '10.18653/v1/2022.acl-long.70', '10.18653/v1/2022.acl-long.71', '10.18653/v1/2022.acl-long.72', '10.18653/v1/2022.acl-long.73', '10.18653/v1/2022.acl-long.74', '10.18653/v1/2022.acl-long.75', '10.18653/v1/2022.acl-long.76', '10.18653/v1/2022.acl-long.77', '10.18653/v1/2022.acl-long.78', '10.18653/v1/2022.acl-long.79', '10.18653/v1/2022.acl-long.80', '10.18653/v1/2022.acl-long.81', '10.18653/v1/2022.acl-long.82', '10.18653/v1/2022.acl-long.83', '10.18653/v1/2022.acl-long.84', '10.18653/v1/2022.acl-long.85', '10.18653/v1/2022.acl-long.86', '10.18653/v1/2022.acl-long.87', '10.18653/v1/2022.acl-long.88', '10.18653/v1/2022.acl-long.89', '10.18653/v1/2022.acl-long.90', '10.18653/v1/2022.acl-long.91', '10.18653/v1/2022.acl-long.92', '10.18653/v1/2022.acl-long.93', '10.18653/v1/2022.acl-long.94', '10.18653/v1/2022.acl-long.95', '10.18653/v1/2022.acl-long.96', '10.18653/v1/2022.acl-long.97', '10.18653/v1/2022.acl-long.98', '10.18653/v1/2022.acl-long.99', '10.18653/v1/2022.acl-long.100', '10.18653/v1/2022.acl-long.101', '10.18653/v1/2022.acl-long.102', '10.18653/v1/2022.acl-long.103', '10.18653/v1/2022.acl-long.104', '10.18653/v1/2022.acl-long.105', '10.18653/v1/2022.acl-long.106', '10.18653/v1/2022.acl-long.107', '10.18653/v1/2022.acl-long.108', '10.18653/v1/2022.acl-long.109', '10.18653/v1/2022.acl-long.110', '10.18653/v1/2022.acl-long.111', '10.18653/v1/2022.acl-long.112', '10.18653/v1/2022.acl-long.113', '10.18653/v1/2022.acl-long.114', '10.18653/v1/2022.acl-long.115', '10.18653/v1/2022.acl-long.116', '10.18653/v1/2022.acl-long.117', '10.18653/v1/2022.acl-long.118', '10.18653/v1/2022.acl-long.119', '10.18653/v1/2022.acl-long.120', '10.18653/v1/2022.acl-long.121', '10.18653/v1/2022.acl-long.122', '10.18653/v1/2022.acl-long.123', '10.18653/v1/2022.acl-long.124', '10.18653/v1/2022.acl-long.125', '10.18653/v1/2022.acl-long.126', '10.18653/v1/2022.acl-long.127', '10.18653/v1/2022.acl-long.128', '10.18653/v1/2022.acl-long.129', '10.18653/v1/2022.acl-long.130', '10.18653/v1/2022.acl-long.131', '10.18653/v1/2022.acl-long.132', '10.18653/v1/2022.acl-long.133', '10.18653/v1/2022.acl-long.134', '10.18653/v1/2022.acl-long.135', '10.18653/v1/2022.acl-long.136', '10.18653/v1/2022.acl-long.137', '10.18653/v1/2022.acl-long.138', '10.18653/v1/2022.acl-long.139', '10.18653/v1/2022.acl-long.140', '10.18653/v1/2022.acl-long.141', '10.18653/v1/2022.acl-long.142', '10.18653/v1/2022.acl-long.143', '10.18653/v1/2022.acl-long.144', '10.18653/v1/2022.acl-long.145', '10.18653/v1/2022.acl-long.146', '10.18653/v1/2022.acl-long.147', '10.18653/v1/2022.acl-long.148', '10.18653/v1/2022.acl-long.149', '10.18653/v1/2022.acl-long.150', '10.18653/v1/2022.acl-long.151', '10.18653/v1/2022.acl-long.152', '10.18653/v1/2022.acl-long.153', '10.18653/v1/2022.acl-long.154', '10.18653/v1/2022.acl-long.155', '10.18653/v1/2022.acl-long.156', '10.18653/v1/2022.acl-long.157', '10.18653/v1/2022.acl-long.158', '10.18653/v1/2022.acl-long.159', '10.18653/v1/2022.acl-long.160', '10.18653/v1/2022.acl-long.161', '10.18653/v1/2022.acl-long.162', '10.18653/v1/2022.acl-long.163', '10.18653/v1/2022.acl-long.164', '10.18653/v1/2022.acl-long.165', '10.18653/v1/2022.acl-long.166', '10.18653/v1/2022.acl-long.167', '10.18653/v1/2022.acl-long.168', '10.18653/v1/2022.acl-long.169', '10.18653/v1/2022.acl-long.170', '10.18653/v1/2022.acl-long.171', '10.18653/v1/2022.acl-long.172', '10.18653/v1/2022.acl-long.173', '10.18653/v1/2022.acl-long.174', '10.18653/v1/2022.acl-long.175', '10.18653/v1/2022.acl-long.176', '10.18653/v1/2022.acl-long.177', '10.18653/v1/2022.acl-long.178', '10.18653/v1/2022.acl-long.179', '10.18653/v1/2022.acl-long.180', '10.18653/v1/2022.acl-long.181', '10.18653/v1/2022.acl-long.182', '10.18653/v1/2022.acl-long.183', '10.18653/v1/2022.acl-long.184', '10.18653/v1/2022.acl-long.185', '10.18653/v1/2022.acl-long.186', '10.18653/v1/2022.acl-long.187', '10.18653/v1/2022.acl-long.188', '10.18653/v1/2022.acl-long.189', '10.18653/v1/2022.acl-long.190', '10.18653/v1/2022.acl-long.191', '10.18653/v1/2022.acl-long.192', '10.18653/v1/2022.acl-long.193', '10.18653/v1/2022.acl-long.194', '10.18653/v1/2022.acl-long.195', '10.18653/v1/2022.acl-long.196', '10.18653/v1/2022.acl-long.197', '10.18653/v1/2022.acl-long.198', '10.18653/v1/2022.acl-long.199', '10.18653/v1/2022.acl-long.200', '10.18653/v1/2022.acl-long.201', '10.18653/v1/2022.acl-long.202', '10.18653/v1/2022.acl-long.203', '10.18653/v1/2022.acl-long.204', '10.18653/v1/2022.acl-long.205', '10.18653/v1/2022.acl-long.206', '10.18653/v1/2022.acl-long.207', '10.18653/v1/2022.acl-long.208', '10.18653/v1/2022.acl-long.209', '10.18653/v1/2022.acl-long.210', '10.18653/v1/2022.acl-long.211', '10.18653/v1/2022.acl-long.212', '10.18653/v1/2022.acl-long.213', '10.18653/v1/2022.acl-long.214', '10.18653/v1/2022.acl-long.215', '10.18653/v1/2022.acl-long.216', '10.18653/v1/2022.acl-long.217', '10.18653/v1/2022.acl-long.218', '10.18653/v1/2022.acl-long.219', '10.18653/v1/2022.acl-long.220', '10.18653/v1/2022.acl-long.221', '10.18653/v1/2022.acl-long.222', '10.18653/v1/2022.acl-long.223', '10.18653/v1/2022.acl-long.224', '10.18653/v1/2022.acl-long.225', '10.18653/v1/2022.acl-long.226', '10.18653/v1/2022.acl-long.227', '10.18653/v1/2022.acl-long.228', '10.18653/v1/2022.acl-long.229', '10.18653/v1/2022.acl-long.230', '10.18653/v1/2022.acl-long.231', '10.18653/v1/2022.acl-long.232', '10.18653/v1/2022.acl-long.233', '10.18653/v1/2022.acl-long.234', '10.18653/v1/2022.acl-long.235', '10.18653/v1/2022.acl-long.236', '10.18653/v1/2022.acl-long.237', '10.18653/v1/2022.acl-long.238', '10.18653/v1/2022.acl-long.239', '10.18653/v1/2022.acl-long.240', '10.18653/v1/2022.acl-long.241', '10.18653/v1/2022.acl-long.242', '10.18653/v1/2022.acl-long.243', '10.18653/v1/2022.acl-long.244', '10.18653/v1/2022.acl-long.245', '10.18653/v1/2022.acl-long.246', '10.18653/v1/2022.acl-long.247', '10.18653/v1/2022.acl-long.248', '10.18653/v1/2022.acl-long.249', '10.18653/v1/2022.acl-long.250', '10.18653/v1/2022.acl-long.251', '10.18653/v1/2022.acl-long.252', '10.18653/v1/2022.acl-long.253', '10.18653/v1/2022.acl-long.254', '10.18653/v1/2022.acl-long.255', '10.18653/v1/2022.acl-long.256', '10.18653/v1/2022.acl-long.257', '10.18653/v1/2022.acl-long.258', '10.18653/v1/2022.acl-long.259', '10.18653/v1/2022.acl-long.260', '10.18653/v1/2022.acl-long.261', '10.18653/v1/2022.acl-long.262', '10.18653/v1/2022.acl-long.263', '10.18653/v1/2022.acl-long.264', '10.18653/v1/2022.acl-long.265', '10.18653/v1/2022.acl-long.266', '10.18653/v1/2022.acl-long.267', '10.18653/v1/2022.acl-long.268', '10.18653/v1/2022.acl-long.269', '10.18653/v1/2022.acl-long.270', '10.18653/v1/2022.acl-long.271', '10.18653/v1/2022.acl-long.272', '10.18653/v1/2022.acl-long.273', '10.18653/v1/2022.acl-long.274', '10.18653/v1/2022.acl-long.275', '10.18653/v1/2022.acl-long.276', '10.18653/v1/2022.acl-long.277', '10.18653/v1/2022.acl-long.278', '10.18653/v1/2022.acl-long.279', '10.18653/v1/2022.acl-long.280', '10.18653/v1/2022.acl-long.281', '10.18653/v1/2022.acl-long.282', '10.18653/v1/2022.acl-long.283', '10.18653/v1/2022.acl-long.284', '10.18653/v1/2022.acl-long.285', '10.18653/v1/2022.acl-long.286', '10.18653/v1/2022.acl-long.287', '10.18653/v1/2022.acl-long.288', '10.18653/v1/2022.acl-long.289', '10.18653/v1/2022.acl-long.290', '10.18653/v1/2022.acl-long.291', '10.18653/v1/2022.acl-long.292', '10.18653/v1/2022.acl-long.293', '10.18653/v1/2022.acl-long.294', '10.18653/v1/2022.acl-long.295', '10.18653/v1/2022.acl-long.296', '10.18653/v1/2022.acl-long.297', '10.18653/v1/2022.acl-long.298', '10.18653/v1/2022.acl-long.299', '10.18653/v1/2022.acl-long.300', '10.18653/v1/2022.acl-long.301', '10.18653/v1/2022.acl-long.302', '10.18653/v1/2022.acl-long.303', '10.18653/v1/2022.acl-long.304', '10.18653/v1/2022.acl-long.305', '10.18653/v1/2022.acl-long.306', '10.18653/v1/2022.acl-long.307', '10.18653/v1/2022.acl-long.308', '10.18653/v1/2022.acl-long.309', '10.18653/v1/2022.acl-long.310', '10.18653/v1/2022.acl-long.311', '10.18653/v1/2022.acl-long.312', '10.18653/v1/2022.acl-long.313', '10.18653/v1/2022.acl-long.314', '10.18653/v1/2022.acl-long.315', '10.18653/v1/2022.acl-long.316', '10.18653/v1/2022.acl-long.317', '10.18653/v1/2022.acl-long.318', '10.18653/v1/2022.acl-long.319', '10.18653/v1/2022.acl-long.320', '10.18653/v1/2022.acl-long.321', '10.18653/v1/2022.acl-long.322', '10.18653/v1/2022.acl-long.323', '10.18653/v1/2022.acl-long.324', '10.18653/v1/2022.acl-long.325', '10.18653/v1/2022.acl-long.326', '10.18653/v1/2022.acl-long.327', '10.18653/v1/2022.acl-long.328', '10.18653/v1/2022.acl-long.329', '10.18653/v1/2022.acl-long.330', '10.18653/v1/2022.acl-long.331', '10.18653/v1/2022.acl-long.332', '10.18653/v1/2022.acl-long.333', '10.18653/v1/2022.acl-long.334', '10.18653/v1/2022.acl-long.335', '10.18653/v1/2022.acl-long.336', '10.18653/v1/2022.acl-long.337', '10.18653/v1/2022.acl-long.338', '10.18653/v1/2022.acl-long.339', '10.18653/v1/2022.acl-long.340', '10.18653/v1/2022.acl-long.341', '10.18653/v1/2022.acl-long.342', '10.18653/v1/2022.acl-long.343', '10.18653/v1/2022.acl-long.344', '10.18653/v1/2022.acl-long.345', '10.18653/v1/2022.acl-long.346', '10.18653/v1/2022.acl-long.347', '10.18653/v1/2022.acl-long.348', '10.18653/v1/2022.acl-long.349', '10.18653/v1/2022.acl-long.350', '10.18653/v1/2022.acl-long.351', '10.18653/v1/2022.acl-long.352', '10.18653/v1/2022.acl-long.353', '10.18653/v1/2022.acl-long.354', '10.18653/v1/2022.acl-long.355', '10.18653/v1/2022.acl-long.356', '10.18653/v1/2022.acl-long.357', '10.18653/v1/2022.acl-long.358', '10.18653/v1/2022.acl-long.359', '10.18653/v1/2022.acl-long.360', '10.18653/v1/2022.acl-long.361', '10.18653/v1/2022.acl-long.362', '10.18653/v1/2022.acl-long.363', '10.18653/v1/2022.acl-long.364', '10.18653/v1/2022.acl-long.365', '10.18653/v1/2022.acl-long.366', '10.18653/v1/2022.acl-long.367', '10.18653/v1/2022.acl-long.368', '10.18653/v1/2022.acl-long.369', '10.18653/v1/2022.acl-long.370', '10.18653/v1/2022.acl-long.371', '10.18653/v1/2022.acl-long.372', '10.18653/v1/2022.acl-long.373', '10.18653/v1/2022.acl-long.374', '10.18653/v1/2022.acl-long.375', '10.18653/v1/2022.acl-long.376', '10.18653/v1/2022.acl-long.377', '10.18653/v1/2022.acl-long.378', '10.18653/v1/2022.acl-long.379', '10.18653/v1/2022.acl-long.380', '10.18653/v1/2022.acl-long.381', '10.18653/v1/2022.acl-long.382', '10.18653/v1/2022.acl-long.383', '10.18653/v1/2022.acl-long.384', '10.18653/v1/2022.acl-long.385', '10.18653/v1/2022.acl-long.386', '10.18653/v1/2022.acl-long.387', '10.18653/v1/2022.acl-long.388', '10.18653/v1/2022.acl-long.389', '10.18653/v1/2022.acl-long.390', '10.18653/v1/2022.acl-long.391', '10.18653/v1/2022.acl-long.392', '10.18653/v1/2022.acl-long.393', '10.18653/v1/2022.acl-long.394', '10.18653/v1/2022.acl-long.395', '10.18653/v1/2022.acl-long.396', '10.18653/v1/2022.acl-long.397', '10.18653/v1/2022.acl-long.398', '10.18653/v1/2022.acl-long.399', '10.18653/v1/2022.acl-long.400', '10.18653/v1/2022.acl-long.401', '10.18653/v1/2022.acl-long.402', '10.18653/v1/2022.acl-long.403', '10.18653/v1/2022.acl-long.404', '10.18653/v1/2022.acl-long.405', '10.18653/v1/2022.acl-long.406', '10.18653/v1/2022.acl-long.407', '10.18653/v1/2022.acl-long.408', '10.18653/v1/2022.acl-long.409', '10.18653/v1/2022.acl-long.410', '10.18653/v1/2022.acl-long.411', '10.18653/v1/2022.acl-long.412', '10.18653/v1/2022.acl-long.413', '10.18653/v1/2022.acl-long.414', '10.18653/v1/2022.acl-long.415', '10.18653/v1/2022.acl-long.416', '10.18653/v1/2022.acl-long.417', '10.18653/v1/2022.acl-long.418', '10.18653/v1/2022.acl-long.419', '10.18653/v1/2022.acl-long.420', '10.18653/v1/2022.acl-long.421', '10.18653/v1/2022.acl-long.422', '10.18653/v1/2022.acl-long.423', '10.18653/v1/2022.acl-long.424', '10.18653/v1/2022.acl-long.425', '10.18653/v1/2022.acl-long.426', '10.18653/v1/2022.acl-long.427', '10.18653/v1/2022.acl-long.428', '10.18653/v1/2022.acl-long.429', '10.18653/v1/2022.acl-long.430', '10.18653/v1/2022.acl-long.431', '10.18653/v1/2022.acl-long.432', '10.18653/v1/2022.acl-long.433', '10.18653/v1/2022.acl-long.434', '10.18653/v1/2022.acl-long.435', '10.18653/v1/2022.acl-long.436', '10.18653/v1/2022.acl-long.437', '10.18653/v1/2022.acl-long.438', '10.18653/v1/2022.acl-long.439', '10.18653/v1/2022.acl-long.440', '10.18653/v1/2022.acl-long.441', '10.18653/v1/2022.acl-long.442', '10.18653/v1/2022.acl-long.443', '10.18653/v1/2022.acl-long.444', '10.18653/v1/2022.acl-long.445', '10.18653/v1/2022.acl-long.446', '10.18653/v1/2022.acl-long.447', '10.18653/v1/2022.acl-long.448', '10.18653/v1/2022.acl-long.449', '10.18653/v1/2022.acl-long.450', '10.18653/v1/2022.acl-long.451', '10.18653/v1/2022.acl-long.452', '10.18653/v1/2022.acl-long.453', '10.18653/v1/2022.acl-long.454', '10.18653/v1/2022.acl-long.455', '10.18653/v1/2022.acl-long.456', '10.18653/v1/2022.acl-long.457', '10.18653/v1/2022.acl-long.458', '10.18653/v1/2022.acl-long.459', '10.18653/v1/2022.acl-long.460', '10.18653/v1/2022.acl-long.461', '10.18653/v1/2022.acl-long.462', '10.18653/v1/2022.acl-long.463', '10.18653/v1/2022.acl-long.464', '10.18653/v1/2022.acl-long.465', '10.18653/v1/2022.acl-long.466', '10.18653/v1/2022.acl-long.467', '10.18653/v1/2022.acl-long.468', '10.18653/v1/2022.acl-long.469', '10.18653/v1/2022.acl-long.470', '10.18653/v1/2022.acl-long.471', '10.18653/v1/2022.acl-long.472', '10.18653/v1/2022.acl-long.473', '10.18653/v1/2022.acl-long.474', '10.18653/v1/2022.acl-long.475', '10.18653/v1/2022.acl-long.476', '10.18653/v1/2022.acl-long.477', '10.18653/v1/2022.acl-long.478', '10.18653/v1/2022.acl-long.479', '10.18653/v1/2022.acl-long.480', '10.18653/v1/2022.acl-long.481', '10.18653/v1/2022.acl-long.482', '10.18653/v1/2022.acl-long.483', '10.18653/v1/2022.acl-long.484', '10.18653/v1/2022.acl-long.485', '10.18653/v1/2022.acl-long.486', '10.18653/v1/2022.acl-long.487', '10.18653/v1/2022.acl-long.488', '10.18653/v1/2022.acl-long.489', '10.18653/v1/2022.acl-long.490', '10.18653/v1/2022.acl-long.491', '10.18653/v1/2022.acl-long.492', '10.18653/v1/2022.acl-long.493', '10.18653/v1/2022.acl-long.494', '10.18653/v1/2022.acl-long.495', '10.18653/v1/2022.acl-long.496', '10.18653/v1/2022.acl-long.497', '10.18653/v1/2022.acl-long.498', '10.18653/v1/2022.acl-long.499', '10.18653/v1/2022.acl-long.500', '10.18653/v1/2022.acl-long.501', '10.18653/v1/2022.acl-long.502', '10.18653/v1/2022.acl-long.503', '10.18653/v1/2022.acl-long.504', '10.18653/v1/2022.acl-long.505', '10.18653/v1/2022.acl-long.506', '10.18653/v1/2022.acl-long.507', '10.18653/v1/2022.acl-long.508', '10.18653/v1/2022.acl-long.509', '10.18653/v1/2022.acl-long.510', '10.18653/v1/2022.acl-long.511', '10.18653/v1/2022.acl-long.512', '10.18653/v1/2022.acl-long.513', '10.18653/v1/2022.acl-long.514', '10.18653/v1/2022.acl-long.515', '10.18653/v1/2022.acl-long.516', '10.18653/v1/2022.acl-long.517', '10.18653/v1/2022.acl-long.518', '10.18653/v1/2022.acl-long.519', '10.18653/v1/2022.acl-long.520', '10.18653/v1/2022.acl-long.521', '10.18653/v1/2022.acl-long.522', '10.18653/v1/2022.acl-long.523', '10.18653/v1/2022.acl-long.524', '10.18653/v1/2022.acl-long.525', '10.18653/v1/2022.acl-long.526', '10.18653/v1/2022.acl-long.527', '10.18653/v1/2022.acl-long.528', '10.18653/v1/2022.acl-long.529', '10.18653/v1/2022.acl-long.530', '10.18653/v1/2022.acl-long.531', '10.18653/v1/2022.acl-long.532', '10.18653/v1/2022.acl-long.533', '10.18653/v1/2022.acl-long.534', '10.18653/v1/2022.acl-long.535', '10.18653/v1/2022.acl-long.536', '10.18653/v1/2022.acl-long.537', '10.18653/v1/2022.acl-long.538', '10.18653/v1/2022.acl-long.539', '10.18653/v1/2022.acl-long.540', '10.18653/v1/2022.acl-long.541', '10.18653/v1/2022.acl-long.542', '10.18653/v1/2022.acl-long.543', '10.18653/v1/2022.acl-long.544', '10.18653/v1/2022.acl-long.545', '10.18653/v1/2022.acl-long.546', '10.18653/v1/2022.acl-long.547', '10.18653/v1/2022.acl-long.548', '10.18653/v1/2022.acl-long.549', '10.18653/v1/2022.acl-long.550', '10.18653/v1/2022.acl-long.551', '10.18653/v1/2022.acl-long.552', '10.18653/v1/2022.acl-long.553', '10.18653/v1/2022.acl-long.554', '10.18653/v1/2022.acl-long.555', '10.18653/v1/2022.acl-long.556', '10.18653/v1/2022.acl-long.557', '10.18653/v1/2022.acl-long.558', '10.18653/v1/2022.acl-long.559', '10.18653/v1/2022.acl-long.560', '10.18653/v1/2022.acl-long.561', '10.18653/v1/2022.acl-long.562', '10.18653/v1/2022.acl-long.563', '10.18653/v1/2022.acl-long.564', '10.18653/v1/2022.acl-long.565', '10.18653/v1/2022.acl-long.566', '10.18653/v1/2022.acl-long.567', '10.18653/v1/2022.acl-long.568', '10.18653/v1/2022.acl-long.569', '10.18653/v1/2022.acl-long.570', '10.18653/v1/2022.acl-long.571', '10.18653/v1/2022.acl-long.572', '10.18653/v1/2022.acl-long.573', '10.18653/v1/2022.acl-long.574', '10.18653/v1/2022.acl-long.575', '10.18653/v1/2022.acl-long.576', '10.18653/v1/2022.acl-long.577', '10.18653/v1/2022.acl-long.578', '10.18653/v1/2022.acl-long.579', '10.18653/v1/2022.acl-long.580', '10.18653/v1/2022.acl-long.581', '10.18653/v1/2022.acl-long.582', '10.18653/v1/2022.acl-long.583', '10.18653/v1/2022.acl-long.584', '10.18653/v1/2022.acl-long.585', '10.18653/v1/2022.acl-long.586', '10.18653/v1/2022.acl-long.587', '10.18653/v1/2022.acl-long.588', '10.18653/v1/2022.acl-long.589', '10.18653/v1/2022.acl-long.590', '10.18653/v1/2022.acl-long.591', '10.18653/v1/2022.acl-long.592', '10.18653/v1/2022.acl-long.593', '10.18653/v1/2022.acl-long.594', '10.18653/v1/2022.acl-long.595', '10.18653/v1/2022.acl-long.596', '10.18653/v1/2022.acl-long.597', '10.18653/v1/2022.acl-long.598', '10.18653/v1/2022.acl-long.599', '10.18653/v1/2022.acl-long.600', '10.18653/v1/2022.acl-long.601', '10.18653/v1/2022.acl-long.602', '10.18653/v1/2022.acl-long.603', '10.18653/v1/2022.acl-short.1', '10.18653/v1/2022.acl-short.2', '10.18653/v1/2022.acl-short.3', '10.18653/v1/2022.acl-short.4', '10.18653/v1/2022.acl-short.5', '10.18653/v1/2022.acl-short.6', '10.18653/v1/2022.acl-short.7', '10.18653/v1/2022.acl-short.8', '10.18653/v1/2022.acl-short.9', '10.18653/v1/2022.acl-short.10', '10.18653/v1/2022.acl-short.11', '10.18653/v1/2022.acl-short.12', '10.18653/v1/2022.acl-short.13', '10.18653/v1/2022.acl-short.14', '10.18653/v1/2022.acl-short.15', '10.18653/v1/2022.acl-short.16', '10.18653/v1/2022.acl-short.17', '10.18653/v1/2022.acl-short.18', '10.18653/v1/2022.acl-short.19', '10.18653/v1/2022.acl-short.20', '10.18653/v1/2022.acl-short.21', '10.18653/v1/2022.acl-short.22', '10.18653/v1/2022.acl-short.23', '10.18653/v1/2022.acl-short.24', '10.18653/v1/2022.acl-short.25', '10.18653/v1/2022.acl-short.26', '10.18653/v1/2022.acl-short.27', '10.18653/v1/2022.acl-short.28', '10.18653/v1/2022.acl-short.29', '10.18653/v1/2022.acl-short.30', '10.18653/v1/2022.acl-short.31', '10.18653/v1/2022.acl-short.32', '10.18653/v1/2022.acl-short.33', '10.18653/v1/2022.acl-short.34', '10.18653/v1/2022.acl-short.35', '10.18653/v1/2022.acl-short.36', '10.18653/v1/2022.acl-short.37', '10.18653/v1/2022.acl-short.38', '10.18653/v1/2022.acl-short.39', '10.18653/v1/2022.acl-short.40', '10.18653/v1/2022.acl-short.41', '10.18653/v1/2022.acl-short.42', '10.18653/v1/2022.acl-short.43', '10.18653/v1/2022.acl-short.44', '10.18653/v1/2022.acl-short.45', '10.18653/v1/2022.acl-short.46', '10.18653/v1/2022.acl-short.47', '10.18653/v1/2022.acl-short.48', '10.18653/v1/2022.acl-short.49', '10.18653/v1/2022.acl-short.50', '10.18653/v1/2022.acl-short.51', '10.18653/v1/2022.acl-short.52', '10.18653/v1/2022.acl-short.53', '10.18653/v1/2022.acl-short.54', '10.18653/v1/2022.acl-short.55', '10.18653/v1/2022.acl-short.56', '10.18653/v1/2022.acl-short.57', '10.18653/v1/2022.acl-short.58', '10.18653/v1/2022.acl-short.59', '10.18653/v1/2022.acl-short.60', '10.18653/v1/2022.acl-short.61', '10.18653/v1/2022.acl-short.62', '10.18653/v1/2022.acl-short.63', '10.18653/v1/2022.acl-short.64', '10.18653/v1/2022.acl-short.65', '10.18653/v1/2022.acl-short.66', '10.18653/v1/2022.acl-short.67', '10.18653/v1/2022.acl-short.68', '10.18653/v1/2022.acl-short.69', '10.18653/v1/2022.acl-short.70', '10.18653/v1/2022.acl-short.71', '10.18653/v1/2022.acl-short.72', '10.18653/v1/2022.acl-short.73', '10.18653/v1/2022.acl-short.74', '10.18653/v1/2022.acl-short.75', '10.18653/v1/2022.acl-short.76', '10.18653/v1/2022.acl-short.77', '10.18653/v1/2022.acl-short.78', '10.18653/v1/2022.acl-short.79', '10.18653/v1/2022.acl-short.80', '10.18653/v1/2022.acl-short.81', '10.18653/v1/2022.acl-short.82', '10.18653/v1/2022.acl-short.83', '10.18653/v1/2022.acl-short.84', '10.18653/v1/2022.acl-short.85', '10.18653/v1/2022.acl-short.86', '10.18653/v1/2022.acl-short.87', '10.18653/v1/2022.acl-short.88', '10.18653/v1/2022.acl-short.89', '10.18653/v1/2022.acl-short.90', '10.18653/v1/2022.acl-short.91', '10.18653/v1/2022.acl-short.92', '10.18653/v1/2022.acl-short.93', '10.18653/v1/2022.acl-short.94', '10.18653/v1/2022.acl-short.95', '10.18653/v1/2022.acl-short.96', '10.18653/v1/2022.acl-short.97', '10.18653/v1/2022.acl-srw.1', '10.18653/v1/2022.acl-srw.2', '10.18653/v1/2022.acl-srw.3', '10.18653/v1/2022.acl-srw.4', '10.18653/v1/2022.acl-srw.5', '10.18653/v1/2022.acl-srw.6', '10.18653/v1/2022.acl-srw.7', '10.18653/v1/2022.acl-srw.8', '10.18653/v1/2022.acl-srw.9', '10.18653/v1/2022.acl-srw.10', '10.18653/v1/2022.acl-srw.11', '10.18653/v1/2022.acl-srw.12', '10.18653/v1/2022.acl-srw.13', '10.18653/v1/2022.acl-srw.14', '10.18653/v1/2022.acl-srw.15', '10.18653/v1/2022.acl-srw.16', '10.18653/v1/2022.acl-srw.17', '10.18653/v1/2022.acl-srw.18', '10.18653/v1/2022.acl-srw.19', '10.18653/v1/2022.acl-srw.20', '10.18653/v1/2022.acl-srw.21', '10.18653/v1/2022.acl-srw.22', '10.18653/v1/2022.acl-srw.23', '10.18653/v1/2022.acl-srw.24', '10.18653/v1/2022.acl-srw.25', '10.18653/v1/2022.acl-srw.26', '10.18653/v1/2022.acl-srw.27', '10.18653/v1/2022.acl-srw.28', '10.18653/v1/2022.acl-srw.29', '10.18653/v1/2022.acl-srw.30', '10.18653/v1/2022.acl-srw.31', '10.18653/v1/2022.acl-srw.32', '10.18653/v1/2022.acl-srw.33', '10.18653/v1/2022.acl-srw.34', '10.18653/v1/2022.acl-srw.35', '10.18653/v1/2022.acl-srw.36', '10.18653/v1/2022.acl-srw.37', '10.18653/v1/2022.acl-srw.38', '10.18653/v1/2022.acl-srw.39', '10.18653/v1/2022.findings-acl.1', '10.18653/v1/2022.findings-acl.2', '10.18653/v1/2022.findings-acl.3', '10.18653/v1/2022.findings-acl.4', '10.18653/v1/2022.findings-acl.5', '10.18653/v1/2022.findings-acl.6', '10.18653/v1/2022.findings-acl.7', '10.18653/v1/2022.findings-acl.8', '10.18653/v1/2022.findings-acl.9', '10.18653/v1/2022.findings-acl.10', '10.18653/v1/2022.findings-acl.11', '10.18653/v1/2022.findings-acl.12', '10.18653/v1/2022.findings-acl.13', '10.18653/v1/2022.findings-acl.14', '10.18653/v1/2022.findings-acl.15', '10.18653/v1/2022.findings-acl.16', '10.18653/v1/2022.findings-acl.17', '10.18653/v1/2022.findings-acl.18', '10.18653/v1/2022.findings-acl.19', '10.18653/v1/2022.findings-acl.20', '10.18653/v1/2022.findings-acl.21', '10.18653/v1/2022.findings-acl.22', '10.18653/v1/2022.findings-acl.23', '10.18653/v1/2022.findings-acl.24', '10.18653/v1/2022.findings-acl.25', '10.18653/v1/2022.findings-acl.26', '10.18653/v1/2022.findings-acl.27', '10.18653/v1/2022.findings-acl.28', '10.18653/v1/2022.findings-acl.29', '10.18653/v1/2022.findings-acl.30', '10.18653/v1/2022.findings-acl.31', '10.18653/v1/2022.findings-acl.32', '10.18653/v1/2022.findings-acl.33', '10.18653/v1/2022.findings-acl.34', '10.18653/v1/2022.findings-acl.35', '10.18653/v1/2022.findings-acl.36', '10.18653/v1/2022.findings-acl.37', '10.18653/v1/2022.findings-acl.38', '10.18653/v1/2022.findings-acl.39', '10.18653/v1/2022.findings-acl.40', '10.18653/v1/2022.findings-acl.41', '10.18653/v1/2022.findings-acl.42', '10.18653/v1/2022.findings-acl.43', '10.18653/v1/2022.findings-acl.44', '10.18653/v1/2022.findings-acl.45', '10.18653/v1/2022.findings-acl.46', '10.18653/v1/2022.findings-acl.47', '10.18653/v1/2022.findings-acl.48', '10.18653/v1/2022.findings-acl.49', '10.18653/v1/2022.findings-acl.50', '10.18653/v1/2022.findings-acl.51', '10.18653/v1/2022.findings-acl.52', '10.18653/v1/2022.findings-acl.53', '10.18653/v1/2022.findings-acl.54', '10.18653/v1/2022.findings-acl.55', '10.18653/v1/2022.findings-acl.56', '10.18653/v1/2022.findings-acl.57', '10.18653/v1/2022.findings-acl.58', '10.18653/v1/2022.findings-acl.59', '10.18653/v1/2022.findings-acl.60', '10.18653/v1/2022.findings-acl.61', '10.18653/v1/2022.findings-acl.62', '10.18653/v1/2022.findings-acl.63', '10.18653/v1/2022.findings-acl.64', '10.18653/v1/2022.findings-acl.65', '10.18653/v1/2022.findings-acl.66', '10.18653/v1/2022.findings-acl.67', '10.18653/v1/2022.findings-acl.68', '10.18653/v1/2022.findings-acl.69', '10.18653/v1/2022.findings-acl.70', '10.18653/v1/2022.findings-acl.71', '10.18653/v1/2022.findings-acl.72', '10.18653/v1/2022.findings-acl.73', '10.18653/v1/2022.findings-acl.74', '10.18653/v1/2022.findings-acl.75', '10.18653/v1/2022.findings-acl.76', '10.18653/v1/2022.findings-acl.77', '10.18653/v1/2022.findings-acl.78', '10.18653/v1/2022.findings-acl.79', '10.18653/v1/2022.findings-acl.80', '10.18653/v1/2022.findings-acl.81', '10.18653/v1/2022.findings-acl.82', '10.18653/v1/2022.findings-acl.83', '10.18653/v1/2022.findings-acl.84', '10.18653/v1/2022.findings-acl.85', '10.18653/v1/2022.findings-acl.86', '10.18653/v1/2022.findings-acl.87', '10.18653/v1/2022.findings-acl.88', '10.18653/v1/2022.findings-acl.89', '10.18653/v1/2022.findings-acl.90', '10.18653/v1/2022.findings-acl.91', '10.18653/v1/2022.findings-acl.92', '10.18653/v1/2022.findings-acl.93', '10.18653/v1/2022.findings-acl.94', '10.18653/v1/2022.findings-acl.95', '10.18653/v1/2022.findings-acl.96', '10.18653/v1/2022.findings-acl.97', '10.18653/v1/2022.findings-acl.98', '10.18653/v1/2022.findings-acl.99', '10.18653/v1/2022.findings-acl.100', '10.18653/v1/2022.findings-acl.101', '10.18653/v1/2022.findings-acl.102', '10.18653/v1/2022.findings-acl.103', '10.18653/v1/2022.findings-acl.104', '10.18653/v1/2022.findings-acl.105', '10.18653/v1/2022.findings-acl.106', '10.18653/v1/2022.findings-acl.107', '10.18653/v1/2022.findings-acl.108', '10.18653/v1/2022.findings-acl.109', '10.18653/v1/2022.findings-acl.110', '10.18653/v1/2022.findings-acl.111', '10.18653/v1/2022.findings-acl.112', '10.18653/v1/2022.findings-acl.113', '10.18653/v1/2022.findings-acl.114', '10.18653/v1/2022.findings-acl.115', '10.18653/v1/2022.findings-acl.116', '10.18653/v1/2022.findings-acl.117', '10.18653/v1/2022.findings-acl.118', '10.18653/v1/2022.findings-acl.119', '10.18653/v1/2022.findings-acl.120', '10.18653/v1/2022.findings-acl.121', '10.18653/v1/2022.findings-acl.122', '10.18653/v1/2022.findings-acl.123', '10.18653/v1/2022.findings-acl.124', '10.18653/v1/2022.findings-acl.125', '10.18653/v1/2022.findings-acl.126', '10.18653/v1/2022.findings-acl.127', '10.18653/v1/2022.findings-acl.128', '10.18653/v1/2022.findings-acl.129', '10.18653/v1/2022.findings-acl.130', '10.18653/v1/2022.findings-acl.131', '10.18653/v1/2022.findings-acl.132', '10.18653/v1/2022.findings-acl.133', '10.18653/v1/2022.findings-acl.134', '10.18653/v1/2022.findings-acl.135', '10.18653/v1/2022.findings-acl.136', '10.18653/v1/2022.findings-acl.137', '10.18653/v1/2022.findings-acl.138', '10.18653/v1/2022.findings-acl.139', '10.18653/v1/2022.findings-acl.140', '10.18653/v1/2022.findings-acl.141', '10.18653/v1/2022.findings-acl.142', '10.18653/v1/2022.findings-acl.143', '10.18653/v1/2022.findings-acl.144', '10.18653/v1/2022.findings-acl.145', '10.18653/v1/2022.findings-acl.146', '10.18653/v1/2022.findings-acl.147', '10.18653/v1/2022.findings-acl.148', '10.18653/v1/2022.findings-acl.149', '10.18653/v1/2022.findings-acl.150', '10.18653/v1/2022.findings-acl.151', '10.18653/v1/2022.findings-acl.152', '10.18653/v1/2022.findings-acl.153', '10.18653/v1/2022.findings-acl.154', '10.18653/v1/2022.findings-acl.155', '10.18653/v1/2022.findings-acl.156', '10.18653/v1/2022.findings-acl.157', '10.18653/v1/2022.findings-acl.158', '10.18653/v1/2022.findings-acl.159', '10.18653/v1/2022.findings-acl.160', '10.18653/v1/2022.findings-acl.161', '10.18653/v1/2022.findings-acl.162', '10.18653/v1/2022.findings-acl.163', '10.18653/v1/2022.findings-acl.164', '10.18653/v1/2022.findings-acl.165', '10.18653/v1/2022.findings-acl.166', '10.18653/v1/2022.findings-acl.167', '10.18653/v1/2022.findings-acl.168', '10.18653/v1/2022.findings-acl.169', '10.18653/v1/2022.findings-acl.170', '10.18653/v1/2022.findings-acl.171', '10.18653/v1/2022.findings-acl.172', '10.18653/v1/2022.findings-acl.173', '10.18653/v1/2022.findings-acl.174', '10.18653/v1/2022.findings-acl.175', '10.18653/v1/2022.findings-acl.176', '10.18653/v1/2022.findings-acl.177', '10.18653/v1/2022.findings-acl.178', '10.18653/v1/2022.findings-acl.179', '10.18653/v1/2022.findings-acl.180', '10.18653/v1/2022.findings-acl.181', '10.18653/v1/2022.findings-acl.182', '10.18653/v1/2022.findings-acl.183', '10.18653/v1/2022.findings-acl.184', '10.18653/v1/2022.findings-acl.185', '10.18653/v1/2022.findings-acl.186', '10.18653/v1/2022.findings-acl.187', '10.18653/v1/2022.findings-acl.188', '10.18653/v1/2022.findings-acl.189', '10.18653/v1/2022.findings-acl.190', '10.18653/v1/2022.findings-acl.191', '10.18653/v1/2022.findings-acl.192', '10.18653/v1/2022.findings-acl.193', '10.18653/v1/2022.findings-acl.194', '10.18653/v1/2022.findings-acl.195', '10.18653/v1/2022.findings-acl.196', '10.18653/v1/2022.findings-acl.197', '10.18653/v1/2022.findings-acl.198', '10.18653/v1/2022.findings-acl.199', '10.18653/v1/2022.findings-acl.200', '10.18653/v1/2022.findings-acl.201', '10.18653/v1/2022.findings-acl.202', '10.18653/v1/2022.findings-acl.203', '10.18653/v1/2022.findings-acl.204', '10.18653/v1/2022.findings-acl.205', '10.18653/v1/2022.findings-acl.206', '10.18653/v1/2022.findings-acl.207', '10.18653/v1/2022.findings-acl.208', '10.18653/v1/2022.findings-acl.209', '10.18653/v1/2022.findings-acl.210', '10.18653/v1/2022.findings-acl.211', '10.18653/v1/2022.findings-acl.212', '10.18653/v1/2022.findings-acl.213', '10.18653/v1/2022.findings-acl.214', '10.18653/v1/2022.findings-acl.215', '10.18653/v1/2022.findings-acl.216', '10.18653/v1/2022.findings-acl.217', '10.18653/v1/2022.findings-acl.218', '10.18653/v1/2022.findings-acl.219', '10.18653/v1/2022.findings-acl.220', '10.18653/v1/2022.findings-acl.221', '10.18653/v1/2022.findings-acl.222', '10.18653/v1/2022.findings-acl.223', '10.18653/v1/2022.findings-acl.224', '10.18653/v1/2022.findings-acl.225', '10.18653/v1/2022.findings-acl.226', '10.18653/v1/2022.findings-acl.227', '10.18653/v1/2022.findings-acl.228', '10.18653/v1/2022.findings-acl.229', '10.18653/v1/2022.findings-acl.230', '10.18653/v1/2022.findings-acl.231', '10.18653/v1/2022.findings-acl.232', '10.18653/v1/2022.findings-acl.233', '10.18653/v1/2022.findings-acl.234', '10.18653/v1/2022.findings-acl.235', '10.18653/v1/2022.findings-acl.236', '10.18653/v1/2022.findings-acl.237', '10.18653/v1/2022.findings-acl.238', '10.18653/v1/2022.findings-acl.239', '10.18653/v1/2022.findings-acl.240', '10.18653/v1/2022.findings-acl.241', '10.18653/v1/2022.findings-acl.242', '10.18653/v1/2022.findings-acl.243', '10.18653/v1/2022.findings-acl.244', '10.18653/v1/2022.findings-acl.245', '10.18653/v1/2022.findings-acl.246', '10.18653/v1/2022.findings-acl.247', '10.18653/v1/2022.findings-acl.248', '10.18653/v1/2022.findings-acl.249', '10.18653/v1/2022.findings-acl.250', '10.18653/v1/2022.findings-acl.251', '10.18653/v1/2022.findings-acl.252', '10.18653/v1/2022.findings-acl.253', '10.18653/v1/2022.findings-acl.254', '10.18653/v1/2022.findings-acl.255', '10.18653/v1/2022.findings-acl.256', '10.18653/v1/2022.findings-acl.257', '10.18653/v1/2022.findings-acl.258', '10.18653/v1/2022.findings-acl.259', '10.18653/v1/2022.findings-acl.260', '10.18653/v1/2022.findings-acl.261', '10.18653/v1/2022.findings-acl.262', '10.18653/v1/2022.findings-acl.263', '10.18653/v1/2022.findings-acl.264', '10.18653/v1/2022.findings-acl.265', '10.18653/v1/2022.findings-acl.266', '10.18653/v1/2022.findings-acl.267', '10.18653/v1/2022.findings-acl.268', '10.18653/v1/2022.findings-acl.269', '10.18653/v1/2022.findings-acl.270', '10.18653/v1/2022.findings-acl.271', '10.18653/v1/2022.findings-acl.272', '10.18653/v1/2022.findings-acl.273', '10.18653/v1/2022.findings-acl.274', '10.18653/v1/2022.findings-acl.275', '10.18653/v1/2022.findings-acl.276', '10.18653/v1/2022.findings-acl.277', '10.18653/v1/2022.findings-acl.278', '10.18653/v1/2022.findings-acl.279', '10.18653/v1/2022.findings-acl.280', '10.18653/v1/2022.findings-acl.281', '10.18653/v1/2022.findings-acl.282', '10.18653/v1/2022.findings-acl.283', '10.18653/v1/2022.findings-acl.284', '10.18653/v1/2022.findings-acl.285', '10.18653/v1/2022.findings-acl.286', '10.18653/v1/2022.findings-acl.287', '10.18653/v1/2022.findings-acl.288', '10.18653/v1/2022.findings-acl.289', '10.18653/v1/2022.findings-acl.290', '10.18653/v1/2022.findings-acl.291', '10.18653/v1/2022.findings-acl.292', '10.18653/v1/2022.findings-acl.293', '10.18653/v1/2022.findings-acl.294', '10.18653/v1/2022.findings-acl.295', '10.18653/v1/2022.findings-acl.296', '10.18653/v1/2022.findings-acl.297', '10.18653/v1/2022.findings-acl.298', '10.18653/v1/2022.findings-acl.299', '10.18653/v1/2022.findings-acl.300', '10.18653/v1/2022.findings-acl.301', '10.18653/v1/2022.findings-acl.302', '10.18653/v1/2022.findings-acl.303', '10.18653/v1/2022.findings-acl.304', '10.18653/v1/2022.findings-acl.305', '10.18653/v1/2022.findings-acl.306', '10.18653/v1/2022.findings-acl.307', '10.18653/v1/2022.findings-acl.308', '10.18653/v1/2022.findings-acl.309', '10.18653/v1/2022.findings-acl.310', '10.18653/v1/2022.findings-acl.311', '10.18653/v1/2022.findings-acl.312', '10.18653/v1/2022.findings-acl.313', '10.18653/v1/2022.findings-acl.314', '10.18653/v1/2022.findings-acl.315', '10.18653/v1/2022.findings-acl.316', '10.18653/v1/2022.findings-acl.317', '10.18653/v1/2022.findings-acl.318', '10.18653/v1/2022.findings-acl.319', '10.18653/v1/2022.findings-acl.320', '10.18653/v1/2022.findings-acl.321', '10.18653/v1/2022.findings-acl.322', '10.18653/v1/2022.findings-acl.323', '10.18653/v1/2022.findings-acl.324', '10.18653/v1/2022.findings-acl.325', '10.18653/v1/2022.findings-acl.326', '10.18653/v1/2022.findings-acl.327', '10.18653/v1/2022.findings-acl.328', '10.18653/v1/2022.findings-acl.329', '10.18653/v1/2022.findings-acl.330', '10.18653/v1/2022.findings-acl.331', '10.18653/v1/2022.acl-demo.1', '10.18653/v1/2022.acl-demo.2', '10.18653/v1/2022.acl-demo.3', '10.18653/v1/2022.acl-demo.4', '10.18653/v1/2022.acl-demo.5', '10.18653/v1/2022.acl-demo.6', '10.18653/v1/2022.acl-demo.7', '10.18653/v1/2022.acl-demo.8', '10.18653/v1/2022.acl-demo.9', '10.18653/v1/2022.acl-demo.10', '10.18653/v1/2022.acl-demo.11', '10.18653/v1/2022.acl-demo.12', '10.18653/v1/2022.acl-demo.13', '10.18653/v1/2022.acl-demo.14', '10.18653/v1/2022.acl-demo.15', '10.18653/v1/2022.acl-demo.16', '10.18653/v1/2022.acl-demo.17', '10.18653/v1/2022.acl-demo.18', '10.18653/v1/2022.acl-demo.19', '10.18653/v1/2022.acl-demo.20', '10.18653/v1/2022.acl-demo.21', '10.18653/v1/2022.acl-demo.22', '10.18653/v1/2022.acl-demo.23', '10.18653/v1/2022.acl-demo.24', '10.18653/v1/2022.acl-demo.25', '10.18653/v1/2022.acl-demo.26', '10.18653/v1/2022.acl-demo.27', '10.18653/v1/2022.acl-tutorials.1', '10.18653/v1/2022.acl-tutorials.2', '10.18653/v1/2022.acl-tutorials.3', '10.18653/v1/2022.acl-tutorials.4', '10.18653/v1/2022.acl-tutorials.5', '10.18653/v1/2022.acl-tutorials.6', '10.18653/v1/2022.acl-tutorials.7', '10.18653/v1/2022.acl-tutorials.8', '10.18653/v1/2021.acl-long.1', '10.18653/v1/2021.acl-long.2', '10.18653/v1/2021.acl-long.3', '10.18653/v1/2021.acl-long.4', '10.18653/v1/2021.acl-long.5', '10.18653/v1/2021.acl-long.6', '10.18653/v1/2021.acl-long.7', '10.18653/v1/2021.acl-long.8', '10.18653/v1/2021.acl-long.9', '10.18653/v1/2021.acl-long.10', '10.18653/v1/2021.acl-long.11', '10.18653/v1/2021.acl-long.12', '10.18653/v1/2021.acl-long.13', '10.18653/v1/2021.acl-long.14', '10.18653/v1/2021.acl-long.15', '10.18653/v1/2021.acl-long.16', '10.18653/v1/2021.acl-long.17', '10.18653/v1/2021.acl-long.18', '10.18653/v1/2021.acl-long.19', '10.18653/v1/2021.acl-long.20', '10.18653/v1/2021.acl-long.21', '10.18653/v1/2021.acl-long.22', '10.18653/v1/2021.acl-long.23', '10.18653/v1/2021.acl-long.24', '10.18653/v1/2021.acl-long.25', '10.18653/v1/2021.acl-long.26', '10.18653/v1/2021.acl-long.27', '10.18653/v1/2021.acl-long.28', '10.18653/v1/2021.acl-long.29', '10.18653/v1/2021.acl-long.30', '10.18653/v1/2021.acl-long.31', '10.18653/v1/2021.acl-long.32', '10.18653/v1/2021.acl-long.33', '10.18653/v1/2021.acl-long.34', '10.18653/v1/2021.acl-long.35', '10.18653/v1/2021.acl-long.36', '10.18653/v1/2021.acl-long.37', '10.18653/v1/2021.acl-long.38', '10.18653/v1/2021.acl-long.39', '10.18653/v1/2021.acl-long.40', '10.18653/v1/2021.acl-long.41', '10.18653/v1/2021.acl-long.42', '10.18653/v1/2021.acl-long.43', '10.18653/v1/2021.acl-long.44', '10.18653/v1/2021.acl-long.45', '10.18653/v1/2021.acl-long.46', '10.18653/v1/2021.acl-long.47', '10.18653/v1/2021.acl-long.48', '10.18653/v1/2021.acl-long.49', '10.18653/v1/2021.acl-long.50', '10.18653/v1/2021.acl-long.51', '10.18653/v1/2021.acl-long.52', '10.18653/v1/2021.acl-long.53', '10.18653/v1/2021.acl-long.54', '10.18653/v1/2021.acl-long.55', '10.18653/v1/2021.acl-long.56', '10.18653/v1/2021.acl-long.57', '10.18653/v1/2021.acl-long.58', '10.18653/v1/2021.acl-long.59', '10.18653/v1/2021.acl-long.60', '10.18653/v1/2021.acl-long.61', '10.18653/v1/2021.acl-long.62', '10.18653/v1/2021.acl-long.63', '10.18653/v1/2021.acl-long.64', '10.18653/v1/2021.acl-long.65', '10.18653/v1/2021.acl-long.66', '10.18653/v1/2021.acl-long.67', '10.18653/v1/2021.acl-long.68', '10.18653/v1/2021.acl-long.69', '10.18653/v1/2021.acl-long.70', '10.18653/v1/2021.acl-long.71', '10.18653/v1/2021.acl-long.72', '10.18653/v1/2021.acl-long.73', '10.18653/v1/2021.acl-long.74', '10.18653/v1/2021.acl-long.75', '10.18653/v1/2021.acl-long.76', '10.18653/v1/2021.acl-long.77', '10.18653/v1/2021.acl-long.78', '10.18653/v1/2021.acl-long.79', '10.18653/v1/2021.acl-long.80', '10.18653/v1/2021.acl-long.81', '10.18653/v1/2021.acl-long.82', '10.18653/v1/2021.acl-long.83', '10.18653/v1/2021.acl-long.84', '10.18653/v1/2021.acl-long.85', '10.18653/v1/2021.acl-long.86', '10.18653/v1/2021.acl-long.87', '10.18653/v1/2021.acl-long.88', '10.18653/v1/2021.acl-long.89', '10.18653/v1/2021.acl-long.90', '10.18653/v1/2021.acl-long.91', '10.18653/v1/2021.acl-long.92', '10.18653/v1/2021.acl-long.93', '10.18653/v1/2021.acl-long.94', '10.18653/v1/2021.acl-long.95', '10.18653/v1/2021.acl-long.96', '10.18653/v1/2021.acl-long.97', '10.18653/v1/2021.acl-long.98', '10.18653/v1/2021.acl-long.99', '10.18653/v1/2021.acl-long.100', '10.18653/v1/2021.acl-long.101', '10.18653/v1/2021.acl-long.102', '10.18653/v1/2021.acl-long.103', '10.18653/v1/2021.acl-long.104', '10.18653/v1/2021.acl-long.105', '10.18653/v1/2021.acl-long.106', '10.18653/v1/2021.acl-long.107', '10.18653/v1/2021.acl-long.108', '10.18653/v1/2021.acl-long.109', '10.18653/v1/2021.acl-long.110', '10.18653/v1/2021.acl-long.111', '10.18653/v1/2021.acl-long.112', '10.18653/v1/2021.acl-long.113', '10.18653/v1/2021.acl-long.114', '10.18653/v1/2021.acl-long.115', '10.18653/v1/2021.acl-long.116', '10.18653/v1/2021.acl-long.117', '10.18653/v1/2021.acl-long.118', '10.18653/v1/2021.acl-long.119', '10.18653/v1/2021.acl-long.120', '10.18653/v1/2021.acl-long.121', '10.18653/v1/2021.acl-long.122', '10.18653/v1/2021.acl-long.123', '10.18653/v1/2021.acl-long.124', '10.18653/v1/2021.acl-long.125', '10.18653/v1/2021.acl-long.126', '10.18653/v1/2021.acl-long.127', '10.18653/v1/2021.acl-long.128', '10.18653/v1/2021.acl-long.129', '10.18653/v1/2021.acl-long.130', '10.18653/v1/2021.acl-long.131', '10.18653/v1/2021.acl-long.132', '10.18653/v1/2021.acl-long.133', '10.18653/v1/2021.acl-long.134', '10.18653/v1/2021.acl-long.135', '10.18653/v1/2021.acl-long.136', '10.18653/v1/2021.acl-long.137', '10.18653/v1/2021.acl-long.138', '10.18653/v1/2021.acl-long.139', '10.18653/v1/2021.acl-long.140', '10.18653/v1/2021.acl-long.141', '10.18653/v1/2021.acl-long.142', '10.18653/v1/2021.acl-long.143', '10.18653/v1/2021.acl-long.144', '10.18653/v1/2021.acl-long.145', '10.18653/v1/2021.acl-long.146', '10.18653/v1/2021.acl-long.147', '10.18653/v1/2021.acl-long.148', '10.18653/v1/2021.acl-long.149', '10.18653/v1/2021.acl-long.150', '10.18653/v1/2021.acl-long.151', '10.18653/v1/2021.acl-long.152', '10.18653/v1/2021.acl-long.153', '10.18653/v1/2021.acl-long.154', '10.18653/v1/2021.acl-long.155', '10.18653/v1/2021.acl-long.156', '10.18653/v1/2021.acl-long.157', '10.18653/v1/2021.acl-long.158', '10.18653/v1/2021.acl-long.159', '10.18653/v1/2021.acl-long.160', '10.18653/v1/2021.acl-long.161', '10.18653/v1/2021.acl-long.162', '10.18653/v1/2021.acl-long.163', '10.18653/v1/2021.acl-long.164', '10.18653/v1/2021.acl-long.165', '10.18653/v1/2021.acl-long.166', '10.18653/v1/2021.acl-long.167', '10.18653/v1/2021.acl-long.168', '10.18653/v1/2021.acl-long.169', '10.18653/v1/2021.acl-long.170', '10.18653/v1/2021.acl-long.171', '10.18653/v1/2021.acl-long.172', '10.18653/v1/2021.acl-long.173', '10.18653/v1/2021.acl-long.174', '10.18653/v1/2021.acl-long.175', '10.18653/v1/2021.acl-long.176', '10.18653/v1/2021.acl-long.177', '10.18653/v1/2021.acl-long.178', '10.18653/v1/2021.acl-long.179', '10.18653/v1/2021.acl-long.180', '10.18653/v1/2021.acl-long.181', '10.18653/v1/2021.acl-long.182', '10.18653/v1/2021.acl-long.183', '10.18653/v1/2021.acl-long.184', '10.18653/v1/2021.acl-long.185', '10.18653/v1/2021.acl-long.186', '10.18653/v1/2021.acl-long.187', '10.18653/v1/2021.acl-long.188', '10.18653/v1/2021.acl-long.189', '10.18653/v1/2021.acl-long.190', '10.18653/v1/2021.acl-long.191', '10.18653/v1/2021.acl-long.192', '10.18653/v1/2021.acl-long.193', '10.18653/v1/2021.acl-long.194', '10.18653/v1/2021.acl-long.195', '10.18653/v1/2021.acl-long.196', '10.18653/v1/2021.acl-long.197', '10.18653/v1/2021.acl-long.198', '10.18653/v1/2021.acl-long.199', '10.18653/v1/2021.acl-long.200', '10.18653/v1/2021.acl-long.201', '10.18653/v1/2021.acl-long.202', '10.18653/v1/2021.acl-long.203', '10.18653/v1/2021.acl-long.204', '10.18653/v1/2021.acl-long.205', '10.18653/v1/2021.acl-long.206', '10.18653/v1/2021.acl-long.207', '10.18653/v1/2021.acl-long.208', '10.18653/v1/2021.acl-long.209', '10.18653/v1/2021.acl-long.210', '10.18653/v1/2021.acl-long.211', '10.18653/v1/2021.acl-long.212', '10.18653/v1/2021.acl-long.213', '10.18653/v1/2021.acl-long.214', '10.18653/v1/2021.acl-long.215', '10.18653/v1/2021.acl-long.216', '10.18653/v1/2021.acl-long.217', '10.18653/v1/2021.acl-long.218', '10.18653/v1/2021.acl-long.219', '10.18653/v1/2021.acl-long.220', '10.18653/v1/2021.acl-long.221', '10.18653/v1/2021.acl-long.222', '10.18653/v1/2021.acl-long.223', '10.18653/v1/2021.acl-long.224', '10.18653/v1/2021.acl-long.225', '10.18653/v1/2021.acl-long.226', '10.18653/v1/2021.acl-long.227', '10.18653/v1/2021.acl-long.228', '10.18653/v1/2021.acl-long.229', '10.18653/v1/2021.acl-long.230', '10.18653/v1/2021.acl-long.231', '10.18653/v1/2021.acl-long.232', '10.18653/v1/2021.acl-long.233', '10.18653/v1/2021.acl-long.234', '10.18653/v1/2021.acl-long.235', '10.18653/v1/2021.acl-long.236', '10.18653/v1/2021.acl-long.237', '10.18653/v1/2021.acl-long.238', '10.18653/v1/2021.acl-long.239', '10.18653/v1/2021.acl-long.240', '10.18653/v1/2021.acl-long.241', '10.18653/v1/2021.acl-long.242', '10.18653/v1/2021.acl-long.243', '10.18653/v1/2021.acl-long.244', '10.18653/v1/2021.acl-long.245', '10.18653/v1/2021.acl-long.246', '10.18653/v1/2021.acl-long.247', '10.18653/v1/2021.acl-long.248', '10.18653/v1/2021.acl-long.249', '10.18653/v1/2021.acl-long.250', '10.18653/v1/2021.acl-long.251', '10.18653/v1/2021.acl-long.252', '10.18653/v1/2021.acl-long.253', '10.18653/v1/2021.acl-long.254', '10.18653/v1/2021.acl-long.255', '10.18653/v1/2021.acl-long.256', '10.18653/v1/2021.acl-long.257', '10.18653/v1/2021.acl-long.258', '10.18653/v1/2021.acl-long.259', '10.18653/v1/2021.acl-long.260', '10.18653/v1/2021.acl-long.261', '10.18653/v1/2021.acl-long.262', '10.18653/v1/2021.acl-long.263', '10.18653/v1/2021.acl-long.264', '10.18653/v1/2021.acl-long.265', '10.18653/v1/2021.acl-long.266', '10.18653/v1/2021.acl-long.267', '10.18653/v1/2021.acl-long.268', '10.18653/v1/2021.acl-long.269', '10.18653/v1/2021.acl-long.270', '10.18653/v1/2021.acl-long.271', '10.18653/v1/2021.acl-long.272', '10.18653/v1/2021.acl-long.273', '10.18653/v1/2021.acl-long.274', '10.18653/v1/2021.acl-long.275', '10.18653/v1/2021.acl-long.276', '10.18653/v1/2021.acl-long.277', '10.18653/v1/2021.acl-long.278', '10.18653/v1/2021.acl-long.279', '10.18653/v1/2021.acl-long.280', '10.18653/v1/2021.acl-long.281', '10.18653/v1/2021.acl-long.282', '10.18653/v1/2021.acl-long.283', '10.18653/v1/2021.acl-long.284', '10.18653/v1/2021.acl-long.285', '10.18653/v1/2021.acl-long.286', '10.18653/v1/2021.acl-long.287', '10.18653/v1/2021.acl-long.288', '10.18653/v1/2021.acl-long.289', '10.18653/v1/2021.acl-long.290', '10.18653/v1/2021.acl-long.291', '10.18653/v1/2021.acl-long.292', '10.18653/v1/2021.acl-long.293', '10.18653/v1/2021.acl-long.294', '10.18653/v1/2021.acl-long.295', '10.18653/v1/2021.acl-long.296', '10.18653/v1/2021.acl-long.297', '10.18653/v1/2021.acl-long.298', '10.18653/v1/2021.acl-long.299', '10.18653/v1/2021.acl-long.300', '10.18653/v1/2021.acl-long.301', '10.18653/v1/2021.acl-long.302', '10.18653/v1/2021.acl-long.303', '10.18653/v1/2021.acl-long.304', '10.18653/v1/2021.acl-long.305', '10.18653/v1/2021.acl-long.306', '10.18653/v1/2021.acl-long.307', '10.18653/v1/2021.acl-long.308', '10.18653/v1/2021.acl-long.309', '10.18653/v1/2021.acl-long.310', '10.18653/v1/2021.acl-long.311', '10.18653/v1/2021.acl-long.312', '10.18653/v1/2021.acl-long.313', '10.18653/v1/2021.acl-long.314', '10.18653/v1/2021.acl-long.315', '10.18653/v1/2021.acl-long.316', '10.18653/v1/2021.acl-long.317', '10.18653/v1/2021.acl-long.318', '10.18653/v1/2021.acl-long.319', '10.18653/v1/2021.acl-long.320', '10.18653/v1/2021.acl-long.321', '10.18653/v1/2021.acl-long.322', '10.18653/v1/2021.acl-long.323', '10.18653/v1/2021.acl-long.324', '10.18653/v1/2021.acl-long.325', '10.18653/v1/2021.acl-long.326', '10.18653/v1/2021.acl-long.327', '10.18653/v1/2021.acl-long.328', '10.18653/v1/2021.acl-long.329', '10.18653/v1/2021.acl-long.330', '10.18653/v1/2021.acl-long.331', '10.18653/v1/2021.acl-long.332', '10.18653/v1/2021.acl-long.333', '10.18653/v1/2021.acl-long.334', '10.18653/v1/2021.acl-long.335', '10.18653/v1/2021.acl-long.336', '10.18653/v1/2021.acl-long.337', '10.18653/v1/2021.acl-long.338', '10.18653/v1/2021.acl-long.339', '10.18653/v1/2021.acl-long.340', '10.18653/v1/2021.acl-long.341', '10.18653/v1/2021.acl-long.342', '10.18653/v1/2021.acl-long.343', '10.18653/v1/2021.acl-long.344', '10.18653/v1/2021.acl-long.345', '10.18653/v1/2021.acl-long.346', '10.18653/v1/2021.acl-long.347', '10.18653/v1/2021.acl-long.348', '10.18653/v1/2021.acl-long.349', '10.18653/v1/2021.acl-long.350', '10.18653/v1/2021.acl-long.351', '10.18653/v1/2021.acl-long.352', '10.18653/v1/2021.acl-long.353', '10.18653/v1/2021.acl-long.354', '10.18653/v1/2021.acl-long.355', '10.18653/v1/2021.acl-long.356', '10.18653/v1/2021.acl-long.357', '10.18653/v1/2021.acl-long.358', '10.18653/v1/2021.acl-long.359', '10.18653/v1/2021.acl-long.360', '10.18653/v1/2021.acl-long.361', '10.18653/v1/2021.acl-long.362', '10.18653/v1/2021.acl-long.363', '10.18653/v1/2021.acl-long.364', '10.18653/v1/2021.acl-long.365', '10.18653/v1/2021.acl-long.366', '10.18653/v1/2021.acl-long.367', '10.18653/v1/2021.acl-long.368', '10.18653/v1/2021.acl-long.369', '10.18653/v1/2021.acl-long.370', '10.18653/v1/2021.acl-long.371', '10.18653/v1/2021.acl-long.372', '10.18653/v1/2021.acl-long.373', '10.18653/v1/2021.acl-long.374', '10.18653/v1/2021.acl-long.375', '10.18653/v1/2021.acl-long.376', '10.18653/v1/2021.acl-long.377', '10.18653/v1/2021.acl-long.378', '10.18653/v1/2021.acl-long.379', '10.18653/v1/2021.acl-long.380', '10.18653/v1/2021.acl-long.381', '10.18653/v1/2021.acl-long.382', '10.18653/v1/2021.acl-long.383', '10.18653/v1/2021.acl-long.384', '10.18653/v1/2021.acl-long.385', '10.18653/v1/2021.acl-long.386', '10.18653/v1/2021.acl-long.387', '10.18653/v1/2021.acl-long.388', '10.18653/v1/2021.acl-long.389', '10.18653/v1/2021.acl-long.390', '10.18653/v1/2021.acl-long.391', '10.18653/v1/2021.acl-long.392', '10.18653/v1/2021.acl-long.393', '10.18653/v1/2021.acl-long.394', '10.18653/v1/2021.acl-long.395', '10.18653/v1/2021.acl-long.396', '10.18653/v1/2021.acl-long.397', '10.18653/v1/2021.acl-long.398', '10.18653/v1/2021.acl-long.399', '10.18653/v1/2021.acl-long.400', '10.18653/v1/2021.acl-long.401', '10.18653/v1/2021.acl-long.402', '10.18653/v1/2021.acl-long.403', '10.18653/v1/2021.acl-long.404', '10.18653/v1/2021.acl-long.405', '10.18653/v1/2021.acl-long.406', '10.18653/v1/2021.acl-long.407', '10.18653/v1/2021.acl-long.408', '10.18653/v1/2021.acl-long.409', '10.18653/v1/2021.acl-long.410', '10.18653/v1/2021.acl-long.411', '10.18653/v1/2021.acl-long.412', '10.18653/v1/2021.acl-long.413', '10.18653/v1/2021.acl-long.414', '10.18653/v1/2021.acl-long.415', '10.18653/v1/2021.acl-long.416', '10.18653/v1/2021.acl-long.417', '10.18653/v1/2021.acl-long.418', '10.18653/v1/2021.acl-long.419', '10.18653/v1/2021.acl-long.420', '10.18653/v1/2021.acl-long.421', '10.18653/v1/2021.acl-long.422', '10.18653/v1/2021.acl-long.423', '10.18653/v1/2021.acl-long.424', '10.18653/v1/2021.acl-long.425', '10.18653/v1/2021.acl-long.426', '10.18653/v1/2021.acl-long.427', '10.18653/v1/2021.acl-long.428', '10.18653/v1/2021.acl-long.429', '10.18653/v1/2021.acl-long.430', '10.18653/v1/2021.acl-long.431', '10.18653/v1/2021.acl-long.432', '10.18653/v1/2021.acl-long.433', '10.18653/v1/2021.acl-long.434', '10.18653/v1/2021.acl-long.435', '10.18653/v1/2021.acl-long.436', '10.18653/v1/2021.acl-long.437', '10.18653/v1/2021.acl-long.438', '10.18653/v1/2021.acl-long.439', '10.18653/v1/2021.acl-long.440', '10.18653/v1/2021.acl-long.441', '10.18653/v1/2021.acl-long.442', '10.18653/v1/2021.acl-long.443', '10.18653/v1/2021.acl-long.444', '10.18653/v1/2021.acl-long.445', '10.18653/v1/2021.acl-long.446', '10.18653/v1/2021.acl-long.447', '10.18653/v1/2021.acl-long.448', '10.18653/v1/2021.acl-long.449', '10.18653/v1/2021.acl-long.450', '10.18653/v1/2021.acl-long.451', '10.18653/v1/2021.acl-long.452', '10.18653/v1/2021.acl-long.453', '10.18653/v1/2021.acl-long.454', '10.18653/v1/2021.acl-long.455', '10.18653/v1/2021.acl-long.456', '10.18653/v1/2021.acl-long.457', '10.18653/v1/2021.acl-long.458', '10.18653/v1/2021.acl-long.459', '10.18653/v1/2021.acl-long.460', '10.18653/v1/2021.acl-long.461', '10.18653/v1/2021.acl-long.462', '10.18653/v1/2021.acl-long.463', '10.18653/v1/2021.acl-long.464', '10.18653/v1/2021.acl-long.465', '10.18653/v1/2021.acl-long.466', '10.18653/v1/2021.acl-long.467', '10.18653/v1/2021.acl-long.468', '10.18653/v1/2021.acl-long.469', '10.18653/v1/2021.acl-long.470', '10.18653/v1/2021.acl-long.471', '10.18653/v1/2021.acl-long.472', '10.18653/v1/2021.acl-long.473', '10.18653/v1/2021.acl-long.474', '10.18653/v1/2021.acl-long.475', '10.18653/v1/2021.acl-long.476', '10.18653/v1/2021.acl-long.477', '10.18653/v1/2021.acl-long.478', '10.18653/v1/2021.acl-long.479', '10.18653/v1/2021.acl-long.480', '10.18653/v1/2021.acl-long.481', '10.18653/v1/2021.acl-long.482', '10.18653/v1/2021.acl-long.483', '10.18653/v1/2021.acl-long.484', '10.18653/v1/2021.acl-long.485', '10.18653/v1/2021.acl-long.486', '10.18653/v1/2021.acl-long.487', '10.18653/v1/2021.acl-long.488', '10.18653/v1/2021.acl-long.489', '10.18653/v1/2021.acl-long.490', '10.18653/v1/2021.acl-long.491', '10.18653/v1/2021.acl-long.492', '10.18653/v1/2021.acl-long.493', '10.18653/v1/2021.acl-long.494', '10.18653/v1/2021.acl-long.495', '10.18653/v1/2021.acl-long.496', '10.18653/v1/2021.acl-long.497', '10.18653/v1/2021.acl-long.498', '10.18653/v1/2021.acl-long.499', '10.18653/v1/2021.acl-long.500', '10.18653/v1/2021.acl-long.501', '10.18653/v1/2021.acl-long.502', '10.18653/v1/2021.acl-long.503', '10.18653/v1/2021.acl-long.504', '10.18653/v1/2021.acl-long.505', '10.18653/v1/2021.acl-long.506', '10.18653/v1/2021.acl-long.507', '10.18653/v1/2021.acl-long.508', '10.18653/v1/2021.acl-long.509', '10.18653/v1/2021.acl-long.510', '10.18653/v1/2021.acl-long.511', '10.18653/v1/2021.acl-long.512', '10.18653/v1/2021.acl-long.513', '10.18653/v1/2021.acl-long.514', '10.18653/v1/2021.acl-long.515', '10.18653/v1/2021.acl-long.516', '10.18653/v1/2021.acl-long.517', '10.18653/v1/2021.acl-long.518', '10.18653/v1/2021.acl-long.519', '10.18653/v1/2021.acl-long.520', '10.18653/v1/2021.acl-long.521', '10.18653/v1/2021.acl-long.522', '10.18653/v1/2021.acl-long.523', '10.18653/v1/2021.acl-long.524', '10.18653/v1/2021.acl-long.525', '10.18653/v1/2021.acl-long.526', '10.18653/v1/2021.acl-long.527', '10.18653/v1/2021.acl-long.528', '10.18653/v1/2021.acl-long.529', '10.18653/v1/2021.acl-long.530', '10.18653/v1/2021.acl-long.531', '10.18653/v1/2021.acl-long.532', '10.18653/v1/2021.acl-long.533', '10.18653/v1/2021.acl-long.534', '10.18653/v1/2021.acl-long.535', '10.18653/v1/2021.acl-long.536', '10.18653/v1/2021.acl-long.537', '10.18653/v1/2021.acl-long.538', '10.18653/v1/2021.acl-long.539', '10.18653/v1/2021.acl-long.540', '10.18653/v1/2021.acl-long.541', '10.18653/v1/2021.acl-long.542', '10.18653/v1/2021.acl-long.543', '10.18653/v1/2021.acl-long.544', '10.18653/v1/2021.acl-long.545', '10.18653/v1/2021.acl-long.546', '10.18653/v1/2021.acl-long.547', '10.18653/v1/2021.acl-long.548', '10.18653/v1/2021.acl-long.549', '10.18653/v1/2021.acl-long.550', '10.18653/v1/2021.acl-long.551', '10.18653/v1/2021.acl-long.552', '10.18653/v1/2021.acl-long.553', '10.18653/v1/2021.acl-long.554', '10.18653/v1/2021.acl-long.555', '10.18653/v1/2021.acl-long.556', '10.18653/v1/2021.acl-long.557', '10.18653/v1/2021.acl-long.558', '10.18653/v1/2021.acl-long.559', '10.18653/v1/2021.acl-long.560', '10.18653/v1/2021.acl-long.561', '10.18653/v1/2021.acl-long.562', '10.18653/v1/2021.acl-long.563', '10.18653/v1/2021.acl-long.564', '10.18653/v1/2021.acl-long.565', '10.18653/v1/2021.acl-long.566', '10.18653/v1/2021.acl-long.567', '10.18653/v1/2021.acl-long.568', '10.18653/v1/2021.acl-long.569', '10.18653/v1/2021.acl-long.570', '10.18653/v1/2021.acl-long.571', '10.18653/v1/2021.acl-short.1', '10.18653/v1/2021.acl-short.2', '10.18653/v1/2021.acl-short.3', '10.18653/v1/2021.acl-short.4', '10.18653/v1/2021.acl-short.5', '10.18653/v1/2021.acl-short.6', '10.18653/v1/2021.acl-short.7', '10.18653/v1/2021.acl-short.8', '10.18653/v1/2021.acl-short.9', '10.18653/v1/2021.acl-short.10', '10.18653/v1/2021.acl-short.11', '10.18653/v1/2021.acl-short.12', '10.18653/v1/2021.acl-short.13', '10.18653/v1/2021.acl-short.14', '10.18653/v1/2021.acl-short.15', '10.18653/v1/2021.acl-short.16', '10.18653/v1/2021.acl-short.17', '10.18653/v1/2021.acl-short.18', '10.18653/v1/2021.acl-short.19', '10.18653/v1/2021.acl-short.20', '10.18653/v1/2021.acl-short.21', '10.18653/v1/2021.acl-short.22', '10.18653/v1/2021.acl-short.23', '10.18653/v1/2021.acl-short.24', '10.18653/v1/2021.acl-short.25', '10.18653/v1/2021.acl-short.26', '10.18653/v1/2021.acl-short.27', '10.18653/v1/2021.acl-short.28', '10.18653/v1/2021.acl-short.29', '10.18653/v1/2021.acl-short.30', '10.18653/v1/2021.acl-short.31', '10.18653/v1/2021.acl-short.32', '10.18653/v1/2021.acl-short.33', '10.18653/v1/2021.acl-short.34', '10.18653/v1/2021.acl-short.35', '10.18653/v1/2021.acl-short.36', '10.18653/v1/2021.acl-short.37', '10.18653/v1/2021.acl-short.38', '10.18653/v1/2021.acl-short.39', '10.18653/v1/2021.acl-short.40', '10.18653/v1/2021.acl-short.41', '10.18653/v1/2021.acl-short.42', '10.18653/v1/2021.acl-short.43', '10.18653/v1/2021.acl-short.44', '10.18653/v1/2021.acl-short.45', '10.18653/v1/2021.acl-short.46', '10.18653/v1/2021.acl-short.47', '10.18653/v1/2021.acl-short.48', '10.18653/v1/2021.acl-short.49', '10.18653/v1/2021.acl-short.50', '10.18653/v1/2021.acl-short.51', '10.18653/v1/2021.acl-short.52', '10.18653/v1/2021.acl-short.53', '10.18653/v1/2021.acl-short.54', '10.18653/v1/2021.acl-short.55', '10.18653/v1/2021.acl-short.56', '10.18653/v1/2021.acl-short.57', '10.18653/v1/2021.acl-short.58', '10.18653/v1/2021.acl-short.59', '10.18653/v1/2021.acl-short.60', '10.18653/v1/2021.acl-short.61', '10.18653/v1/2021.acl-short.62', '10.18653/v1/2021.acl-short.63', '10.18653/v1/2021.acl-short.64', '10.18653/v1/2021.acl-short.65', '10.18653/v1/2021.acl-short.66', '10.18653/v1/2021.acl-short.67', '10.18653/v1/2021.acl-short.68', '10.18653/v1/2021.acl-short.69', '10.18653/v1/2021.acl-short.70', '10.18653/v1/2021.acl-short.71', '10.18653/v1/2021.acl-short.72', '10.18653/v1/2021.acl-short.73', '10.18653/v1/2021.acl-short.74', '10.18653/v1/2021.acl-short.75', '10.18653/v1/2021.acl-short.76', '10.18653/v1/2021.acl-short.77', '10.18653/v1/2021.acl-short.78', '10.18653/v1/2021.acl-short.79', '10.18653/v1/2021.acl-short.80', '10.18653/v1/2021.acl-short.81', '10.18653/v1/2021.acl-short.82', '10.18653/v1/2021.acl-short.83', '10.18653/v1/2021.acl-short.84', '10.18653/v1/2021.acl-short.85', '10.18653/v1/2021.acl-short.86', '10.18653/v1/2021.acl-short.87', '10.18653/v1/2021.acl-short.88', '10.18653/v1/2021.acl-short.89', '10.18653/v1/2021.acl-short.90', '10.18653/v1/2021.acl-short.91', '10.18653/v1/2021.acl-short.92', '10.18653/v1/2021.acl-short.93', '10.18653/v1/2021.acl-short.94', '10.18653/v1/2021.acl-short.95', '10.18653/v1/2021.acl-short.96', '10.18653/v1/2021.acl-short.97', '10.18653/v1/2021.acl-short.98', '10.18653/v1/2021.acl-short.99', '10.18653/v1/2021.acl-short.100', '10.18653/v1/2021.acl-short.101', '10.18653/v1/2021.acl-short.102', '10.18653/v1/2021.acl-short.103', '10.18653/v1/2021.acl-short.104', '10.18653/v1/2021.acl-short.105', '10.18653/v1/2021.acl-short.106', '10.18653/v1/2021.acl-short.107', '10.18653/v1/2021.acl-short.108', '10.18653/v1/2021.acl-short.109', '10.18653/v1/2021.acl-short.110', '10.18653/v1/2021.acl-short.111', '10.18653/v1/2021.acl-short.112', '10.18653/v1/2021.acl-short.113', '10.18653/v1/2021.acl-short.114', '10.18653/v1/2021.acl-short.115', '10.18653/v1/2021.acl-short.116', '10.18653/v1/2021.acl-short.117', '10.18653/v1/2021.acl-short.118', '10.18653/v1/2021.acl-short.119', '10.18653/v1/2021.acl-short.120', '10.18653/v1/2021.acl-short.121', '10.18653/v1/2021.acl-short.122', '10.18653/v1/2021.acl-short.123', '10.18653/v1/2021.acl-short.124', '10.18653/v1/2021.acl-short.125', '10.18653/v1/2021.acl-short.126', '10.18653/v1/2021.acl-short.127', '10.18653/v1/2021.acl-short.128', '10.18653/v1/2021.acl-short.129', '10.18653/v1/2021.acl-short.130', '10.18653/v1/2021.acl-short.131', '10.18653/v1/2021.acl-short.132', '10.18653/v1/2021.acl-short.133', '10.18653/v1/2021.acl-short.134', '10.18653/v1/2021.acl-short.135', '10.18653/v1/2021.acl-short.136', '10.18653/v1/2021.acl-short.137', '10.18653/v1/2021.acl-short.138', '10.18653/v1/2021.acl-short.139', '10.18653/v1/2021.acl-srw.1', '10.18653/v1/2021.acl-srw.2', '10.18653/v1/2021.acl-srw.3', '10.18653/v1/2021.acl-srw.4', '10.18653/v1/2021.acl-srw.5', '10.18653/v1/2021.acl-srw.6', '10.18653/v1/2021.acl-srw.7', '10.18653/v1/2021.acl-srw.8', '10.18653/v1/2021.acl-srw.9', '10.18653/v1/2021.acl-srw.10', '10.18653/v1/2021.acl-srw.11', '10.18653/v1/2021.acl-srw.12', '10.18653/v1/2021.acl-srw.13', '10.18653/v1/2021.acl-srw.14', '10.18653/v1/2021.acl-srw.15', '10.18653/v1/2021.acl-srw.16', '10.18653/v1/2021.acl-srw.17', '10.18653/v1/2021.acl-srw.18', '10.18653/v1/2021.acl-srw.19', '10.18653/v1/2021.acl-srw.20', '10.18653/v1/2021.acl-srw.21', '10.18653/v1/2021.acl-srw.22', '10.18653/v1/2021.acl-srw.23', '10.18653/v1/2021.acl-srw.24', '10.18653/v1/2021.acl-srw.25', '10.18653/v1/2021.acl-srw.26', '10.18653/v1/2021.acl-srw.27', '10.18653/v1/2021.acl-srw.28', '10.18653/v1/2021.acl-srw.29', '10.18653/v1/2021.acl-srw.30', '10.18653/v1/2021.acl-srw.31', '10.18653/v1/2021.acl-srw.32', '10.18653/v1/2021.acl-srw.33', '10.18653/v1/2021.acl-srw.34', '10.18653/v1/2021.acl-srw.35', '10.18653/v1/2021.acl-srw.36', '10.18653/v1/2021.findings-acl.1', '10.18653/v1/2021.findings-acl.2', '10.18653/v1/2021.findings-acl.3', '10.18653/v1/2021.findings-acl.4', '10.18653/v1/2021.findings-acl.5', '10.18653/v1/2021.findings-acl.6', '10.18653/v1/2021.findings-acl.7', '10.18653/v1/2021.findings-acl.8', '10.18653/v1/2021.findings-acl.9', '10.18653/v1/2021.findings-acl.10', '10.18653/v1/2021.findings-acl.11', '10.18653/v1/2021.findings-acl.12', '10.18653/v1/2021.findings-acl.13', '10.18653/v1/2021.findings-acl.14', '10.18653/v1/2021.findings-acl.15', '10.18653/v1/2021.findings-acl.16', '10.18653/v1/2021.findings-acl.17', '10.18653/v1/2021.findings-acl.18', '10.18653/v1/2021.findings-acl.19', '10.18653/v1/2021.findings-acl.20', '10.18653/v1/2021.findings-acl.21', '10.18653/v1/2021.findings-acl.22', '10.18653/v1/2021.findings-acl.23', '10.18653/v1/2021.findings-acl.24', '10.18653/v1/2021.findings-acl.25', '10.18653/v1/2021.findings-acl.26', '10.18653/v1/2021.findings-acl.27', '10.18653/v1/2021.findings-acl.28', '10.18653/v1/2021.findings-acl.29', '10.18653/v1/2021.findings-acl.30', '10.18653/v1/2021.findings-acl.31', '10.18653/v1/2021.findings-acl.32', '10.18653/v1/2021.findings-acl.33', '10.18653/v1/2021.findings-acl.34', '10.18653/v1/2021.findings-acl.35', '10.18653/v1/2021.findings-acl.36', '10.18653/v1/2021.findings-acl.37', '10.18653/v1/2021.findings-acl.38', '10.18653/v1/2021.findings-acl.39', '10.18653/v1/2021.findings-acl.40', '10.18653/v1/2021.findings-acl.41', '10.18653/v1/2021.findings-acl.42', '10.18653/v1/2021.findings-acl.43', '10.18653/v1/2021.findings-acl.44', '10.18653/v1/2021.findings-acl.45', '10.18653/v1/2021.findings-acl.46', '10.18653/v1/2021.findings-acl.47', '10.18653/v1/2021.findings-acl.48', '10.18653/v1/2021.findings-acl.49', '10.18653/v1/2021.findings-acl.50', '10.18653/v1/2021.findings-acl.51', '10.18653/v1/2021.findings-acl.52', '10.18653/v1/2021.findings-acl.53', '10.18653/v1/2021.findings-acl.54', '10.18653/v1/2021.findings-acl.55', '10.18653/v1/2021.findings-acl.56', '10.18653/v1/2021.findings-acl.57', '10.18653/v1/2021.findings-acl.58', '10.18653/v1/2021.findings-acl.59', '10.18653/v1/2021.findings-acl.60', '10.18653/v1/2021.findings-acl.61', '10.18653/v1/2021.findings-acl.62', '10.18653/v1/2021.findings-acl.63', '10.18653/v1/2021.findings-acl.64', '10.18653/v1/2021.findings-acl.65', '10.18653/v1/2021.findings-acl.66', '10.18653/v1/2021.findings-acl.67', '10.18653/v1/2021.findings-acl.68', '10.18653/v1/2021.findings-acl.69', '10.18653/v1/2021.findings-acl.70', '10.18653/v1/2021.findings-acl.71', '10.18653/v1/2021.findings-acl.72', '10.18653/v1/2021.findings-acl.73', '10.18653/v1/2021.findings-acl.74', '10.18653/v1/2021.findings-acl.75', '10.18653/v1/2021.findings-acl.76', '10.18653/v1/2021.findings-acl.77', '10.18653/v1/2021.findings-acl.78', '10.18653/v1/2021.findings-acl.79', '10.18653/v1/2021.findings-acl.80', '10.18653/v1/2021.findings-acl.81', '10.18653/v1/2021.findings-acl.82', '10.18653/v1/2021.findings-acl.83', '10.18653/v1/2021.findings-acl.84', '10.18653/v1/2021.findings-acl.85', '10.18653/v1/2021.findings-acl.86', '10.18653/v1/2021.findings-acl.87', '10.18653/v1/2021.findings-acl.88', '10.18653/v1/2021.findings-acl.89', '10.18653/v1/2021.findings-acl.90', '10.18653/v1/2021.findings-acl.91', '10.18653/v1/2021.findings-acl.92', '10.18653/v1/2021.findings-acl.93', '10.18653/v1/2021.findings-acl.94', '10.18653/v1/2021.findings-acl.95', '10.18653/v1/2021.findings-acl.96', '10.18653/v1/2021.findings-acl.97', '10.18653/v1/2021.findings-acl.98', '10.18653/v1/2021.findings-acl.99', '10.18653/v1/2021.findings-acl.100', '10.18653/v1/2021.findings-acl.101', '10.18653/v1/2021.findings-acl.102', '10.18653/v1/2021.findings-acl.103', '10.18653/v1/2021.findings-acl.104', '10.18653/v1/2021.findings-acl.105', '10.18653/v1/2021.findings-acl.106', '10.18653/v1/2021.findings-acl.107', '10.18653/v1/2021.findings-acl.108', '10.18653/v1/2021.findings-acl.109', '10.18653/v1/2021.findings-acl.110', '10.18653/v1/2021.findings-acl.111', '10.18653/v1/2021.findings-acl.112', '10.18653/v1/2021.findings-acl.113', '10.18653/v1/2021.findings-acl.114', '10.18653/v1/2021.findings-acl.115', '10.18653/v1/2021.findings-acl.116', '10.18653/v1/2021.findings-acl.117', '10.18653/v1/2021.findings-acl.118', '10.18653/v1/2021.findings-acl.119', '10.18653/v1/2021.findings-acl.120', '10.18653/v1/2021.findings-acl.121', '10.18653/v1/2021.findings-acl.122', '10.18653/v1/2021.findings-acl.123', '10.18653/v1/2021.findings-acl.124', '10.18653/v1/2021.findings-acl.125', '10.18653/v1/2021.findings-acl.126', '10.18653/v1/2021.findings-acl.127', '10.18653/v1/2021.findings-acl.128', '10.18653/v1/2021.findings-acl.129', '10.18653/v1/2021.findings-acl.130', '10.18653/v1/2021.findings-acl.131', '10.18653/v1/2021.findings-acl.132', '10.18653/v1/2021.findings-acl.133', '10.18653/v1/2021.findings-acl.134', '10.18653/v1/2021.findings-acl.135', '10.18653/v1/2021.findings-acl.136', '10.18653/v1/2021.findings-acl.137', '10.18653/v1/2021.findings-acl.138', '10.18653/v1/2021.findings-acl.139', '10.18653/v1/2021.findings-acl.140', '10.18653/v1/2021.findings-acl.141', '10.18653/v1/2021.findings-acl.142', '10.18653/v1/2021.findings-acl.143', '10.18653/v1/2021.findings-acl.144', '10.18653/v1/2021.findings-acl.145', '10.18653/v1/2021.findings-acl.146', '10.18653/v1/2021.findings-acl.147', '10.18653/v1/2021.findings-acl.148', '10.18653/v1/2021.findings-acl.149', '10.18653/v1/2021.findings-acl.150', '10.18653/v1/2021.findings-acl.151', '10.18653/v1/2021.findings-acl.152', '10.18653/v1/2021.findings-acl.153', '10.18653/v1/2021.findings-acl.154', '10.18653/v1/2021.findings-acl.155', '10.18653/v1/2021.findings-acl.156', '10.18653/v1/2021.findings-acl.157', '10.18653/v1/2021.findings-acl.158', '10.18653/v1/2021.findings-acl.159', '10.18653/v1/2021.findings-acl.160', '10.18653/v1/2021.findings-acl.161', '10.18653/v1/2021.findings-acl.162', '10.18653/v1/2021.findings-acl.163', '10.18653/v1/2021.findings-acl.164', '10.18653/v1/2021.findings-acl.165', '10.18653/v1/2021.findings-acl.166', '10.18653/v1/2021.findings-acl.167', '10.18653/v1/2021.findings-acl.168', '10.18653/v1/2021.findings-acl.169', '10.18653/v1/2021.findings-acl.170', '10.18653/v1/2021.findings-acl.171', '10.18653/v1/2021.findings-acl.172', '10.18653/v1/2021.findings-acl.173', '10.18653/v1/2021.findings-acl.174', '10.18653/v1/2021.findings-acl.175', '10.18653/v1/2021.findings-acl.176', '10.18653/v1/2021.findings-acl.177', '10.18653/v1/2021.findings-acl.178', '10.18653/v1/2021.findings-acl.179', '10.18653/v1/2021.findings-acl.180', '10.18653/v1/2021.findings-acl.181', '10.18653/v1/2021.findings-acl.182', '10.18653/v1/2021.findings-acl.183', '10.18653/v1/2021.findings-acl.184', '10.18653/v1/2021.findings-acl.185', '10.18653/v1/2021.findings-acl.186', '10.18653/v1/2021.findings-acl.187', '10.18653/v1/2021.findings-acl.188', '10.18653/v1/2021.findings-acl.189', '10.18653/v1/2021.findings-acl.190', '10.18653/v1/2021.findings-acl.191', '10.18653/v1/2021.findings-acl.192', '10.18653/v1/2021.findings-acl.193', '10.18653/v1/2021.findings-acl.194', '10.18653/v1/2021.findings-acl.195', '10.18653/v1/2021.findings-acl.196', '10.18653/v1/2021.findings-acl.197', '10.18653/v1/2021.findings-acl.198', '10.18653/v1/2021.findings-acl.199', '10.18653/v1/2021.findings-acl.200', '10.18653/v1/2021.findings-acl.201', '10.18653/v1/2021.findings-acl.202', '10.18653/v1/2021.findings-acl.203', '10.18653/v1/2021.findings-acl.204', '10.18653/v1/2021.findings-acl.205', '10.18653/v1/2021.findings-acl.206', '10.18653/v1/2021.findings-acl.207', '10.18653/v1/2021.findings-acl.208', '10.18653/v1/2021.findings-acl.209', '10.18653/v1/2021.findings-acl.210', '10.18653/v1/2021.findings-acl.211', '10.18653/v1/2021.findings-acl.212', '10.18653/v1/2021.findings-acl.213', '10.18653/v1/2021.findings-acl.214', '10.18653/v1/2021.findings-acl.215', '10.18653/v1/2021.findings-acl.216', '10.18653/v1/2021.findings-acl.217', '10.18653/v1/2021.findings-acl.218', '10.18653/v1/2021.findings-acl.219', '10.18653/v1/2021.findings-acl.220', '10.18653/v1/2021.findings-acl.221', '10.18653/v1/2021.findings-acl.222', '10.18653/v1/2021.findings-acl.223', '10.18653/v1/2021.findings-acl.224', '10.18653/v1/2021.findings-acl.225', '10.18653/v1/2021.findings-acl.226', '10.18653/v1/2021.findings-acl.227', '10.18653/v1/2021.findings-acl.228', '10.18653/v1/2021.findings-acl.229', '10.18653/v1/2021.findings-acl.230', '10.18653/v1/2021.findings-acl.231', '10.18653/v1/2021.findings-acl.232', '10.18653/v1/2021.findings-acl.233', '10.18653/v1/2021.findings-acl.234', '10.18653/v1/2021.findings-acl.235', '10.18653/v1/2021.findings-acl.236', '10.18653/v1/2021.findings-acl.237', '10.18653/v1/2021.findings-acl.238', '10.18653/v1/2021.findings-acl.239', '10.18653/v1/2021.findings-acl.240', '10.18653/v1/2021.findings-acl.241', '10.18653/v1/2021.findings-acl.242', '10.18653/v1/2021.findings-acl.243', '10.18653/v1/2021.findings-acl.244', '10.18653/v1/2021.findings-acl.245', '10.18653/v1/2021.findings-acl.246', '10.18653/v1/2021.findings-acl.247', '10.18653/v1/2021.findings-acl.248', '10.18653/v1/2021.findings-acl.249', '10.18653/v1/2021.findings-acl.250', '10.18653/v1/2021.findings-acl.251', '10.18653/v1/2021.findings-acl.252', '10.18653/v1/2021.findings-acl.253', '10.18653/v1/2021.findings-acl.254', '10.18653/v1/2021.findings-acl.255', '10.18653/v1/2021.findings-acl.256', '10.18653/v1/2021.findings-acl.257', '10.18653/v1/2021.findings-acl.258', '10.18653/v1/2021.findings-acl.259', '10.18653/v1/2021.findings-acl.260', '10.18653/v1/2021.findings-acl.261', '10.18653/v1/2021.findings-acl.262', '10.18653/v1/2021.findings-acl.263', '10.18653/v1/2021.findings-acl.264', '10.18653/v1/2021.findings-acl.265', '10.18653/v1/2021.findings-acl.266', '10.18653/v1/2021.findings-acl.267', '10.18653/v1/2021.findings-acl.268', '10.18653/v1/2021.findings-acl.269', '10.18653/v1/2021.findings-acl.270', '10.18653/v1/2021.findings-acl.271', '10.18653/v1/2021.findings-acl.272', '10.18653/v1/2021.findings-acl.273', '10.18653/v1/2021.findings-acl.274', '10.18653/v1/2021.findings-acl.275', '10.18653/v1/2021.findings-acl.276', '10.18653/v1/2021.findings-acl.277', '10.18653/v1/2021.findings-acl.278', '10.18653/v1/2021.findings-acl.279', '10.18653/v1/2021.findings-acl.280', '10.18653/v1/2021.findings-acl.281', '10.18653/v1/2021.findings-acl.282', '10.18653/v1/2021.findings-acl.283', '10.18653/v1/2021.findings-acl.284', '10.18653/v1/2021.findings-acl.285', '10.18653/v1/2021.findings-acl.286', '10.18653/v1/2021.findings-acl.287', '10.18653/v1/2021.findings-acl.288', '10.18653/v1/2021.findings-acl.289', '10.18653/v1/2021.findings-acl.290', '10.18653/v1/2021.findings-acl.291', '10.18653/v1/2021.findings-acl.292', '10.18653/v1/2021.findings-acl.293', '10.18653/v1/2021.findings-acl.294', '10.18653/v1/2021.findings-acl.295', '10.18653/v1/2021.findings-acl.296', '10.18653/v1/2021.findings-acl.297', '10.18653/v1/2021.findings-acl.298', '10.18653/v1/2021.findings-acl.299', '10.18653/v1/2021.findings-acl.300', '10.18653/v1/2021.findings-acl.301', '10.18653/v1/2021.findings-acl.302', '10.18653/v1/2021.findings-acl.303', '10.18653/v1/2021.findings-acl.304', '10.18653/v1/2021.findings-acl.305', '10.18653/v1/2021.findings-acl.306', '10.18653/v1/2021.findings-acl.307', '10.18653/v1/2021.findings-acl.308', '10.18653/v1/2021.findings-acl.309', '10.18653/v1/2021.findings-acl.310', '10.18653/v1/2021.findings-acl.311', '10.18653/v1/2021.findings-acl.312', '10.18653/v1/2021.findings-acl.313', '10.18653/v1/2021.findings-acl.314', '10.18653/v1/2021.findings-acl.315', '10.18653/v1/2021.findings-acl.316', '10.18653/v1/2021.findings-acl.317', '10.18653/v1/2021.findings-acl.318', '10.18653/v1/2021.findings-acl.319', '10.18653/v1/2021.findings-acl.320', '10.18653/v1/2021.findings-acl.321', '10.18653/v1/2021.findings-acl.322', '10.18653/v1/2021.findings-acl.323', '10.18653/v1/2021.findings-acl.324', '10.18653/v1/2021.findings-acl.325', '10.18653/v1/2021.findings-acl.326', '10.18653/v1/2021.findings-acl.327', '10.18653/v1/2021.findings-acl.328', '10.18653/v1/2021.findings-acl.329', '10.18653/v1/2021.findings-acl.330', '10.18653/v1/2021.findings-acl.331', '10.18653/v1/2021.findings-acl.332', '10.18653/v1/2021.findings-acl.333', '10.18653/v1/2021.findings-acl.334', '10.18653/v1/2021.findings-acl.335', '10.18653/v1/2021.findings-acl.336', '10.18653/v1/2021.findings-acl.337', '10.18653/v1/2021.findings-acl.338', '10.18653/v1/2021.findings-acl.339', '10.18653/v1/2021.findings-acl.340', '10.18653/v1/2021.findings-acl.341', '10.18653/v1/2021.findings-acl.342', '10.18653/v1/2021.findings-acl.343', '10.18653/v1/2021.findings-acl.344', '10.18653/v1/2021.findings-acl.345', '10.18653/v1/2021.findings-acl.346', '10.18653/v1/2021.findings-acl.347', '10.18653/v1/2021.findings-acl.348', '10.18653/v1/2021.findings-acl.349', '10.18653/v1/2021.findings-acl.350', '10.18653/v1/2021.findings-acl.351', '10.18653/v1/2021.findings-acl.352', '10.18653/v1/2021.findings-acl.353', '10.18653/v1/2021.findings-acl.354', '10.18653/v1/2021.findings-acl.355', '10.18653/v1/2021.findings-acl.356', '10.18653/v1/2021.findings-acl.357', '10.18653/v1/2021.findings-acl.358', '10.18653/v1/2021.findings-acl.359', '10.18653/v1/2021.findings-acl.360', '10.18653/v1/2021.findings-acl.361', '10.18653/v1/2021.findings-acl.362', '10.18653/v1/2021.findings-acl.363', '10.18653/v1/2021.findings-acl.364', '10.18653/v1/2021.findings-acl.365', '10.18653/v1/2021.findings-acl.366', '10.18653/v1/2021.findings-acl.367', '10.18653/v1/2021.findings-acl.368', '10.18653/v1/2021.findings-acl.369', '10.18653/v1/2021.findings-acl.370', '10.18653/v1/2021.findings-acl.371', '10.18653/v1/2021.findings-acl.372', '10.18653/v1/2021.findings-acl.373', '10.18653/v1/2021.findings-acl.374', '10.18653/v1/2021.findings-acl.375', '10.18653/v1/2021.findings-acl.376', '10.18653/v1/2021.findings-acl.377', '10.18653/v1/2021.findings-acl.378', '10.18653/v1/2021.findings-acl.379', '10.18653/v1/2021.findings-acl.380', '10.18653/v1/2021.findings-acl.381', '10.18653/v1/2021.findings-acl.382', '10.18653/v1/2021.findings-acl.383', '10.18653/v1/2021.findings-acl.384', '10.18653/v1/2021.findings-acl.385', '10.18653/v1/2021.findings-acl.386', '10.18653/v1/2021.findings-acl.387', '10.18653/v1/2021.findings-acl.388', '10.18653/v1/2021.findings-acl.389', '10.18653/v1/2021.findings-acl.390', '10.18653/v1/2021.findings-acl.391', '10.18653/v1/2021.findings-acl.392', '10.18653/v1/2021.findings-acl.393', '10.18653/v1/2021.findings-acl.394', '10.18653/v1/2021.findings-acl.395', '10.18653/v1/2021.findings-acl.396', '10.18653/v1/2021.findings-acl.397', '10.18653/v1/2021.findings-acl.398', '10.18653/v1/2021.findings-acl.399', '10.18653/v1/2021.findings-acl.400', '10.18653/v1/2021.findings-acl.401', '10.18653/v1/2021.findings-acl.402', '10.18653/v1/2021.findings-acl.403', '10.18653/v1/2021.findings-acl.404', '10.18653/v1/2021.findings-acl.405', '10.18653/v1/2021.findings-acl.406', '10.18653/v1/2021.findings-acl.407', '10.18653/v1/2021.findings-acl.408', '10.18653/v1/2021.findings-acl.409', '10.18653/v1/2021.findings-acl.410', '10.18653/v1/2021.findings-acl.411', '10.18653/v1/2021.findings-acl.412', '10.18653/v1/2021.findings-acl.413', '10.18653/v1/2021.findings-acl.414', '10.18653/v1/2021.findings-acl.415', '10.18653/v1/2021.findings-acl.416', '10.18653/v1/2021.findings-acl.417', '10.18653/v1/2021.findings-acl.418', '10.18653/v1/2021.findings-acl.419', '10.18653/v1/2021.findings-acl.420', '10.18653/v1/2021.findings-acl.421', '10.18653/v1/2021.findings-acl.422', '10.18653/v1/2021.findings-acl.423', '10.18653/v1/2021.findings-acl.424', '10.18653/v1/2021.findings-acl.425', '10.18653/v1/2021.findings-acl.426', '10.18653/v1/2021.findings-acl.427', '10.18653/v1/2021.findings-acl.428', '10.18653/v1/2021.findings-acl.429', '10.18653/v1/2021.findings-acl.430', '10.18653/v1/2021.findings-acl.431', '10.18653/v1/2021.findings-acl.432', '10.18653/v1/2021.findings-acl.433', '10.18653/v1/2021.findings-acl.434', '10.18653/v1/2021.findings-acl.435', '10.18653/v1/2021.findings-acl.436', '10.18653/v1/2021.findings-acl.437', '10.18653/v1/2021.findings-acl.438', '10.18653/v1/2021.findings-acl.439', '10.18653/v1/2021.findings-acl.440', '10.18653/v1/2021.findings-acl.441', '10.18653/v1/2021.findings-acl.442', '10.18653/v1/2021.findings-acl.443', '10.18653/v1/2021.findings-acl.444', '10.18653/v1/2021.findings-acl.445', '10.18653/v1/2021.findings-acl.446', '10.18653/v1/2021.findings-acl.447', '10.18653/v1/2021.findings-acl.448', '10.18653/v1/2021.findings-acl.449', '10.18653/v1/2021.findings-acl.450', '10.18653/v1/2021.findings-acl.451', '10.18653/v1/2021.findings-acl.452', '10.18653/v1/2021.findings-acl.453', '10.18653/v1/2021.findings-acl.454', '10.18653/v1/2021.findings-acl.455', '10.18653/v1/2021.findings-acl.456', '10.18653/v1/2021.findings-acl.457', '10.18653/v1/2021.acl-demo.1', '10.18653/v1/2021.acl-demo.2', '10.18653/v1/2021.acl-demo.3', '10.18653/v1/2021.acl-demo.4', '10.18653/v1/2021.acl-demo.5', '10.18653/v1/2021.acl-demo.6', '10.18653/v1/2021.acl-demo.7', '10.18653/v1/2021.acl-demo.8', '10.18653/v1/2021.acl-demo.9', '10.18653/v1/2021.acl-demo.10', '10.18653/v1/2021.acl-demo.11', '10.18653/v1/2021.acl-demo.12', '10.18653/v1/2021.acl-demo.13', '10.18653/v1/2021.acl-demo.14', '10.18653/v1/2021.acl-demo.15', '10.18653/v1/2021.acl-demo.16', '10.18653/v1/2021.acl-demo.17', '10.18653/v1/2021.acl-demo.18', '10.18653/v1/2021.acl-demo.19', '10.18653/v1/2021.acl-demo.20', '10.18653/v1/2021.acl-demo.21', '10.18653/v1/2021.acl-demo.22', '10.18653/v1/2021.acl-demo.23', '10.18653/v1/2021.acl-demo.24', '10.18653/v1/2021.acl-demo.25', '10.18653/v1/2021.acl-demo.26', '10.18653/v1/2021.acl-demo.27', '10.18653/v1/2021.acl-demo.28', '10.18653/v1/2021.acl-demo.29', '10.18653/v1/2021.acl-demo.30', '10.18653/v1/2021.acl-demo.31', '10.18653/v1/2021.acl-demo.32', '10.18653/v1/2021.acl-demo.33', '10.18653/v1/2021.acl-demo.34', '10.18653/v1/2021.acl-demo.35', '10.18653/v1/2021.acl-demo.36', '10.18653/v1/2021.acl-demo.37', '10.18653/v1/2021.acl-demo.38', '10.18653/v1/2021.acl-demo.39', '10.18653/v1/2021.acl-demo.40', '10.18653/v1/2021.acl-demo.41', '10.18653/v1/2021.acl-demo.42', '10.18653/v1/2021.acl-demo.43', '10.18653/v1/2020.acl-main.1', '10.18653/v1/2020.acl-main.2', '10.18653/v1/2020.acl-main.3', '10.18653/v1/2020.acl-main.4', '10.18653/v1/2020.acl-main.5', '10.18653/v1/2020.acl-main.6', '10.18653/v1/2020.acl-main.7', '10.18653/v1/2020.acl-main.8', '10.18653/v1/2020.acl-main.9', '10.18653/v1/2020.acl-main.10', '10.18653/v1/2020.acl-main.11', '10.18653/v1/2020.acl-main.12', '10.18653/v1/2020.acl-main.13', '10.18653/v1/2020.acl-main.14', '10.18653/v1/2020.acl-main.15', '10.18653/v1/2020.acl-main.16', '10.18653/v1/2020.acl-main.17', '10.18653/v1/2020.acl-main.18', '10.18653/v1/2020.acl-main.19', '10.18653/v1/2020.acl-main.20', '10.18653/v1/2020.acl-main.21', '10.18653/v1/2020.acl-main.22', '10.18653/v1/2020.acl-main.23', '10.18653/v1/2020.acl-main.24', '10.18653/v1/2020.acl-main.25', '10.18653/v1/2020.acl-main.26', '10.18653/v1/2020.acl-main.27', '10.18653/v1/2020.acl-main.28', '10.18653/v1/2020.acl-main.29', '10.18653/v1/2020.acl-main.30', '10.18653/v1/2020.acl-main.31', '10.18653/v1/2020.acl-main.32', '10.18653/v1/2020.acl-main.33', '10.18653/v1/2020.acl-main.34', '10.18653/v1/2020.acl-main.35', '10.18653/v1/2020.acl-main.36', '10.18653/v1/2020.acl-main.37', '10.18653/v1/2020.acl-main.38', '10.18653/v1/2020.acl-main.39', '10.18653/v1/2020.acl-main.40', '10.18653/v1/2020.acl-main.41', '10.18653/v1/2020.acl-main.42', '10.18653/v1/2020.acl-main.43', '10.18653/v1/2020.acl-main.44', '10.18653/v1/2020.acl-main.45', '10.18653/v1/2020.acl-main.46', '10.18653/v1/2020.acl-main.47', '10.18653/v1/2020.acl-main.48', '10.18653/v1/2020.acl-main.49', '10.18653/v1/2020.acl-main.50', '10.18653/v1/2020.acl-main.51', '10.18653/v1/2020.acl-main.52', '10.18653/v1/2020.acl-main.53', '10.18653/v1/2020.acl-main.54', '10.18653/v1/2020.acl-main.55', '10.18653/v1/2020.acl-main.56', '10.18653/v1/2020.acl-main.57', '10.18653/v1/2020.acl-main.58', '10.18653/v1/2020.acl-main.59', '10.18653/v1/2020.acl-main.60', '10.18653/v1/2020.acl-main.61', '10.18653/v1/2020.acl-main.62', '10.18653/v1/2020.acl-main.63', '10.18653/v1/2020.acl-main.64', '10.18653/v1/2020.acl-main.65', '10.18653/v1/2020.acl-main.66', '10.18653/v1/2020.acl-main.67', '10.18653/v1/2020.acl-main.68', '10.18653/v1/2020.acl-main.69', '10.18653/v1/2020.acl-main.70', '10.18653/v1/2020.acl-main.71', '10.18653/v1/2020.acl-main.72', '10.18653/v1/2020.acl-main.73', '10.18653/v1/2020.acl-main.74', '10.18653/v1/2020.acl-main.75', '10.18653/v1/2020.acl-main.76', '10.18653/v1/2020.acl-main.77', '10.18653/v1/2020.acl-main.78', '10.18653/v1/2020.acl-main.79', '10.18653/v1/2020.acl-main.80', '10.18653/v1/2020.acl-main.81', '10.18653/v1/2020.acl-main.82', '10.18653/v1/2020.acl-main.83', '10.18653/v1/2020.acl-main.84', '10.18653/v1/2020.acl-main.85', '10.18653/v1/2020.acl-main.86', '10.18653/v1/2020.acl-main.87', '10.18653/v1/2020.acl-main.88', '10.18653/v1/2020.acl-main.89', '10.18653/v1/2020.acl-main.90', '10.18653/v1/2020.acl-main.91', '10.18653/v1/2020.acl-main.92', '10.18653/v1/2020.acl-main.93', '10.18653/v1/2020.acl-main.94', '10.18653/v1/2020.acl-main.95', '10.18653/v1/2020.acl-main.96', '10.18653/v1/2020.acl-main.97', '10.18653/v1/2020.acl-main.98', '10.18653/v1/2020.acl-main.99', '10.18653/v1/2020.acl-main.100', '10.18653/v1/2020.acl-main.101', '10.18653/v1/2020.acl-main.102', '10.18653/v1/2020.acl-main.103', '10.18653/v1/2020.acl-main.104', '10.18653/v1/2020.acl-main.105', '10.18653/v1/2020.acl-main.106', '10.18653/v1/2020.acl-main.107', '10.18653/v1/2020.acl-main.108', '10.18653/v1/2020.acl-main.109', '10.18653/v1/2020.acl-main.110', '10.18653/v1/2020.acl-main.111', '10.18653/v1/2020.acl-main.112', '10.18653/v1/2020.acl-main.113', '10.18653/v1/2020.acl-main.114', '10.18653/v1/2020.acl-main.115', '10.18653/v1/2020.acl-main.116', '10.18653/v1/2020.acl-main.117', '10.18653/v1/2020.acl-main.118', '10.18653/v1/2020.acl-main.119', '10.18653/v1/2020.acl-main.120', '10.18653/v1/2020.acl-main.121', '10.18653/v1/2020.acl-main.122', '10.18653/v1/2020.acl-main.123', '10.18653/v1/2020.acl-main.124', '10.18653/v1/2020.acl-main.125', '10.18653/v1/2020.acl-main.126', '10.18653/v1/2020.acl-main.127', '10.18653/v1/2020.acl-main.128', '10.18653/v1/2020.acl-main.129', '10.18653/v1/2020.acl-main.130', '10.18653/v1/2020.acl-main.131', '10.18653/v1/2020.acl-main.132', '10.18653/v1/2020.acl-main.133', '10.18653/v1/2020.acl-main.134', '10.18653/v1/2020.acl-main.135', '10.18653/v1/2020.acl-main.136', '10.18653/v1/2020.acl-main.137', '10.18653/v1/2020.acl-main.138', '10.18653/v1/2020.acl-main.139', '10.18653/v1/2020.acl-main.140', '10.18653/v1/2020.acl-main.141', '10.18653/v1/2020.acl-main.142', '10.18653/v1/2020.acl-main.143', '10.18653/v1/2020.acl-main.144', '10.18653/v1/2020.acl-main.145', '10.18653/v1/2020.acl-main.146', '10.18653/v1/2020.acl-main.147', '10.18653/v1/2020.acl-main.148', '10.18653/v1/2020.acl-main.149', '10.18653/v1/2020.acl-main.150', '10.18653/v1/2020.acl-main.151', '10.18653/v1/2020.acl-main.152', '10.18653/v1/2020.acl-main.153', '10.18653/v1/2020.acl-main.154', '10.18653/v1/2020.acl-main.155', '10.18653/v1/2020.acl-main.156', '10.18653/v1/2020.acl-main.157', '10.18653/v1/2020.acl-main.158', '10.18653/v1/2020.acl-main.159', '10.18653/v1/2020.acl-main.160', '10.18653/v1/2020.acl-main.161', '10.18653/v1/2020.acl-main.162', '10.18653/v1/2020.acl-main.163', '10.18653/v1/2020.acl-main.164', '10.18653/v1/2020.acl-main.165', '10.18653/v1/2020.acl-main.166', '10.18653/v1/2020.acl-main.167', '10.18653/v1/2020.acl-main.168', '10.18653/v1/2020.acl-main.169', '10.18653/v1/2020.acl-main.170', '10.18653/v1/2020.acl-main.171', '10.18653/v1/2020.acl-main.172', '10.18653/v1/2020.acl-main.173', '10.18653/v1/2020.acl-main.174', '10.18653/v1/2020.acl-main.175', '10.18653/v1/2020.acl-main.176', '10.18653/v1/2020.acl-main.177', '10.18653/v1/2020.acl-main.178', '10.18653/v1/2020.acl-main.179', '10.18653/v1/2020.acl-main.180', '10.18653/v1/2020.acl-main.181', '10.18653/v1/2020.acl-main.182', '10.18653/v1/2020.acl-main.183', '10.18653/v1/2020.acl-main.184', '10.18653/v1/2020.acl-main.185', '10.18653/v1/2020.acl-main.186', '10.18653/v1/2020.acl-main.187', '10.18653/v1/2020.acl-main.188', '10.18653/v1/2020.acl-main.189', '10.18653/v1/2020.acl-main.190', '10.18653/v1/2020.acl-main.191', '10.18653/v1/2020.acl-main.192', '10.18653/v1/2020.acl-main.193', '10.18653/v1/2020.acl-main.194', '10.18653/v1/2020.acl-main.195', '10.18653/v1/2020.acl-main.196', '10.18653/v1/2020.acl-main.197', '10.18653/v1/2020.acl-main.198', '10.18653/v1/2020.acl-main.199', '10.18653/v1/2020.acl-main.200', '10.18653/v1/2020.acl-main.201', '10.18653/v1/2020.acl-main.202', '10.18653/v1/2020.acl-main.203', '10.18653/v1/2020.acl-main.204', '10.18653/v1/2020.acl-main.205', '10.18653/v1/2020.acl-main.206', '10.18653/v1/2020.acl-main.207', '10.18653/v1/2020.acl-main.208', '10.18653/v1/2020.acl-main.209', '10.18653/v1/2020.acl-main.210', '10.18653/v1/2020.acl-main.211', '10.18653/v1/2020.acl-main.212', '10.18653/v1/2020.acl-main.213', '10.18653/v1/2020.acl-main.214', '10.18653/v1/2020.acl-main.215', '10.18653/v1/2020.acl-main.216', '10.18653/v1/2020.acl-main.217', '10.18653/v1/2020.acl-main.218', '10.18653/v1/2020.acl-main.219', '10.18653/v1/2020.acl-main.220', '10.18653/v1/2020.acl-main.221', '10.18653/v1/2020.acl-main.222', '10.18653/v1/2020.acl-main.223', '10.18653/v1/2020.acl-main.224', '10.18653/v1/2020.acl-main.225', '10.18653/v1/2020.acl-main.226', '10.18653/v1/2020.acl-main.227', '10.18653/v1/2020.acl-main.228', '10.18653/v1/2020.acl-main.229', '10.18653/v1/2020.acl-main.230', '10.18653/v1/2020.acl-main.231', '10.18653/v1/2020.acl-main.232', '10.18653/v1/2020.acl-main.233', '10.18653/v1/2020.acl-main.234', '10.18653/v1/2020.acl-main.235', '10.18653/v1/2020.acl-main.236', '10.18653/v1/2020.acl-main.237', '10.18653/v1/2020.acl-main.238', '10.18653/v1/2020.acl-main.239', '10.18653/v1/2020.acl-main.240', '10.18653/v1/2020.acl-main.241', '10.18653/v1/2020.acl-main.242', '10.18653/v1/2020.acl-main.243', '10.18653/v1/2020.acl-main.244', '10.18653/v1/2020.acl-main.245', '10.18653/v1/2020.acl-main.246', '10.18653/v1/2020.acl-main.247', '10.18653/v1/2020.acl-main.248', '10.18653/v1/2020.acl-main.249', '10.18653/v1/2020.acl-main.250', '10.18653/v1/2020.acl-main.251', '10.18653/v1/2020.acl-main.252', '10.18653/v1/2020.acl-main.253', '10.18653/v1/2020.acl-main.254', '10.18653/v1/2020.acl-main.255', '10.18653/v1/2020.acl-main.256', '10.18653/v1/2020.acl-main.257', '10.18653/v1/2020.acl-main.258', '10.18653/v1/2020.acl-main.259', '10.18653/v1/2020.acl-main.260', '10.18653/v1/2020.acl-main.261', '10.18653/v1/2020.acl-main.262', '10.18653/v1/2020.acl-main.263', '10.18653/v1/2020.acl-main.264', '10.18653/v1/2020.acl-main.265', '10.18653/v1/2020.acl-main.266', '10.18653/v1/2020.acl-main.267', '10.18653/v1/2020.acl-main.268', '10.18653/v1/2020.acl-main.269', '10.18653/v1/2020.acl-main.270', '10.18653/v1/2020.acl-main.271', '10.18653/v1/2020.acl-main.272', '10.18653/v1/2020.acl-main.273', '10.18653/v1/2020.acl-main.274', '10.18653/v1/2020.acl-main.275', '10.18653/v1/2020.acl-main.276', '10.18653/v1/2020.acl-main.277', '10.18653/v1/2020.acl-main.278', '10.18653/v1/2020.acl-main.279', '10.18653/v1/2020.acl-main.280', '10.18653/v1/2020.acl-main.281', '10.18653/v1/2020.acl-main.282', '10.18653/v1/2020.acl-main.283', '10.18653/v1/2020.acl-main.284', '10.18653/v1/2020.acl-main.285', '10.18653/v1/2020.acl-main.286', '10.18653/v1/2020.acl-main.287', '10.18653/v1/2020.acl-main.288', '10.18653/v1/2020.acl-main.289', '10.18653/v1/2020.acl-main.290', '10.18653/v1/2020.acl-main.291', '10.18653/v1/2020.acl-main.292', '10.18653/v1/2020.acl-main.293', '10.18653/v1/2020.acl-main.294', '10.18653/v1/2020.acl-main.295', '10.18653/v1/2020.acl-main.296', '10.18653/v1/2020.acl-main.297', '10.18653/v1/2020.acl-main.298', '10.18653/v1/2020.acl-main.299', '10.18653/v1/2020.acl-main.300', '10.18653/v1/2020.acl-main.301', '10.18653/v1/2020.acl-main.302', '10.18653/v1/2020.acl-main.303', '10.18653/v1/2020.acl-main.304', '10.18653/v1/2020.acl-main.305', '10.18653/v1/2020.acl-main.306', '10.18653/v1/2020.acl-main.307', '10.18653/v1/2020.acl-main.308', '10.18653/v1/2020.acl-main.309', '10.18653/v1/2020.acl-main.310', '10.18653/v1/2020.acl-main.311', '10.18653/v1/2020.acl-main.312', '10.18653/v1/2020.acl-main.313', '10.18653/v1/2020.acl-main.314', '10.18653/v1/2020.acl-main.315', '10.18653/v1/2020.acl-main.316', '10.18653/v1/2020.acl-main.317', '10.18653/v1/2020.acl-main.318', '10.18653/v1/2020.acl-main.319', '10.18653/v1/2020.acl-main.320', '10.18653/v1/2020.acl-main.321', '10.18653/v1/2020.acl-main.322', '10.18653/v1/2020.acl-main.323', '10.18653/v1/2020.acl-main.324', '10.18653/v1/2020.acl-main.325', '10.18653/v1/2020.acl-main.326', '10.18653/v1/2020.acl-main.327', '10.18653/v1/2020.acl-main.328', '10.18653/v1/2020.acl-main.329', '10.18653/v1/2020.acl-main.330', '10.18653/v1/2020.acl-main.331', '10.18653/v1/2020.acl-main.332', '10.18653/v1/2020.acl-main.333', '10.18653/v1/2020.acl-main.334', '10.18653/v1/2020.acl-main.335', '10.18653/v1/2020.acl-main.336', '10.18653/v1/2020.acl-main.337', '10.18653/v1/2020.acl-main.338', '10.18653/v1/2020.acl-main.339', '10.18653/v1/2020.acl-main.340', '10.18653/v1/2020.acl-main.341', '10.18653/v1/2020.acl-main.342', '10.18653/v1/2020.acl-main.343', '10.18653/v1/2020.acl-main.344', '10.18653/v1/2020.acl-main.345', '10.18653/v1/2020.acl-main.346', '10.18653/v1/2020.acl-main.347', '10.18653/v1/2020.acl-main.348', '10.18653/v1/2020.acl-main.349', '10.18653/v1/2020.acl-main.350', '10.18653/v1/2020.acl-main.351', '10.18653/v1/2020.acl-main.352', '10.18653/v1/2020.acl-main.353', '10.18653/v1/2020.acl-main.354', '10.18653/v1/2020.acl-main.355', '10.18653/v1/2020.acl-main.356', '10.18653/v1/2020.acl-main.357', '10.18653/v1/2020.acl-main.358', '10.18653/v1/2020.acl-main.359', '10.18653/v1/2020.acl-main.360', '10.18653/v1/2020.acl-main.361', '10.18653/v1/2020.acl-main.362', '10.18653/v1/2020.acl-main.363', '10.18653/v1/2020.acl-main.364', '10.18653/v1/2020.acl-main.365', '10.18653/v1/2020.acl-main.366', '10.18653/v1/2020.acl-main.367', '10.18653/v1/2020.acl-main.368', '10.18653/v1/2020.acl-main.369', '10.18653/v1/2020.acl-main.370', '10.18653/v1/2020.acl-main.371', '10.18653/v1/2020.acl-main.372', '10.18653/v1/2020.acl-main.373', '10.18653/v1/2020.acl-main.374', '10.18653/v1/2020.acl-main.375', '10.18653/v1/2020.acl-main.376', '10.18653/v1/2020.acl-main.377', '10.18653/v1/2020.acl-main.378', '10.18653/v1/2020.acl-main.379', '10.18653/v1/2020.acl-main.380', '10.18653/v1/2020.acl-main.381', '10.18653/v1/2020.acl-main.382', '10.18653/v1/2020.acl-main.383', '10.18653/v1/2020.acl-main.384', '10.18653/v1/2020.acl-main.385', '10.18653/v1/2020.acl-main.386', '10.18653/v1/2020.acl-main.387', '10.18653/v1/2020.acl-main.388', '10.18653/v1/2020.acl-main.389', '10.18653/v1/2020.acl-main.390', '10.18653/v1/2020.acl-main.391', '10.18653/v1/2020.acl-main.392', '10.18653/v1/2020.acl-main.393', '10.18653/v1/2020.acl-main.394', '10.18653/v1/2020.acl-main.395', '10.18653/v1/2020.acl-main.396', '10.18653/v1/2020.acl-main.397', '10.18653/v1/2020.acl-main.398', '10.18653/v1/2020.acl-main.399', '10.18653/v1/2020.acl-main.400', '10.18653/v1/2020.acl-main.401', '10.18653/v1/2020.acl-main.402', '10.18653/v1/2020.acl-main.403', '10.18653/v1/2020.acl-main.404', '10.18653/v1/2020.acl-main.405', '10.18653/v1/2020.acl-main.406', '10.18653/v1/2020.acl-main.407', '10.18653/v1/2020.acl-main.408', '10.18653/v1/2020.acl-main.409', '10.18653/v1/2020.acl-main.410', '10.18653/v1/2020.acl-main.411', '10.18653/v1/2020.acl-main.412', '10.18653/v1/2020.acl-main.413', '10.18653/v1/2020.acl-main.414', '10.18653/v1/2020.acl-main.415', '10.18653/v1/2020.acl-main.416', '10.18653/v1/2020.acl-main.417', '10.18653/v1/2020.acl-main.418', '10.18653/v1/2020.acl-main.419', '10.18653/v1/2020.acl-main.420', '10.18653/v1/2020.acl-main.421', '10.18653/v1/2020.acl-main.422', '10.18653/v1/2020.acl-main.423', '10.18653/v1/2020.acl-main.424', '10.18653/v1/2020.acl-main.425', '10.18653/v1/2020.acl-main.426', '10.18653/v1/2020.acl-main.427', '10.18653/v1/2020.acl-main.428', '10.18653/v1/2020.acl-main.429', '10.18653/v1/2020.acl-main.430', '10.18653/v1/2020.acl-main.431', '10.18653/v1/2020.acl-main.432', '10.18653/v1/2020.acl-main.433', '10.18653/v1/2020.acl-main.434', '10.18653/v1/2020.acl-main.435', '10.18653/v1/2020.acl-main.436', '10.18653/v1/2020.acl-main.437', '10.18653/v1/2020.acl-main.438', '10.18653/v1/2020.acl-main.439', '10.18653/v1/2020.acl-main.440', '10.18653/v1/2020.acl-main.441', '10.18653/v1/2020.acl-main.442', '10.18653/v1/2020.acl-main.443', '10.18653/v1/2020.acl-main.444', '10.18653/v1/2020.acl-main.445', '10.18653/v1/2020.acl-main.446', '10.18653/v1/2020.acl-main.447', '10.18653/v1/2020.acl-main.448', '10.18653/v1/2020.acl-main.449', '10.18653/v1/2020.acl-main.450', '10.18653/v1/2020.acl-main.451', '10.18653/v1/2020.acl-main.452', '10.18653/v1/2020.acl-main.453', '10.18653/v1/2020.acl-main.454', '10.18653/v1/2020.acl-main.455', '10.18653/v1/2020.acl-main.456', '10.18653/v1/2020.acl-main.457', '10.18653/v1/2020.acl-main.458', '10.18653/v1/2020.acl-main.459', '10.18653/v1/2020.acl-main.460', '10.18653/v1/2020.acl-main.461', '10.18653/v1/2020.acl-main.462', '10.18653/v1/2020.acl-main.463', '10.18653/v1/2020.acl-main.464', '10.18653/v1/2020.acl-main.465', '10.18653/v1/2020.acl-main.466', '10.18653/v1/2020.acl-main.467', '10.18653/v1/2020.acl-main.468', '10.18653/v1/2020.acl-main.469', '10.18653/v1/2020.acl-main.470', '10.18653/v1/2020.acl-main.471', '10.18653/v1/2020.acl-main.472', '10.18653/v1/2020.acl-main.473', '10.18653/v1/2020.acl-main.474', '10.18653/v1/2020.acl-main.475', '10.18653/v1/2020.acl-main.476', '10.18653/v1/2020.acl-main.477', '10.18653/v1/2020.acl-main.478', '10.18653/v1/2020.acl-main.479', '10.18653/v1/2020.acl-main.480', '10.18653/v1/2020.acl-main.481', '10.18653/v1/2020.acl-main.482', '10.18653/v1/2020.acl-main.483', '10.18653/v1/2020.acl-main.484', '10.18653/v1/2020.acl-main.485', '10.18653/v1/2020.acl-main.486', '10.18653/v1/2020.acl-main.487', '10.18653/v1/2020.acl-main.488', '10.18653/v1/2020.acl-main.489', '10.18653/v1/2020.acl-main.490', '10.18653/v1/2020.acl-main.491', '10.18653/v1/2020.acl-main.492', '10.18653/v1/2020.acl-main.493', '10.18653/v1/2020.acl-main.494', '10.18653/v1/2020.acl-main.495', '10.18653/v1/2020.acl-main.496', '10.18653/v1/2020.acl-main.497', '10.18653/v1/2020.acl-main.498', '10.18653/v1/2020.acl-main.499', '10.18653/v1/2020.acl-main.500', '10.18653/v1/2020.acl-main.501', '10.18653/v1/2020.acl-main.502', '10.18653/v1/2020.acl-main.503', '10.18653/v1/2020.acl-main.504', '10.18653/v1/2020.acl-main.505', '10.18653/v1/2020.acl-main.506', '10.18653/v1/2020.acl-main.507', '10.18653/v1/2020.acl-main.508', '10.18653/v1/2020.acl-main.509', '10.18653/v1/2020.acl-main.510', '10.18653/v1/2020.acl-main.511', '10.18653/v1/2020.acl-main.512', '10.18653/v1/2020.acl-main.513', '10.18653/v1/2020.acl-main.514', '10.18653/v1/2020.acl-main.515', '10.18653/v1/2020.acl-main.516', '10.18653/v1/2020.acl-main.517', '10.18653/v1/2020.acl-main.518', '10.18653/v1/2020.acl-main.519', '10.18653/v1/2020.acl-main.520', '10.18653/v1/2020.acl-main.521', '10.18653/v1/2020.acl-main.522', '10.18653/v1/2020.acl-main.523', '10.18653/v1/2020.acl-main.524', '10.18653/v1/2020.acl-main.525', '10.18653/v1/2020.acl-main.526', '10.18653/v1/2020.acl-main.527', '10.18653/v1/2020.acl-main.528', '10.18653/v1/2020.acl-main.529', '10.18653/v1/2020.acl-main.530', '10.18653/v1/2020.acl-main.531', '10.18653/v1/2020.acl-main.532', '10.18653/v1/2020.acl-main.533', '10.18653/v1/2020.acl-main.534', '10.18653/v1/2020.acl-main.535', '10.18653/v1/2020.acl-main.536', '10.18653/v1/2020.acl-main.537', '10.18653/v1/2020.acl-main.538', '10.18653/v1/2020.acl-main.539', '10.18653/v1/2020.acl-main.540', '10.18653/v1/2020.acl-main.541', '10.18653/v1/2020.acl-main.542', '10.18653/v1/2020.acl-main.543', '10.18653/v1/2020.acl-main.544', '10.18653/v1/2020.acl-main.545', '10.18653/v1/2020.acl-main.546', '10.18653/v1/2020.acl-main.547', '10.18653/v1/2020.acl-main.548', '10.18653/v1/2020.acl-main.549', '10.18653/v1/2020.acl-main.550', '10.18653/v1/2020.acl-main.551', '10.18653/v1/2020.acl-main.552', '10.18653/v1/2020.acl-main.553', '10.18653/v1/2020.acl-main.554', '10.18653/v1/2020.acl-main.555', '10.18653/v1/2020.acl-main.556', '10.18653/v1/2020.acl-main.557', '10.18653/v1/2020.acl-main.558', '10.18653/v1/2020.acl-main.559', '10.18653/v1/2020.acl-main.560', '10.18653/v1/2020.acl-main.561', '10.18653/v1/2020.acl-main.562', '10.18653/v1/2020.acl-main.563', '10.18653/v1/2020.acl-main.564', '10.18653/v1/2020.acl-main.565', '10.18653/v1/2020.acl-main.566', '10.18653/v1/2020.acl-main.567', '10.18653/v1/2020.acl-main.568', '10.18653/v1/2020.acl-main.569', '10.18653/v1/2020.acl-main.570', '10.18653/v1/2020.acl-main.571', '10.18653/v1/2020.acl-main.572', '10.18653/v1/2020.acl-main.573', '10.18653/v1/2020.acl-main.574', '10.18653/v1/2020.acl-main.575', '10.18653/v1/2020.acl-main.576', '10.18653/v1/2020.acl-main.577', '10.18653/v1/2020.acl-main.578', '10.18653/v1/2020.acl-main.579', '10.18653/v1/2020.acl-main.580', '10.18653/v1/2020.acl-main.581', '10.18653/v1/2020.acl-main.582', '10.18653/v1/2020.acl-main.583', '10.18653/v1/2020.acl-main.584', '10.18653/v1/2020.acl-main.585', '10.18653/v1/2020.acl-main.586', '10.18653/v1/2020.acl-main.587', '10.18653/v1/2020.acl-main.588', '10.18653/v1/2020.acl-main.589', '10.18653/v1/2020.acl-main.590', '10.18653/v1/2020.acl-main.591', '10.18653/v1/2020.acl-main.592', '10.18653/v1/2020.acl-main.593', '10.18653/v1/2020.acl-main.594', '10.18653/v1/2020.acl-main.595', '10.18653/v1/2020.acl-main.596', '10.18653/v1/2020.acl-main.597', '10.18653/v1/2020.acl-main.598', '10.18653/v1/2020.acl-main.599', '10.18653/v1/2020.acl-main.600', '10.18653/v1/2020.acl-main.601', '10.18653/v1/2020.acl-main.602', '10.18653/v1/2020.acl-main.603', '10.18653/v1/2020.acl-main.604', '10.18653/v1/2020.acl-main.605', '10.18653/v1/2020.acl-main.606', '10.18653/v1/2020.acl-main.607', '10.18653/v1/2020.acl-main.608', '10.18653/v1/2020.acl-main.609', '10.18653/v1/2020.acl-main.610', '10.18653/v1/2020.acl-main.611', '10.18653/v1/2020.acl-main.612', '10.18653/v1/2020.acl-main.613', '10.18653/v1/2020.acl-main.614', '10.18653/v1/2020.acl-main.615', '10.18653/v1/2020.acl-main.616', '10.18653/v1/2020.acl-main.617', '10.18653/v1/2020.acl-main.618', '10.18653/v1/2020.acl-main.619', '10.18653/v1/2020.acl-main.620', '10.18653/v1/2020.acl-main.621', '10.18653/v1/2020.acl-main.622', '10.18653/v1/2020.acl-main.623', '10.18653/v1/2020.acl-main.624', '10.18653/v1/2020.acl-main.625', '10.18653/v1/2020.acl-main.626', '10.18653/v1/2020.acl-main.627', '10.18653/v1/2020.acl-main.628', '10.18653/v1/2020.acl-main.629', '10.18653/v1/2020.acl-main.630', '10.18653/v1/2020.acl-main.631', '10.18653/v1/2020.acl-main.632', '10.18653/v1/2020.acl-main.633', '10.18653/v1/2020.acl-main.634', '10.18653/v1/2020.acl-main.635', '10.18653/v1/2020.acl-main.636', '10.18653/v1/2020.acl-main.637', '10.18653/v1/2020.acl-main.638', '10.18653/v1/2020.acl-main.639', '10.18653/v1/2020.acl-main.640', '10.18653/v1/2020.acl-main.641', '10.18653/v1/2020.acl-main.642', '10.18653/v1/2020.acl-main.643', '10.18653/v1/2020.acl-main.644', '10.18653/v1/2020.acl-main.645', '10.18653/v1/2020.acl-main.646', '10.18653/v1/2020.acl-main.647', '10.18653/v1/2020.acl-main.648', '10.18653/v1/2020.acl-main.649', '10.18653/v1/2020.acl-main.650', '10.18653/v1/2020.acl-main.651', '10.18653/v1/2020.acl-main.652', '10.18653/v1/2020.acl-main.653', '10.18653/v1/2020.acl-main.654', '10.18653/v1/2020.acl-main.655', '10.18653/v1/2020.acl-main.656', '10.18653/v1/2020.acl-main.657', '10.18653/v1/2020.acl-main.658', '10.18653/v1/2020.acl-main.659', '10.18653/v1/2020.acl-main.660', '10.18653/v1/2020.acl-main.661', '10.18653/v1/2020.acl-main.662', '10.18653/v1/2020.acl-main.663', '10.18653/v1/2020.acl-main.664', '10.18653/v1/2020.acl-main.665', '10.18653/v1/2020.acl-main.666', '10.18653/v1/2020.acl-main.667', '10.18653/v1/2020.acl-main.668', '10.18653/v1/2020.acl-main.669', '10.18653/v1/2020.acl-main.670', '10.18653/v1/2020.acl-main.671', '10.18653/v1/2020.acl-main.672', '10.18653/v1/2020.acl-main.673', '10.18653/v1/2020.acl-main.674', '10.18653/v1/2020.acl-main.675', '10.18653/v1/2020.acl-main.676', '10.18653/v1/2020.acl-main.677', '10.18653/v1/2020.acl-main.678', '10.18653/v1/2020.acl-main.679', '10.18653/v1/2020.acl-main.680', '10.18653/v1/2020.acl-main.681', '10.18653/v1/2020.acl-main.682', '10.18653/v1/2020.acl-main.683', '10.18653/v1/2020.acl-main.684', '10.18653/v1/2020.acl-main.685', '10.18653/v1/2020.acl-main.686', '10.18653/v1/2020.acl-main.687', '10.18653/v1/2020.acl-main.688', '10.18653/v1/2020.acl-main.689', '10.18653/v1/2020.acl-main.690', '10.18653/v1/2020.acl-main.691', '10.18653/v1/2020.acl-main.692', '10.18653/v1/2020.acl-main.693', '10.18653/v1/2020.acl-main.694', '10.18653/v1/2020.acl-main.695', '10.18653/v1/2020.acl-main.696', '10.18653/v1/2020.acl-main.697', '10.18653/v1/2020.acl-main.698', '10.18653/v1/2020.acl-main.699', '10.18653/v1/2020.acl-main.700', '10.18653/v1/2020.acl-main.701', '10.18653/v1/2020.acl-main.702', '10.18653/v1/2020.acl-main.703', '10.18653/v1/2020.acl-main.704', '10.18653/v1/2020.acl-main.705', '10.18653/v1/2020.acl-main.706', '10.18653/v1/2020.acl-main.707', '10.18653/v1/2020.acl-main.708', '10.18653/v1/2020.acl-main.709', '10.18653/v1/2020.acl-main.710', '10.18653/v1/2020.acl-main.711', '10.18653/v1/2020.acl-main.712', '10.18653/v1/2020.acl-main.713', '10.18653/v1/2020.acl-main.714', '10.18653/v1/2020.acl-main.715', '10.18653/v1/2020.acl-main.716', '10.18653/v1/2020.acl-main.717', '10.18653/v1/2020.acl-main.718', '10.18653/v1/2020.acl-main.719', '10.18653/v1/2020.acl-main.720', '10.18653/v1/2020.acl-main.721', '10.18653/v1/2020.acl-main.722', '10.18653/v1/2020.acl-main.723', '10.18653/v1/2020.acl-main.724', '10.18653/v1/2020.acl-main.725', '10.18653/v1/2020.acl-main.726', '10.18653/v1/2020.acl-main.727', '10.18653/v1/2020.acl-main.728', '10.18653/v1/2020.acl-main.729', '10.18653/v1/2020.acl-main.730', '10.18653/v1/2020.acl-main.731', '10.18653/v1/2020.acl-main.732', '10.18653/v1/2020.acl-main.733', '10.18653/v1/2020.acl-main.734', '10.18653/v1/2020.acl-main.735', '10.18653/v1/2020.acl-main.736', '10.18653/v1/2020.acl-main.737', '10.18653/v1/2020.acl-main.738', '10.18653/v1/2020.acl-main.739', '10.18653/v1/2020.acl-main.740', '10.18653/v1/2020.acl-main.741', '10.18653/v1/2020.acl-main.742', '10.18653/v1/2020.acl-main.743', '10.18653/v1/2020.acl-main.744', '10.18653/v1/2020.acl-main.745', '10.18653/v1/2020.acl-main.746', '10.18653/v1/2020.acl-main.747', '10.18653/v1/2020.acl-main.748', '10.18653/v1/2020.acl-main.749', '10.18653/v1/2020.acl-main.750', '10.18653/v1/2020.acl-main.751', '10.18653/v1/2020.acl-main.752', '10.18653/v1/2020.acl-main.753', '10.18653/v1/2020.acl-main.754', '10.18653/v1/2020.acl-main.755', '10.18653/v1/2020.acl-main.756', '10.18653/v1/2020.acl-main.757', '10.18653/v1/2020.acl-main.758', '10.18653/v1/2020.acl-main.759', '10.18653/v1/2020.acl-main.760', '10.18653/v1/2020.acl-main.761', '10.18653/v1/2020.acl-main.762', '10.18653/v1/2020.acl-main.763', '10.18653/v1/2020.acl-main.764', '10.18653/v1/2020.acl-main.765', '10.18653/v1/2020.acl-main.766', '10.18653/v1/2020.acl-main.767', '10.18653/v1/2020.acl-main.768', '10.18653/v1/2020.acl-main.769', '10.18653/v1/2020.acl-main.770', '10.18653/v1/2020.acl-main.771', '10.18653/v1/2020.acl-main.772', '10.18653/v1/2020.acl-main.773', '10.18653/v1/2020.acl-main.774', '10.18653/v1/2020.acl-main.775', '10.18653/v1/2020.acl-main.776', '10.18653/v1/2020.acl-main.777', '10.18653/v1/2020.acl-main.778', '10.18653/v1/2020.acl-demos.1', '10.18653/v1/2020.acl-demos.2', '10.18653/v1/2020.acl-demos.3', '10.18653/v1/2020.acl-demos.4', '10.18653/v1/2020.acl-demos.5', '10.18653/v1/2020.acl-demos.6', '10.18653/v1/2020.acl-demos.7', '10.18653/v1/2020.acl-demos.8', '10.18653/v1/2020.acl-demos.9', '10.18653/v1/2020.acl-demos.10', '10.18653/v1/2020.acl-demos.11', '10.18653/v1/2020.acl-demos.12', '10.18653/v1/2020.acl-demos.13', '10.18653/v1/2020.acl-demos.14', '10.18653/v1/2020.acl-demos.15', '10.18653/v1/2020.acl-demos.16', '10.18653/v1/2020.acl-demos.17', '10.18653/v1/2020.acl-demos.18', '10.18653/v1/2020.acl-demos.19', '10.18653/v1/2020.acl-demos.20', '10.18653/v1/2020.acl-demos.21', '10.18653/v1/2020.acl-demos.22', '10.18653/v1/2020.acl-demos.23', '10.18653/v1/2020.acl-demos.24', '10.18653/v1/2020.acl-demos.25', '10.18653/v1/2020.acl-demos.26', '10.18653/v1/2020.acl-demos.27', '10.18653/v1/2020.acl-demos.28', '10.18653/v1/2020.acl-demos.29', '10.18653/v1/2020.acl-demos.30', '10.18653/v1/2020.acl-demos.31', '10.18653/v1/2020.acl-demos.32', '10.18653/v1/2020.acl-demos.33', '10.18653/v1/2020.acl-demos.34', '10.18653/v1/2020.acl-demos.35', '10.18653/v1/2020.acl-demos.36', '10.18653/v1/2020.acl-demos.37', '10.18653/v1/2020.acl-demos.38', '10.18653/v1/2020.acl-demos.39', '10.18653/v1/2020.acl-demos.40', '10.18653/v1/2020.acl-demos.41', '10.18653/v1/2020.acl-demos.42', '10.18653/v1/2020.acl-demos.43', '10.18653/v1/2020.acl-srw.1', '10.18653/v1/2020.acl-srw.2', '10.18653/v1/2020.acl-srw.3', '10.18653/v1/2020.acl-srw.4', '10.18653/v1/2020.acl-srw.5', '10.18653/v1/2020.acl-srw.6', '10.18653/v1/2020.acl-srw.7', '10.18653/v1/2020.acl-srw.8', '10.18653/v1/2020.acl-srw.9', '10.18653/v1/2020.acl-srw.10', '10.18653/v1/2020.acl-srw.11', '10.18653/v1/2020.acl-srw.12', '10.18653/v1/2020.acl-srw.13', '10.18653/v1/2020.acl-srw.14', '10.18653/v1/2020.acl-srw.15', '10.18653/v1/2020.acl-srw.16', '10.18653/v1/2020.acl-srw.17', '10.18653/v1/2020.acl-srw.18', '10.18653/v1/2020.acl-srw.19', '10.18653/v1/2020.acl-srw.20', '10.18653/v1/2020.acl-srw.22', '10.18653/v1/2020.acl-srw.23', '10.18653/v1/2020.acl-srw.24', '10.18653/v1/2020.acl-srw.25', '10.18653/v1/2020.acl-srw.26', '10.18653/v1/2020.acl-srw.27', '10.18653/v1/2020.acl-srw.28', '10.18653/v1/2020.acl-srw.29', '10.18653/v1/2020.acl-srw.30', '10.18653/v1/2020.acl-srw.31', '10.18653/v1/2020.acl-srw.32', '10.18653/v1/2020.acl-srw.33', '10.18653/v1/2020.acl-srw.34', '10.18653/v1/2020.acl-srw.35', '10.18653/v1/2020.acl-srw.36', '10.18653/v1/2020.acl-srw.37', '10.18653/v1/2020.acl-srw.38', '10.18653/v1/2020.acl-srw.39', '10.18653/v1/2020.acl-srw.40', '10.18653/v1/2020.acl-srw.41', '10.18653/v1/2020.acl-srw.42', '10.18653/v1/2020.acl-srw.43', '10.18653/v1/2020.acl-tutorials.1', '10.18653/v1/2020.acl-tutorials.2', '10.18653/v1/2020.acl-tutorials.3', '10.18653/v1/2020.acl-tutorials.4', '10.18653/v1/2020.acl-tutorials.5', '10.18653/v1/2020.acl-tutorials.6', '10.18653/v1/2020.acl-tutorials.7', '10.18653/v1/2020.acl-tutorials.8', '10.18653/v1/2020.nuse-1.1', '10.18653/v1/2020.nuse-1.2', '10.18653/v1/2020.nuse-1.3', '10.18653/v1/2020.nuse-1.4', '10.18653/v1/2020.nuse-1.5', '10.18653/v1/2020.nuse-1.6', '10.18653/v1/2020.nuse-1.7', '10.18653/v1/2020.nuse-1.8', '10.18653/v1/2020.nuse-1.9', '10.18653/v1/2020.nuse-1.10', '10.18653/v1/2020.nuse-1.11', '10.18653/v1/2020.nuse-1.12', '10.18653/v1/2020.nuse-1.13', '10.18653/v1/2020.nuse-1.14', '10.18653/v1/2020.nuse-1.15', '10.18653/v1/p19-1001', '10.18653/v1/p19-1002', '10.18653/v1/p19-1003', '10.18653/v1/p19-1004', '10.18653/v1/p19-1005', '10.18653/v1/p19-1006', '10.18653/v1/p19-1007', '10.18653/v1/p19-1008', '10.18653/v1/p19-1009', '10.18653/v1/p19-1010', '10.18653/v1/p19-1011', '10.18653/v1/p19-1012', '10.18653/v1/p19-1013', '10.18653/v1/p19-1014', '10.18653/v1/p19-1015', '10.18653/v1/p19-1016', '10.18653/v1/p19-1017', '10.18653/v1/p19-1018', '10.18653/v1/p19-1019', '10.18653/v1/p19-1020', '10.18653/v1/p19-1021', '10.18653/v1/p19-1022', '10.18653/v1/p19-1023', '10.18653/v1/p19-1024', '10.18653/v1/p19-1025', '10.18653/v1/p19-1026', '10.18653/v1/p19-1027', '10.18653/v1/p19-1028', '10.18653/v1/p19-1029', '10.18653/v1/p19-1030', '10.18653/v1/p19-1031', '10.18653/v1/p19-1032', '10.18653/v1/p19-1033', '10.18653/v1/p19-1034', '10.18653/v1/p19-1035', '10.18653/v1/p19-1036', '10.18653/v1/p19-1037', '10.18653/v1/p19-1038', '10.18653/v1/p19-1039', '10.18653/v1/p19-1040', '10.18653/v1/p19-1041', '10.18653/v1/p19-1042', '10.18653/v1/p19-1043', '10.18653/v1/p19-1044', '10.18653/v1/p19-1045', '10.18653/v1/p19-1046', '10.18653/v1/p19-1047', '10.18653/v1/p19-1048', '10.18653/v1/p19-1049', '10.18653/v1/p19-1050', '10.18653/v1/p19-1051', '10.18653/v1/p19-1052', '10.18653/v1/p19-1053', '10.18653/v1/p19-1054', '10.18653/v1/p19-1055', '10.18653/v1/p19-1056', '10.18653/v1/p19-1057', '10.18653/v1/p19-1058', '10.18653/v1/p19-1059', '10.18653/v1/p19-1060', '10.18653/v1/p19-1061', '10.18653/v1/p19-1062', '10.18653/v1/p19-1063', '10.18653/v1/p19-1064', '10.18653/v1/p19-1065', '10.18653/v1/p19-1066', '10.18653/v1/p19-1067', '10.18653/v1/p19-1068', '10.18653/v1/p19-1069', '10.18653/v1/p19-1070', '10.18653/v1/p19-1071', '10.18653/v1/p19-1072', '10.18653/v1/p19-1073', '10.18653/v1/p19-1074', '10.18653/v1/p19-1075', '10.18653/v1/p19-1076', '10.18653/v1/p19-1077', '10.18653/v1/p19-1078', '10.18653/v1/p19-1079', '10.18653/v1/p19-1080', '10.18653/v1/p19-1081', '10.18653/v1/p19-1082', '10.18653/v1/p19-1083', '10.18653/v1/p19-1084', '10.18653/v1/p19-1085', '10.18653/v1/p19-1086', '10.18653/v1/p19-1087', '10.18653/v1/p19-1088', '10.18653/v1/p19-1089', '10.18653/v1/p19-1090', '10.18653/v1/p19-1091', '10.18653/v1/p19-1092', '10.18653/v1/p19-1093', '10.18653/v1/p19-1094', '10.18653/v1/p19-1095', '10.18653/v1/p19-1096', '10.18653/v1/p19-1097', '10.18653/v1/p19-1098', '10.18653/v1/p19-1099', '10.18653/v1/p19-1100', '10.18653/v1/p19-1101', '10.18653/v1/p19-1102', '10.18653/v1/p19-1103', '10.18653/v1/p19-1104', '10.18653/v1/p19-1105', '10.18653/v1/p19-1106', '10.18653/v1/p19-1107', '10.18653/v1/p19-1108', '10.18653/v1/p19-1109', '10.18653/v1/p19-1110', '10.18653/v1/p19-1111', '10.18653/v1/p19-1112', '10.18653/v1/p19-1113', '10.18653/v1/p19-1114', '10.18653/v1/p19-1115', '10.18653/v1/p19-1116', '10.18653/v1/p19-1117', '10.18653/v1/p19-1118', '10.18653/v1/p19-1119', '10.18653/v1/p19-1120', '10.18653/v1/p19-1121', '10.18653/v1/p19-1122', '10.18653/v1/p19-1123', '10.18653/v1/p19-1124', '10.18653/v1/p19-1125', '10.18653/v1/p19-1126', '10.18653/v1/p19-1127', '10.18653/v1/p19-1128', '10.18653/v1/p19-1129', '10.18653/v1/p19-1130', '10.18653/v1/p19-1131', '10.18653/v1/p19-1132', '10.18653/v1/p19-1133', '10.18653/v1/p19-1134', '10.18653/v1/p19-1135', '10.18653/v1/p19-1136', '10.18653/v1/p19-1137', '10.18653/v1/p19-1138', '10.18653/v1/p19-1139', '10.18653/v1/p19-1140', '10.18653/v1/p19-1141', '10.18653/v1/p19-1142', '10.18653/v1/p19-1143', '10.18653/v1/p19-1144', '10.18653/v1/p19-1145', '10.18653/v1/p19-1146', '10.18653/v1/p19-1147', '10.18653/v1/p19-1148', '10.18653/v1/p19-1149', '10.18653/v1/p19-1150', '10.18653/v1/p19-1151', '10.18653/v1/p19-1152', '10.18653/v1/p19-1153', '10.18653/v1/p19-1154', '10.18653/v1/p19-1155', '10.18653/v1/p19-1156', '10.18653/v1/p19-1157', '10.18653/v1/p19-1158', '10.18653/v1/p19-1159', '10.18653/v1/p19-1160', '10.18653/v1/p19-1161', '10.18653/v1/p19-1162', '10.18653/v1/p19-1163', '10.18653/v1/p19-1164', '10.18653/v1/p19-1165', '10.18653/v1/p19-1166', '10.18653/v1/p19-1167', '10.18653/v1/p19-1168', '10.18653/v1/p19-1169', '10.18653/v1/p19-1170', '10.18653/v1/p19-1171', '10.18653/v1/p19-1172', '10.18653/v1/p19-1173', '10.18653/v1/p19-1174', '10.18653/v1/p19-1175', '10.18653/v1/p19-1176', '10.18653/v1/p19-1177', '10.18653/v1/p19-1178', '10.18653/v1/p19-1179', '10.18653/v1/p19-1180', '10.18653/v1/p19-1181', '10.18653/v1/p19-1182', '10.18653/v1/p19-1183', '10.18653/v1/p19-1184', '10.18653/v1/p19-1185', '10.18653/v1/p19-1186', '10.18653/v1/p19-1187', '10.18653/v1/p19-1188', '10.18653/v1/p19-1189', '10.18653/v1/p19-1190', '10.18653/v1/p19-1191', '10.18653/v1/p19-1192', '10.18653/v1/p19-1193', '10.18653/v1/p19-1194', '10.18653/v1/p19-1195', '10.18653/v1/p19-1196', '10.18653/v1/p19-1197', '10.18653/v1/p19-1198', '10.18653/v1/p19-1199', '10.18653/v1/p19-1200', '10.18653/v1/p19-1201', '10.18653/v1/p19-1202', '10.18653/v1/p19-1203', '10.18653/v1/p19-1204', '10.18653/v1/p19-1205', '10.18653/v1/p19-1206', '10.18653/v1/p19-1207', '10.18653/v1/p19-1208', '10.18653/v1/p19-1209', '10.18653/v1/p19-1210', '10.18653/v1/p19-1211', '10.18653/v1/p19-1212', '10.18653/v1/p19-1213', '10.18653/v1/p19-1214', '10.18653/v1/p19-1215', '10.18653/v1/p19-1216', '10.18653/v1/p19-1217', '10.18653/v1/p19-1218', '10.18653/v1/p19-1219', '10.18653/v1/p19-1220', '10.18653/v1/p19-1221', '10.18653/v1/p19-1222', '10.18653/v1/p19-1223', '10.18653/v1/p19-1224', '10.18653/v1/p19-1225', '10.18653/v1/p19-1226', '10.18653/v1/p19-1227', '10.18653/v1/p19-1228', '10.18653/v1/p19-1229', '10.18653/v1/p19-1230', '10.18653/v1/p19-1231', '10.18653/v1/p19-1232', '10.18653/v1/p19-1233', '10.18653/v1/p19-1234', '10.18653/v1/p19-1235', '10.18653/v1/p19-1236', '10.18653/v1/p19-1237', '10.18653/v1/p19-1238', '10.18653/v1/p19-1239', '10.18653/v1/p19-1240', '10.18653/v1/p19-1241', '10.18653/v1/p19-1242', '10.18653/v1/p19-1243', '10.18653/v1/p19-1244', '10.18653/v1/p19-1245', '10.18653/v1/p19-1246', '10.18653/v1/p19-1247', '10.18653/v1/p19-1248', '10.18653/v1/p19-1249', '10.18653/v1/p19-1250', '10.18653/v1/p19-1251', '10.18653/v1/p19-1252', '10.18653/v1/p19-1253', '10.18653/v1/p19-1254', '10.18653/v1/p19-1255', '10.18653/v1/p19-1256', '10.18653/v1/p19-1257', '10.18653/v1/p19-1258', '10.18653/v1/p19-1259', '10.18653/v1/p19-1260', '10.18653/v1/p19-1261', '10.18653/v1/p19-1262', '10.18653/v1/p19-1263', '10.18653/v1/p19-1264', '10.18653/v1/p19-1265', '10.18653/v1/p19-1266', '10.18653/v1/p19-1267', '10.18653/v1/p19-1268', '10.18653/v1/p19-1269', '10.18653/v1/p19-1270', '10.18653/v1/p19-1271', '10.18653/v1/p19-1272', '10.18653/v1/p19-1273', '10.18653/v1/p19-1274', '10.18653/v1/p19-1275', '10.18653/v1/p19-1276', '10.18653/v1/p19-1277', '10.18653/v1/p19-1278', '10.18653/v1/p19-1279', '10.18653/v1/p19-1280', '10.18653/v1/p19-1281', '10.18653/v1/p19-1282', '10.18653/v1/p19-1283', '10.18653/v1/p19-1284', '10.18653/v1/p19-1285', '10.18653/v1/p19-1286', '10.18653/v1/p19-1287', '10.18653/v1/p19-1288', '10.18653/v1/p19-1289', '10.18653/v1/p19-1290', '10.18653/v1/p19-1291', '10.18653/v1/p19-1292', '10.18653/v1/p19-1293', '10.18653/v1/p19-1294', '10.18653/v1/p19-1295', '10.18653/v1/p19-1296', '10.18653/v1/p19-1297', '10.18653/v1/p19-1298', '10.18653/v1/p19-1299', '10.18653/v1/p19-1300', '10.18653/v1/p19-1301', '10.18653/v1/p19-1302', '10.18653/v1/p19-1303', '10.18653/v1/p19-1304', '10.18653/v1/p19-1305', '10.18653/v1/p19-1306', '10.18653/v1/p19-1307', '10.18653/v1/p19-1308', '10.18653/v1/p19-1309', '10.18653/v1/p19-1310', '10.18653/v1/p19-1311', '10.18653/v1/p19-1312', '10.18653/v1/p19-1313', '10.18653/v1/p19-1314', '10.18653/v1/p19-1315', '10.18653/v1/p19-1316', '10.18653/v1/p19-1317', '10.18653/v1/p19-1318', '10.18653/v1/p19-1319', '10.18653/v1/p19-1320', '10.18653/v1/p19-1321', '10.18653/v1/p19-1322', '10.18653/v1/p19-1323', '10.18653/v1/p19-1324', '10.18653/v1/p19-1325', '10.18653/v1/p19-1326', '10.18653/v1/p19-1327', '10.18653/v1/p19-1328', '10.18653/v1/p19-1329', '10.18653/v1/p19-1330', '10.18653/v1/p19-1331', '10.18653/v1/p19-1332', '10.18653/v1/p19-1333', '10.18653/v1/p19-1334', '10.18653/v1/p19-1335', '10.18653/v1/p19-1336', '10.18653/v1/p19-1337', '10.18653/v1/p19-1338', '10.18653/v1/p19-1339', '10.18653/v1/p19-1340', '10.18653/v1/p19-1341', '10.18653/v1/p19-1342', '10.18653/v1/p19-1343', '10.18653/v1/p19-1344', '10.18653/v1/p19-1345', '10.18653/v1/p19-1346', '10.18653/v1/p19-1347', '10.18653/v1/p19-1348', '10.18653/v1/p19-1349', '10.18653/v1/p19-1350', '10.18653/v1/p19-1351', '10.18653/v1/p19-1352', '10.18653/v1/p19-1353', '10.18653/v1/p19-1354', '10.18653/v1/p19-1355', '10.18653/v1/p19-1356', '10.18653/v1/p19-1357', '10.18653/v1/p19-1358', '10.18653/v1/p19-1359', '10.18653/v1/p19-1360', '10.18653/v1/p19-1361', '10.18653/v1/p19-1362', '10.18653/v1/p19-1363', '10.18653/v1/p19-1364', '10.18653/v1/p19-1365', '10.18653/v1/p19-1366', '10.18653/v1/p19-1367', '10.18653/v1/p19-1368', '10.18653/v1/p19-1369', '10.18653/v1/p19-1370', '10.18653/v1/p19-1371', '10.18653/v1/p19-1372', '10.18653/v1/p19-1373', '10.18653/v1/p19-1374', '10.18653/v1/p19-1375', '10.18653/v1/p19-1376', '10.18653/v1/p19-1377', '10.18653/v1/p19-1378', '10.18653/v1/p19-1379', '10.18653/v1/p19-1380', '10.18653/v1/p19-1381', '10.18653/v1/p19-1382', '10.18653/v1/p19-1383', '10.18653/v1/p19-1384', '10.18653/v1/p19-1385', '10.18653/v1/p19-1386', '10.18653/v1/p19-1387', '10.18653/v1/p19-1388', '10.18653/v1/p19-1389', '10.18653/v1/p19-1390', '10.18653/v1/p19-1391', '10.18653/v1/p19-1392', '10.18653/v1/p19-1393', '10.18653/v1/p19-1394', '10.18653/v1/p19-1395', '10.18653/v1/p19-1396', '10.18653/v1/p19-1397', '10.18653/v1/p19-1398', '10.18653/v1/p19-1399', '10.18653/v1/p19-1400', '10.18653/v1/p19-1401', '10.18653/v1/p19-1402', '10.18653/v1/p19-1403', '10.18653/v1/p19-1404', '10.18653/v1/p19-1405', '10.18653/v1/p19-1406', '10.18653/v1/p19-1407', '10.18653/v1/p19-1408', '10.18653/v1/p19-1409', '10.18653/v1/p19-1410', '10.18653/v1/p19-1411', '10.18653/v1/p19-1412', '10.18653/v1/p19-1413', '10.18653/v1/p19-1414', '10.18653/v1/p19-1415', '10.18653/v1/p19-1416', '10.18653/v1/p19-1417', '10.18653/v1/p19-1418', '10.18653/v1/p19-1419', '10.18653/v1/p19-1420', '10.18653/v1/p19-1421', '10.18653/v1/p19-1422', '10.18653/v1/p19-1423', '10.18653/v1/p19-1424', '10.18653/v1/p19-1425', '10.18653/v1/p19-1426', '10.18653/v1/p19-1427', '10.18653/v1/p19-1428', '10.18653/v1/p19-1429', '10.18653/v1/p19-1430', '10.18653/v1/p19-1431', '10.18653/v1/p19-1432', '10.18653/v1/p19-1433', '10.18653/v1/p19-1434', '10.18653/v1/p19-1435', '10.18653/v1/p19-1436', '10.18653/v1/p19-1437', '10.18653/v1/p19-1438', '10.18653/v1/p19-1439', '10.18653/v1/p19-1440', '10.18653/v1/p19-1441', '10.18653/v1/p19-1442', '10.18653/v1/p19-1443', '10.18653/v1/p19-1444', '10.18653/v1/p19-1445', '10.18653/v1/p19-1446', '10.18653/v1/p19-1447', '10.18653/v1/p19-1448', '10.18653/v1/p19-1449', '10.18653/v1/p19-1450', '10.18653/v1/p19-1451', '10.18653/v1/p19-1452', '10.18653/v1/p19-1453', '10.18653/v1/p19-1454', '10.18653/v1/p19-1455', '10.18653/v1/p19-1456', '10.18653/v1/p19-1457', '10.18653/v1/p19-1458', '10.18653/v1/p19-1459', '10.18653/v1/p19-1460', '10.18653/v1/p19-1461', '10.18653/v1/p19-1462', '10.18653/v1/p19-1463', '10.18653/v1/p19-1464', '10.18653/v1/p19-1465', '10.18653/v1/p19-1466', '10.18653/v1/p19-1467', '10.18653/v1/p19-1468', '10.18653/v1/p19-1469', '10.18653/v1/p19-1470', '10.18653/v1/p19-1471', '10.18653/v1/p19-1472', '10.18653/v1/p19-1473', '10.18653/v1/p19-1474', '10.18653/v1/p19-1475', '10.18653/v1/p19-1476', '10.18653/v1/p19-1477', '10.18653/v1/p19-1478', '10.18653/v1/p19-1479', '10.18653/v1/p19-1480', '10.18653/v1/p19-1481', '10.18653/v1/p19-1482', '10.18653/v1/p19-1483', '10.18653/v1/p19-1484', '10.18653/v1/p19-1485', '10.18653/v1/p19-1486', '10.18653/v1/p19-1487', '10.18653/v1/p19-1488', '10.18653/v1/p19-1489', '10.18653/v1/p19-1490', '10.18653/v1/p19-1491', '10.18653/v1/p19-1492', '10.18653/v1/p19-1493', '10.18653/v1/p19-1494', '10.18653/v1/p19-1495', '10.18653/v1/p19-1496', '10.18653/v1/p19-1497', '10.18653/v1/p19-1498', '10.18653/v1/p19-1499', '10.18653/v1/p19-1500', '10.18653/v1/p19-1501', '10.18653/v1/p19-1502', '10.18653/v1/p19-1503', '10.18653/v1/p19-1504', '10.18653/v1/p19-1505', '10.18653/v1/p19-1506', '10.18653/v1/p19-1507', '10.18653/v1/p19-1508', '10.18653/v1/p19-1509', '10.18653/v1/p19-1510', '10.18653/v1/p19-1511', '10.18653/v1/p19-1512', '10.18653/v1/p19-1513', '10.18653/v1/p19-1514', '10.18653/v1/p19-1515', '10.18653/v1/p19-1516', '10.18653/v1/p19-1517', '10.18653/v1/p19-1518', '10.18653/v1/p19-1519', '10.18653/v1/p19-1520', '10.18653/v1/p19-1521', '10.18653/v1/p19-1522', '10.18653/v1/p19-1523', '10.18653/v1/p19-1524', '10.18653/v1/p19-1525', '10.18653/v1/p19-1526', '10.18653/v1/p19-1527', '10.18653/v1/p19-1528', '10.18653/v1/p19-1529', '10.18653/v1/p19-1530', '10.18653/v1/p19-1531', '10.18653/v1/p19-1532', '10.18653/v1/p19-1533', '10.18653/v1/p19-1534', '10.18653/v1/p19-1535', '10.18653/v1/p19-1536', '10.18653/v1/p19-1537', '10.18653/v1/p19-1538', '10.18653/v1/p19-1539', '10.18653/v1/p19-1540', '10.18653/v1/p19-1541', '10.18653/v1/p19-1542', '10.18653/v1/p19-1543', '10.18653/v1/p19-1544', '10.18653/v1/p19-1545', '10.18653/v1/p19-1546', '10.18653/v1/p19-1547', '10.18653/v1/p19-1548', '10.18653/v1/p19-1549', '10.18653/v1/p19-1550', '10.18653/v1/p19-1551', '10.18653/v1/p19-1552', '10.18653/v1/p19-1553', '10.18653/v1/p19-1554', '10.18653/v1/p19-1555', '10.18653/v1/p19-1556', '10.18653/v1/p19-1557', '10.18653/v1/p19-1558', '10.18653/v1/p19-1559', '10.18653/v1/p19-1560', '10.18653/v1/p19-1561', '10.18653/v1/p19-1562', '10.18653/v1/p19-1563', '10.18653/v1/p19-1564', '10.18653/v1/p19-1565', '10.18653/v1/p19-1566', '10.18653/v1/p19-1567', '10.18653/v1/p19-1568', '10.18653/v1/p19-1569', '10.18653/v1/p19-1570', '10.18653/v1/p19-1571', '10.18653/v1/p19-1572', '10.18653/v1/p19-1573', '10.18653/v1/p19-1574', '10.18653/v1/p19-1575', '10.18653/v1/p19-1576', '10.18653/v1/p19-1577', '10.18653/v1/p19-1578', '10.18653/v1/p19-1579', '10.18653/v1/p19-1580', '10.18653/v1/p19-1581', '10.18653/v1/p19-1582', '10.18653/v1/p19-1583', '10.18653/v1/p19-1584', '10.18653/v1/p19-1585', '10.18653/v1/p19-1586', '10.18653/v1/p19-1587', '10.18653/v1/p19-1588', '10.18653/v1/p19-1589', '10.18653/v1/p19-1590', '10.18653/v1/p19-1591', '10.18653/v1/p19-1592', '10.18653/v1/p19-1593', '10.18653/v1/p19-1594', '10.18653/v1/p19-1595', '10.18653/v1/p19-1596', '10.18653/v1/p19-1597', '10.18653/v1/p19-1598', '10.18653/v1/p19-1599', '10.18653/v1/p19-1600', '10.18653/v1/p19-1601', '10.18653/v1/p19-1602', '10.18653/v1/p19-1603', '10.18653/v1/p19-1604', '10.18653/v1/p19-1605', '10.18653/v1/p19-1606', '10.18653/v1/p19-1607', '10.18653/v1/p19-1608', '10.18653/v1/p19-1609', '10.18653/v1/p19-1610', '10.18653/v1/p19-1611', '10.18653/v1/p19-1612', '10.18653/v1/p19-1613', '10.18653/v1/p19-1614', '10.18653/v1/p19-1615', '10.18653/v1/p19-1616', '10.18653/v1/p19-1617', '10.18653/v1/p19-1618', '10.18653/v1/p19-1619', '10.18653/v1/p19-1620', '10.18653/v1/p19-1621', '10.18653/v1/p19-1622', '10.18653/v1/p19-1623', '10.18653/v1/p19-1624', '10.18653/v1/p19-1625', '10.18653/v1/p19-1626', '10.18653/v1/p19-1627', '10.18653/v1/p19-1628', '10.18653/v1/p19-1629', '10.18653/v1/p19-1630', '10.18653/v1/p19-1631', '10.18653/v1/p19-1632', '10.18653/v1/p19-1633', '10.18653/v1/p19-1634', '10.18653/v1/p19-1635', '10.18653/v1/p19-1636', '10.18653/v1/p19-1637', '10.18653/v1/p19-1638', '10.18653/v1/p19-1639', '10.18653/v1/p19-1640', '10.18653/v1/p19-1641', '10.18653/v1/p19-1642', '10.18653/v1/p19-1643', '10.18653/v1/p19-1644', '10.18653/v1/p19-1645', '10.18653/v1/p19-1646', '10.18653/v1/p19-1647', '10.18653/v1/p19-1648', '10.18653/v1/p19-1649', '10.18653/v1/p19-1650', '10.18653/v1/p19-1651', '10.18653/v1/p19-1652', '10.18653/v1/p19-1653', '10.18653/v1/p19-1654', '10.18653/v1/p19-1655', '10.18653/v1/p19-1656', '10.18653/v1/p19-1657', '10.18653/v1/p19-1658', '10.18653/v1/p19-1659', '10.18653/v1/p19-1660', '10.18653/v1/p19-2001', '10.18653/v1/p19-2002', '10.18653/v1/p19-2003', '10.18653/v1/p19-2004', '10.18653/v1/p19-2005', '10.18653/v1/p19-2006', '10.18653/v1/p19-2007', '10.18653/v1/p19-2008', '10.18653/v1/p19-2009', '10.18653/v1/p19-2010', '10.18653/v1/p19-2011', '10.18653/v1/p19-2012', '10.18653/v1/p19-2013', '10.18653/v1/p19-2014', '10.18653/v1/p19-2015', '10.18653/v1/p19-2016', '10.18653/v1/p19-2017', '10.18653/v1/p19-2018', '10.18653/v1/p19-2019', '10.18653/v1/p19-2020', '10.18653/v1/p19-2021', '10.18653/v1/p19-2022', '10.18653/v1/p19-2023', '10.18653/v1/p19-2024', '10.18653/v1/p19-2025', '10.18653/v1/p19-2026', '10.18653/v1/p19-2027', '10.18653/v1/p19-2028', '10.18653/v1/p19-2029', '10.18653/v1/p19-2030', '10.18653/v1/p19-2031', '10.18653/v1/p19-2032', '10.18653/v1/p19-2033', '10.18653/v1/p19-2034', '10.18653/v1/p19-2035', '10.18653/v1/p19-2036', '10.18653/v1/p19-2037', '10.18653/v1/p19-2038', '10.18653/v1/p19-2039', '10.18653/v1/p19-2040', '10.18653/v1/p19-2041', '10.18653/v1/p19-2042', '10.18653/v1/p19-2043', '10.18653/v1/p19-2044', '10.18653/v1/p19-2045', '10.18653/v1/p19-2046', '10.18653/v1/p19-2047', '10.18653/v1/p19-2048', '10.18653/v1/p19-2049', '10.18653/v1/p19-2050', '10.18653/v1/p19-2051', '10.18653/v1/p19-2052', '10.18653/v1/p19-2053', '10.18653/v1/p19-2054', '10.18653/v1/p19-2055', '10.18653/v1/p19-2056', '10.18653/v1/p19-2057', '10.18653/v1/p19-2058', '10.18653/v1/p19-2059', '10.18653/v1/p19-2060', '10.18653/v1/p19-3001', '10.18653/v1/p19-3002', '10.18653/v1/p19-3003', '10.18653/v1/p19-3004', '10.18653/v1/p19-3005', '10.18653/v1/p19-3006', '10.18653/v1/p19-3007', '10.18653/v1/p19-3008', '10.18653/v1/p19-3009', '10.18653/v1/p19-3010', '10.18653/v1/p19-3011', '10.18653/v1/p19-3012', '10.18653/v1/p19-3013', '10.18653/v1/p19-3014', '10.18653/v1/p19-3015', '10.18653/v1/p19-3016', '10.18653/v1/p19-3017', '10.18653/v1/p19-3018', '10.18653/v1/p19-3019', '10.18653/v1/p19-3020', '10.18653/v1/p19-3021', '10.18653/v1/p19-3022', '10.18653/v1/p19-3023', '10.18653/v1/p19-3024', '10.18653/v1/p19-3025', '10.18653/v1/p19-3026', '10.18653/v1/p19-3027', '10.18653/v1/p19-3028', '10.18653/v1/p19-3029', '10.18653/v1/p19-3030', '10.18653/v1/p19-3031', '10.18653/v1/p19-3032', '10.18653/v1/p19-3033', '10.18653/v1/p19-3034', '10.18653/v1/p19-4001', '10.18653/v1/p19-4002', '10.18653/v1/p19-4003', '10.18653/v1/p19-4004', '10.18653/v1/p19-4005', '10.18653/v1/p19-4006', '10.18653/v1/p19-4007', '10.18653/v1/p19-4008', '10.18653/v1/p19-4009', '10.18653/v1/P18-1001', '10.18653/v1/P18-1002', '10.18653/v1/P18-1003', '10.18653/v1/P18-1004', '10.18653/v1/P18-1005', '10.18653/v1/P18-1006', '10.18653/v1/P18-1007', '10.18653/v1/P18-1008', '10.18653/v1/P18-1009', '10.18653/v1/P18-1010', '10.18653/v1/P18-1011', '10.18653/v1/P18-1012', '10.18653/v1/P18-1013', '10.18653/v1/P18-1014', '10.18653/v1/P18-1015', '10.18653/v1/P18-1016', '10.18653/v1/P18-1017', '10.18653/v1/P18-1018', '10.18653/v1/P18-1019', '10.18653/v1/P18-1020', '10.18653/v1/P18-1021', '10.18653/v1/P18-1022', '10.18653/v1/P18-1023', '10.18653/v1/P18-1024', '10.18653/v1/P18-1025', '10.18653/v1/P18-1026', '10.18653/v1/P18-1027', '10.18653/v1/P18-1028', '10.18653/v1/P18-1029', '10.18653/v1/P18-1030', '10.18653/v1/P18-1031', '10.18653/v1/P18-1032', '10.18653/v1/P18-1033', '10.18653/v1/P18-1034', '10.18653/v1/P18-1035', '10.18653/v1/P18-1036', '10.18653/v1/P18-1037', '10.18653/v1/P18-1038', '10.18653/v1/P18-1039', '10.18653/v1/P18-1040', '10.18653/v1/P18-1041', '10.18653/v1/P18-1042', '10.18653/v1/P18-1043', '10.18653/v1/P18-1044', '10.18653/v1/P18-1045', '10.18653/v1/P18-1046', '10.18653/v1/P18-1047', '10.18653/v1/P18-1048', '10.18653/v1/P18-1049', '10.18653/v1/P18-1050', '10.18653/v1/P18-1051', '10.18653/v1/P18-1052', '10.18653/v1/P18-1053', '10.18653/v1/P18-1054', '10.18653/v1/P18-1055', '10.18653/v1/P18-1056', '10.18653/v1/P18-1057', '10.18653/v1/P18-1058', '10.18653/v1/P18-1059', '10.18653/v1/P18-1060', '10.18653/v1/P18-1061', '10.18653/v1/P18-1062', '10.18653/v1/P18-1063', '10.18653/v1/P18-1064', '10.18653/v1/P18-1065', '10.18653/v1/P18-1066', '10.18653/v1/P18-1067', '10.18653/v1/P18-1068', '10.18653/v1/P18-1069', '10.18653/v1/P18-1070', '10.18653/v1/P18-1071', '10.18653/v1/P18-1072', '10.18653/v1/P18-1073', '10.18653/v1/P18-1074', '10.18653/v1/P18-1075', '10.18653/v1/P18-1076', '10.18653/v1/P18-1077', '10.18653/v1/P18-1078', '10.18653/v1/P18-1079', '10.18653/v1/P18-1080', '10.18653/v1/P18-1081', '10.18653/v1/P18-1082', '10.18653/v1/P18-1083', '10.18653/v1/P18-1084', '10.18653/v1/P18-1085', '10.18653/v1/P18-1086', '10.18653/v1/P18-1087', '10.18653/v1/P18-1088', '10.18653/v1/P18-1089', '10.18653/v1/P18-1090', '10.18653/v1/P18-1091', '10.18653/v1/P18-1092', '10.18653/v1/P18-1093', '10.18653/v1/P18-1094', '10.18653/v1/P18-1095', '10.18653/v1/P18-1096', '10.18653/v1/P18-1097', '10.18653/v1/P18-1098', '10.18653/v1/P18-1099', '10.18653/v1/P18-1100', '10.18653/v1/P18-1101', '10.18653/v1/P18-1102', '10.18653/v1/P18-1103', '10.18653/v1/P18-1104', '10.18653/v1/P18-1105', '10.18653/v1/P18-1106', '10.18653/v1/P18-1107', '10.18653/v1/P18-1108', '10.18653/v1/P18-1109', '10.18653/v1/P18-1110', '10.18653/v1/P18-1111', '10.18653/v1/P18-1112', '10.18653/v1/P18-1113', '10.18653/v1/P18-1114', '10.18653/v1/P18-1115', '10.18653/v1/P18-1116', '10.18653/v1/P18-1117', '10.18653/v1/P18-1118', '10.18653/v1/P18-1119', '10.18653/v1/P18-1120', '10.18653/v1/P18-1121', '10.18653/v1/P18-1122', '10.18653/v1/P18-1123', '10.18653/v1/P18-1124', '10.18653/v1/P18-1125', '10.18653/v1/P18-1126', '10.18653/v1/P18-1127', '10.18653/v1/P18-1128', '10.18653/v1/P18-1129', '10.18653/v1/P18-1130', '10.18653/v1/P18-1131', '10.18653/v1/P18-1132', '10.18653/v1/P18-1133', '10.18653/v1/P18-1134', '10.18653/v1/P18-1135', '10.18653/v1/P18-1136', '10.18653/v1/P18-1137', '10.18653/v1/P18-1138', '10.18653/v1/P18-1139', '10.18653/v1/P18-1140', '10.18653/v1/P18-1141', '10.18653/v1/P18-1142', '10.18653/v1/P18-1143', '10.18653/v1/P18-1144', '10.18653/v1/P18-1145', '10.18653/v1/P18-1146', '10.18653/v1/P18-1147', '10.18653/v1/P18-1148', '10.18653/v1/P18-1149', '10.18653/v1/P18-1150', '10.18653/v1/P18-1151', '10.18653/v1/P18-1152', '10.18653/v1/P18-1153', '10.18653/v1/P18-1154', '10.18653/v1/P18-1155', '10.18653/v1/P18-1156', '10.18653/v1/P18-1157', '10.18653/v1/P18-1158', '10.18653/v1/P18-1159', '10.18653/v1/P18-1160', '10.18653/v1/P18-1161', '10.18653/v1/P18-1162', '10.18653/v1/P18-1163', '10.18653/v1/P18-1164', '10.18653/v1/P18-1165', '10.18653/v1/P18-1166', '10.18653/v1/P18-1167', '10.18653/v1/P18-1168', '10.18653/v1/P18-1169', '10.18653/v1/P18-1170', '10.18653/v1/P18-1171', '10.18653/v1/P18-1172', '10.18653/v1/P18-1173', '10.18653/v1/P18-1174', '10.18653/v1/P18-1175', '10.18653/v1/P18-1176', '10.18653/v1/P18-1177', '10.18653/v1/P18-1178', '10.18653/v1/P18-1179', '10.18653/v1/P18-1180', '10.18653/v1/P18-1181', '10.18653/v1/P18-1182', '10.18653/v1/P18-1183', '10.18653/v1/P18-1184', '10.18653/v1/P18-1185', '10.18653/v1/P18-1186', '10.18653/v1/P18-1187', '10.18653/v1/P18-1188', '10.18653/v1/P18-1189', '10.18653/v1/P18-1190', '10.18653/v1/P18-1191', '10.18653/v1/P18-1192', '10.18653/v1/P18-1193', '10.18653/v1/P18-1194', '10.18653/v1/P18-1195', '10.18653/v1/P18-1196', '10.18653/v1/P18-1197', '10.18653/v1/P18-1198', '10.18653/v1/P18-1199', '10.18653/v1/P18-1200', '10.18653/v1/P18-1201', '10.18653/v1/P18-1202', '10.18653/v1/P18-1203', '10.18653/v1/P18-1204', '10.18653/v1/P18-1205', '10.18653/v1/P18-1206', '10.18653/v1/P18-1207', '10.18653/v1/P18-1208', '10.18653/v1/P18-1209', '10.18653/v1/P18-1210', '10.18653/v1/P18-1211', '10.18653/v1/P18-1212', '10.18653/v1/P18-1213', '10.18653/v1/P18-1214', '10.18653/v1/P18-1215', '10.18653/v1/P18-1216', '10.18653/v1/P18-1217', '10.18653/v1/P18-1218', '10.18653/v1/P18-1219', '10.18653/v1/P18-1220', '10.18653/v1/P18-1221', '10.18653/v1/P18-1222', '10.18653/v1/P18-1223', '10.18653/v1/P18-1224', '10.18653/v1/P18-1225', '10.18653/v1/P18-1226', '10.18653/v1/P18-1227', '10.18653/v1/P18-1228', '10.18653/v1/P18-1229', '10.18653/v1/P18-1230', '10.18653/v1/P18-1231', '10.18653/v1/P18-1232', '10.18653/v1/P18-1233', '10.18653/v1/P18-1234', '10.18653/v1/P18-1235', '10.18653/v1/P18-1236', '10.18653/v1/P18-1237', '10.18653/v1/P18-1238', '10.18653/v1/P18-1239', '10.18653/v1/P18-1240', '10.18653/v1/P18-1241', '10.18653/v1/P18-1242', '10.18653/v1/P18-1243', '10.18653/v1/P18-1244', '10.18653/v1/P18-1245', '10.18653/v1/P18-1246', '10.18653/v1/P18-1247', '10.18653/v1/P18-1248', '10.18653/v1/P18-1249', '10.18653/v1/P18-1250', '10.18653/v1/P18-1251', '10.18653/v1/P18-1252', '10.18653/v1/P18-1253', '10.18653/v1/P18-1254', '10.18653/v1/P18-1255', '10.18653/v1/P18-1256', '10.18653/v1/P18-2001', '10.18653/v1/P18-2002', '10.18653/v1/P18-2003', '10.18653/v1/P18-2004', '10.18653/v1/P18-2005', '10.18653/v1/P18-2006', '10.18653/v1/P18-2007', '10.18653/v1/P18-2008', '10.18653/v1/P18-2009', '10.18653/v1/P18-2010', '10.18653/v1/P18-2011', '10.18653/v1/P18-2012', '10.18653/v1/P18-2013', '10.18653/v1/P18-2014', '10.18653/v1/P18-2015', '10.18653/v1/P18-2016', '10.18653/v1/P18-2017', '10.18653/v1/P18-2018', '10.18653/v1/P18-2019', '10.18653/v1/P18-2020', '10.18653/v1/P18-2021', '10.18653/v1/P18-2022', '10.18653/v1/P18-2023', '10.18653/v1/P18-2024', '10.18653/v1/P18-2025', '10.18653/v1/P18-2026', '10.18653/v1/P18-2027', '10.18653/v1/P18-2028', '10.18653/v1/P18-2029', '10.18653/v1/P18-2030', '10.18653/v1/P18-2031', '10.18653/v1/P18-2032', '10.18653/v1/P18-2033', '10.18653/v1/P18-2034', '10.18653/v1/P18-2035', '10.18653/v1/P18-2036', '10.18653/v1/P18-2037', '10.18653/v1/P18-2038', '10.18653/v1/P18-2039', '10.18653/v1/P18-2040', '10.18653/v1/P18-2041', '10.18653/v1/P18-2042', '10.18653/v1/P18-2043', '10.18653/v1/P18-2044', '10.18653/v1/P18-2045', '10.18653/v1/P18-2046', '10.18653/v1/P18-2047', '10.18653/v1/P18-2048', '10.18653/v1/P18-2049', '10.18653/v1/P18-2050', '10.18653/v1/P18-2051', '10.18653/v1/P18-2052', '10.18653/v1/P18-2053', '10.18653/v1/P18-2054', '10.18653/v1/P18-2055', '10.18653/v1/P18-2056', '10.18653/v1/P18-2057', '10.18653/v1/P18-2058', '10.18653/v1/P18-2059', '10.18653/v1/P18-2060', '10.18653/v1/P18-2061', '10.18653/v1/P18-2062', '10.18653/v1/P18-2063', '10.18653/v1/P18-2064', '10.18653/v1/P18-2065', '10.18653/v1/P18-2066', '10.18653/v1/P18-2067', '10.18653/v1/P18-2068', '10.18653/v1/P18-2069', '10.18653/v1/P18-2070', '10.18653/v1/P18-2071', '10.18653/v1/P18-2072', '10.18653/v1/P18-2073', '10.18653/v1/P18-2074', '10.18653/v1/P18-2075', '10.18653/v1/P18-2076', '10.18653/v1/P18-2077', '10.18653/v1/P18-2078', '10.18653/v1/P18-2079', '10.18653/v1/P18-2080', '10.18653/v1/P18-2081', '10.18653/v1/P18-2082', '10.18653/v1/P18-2083', '10.18653/v1/P18-2084', '10.18653/v1/P18-2085', '10.18653/v1/P18-2086', '10.18653/v1/P18-2087', '10.18653/v1/P18-2088', '10.18653/v1/P18-2089', '10.18653/v1/P18-2090', '10.18653/v1/P18-2091', '10.18653/v1/P18-2092', '10.18653/v1/P18-2093', '10.18653/v1/P18-2094', '10.18653/v1/P18-2095', '10.18653/v1/P18-2096', '10.18653/v1/P18-2097', '10.18653/v1/P18-2098', '10.18653/v1/P18-2099', '10.18653/v1/P18-2100', '10.18653/v1/P18-2101', '10.18653/v1/P18-2102', '10.18653/v1/P18-2103', '10.18653/v1/P18-2104', '10.18653/v1/P18-2105', '10.18653/v1/P18-2106', '10.18653/v1/P18-2107', '10.18653/v1/P18-2108', '10.18653/v1/P18-2109', '10.18653/v1/P18-2110', '10.18653/v1/P18-2111', '10.18653/v1/P18-2112', '10.18653/v1/P18-2113', '10.18653/v1/P18-2114', '10.18653/v1/P18-2115', '10.18653/v1/P18-2116', '10.18653/v1/P18-2117', '10.18653/v1/P18-2118', '10.18653/v1/P18-2119', '10.18653/v1/P18-2120', '10.18653/v1/P18-2121', '10.18653/v1/P18-2122', '10.18653/v1/P18-2123', '10.18653/v1/P18-2124', '10.18653/v1/P18-2125', '10.18653/v1/P18-3001', '10.18653/v1/P18-3002', '10.18653/v1/P18-3003', '10.18653/v1/P18-3004', '10.18653/v1/P18-3005', '10.18653/v1/P18-3006', '10.18653/v1/P18-3007', '10.18653/v1/P18-3008', '10.18653/v1/P18-3009', '10.18653/v1/P18-3010', '10.18653/v1/P18-3011', '10.18653/v1/P18-3012', '10.18653/v1/P18-3013', '10.18653/v1/P18-3014', '10.18653/v1/P18-3015', '10.18653/v1/P18-3016', '10.18653/v1/P18-3017', '10.18653/v1/P18-3018', '10.18653/v1/P18-3019', '10.18653/v1/P18-3020', '10.18653/v1/P18-3021', '10.18653/v1/P18-3022', '10.18653/v1/P18-4001', '10.18653/v1/P18-4002', '10.18653/v1/P18-4003', '10.18653/v1/P18-4004', '10.18653/v1/P18-4005', '10.18653/v1/P18-4006', '10.18653/v1/P18-4007', '10.18653/v1/P18-4008', '10.18653/v1/P18-4009', '10.18653/v1/P18-4010', '10.18653/v1/P18-4011', '10.18653/v1/P18-4012', '10.18653/v1/P18-4013', '10.18653/v1/P18-4014', '10.18653/v1/P18-4015', '10.18653/v1/P18-4016', '10.18653/v1/P18-4017', '10.18653/v1/P18-4018', '10.18653/v1/P18-4019', '10.18653/v1/P18-4020', '10.18653/v1/P18-4021', '10.18653/v1/P18-4022', '10.18653/v1/P18-4023', '10.18653/v1/P18-4024', '10.18653/v1/P18-5001', '10.18653/v1/P18-5002', '10.18653/v1/P18-5003', '10.18653/v1/P18-5004', '10.18653/v1/P18-5005', '10.18653/v1/P18-5006', '10.18653/v1/P18-5007', '10.18653/v1/P18-5008', '10.18653/v1/W18-2601', '10.18653/v1/W18-2602', '10.18653/v1/W18-2603', '10.18653/v1/W18-2604', '10.18653/v1/W18-2605', '10.18653/v1/W18-2606', '10.18653/v1/W18-2607', '10.18653/v1/W18-2608', '10.18653/v1/W18-2609', '10.18653/v1/W18-2610', '10.18653/v1/W18-2611', '10.18653/v1/W18-3101', '10.18653/v1/W18-3102', '10.18653/v1/W18-3103', '10.18653/v1/W18-3104', '10.18653/v1/W18-3105', '10.18653/v1/W18-3106', '10.18653/v1/W18-3107', '10.18653/v1/W18-3108', '10.18653/v1/W18-3109', '10.18653/v1/P17-1001', '10.18653/v1/P17-1002', '10.18653/v1/P17-1003', '10.18653/v1/P17-1004', '10.18653/v1/P17-1005', '10.18653/v1/P17-1006', '10.18653/v1/P17-1007', '10.18653/v1/P17-1008', '10.18653/v1/P17-1009', '10.18653/v1/P17-1010', '10.18653/v1/P17-1011', '10.18653/v1/P17-1012', '10.18653/v1/P17-1013', '10.18653/v1/P17-1014', '10.18653/v1/P17-1015', '10.18653/v1/P17-1016', '10.18653/v1/P17-1017', '10.18653/v1/P17-1018', '10.18653/v1/P17-1019', '10.18653/v1/P17-1020', '10.18653/v1/P17-1021', '10.18653/v1/P17-1022', '10.18653/v1/P17-1023', '10.18653/v1/P17-1024', '10.18653/v1/P17-1025', '10.18653/v1/P17-1026', '10.18653/v1/P17-1027', '10.18653/v1/P17-1028', '10.18653/v1/P17-1029', '10.18653/v1/P17-1030', '10.18653/v1/P17-1031', '10.18653/v1/P17-1032', '10.18653/v1/P17-1033', '10.18653/v1/P17-1034', '10.18653/v1/P17-1035', '10.18653/v1/P17-1036', '10.18653/v1/P17-1037', '10.18653/v1/P17-1038', '10.18653/v1/P17-1039', '10.18653/v1/P17-1040', '10.18653/v1/P17-1041', '10.18653/v1/P17-1042', '10.18653/v1/P17-1043', '10.18653/v1/P17-1044', '10.18653/v1/P17-1045', '10.18653/v1/P17-1046', '10.18653/v1/P17-1047', '10.18653/v1/P17-1048', '10.18653/v1/P17-1049', '10.18653/v1/P17-1050', '10.18653/v1/P17-1051', '10.18653/v1/P17-1052', '10.18653/v1/P17-1053', '10.18653/v1/P17-1054', '10.18653/v1/P17-1055', '10.18653/v1/P17-1056', '10.18653/v1/P17-1057', '10.18653/v1/P17-1058', '10.18653/v1/P17-1059', '10.18653/v1/P17-1060', '10.18653/v1/P17-1061', '10.18653/v1/P17-1062', '10.18653/v1/P17-1063', '10.18653/v1/P17-1064', '10.18653/v1/P17-1065', '10.18653/v1/P17-1066', '10.18653/v1/P17-1067', '10.18653/v1/P17-1068', '10.18653/v1/P17-1069', '10.18653/v1/P17-1070', '10.18653/v1/P17-1071', '10.18653/v1/P17-1072', '10.18653/v1/P17-1073', '10.18653/v1/P17-1074', '10.18653/v1/P17-1075', '10.18653/v1/P17-1076', '10.18653/v1/P17-1077', '10.18653/v1/P17-1078', '10.18653/v1/P17-1079', '10.18653/v1/P17-1080', '10.18653/v1/P17-1081', '10.18653/v1/P17-1082', '10.18653/v1/P17-1083', '10.18653/v1/P17-1084', '10.18653/v1/P17-1085', '10.18653/v1/P17-1086', '10.18653/v1/P17-1087', '10.18653/v1/P17-1088', '10.18653/v1/P17-1089', '10.18653/v1/P17-1090', '10.18653/v1/P17-1091', '10.18653/v1/P17-1092', '10.18653/v1/P17-1093', '10.18653/v1/P17-1094', '10.18653/v1/P17-1095', '10.18653/v1/P17-1096', '10.18653/v1/P17-1097', '10.18653/v1/P17-1098', '10.18653/v1/P17-1099', '10.18653/v1/P17-1100', '10.18653/v1/P17-1101', '10.18653/v1/P17-1102', '10.18653/v1/P17-1103', '10.18653/v1/P17-1104', '10.18653/v1/P17-1105', '10.18653/v1/P17-1106', '10.18653/v1/P17-1107', '10.18653/v1/P17-1108', '10.18653/v1/P17-1109', '10.18653/v1/P17-1110', '10.18653/v1/P17-1111', '10.18653/v1/P17-1112', '10.18653/v1/P17-1113', '10.18653/v1/P17-1114', '10.18653/v1/P17-1115', '10.18653/v1/P17-1116', '10.18653/v1/P17-1117', '10.18653/v1/P17-1118', '10.18653/v1/P17-1119', '10.18653/v1/P17-1120', '10.18653/v1/P17-1121', '10.18653/v1/P17-1122', '10.18653/v1/P17-1123', '10.18653/v1/P17-1124', '10.18653/v1/P17-1125', '10.18653/v1/P17-1126', '10.18653/v1/P17-1127', '10.18653/v1/P17-1128', '10.18653/v1/P17-1129', '10.18653/v1/P17-1130', '10.18653/v1/P17-1131', '10.18653/v1/P17-1132', '10.18653/v1/P17-1133', '10.18653/v1/P17-1134', '10.18653/v1/P17-1135', '10.18653/v1/P17-1136', '10.18653/v1/P17-1137', '10.18653/v1/P17-1138', '10.18653/v1/P17-1139', '10.18653/v1/P17-1140', '10.18653/v1/P17-1141', '10.18653/v1/P17-1142', '10.18653/v1/P17-1143', '10.18653/v1/P17-1144', '10.18653/v1/P17-1145', '10.18653/v1/P17-1146', '10.18653/v1/P17-1147', '10.18653/v1/P17-1148', '10.18653/v1/P17-1149', '10.18653/v1/P17-1150', '10.18653/v1/P17-1151', '10.18653/v1/P17-1152', '10.18653/v1/P17-1153', '10.18653/v1/P17-1154', '10.18653/v1/P17-1155', '10.18653/v1/P17-1156', '10.18653/v1/P17-1157', '10.18653/v1/P17-1158', '10.18653/v1/P17-1159', '10.18653/v1/P17-1160', '10.18653/v1/P17-1161', '10.18653/v1/P17-1162', '10.18653/v1/P17-1163', '10.18653/v1/P17-1164', '10.18653/v1/P17-1165', '10.18653/v1/P17-1166', '10.18653/v1/P17-1167', '10.18653/v1/P17-1168', '10.18653/v1/P17-1169', '10.18653/v1/P17-1170', '10.18653/v1/P17-1171', '10.18653/v1/P17-1172', '10.18653/v1/P17-1173', '10.18653/v1/P17-1174', '10.18653/v1/P17-1175', '10.18653/v1/P17-1176', '10.18653/v1/P17-1177', '10.18653/v1/P17-1178', '10.18653/v1/P17-1179', '10.18653/v1/P17-1180', '10.18653/v1/P17-1181', '10.18653/v1/P17-1182', '10.18653/v1/P17-1183', '10.18653/v1/P17-1184', '10.18653/v1/P17-1185', '10.18653/v1/P17-1186', '10.18653/v1/P17-1187', '10.18653/v1/P17-1188', '10.18653/v1/P17-1189', '10.18653/v1/P17-1190', '10.18653/v1/P17-1191', '10.18653/v1/P17-1192', '10.18653/v1/P17-1193', '10.18653/v1/P17-1194', '10.18653/v1/P17-1195', '10.18653/v1/P17-2001', '10.18653/v1/P17-2002', '10.18653/v1/P17-2003', '10.18653/v1/P17-2004', '10.18653/v1/P17-2005', '10.18653/v1/P17-2006', '10.18653/v1/P17-2007', '10.18653/v1/P17-2008', '10.18653/v1/P17-2009', '10.18653/v1/P17-2010', '10.18653/v1/P17-2011', '10.18653/v1/P17-2012', '10.18653/v1/P17-2013', '10.18653/v1/P17-2014', '10.18653/v1/P17-2015', '10.18653/v1/P17-2016', '10.18653/v1/P17-2017', '10.18653/v1/P17-2018', '10.18653/v1/P17-2019', '10.18653/v1/P17-2020', '10.18653/v1/P17-2021', '10.18653/v1/P17-2022', '10.18653/v1/P17-2023', '10.18653/v1/P17-2024', '10.18653/v1/P17-2025', '10.18653/v1/P17-2026', '10.18653/v1/P17-2027', '10.18653/v1/P17-2028', '10.18653/v1/P17-2029', '10.18653/v1/P17-2030', '10.18653/v1/P17-2031', '10.18653/v1/P17-2032', '10.18653/v1/P17-2033', '10.18653/v1/P17-2034', '10.18653/v1/P17-2035', '10.18653/v1/P17-2036', '10.18653/v1/P17-2037', '10.18653/v1/P17-2038', '10.18653/v1/P17-2039', '10.18653/v1/P17-2040', '10.18653/v1/P17-2041', '10.18653/v1/P17-2042', '10.18653/v1/P17-2043', '10.18653/v1/P17-2044', '10.18653/v1/P17-2045', '10.18653/v1/P17-2046', '10.18653/v1/P17-2047', '10.18653/v1/P17-2048', '10.18653/v1/P17-2049', '10.18653/v1/P17-2050', '10.18653/v1/P17-2051', '10.18653/v1/P17-2052', '10.18653/v1/P17-2053', '10.18653/v1/P17-2054', '10.18653/v1/P17-2055', '10.18653/v1/P17-2056', '10.18653/v1/P17-2057', '10.18653/v1/P17-2058', '10.18653/v1/P17-2059', '10.18653/v1/P17-2060', '10.18653/v1/P17-2061', '10.18653/v1/P17-2062', '10.18653/v1/P17-2063', '10.18653/v1/P17-2064', '10.18653/v1/P17-2065', '10.18653/v1/P17-2066', '10.18653/v1/P17-2067', '10.18653/v1/P17-2068', '10.18653/v1/P17-2069', '10.18653/v1/P17-2070', '10.18653/v1/P17-2071', '10.18653/v1/P17-2072', '10.18653/v1/P17-2073', '10.18653/v1/P17-2074', '10.18653/v1/P17-2075', '10.18653/v1/P17-2076', '10.18653/v1/P17-2077', '10.18653/v1/P17-2078', '10.18653/v1/P17-2079', '10.18653/v1/P17-2080', '10.18653/v1/P17-2081', '10.18653/v1/P17-2082', '10.18653/v1/P17-2083', '10.18653/v1/P17-2084', '10.18653/v1/P17-2085', '10.18653/v1/P17-2086', '10.18653/v1/P17-2087', '10.18653/v1/P17-2088', '10.18653/v1/P17-2089', '10.18653/v1/P17-2090', '10.18653/v1/P17-2091', '10.18653/v1/P17-2092', '10.18653/v1/P17-2093', '10.18653/v1/P17-2094', '10.18653/v1/P17-2095', '10.18653/v1/P17-2096', '10.18653/v1/P17-2097', '10.18653/v1/P17-2098', '10.18653/v1/P17-2099', '10.18653/v1/P17-2100', '10.18653/v1/P17-2101', '10.18653/v1/P17-2102', '10.18653/v1/P17-2103', '10.18653/v1/P17-2104', '10.18653/v1/P17-2105', '10.18653/v1/P17-2106', '10.18653/v1/P17-2107', '10.18653/v1/P17-3001', '10.18653/v1/P17-3002', '10.18653/v1/P17-3003', '10.18653/v1/P17-3004', '10.18653/v1/P17-3005', '10.18653/v1/P17-3006', '10.18653/v1/P17-3007', '10.18653/v1/P17-3008', '10.18653/v1/P17-3009', '10.18653/v1/P17-3010', '10.18653/v1/P17-3011', '10.18653/v1/P17-3012', '10.18653/v1/P17-3013', '10.18653/v1/P17-3014', '10.18653/v1/P17-3015', '10.18653/v1/P17-3016', '10.18653/v1/P17-3017', '10.18653/v1/P17-3018', '10.18653/v1/P17-3019', '10.18653/v1/P17-3020', '10.18653/v1/P17-3021', '10.18653/v1/P17-3022', '10.18653/v1/P17-3023', '10.18653/v1/P17-4001', '10.18653/v1/P17-4002', '10.18653/v1/P17-4003', '10.18653/v1/P17-4004', '10.18653/v1/P17-4005', '10.18653/v1/P17-4006', '10.18653/v1/P17-4007', '10.18653/v1/P17-4008', '10.18653/v1/P17-4009', '10.18653/v1/P17-4010', '10.18653/v1/P17-4011', '10.18653/v1/P17-4012', '10.18653/v1/P17-4013', '10.18653/v1/P17-4014', '10.18653/v1/P17-4015', '10.18653/v1/P17-4016', '10.18653/v1/P17-4017', '10.18653/v1/P17-4018', '10.18653/v1/P17-4019', '10.18653/v1/P17-4020', '10.18653/v1/P17-4021', '10.18653/v1/P17-5001', '10.18653/v1/P17-5002', '10.18653/v1/P17-5003', '10.18653/v1/P17-5004', '10.18653/v1/P17-5005', '10.18653/v1/P17-5006', '10.18653/v1/w17-2801', '10.18653/v1/w17-2802', '10.18653/v1/w17-2803', '10.18653/v1/w17-2804', '10.18653/v1/w17-2805', '10.18653/v1/w17-2806', '10.18653/v1/w17-2807', '10.18653/v1/w17-2808', '10.18653/v1/w17-2809', '10.18653/v1/w17-2810', '10.18653/v1/w17-2811', '10.18653/v1/w17-2812', '10.18653/v1/w17-2201', '10.18653/v1/w17-2202', '10.18653/v1/w17-2203', '10.18653/v1/w17-2204', '10.18653/v1/w17-2205', '10.18653/v1/w17-2206', '10.18653/v1/w17-2207', '10.18653/v1/w17-2208', '10.18653/v1/w17-2209', '10.18653/v1/w17-2210', '10.18653/v1/w17-2211', '10.18653/v1/w17-2212', '10.18653/v1/w17-2213', '10.18653/v1/w17-2214', '10.18653/v1/w17-2215', '10.18653/v1/p16-1001', '10.18653/v1/p16-1002', '10.18653/v1/p16-1003', '10.18653/v1/p16-1004', '10.18653/v1/p16-1005', '10.18653/v1/p16-1006', '10.18653/v1/p16-1007', '10.18653/v1/p16-1008', '10.18653/v1/p16-1009', '10.18653/v1/p16-1010', '10.18653/v1/p16-1011', '10.18653/v1/p16-1012', '10.18653/v1/p16-1013', '10.18653/v1/p16-1014', '10.18653/v1/p16-1015', '10.18653/v1/p16-1016', '10.18653/v1/p16-1017', '10.18653/v1/p16-1018', '10.18653/v1/p16-1019', '10.18653/v1/p16-1020', '10.18653/v1/p16-1021', '10.18653/v1/p16-1022', '10.18653/v1/p16-1023', '10.18653/v1/p16-1024', '10.18653/v1/p16-1025', '10.18653/v1/p16-1026', '10.18653/v1/p16-1027', '10.18653/v1/p16-1028', '10.18653/v1/p16-1029', '10.18653/v1/p16-1030', '10.18653/v1/p16-1031', '10.18653/v1/p16-1032', '10.18653/v1/p16-1033', '10.18653/v1/p16-1034', '10.18653/v1/p16-1035', '10.18653/v1/p16-1036', '10.18653/v1/p16-1037', '10.18653/v1/p16-1038', '10.18653/v1/p16-1039', '10.18653/v1/p16-1040', '10.18653/v1/p16-1041', '10.18653/v1/p16-1042', '10.18653/v1/p16-1043', '10.18653/v1/p16-1044', '10.18653/v1/p16-1045', '10.18653/v1/p16-1046', '10.18653/v1/p16-1047', '10.18653/v1/p16-1048', '10.18653/v1/p16-1049', '10.18653/v1/p16-1050', '10.18653/v1/p16-1051', '10.18653/v1/p16-1052', '10.18653/v1/p16-1053', '10.18653/v1/p16-1054', '10.18653/v1/p16-1055', '10.18653/v1/p16-1056', '10.18653/v1/p16-1057', '10.18653/v1/p16-1058', '10.18653/v1/p16-1059', '10.18653/v1/p16-1060', '10.18653/v1/p16-1061', '10.18653/v1/p16-1062', '10.18653/v1/p16-1063', '10.18653/v1/p16-1064', '10.18653/v1/p16-1065', '10.18653/v1/p16-1066', '10.18653/v1/p16-1067', '10.18653/v1/p16-1068', '10.18653/v1/p16-1069', '10.18653/v1/p16-1070', '10.18653/v1/p16-1071', '10.18653/v1/p16-1072', '10.18653/v1/p16-1073', '10.18653/v1/p16-1074', '10.18653/v1/p16-1075', '10.18653/v1/p16-1076', '10.18653/v1/p16-1077', '10.18653/v1/p16-1078', '10.18653/v1/p16-1079', '10.18653/v1/p16-1080', '10.18653/v1/p16-1081', '10.18653/v1/p16-1082', '10.18653/v1/p16-1083', '10.18653/v1/p16-1084', '10.18653/v1/p16-1085', '10.18653/v1/p16-1086', '10.18653/v1/p16-1087', '10.18653/v1/p16-1088', '10.18653/v1/p16-1089', '10.18653/v1/p16-1090', '10.18653/v1/p16-1091', '10.18653/v1/p16-1092', '10.18653/v1/p16-1093', '10.18653/v1/p16-1094', '10.18653/v1/p16-1095', '10.18653/v1/p16-1096', '10.18653/v1/p16-1097', '10.18653/v1/p16-1098', '10.18653/v1/p16-1099', '10.18653/v1/p16-1100', '10.18653/v1/p16-1101', '10.18653/v1/p16-1102', '10.18653/v1/p16-1103', '10.18653/v1/p16-1104', '10.18653/v1/p16-1105', '10.18653/v1/p16-1106', '10.18653/v1/p16-1107', '10.18653/v1/p16-1108', '10.18653/v1/p16-1109', '10.18653/v1/p16-1110', '10.18653/v1/p16-1111', '10.18653/v1/p16-1112', '10.18653/v1/p16-1113', '10.18653/v1/p16-1114', '10.18653/v1/p16-1115', '10.18653/v1/p16-1116', '10.18653/v1/p16-1117', '10.18653/v1/p16-1118', '10.18653/v1/p16-1119', '10.18653/v1/p16-1120', '10.18653/v1/p16-1121', '10.18653/v1/p16-1122', '10.18653/v1/p16-1123', '10.18653/v1/p16-1124', '10.18653/v1/p16-1125', '10.18653/v1/p16-1126', '10.18653/v1/p16-1127', '10.18653/v1/p16-1128', '10.18653/v1/p16-1129', '10.18653/v1/p16-1130', '10.18653/v1/p16-1131', '10.18653/v1/p16-1132', '10.18653/v1/p16-1133', '10.18653/v1/p16-1134', '10.18653/v1/p16-1135', '10.18653/v1/p16-1136', '10.18653/v1/p16-1137', '10.18653/v1/p16-1138', '10.18653/v1/p16-1139', '10.18653/v1/p16-1140', '10.18653/v1/p16-1141', '10.18653/v1/p16-1142', '10.18653/v1/p16-1143', '10.18653/v1/p16-1144', '10.18653/v1/p16-1145', '10.18653/v1/p16-1146', '10.18653/v1/p16-1147', '10.18653/v1/p16-1148', '10.18653/v1/p16-1149', '10.18653/v1/p16-1150', '10.18653/v1/p16-1151', '10.18653/v1/p16-1152', '10.18653/v1/p16-1153', '10.18653/v1/p16-1154', '10.18653/v1/p16-1155', '10.18653/v1/p16-1156', '10.18653/v1/p16-1157', '10.18653/v1/p16-1158', '10.18653/v1/p16-1159', '10.18653/v1/p16-1160', '10.18653/v1/p16-1161', '10.18653/v1/p16-1162', '10.18653/v1/p16-1163', '10.18653/v1/p16-1164', '10.18653/v1/p16-1165', '10.18653/v1/p16-1166', '10.18653/v1/p16-1167', '10.18653/v1/p16-1168', '10.18653/v1/p16-1169', '10.18653/v1/p16-1170', '10.18653/v1/p16-1171', '10.18653/v1/p16-1172', '10.18653/v1/p16-1173', '10.18653/v1/p16-1174', '10.18653/v1/p16-1175', '10.18653/v1/p16-1176', '10.18653/v1/p16-1177', '10.18653/v1/p16-1178', '10.18653/v1/p16-1179', '10.18653/v1/p16-1180', '10.18653/v1/p16-1181', '10.18653/v1/p16-1182', '10.18653/v1/p16-1183', '10.18653/v1/p16-1184', '10.18653/v1/p16-1185', '10.18653/v1/p16-1186', '10.18653/v1/p16-1187', '10.18653/v1/p16-1188', '10.18653/v1/p16-1189', '10.18653/v1/p16-1190', '10.18653/v1/p16-1191', '10.18653/v1/p16-1192', '10.18653/v1/p16-1193', '10.18653/v1/p16-1194', '10.18653/v1/p16-1195', '10.18653/v1/p16-1196', '10.18653/v1/p16-1197', '10.18653/v1/p16-1198', '10.18653/v1/p16-1199', '10.18653/v1/p16-1200', '10.18653/v1/p16-1201', '10.18653/v1/p16-1202', '10.18653/v1/p16-1203', '10.18653/v1/p16-1204', '10.18653/v1/p16-1205', '10.18653/v1/p16-1206', '10.18653/v1/p16-1207', '10.18653/v1/p16-1208', '10.18653/v1/p16-1209', '10.18653/v1/p16-1210', '10.18653/v1/p16-1211', '10.18653/v1/p16-1212', '10.18653/v1/p16-1213', '10.18653/v1/p16-1214', '10.18653/v1/p16-1215', '10.18653/v1/p16-1216', '10.18653/v1/p16-1217', '10.18653/v1/p16-1218', '10.18653/v1/p16-1219', '10.18653/v1/p16-1220', '10.18653/v1/p16-1221', '10.18653/v1/p16-1222', '10.18653/v1/p16-1223', '10.18653/v1/p16-1224', '10.18653/v1/p16-1225', '10.18653/v1/p16-1226', '10.18653/v1/p16-1227', '10.18653/v1/p16-1228', '10.18653/v1/p16-1229', '10.18653/v1/p16-1230', '10.18653/v1/p16-1231', '10.18653/v1/p16-2001', '10.18653/v1/p16-2002', '10.18653/v1/p16-2003', '10.18653/v1/p16-2004', '10.18653/v1/p16-2005', '10.18653/v1/p16-2006', '10.18653/v1/p16-2007', '10.18653/v1/p16-2008', '10.18653/v1/p16-2009', '10.18653/v1/p16-2010', '10.18653/v1/p16-2011', '10.18653/v1/p16-2012', '10.18653/v1/p16-2013', '10.18653/v1/p16-2014', '10.18653/v1/p16-2015', '10.18653/v1/p16-2016', '10.18653/v1/p16-2017', '10.18653/v1/p16-2018', '10.18653/v1/p16-2019', '10.18653/v1/p16-2020', '10.18653/v1/p16-2021', '10.18653/v1/p16-2022', '10.18653/v1/p16-2023', '10.18653/v1/p16-2024', '10.18653/v1/p16-2025', '10.18653/v1/p16-2026', '10.18653/v1/p16-2027', '10.18653/v1/p16-2028', '10.18653/v1/p16-2029', '10.18653/v1/p16-2030', '10.18653/v1/p16-2031', '10.18653/v1/p16-2032', '10.18653/v1/p16-2033', '10.18653/v1/p16-2034', '10.18653/v1/p16-2035', '10.18653/v1/p16-2036', '10.18653/v1/p16-2037', '10.18653/v1/p16-2038', '10.18653/v1/p16-2039', '10.18653/v1/p16-2040', '10.18653/v1/p16-2041', '10.18653/v1/p16-2042', '10.18653/v1/p16-2043', '10.18653/v1/p16-2044', '10.18653/v1/p16-2045', '10.18653/v1/p16-2046', '10.18653/v1/p16-2047', '10.18653/v1/p16-2048', '10.18653/v1/p16-2049', '10.18653/v1/p16-2050', '10.18653/v1/p16-2051', '10.18653/v1/p16-2052', '10.18653/v1/p16-2053', '10.18653/v1/p16-2054', '10.18653/v1/p16-2055', '10.18653/v1/p16-2056', '10.18653/v1/p16-2057', '10.18653/v1/p16-2058', '10.18653/v1/p16-2059', '10.18653/v1/p16-2060', '10.18653/v1/p16-2061', '10.18653/v1/p16-2062', '10.18653/v1/p16-2063', '10.18653/v1/p16-2064', '10.18653/v1/p16-2065', '10.18653/v1/p16-2066', '10.18653/v1/p16-2067', '10.18653/v1/p16-2068', '10.18653/v1/p16-2069', '10.18653/v1/p16-2070', '10.18653/v1/p16-2071', '10.18653/v1/p16-2072', '10.18653/v1/p16-2073', '10.18653/v1/p16-2074', '10.18653/v1/p16-2075', '10.18653/v1/p16-2076', '10.18653/v1/p16-2077', '10.18653/v1/p16-2078', '10.18653/v1/p16-2079', '10.18653/v1/p16-2080', '10.18653/v1/p16-2081', '10.18653/v1/p16-2082', '10.18653/v1/p16-2083', '10.18653/v1/p16-2084', '10.18653/v1/p16-2085', '10.18653/v1/p16-2086', '10.18653/v1/p16-2087', '10.18653/v1/p16-2088', '10.18653/v1/p16-2089', '10.18653/v1/p16-2090', '10.18653/v1/p16-2091', '10.18653/v1/p16-2092', '10.18653/v1/p16-2093', '10.18653/v1/p16-2094', '10.18653/v1/p16-2095', '10.18653/v1/p16-2096', '10.18653/v1/p16-2097', '10.18653/v1/P16-4001', '10.18653/v1/P16-4002', '10.18653/v1/P16-4003', '10.18653/v1/P16-4004', '10.18653/v1/P16-4005', '10.18653/v1/P16-4006', '10.18653/v1/P16-4007', '10.18653/v1/P16-4008', '10.18653/v1/P16-4009', '10.18653/v1/P16-4010', '10.18653/v1/P16-4011', '10.18653/v1/P16-4012', '10.18653/v1/P16-4013', '10.18653/v1/P16-4014', '10.18653/v1/P16-4015', '10.18653/v1/P16-4016', '10.18653/v1/P16-4017', '10.18653/v1/P16-4018', '10.18653/v1/P16-4019', '10.18653/v1/P16-4020', '10.18653/v1/P16-4021', '10.18653/v1/P16-4022', '10.18653/v1/P16-4023', '10.18653/v1/P16-4024', '10.18653/v1/P16-4025', '10.18653/v1/P16-4026', '10.18653/v1/P16-4027', '10.18653/v1/P16-4028', '10.18653/v1/P16-3001', '10.18653/v1/P16-3002', '10.18653/v1/P16-3003', '10.18653/v1/P16-3004', '10.18653/v1/P16-3005', '10.18653/v1/P16-3006', '10.18653/v1/P16-3007', '10.18653/v1/P16-3008', '10.18653/v1/P16-3009', '10.18653/v1/P16-3010', '10.18653/v1/P16-3011', '10.18653/v1/P16-3012', '10.18653/v1/P16-3013', '10.18653/v1/P16-3014', '10.18653/v1/P16-3015', '10.18653/v1/P16-3016', '10.18653/v1/P16-3017', '10.18653/v1/P16-3018', '10.18653/v1/P16-3019', '10.18653/v1/P16-3020', '10.18653/v1/P16-3021', '10.18653/v1/P16-3022', '10.18653/v1/w16-2801', '10.18653/v1/w16-2802', '10.18653/v1/w16-2803', '10.18653/v1/w16-2804', '10.18653/v1/w16-2805', '10.18653/v1/w16-2806', '10.18653/v1/w16-2807', '10.18653/v1/w16-2808', '10.18653/v1/w16-2809', '10.18653/v1/w16-2810', '10.18653/v1/w16-2811', '10.18653/v1/w16-2812', '10.18653/v1/w16-2813', '10.18653/v1/w16-2814', '10.18653/v1/w16-2815', '10.18653/v1/w16-2816', '10.18653/v1/w16-2817', '10.18653/v1/w16-2818', '10.18653/v1/w16-2819', '10.18653/v1/w16-2820', '10.18653/v1/w16-3201', '10.18653/v1/w16-3202', '10.18653/v1/w16-3203', '10.18653/v1/w16-3204', '10.18653/v1/w16-3205', '10.18653/v1/w16-3206', '10.18653/v1/w16-3207', '10.18653/v1/w16-3208', '10.18653/v1/w16-3209', '10.18653/v1/w16-3210', '10.18653/v1/w16-3211', '10.18653/v1/w16-3212', '10.18653/v1/w16-3213', '10.18653/v1/w16-2101', '10.18653/v1/w16-2102', '10.18653/v1/w16-2103', '10.18653/v1/w16-2104', '10.18653/v1/w16-2105', '10.18653/v1/w16-2106', '10.18653/v1/w16-2107', '10.18653/v1/w16-2108', '10.18653/v1/w16-2109', '10.18653/v1/w16-2110', '10.18653/v1/w16-2111', '10.18653/v1/w16-2112', '10.18653/v1/w16-2113', '10.18653/v1/w16-2114', '10.18653/v1/w16-2115', '10.18653/v1/w16-2116', '10.18653/v1/w16-2117', '10.18653/v1/w16-2118', '10.18653/v1/w16-2119', '10.18653/v1/w16-2120', '10.18653/v1/w16-2121', '10.18653/v1/w16-1801', '10.18653/v1/w16-1802', '10.18653/v1/w16-1803', '10.18653/v1/w16-1804', '10.18653/v1/w16-1805', '10.18653/v1/w16-1806', '10.18653/v1/w16-1807', '10.18653/v1/w16-1808', '10.18653/v1/w16-1809', '10.18653/v1/w16-1810', '10.18653/v1/w16-1811', '10.18653/v1/w16-1812', '10.18653/v1/w16-1813', '10.18653/v1/w16-1814', '10.18653/v1/w16-1815', '10.18653/v1/w16-1816', '10.18653/v1/w16-1817', '10.18653/v1/w16-1701', '10.18653/v1/w16-1702', '10.18653/v1/w16-1703', '10.18653/v1/w16-1704', '10.18653/v1/w16-1705', '10.18653/v1/w16-1706', '10.18653/v1/w16-1707', '10.18653/v1/w16-1708', '10.18653/v1/w16-1709', '10.18653/v1/w16-1710', '10.18653/v1/w16-1711', '10.18653/v1/w16-1712', '10.18653/v1/w16-1713', '10.18653/v1/w16-1714', '10.18653/v1/w16-1715', '10.18653/v1/w16-1716', '10.18653/v1/w16-1717', '10.18653/v1/w16-1718', '10.18653/v1/w16-1719', '10.18653/v1/w16-1720', '10.18653/v1/w16-1721', '10.18653/v1/W16-2001', '10.18653/v1/W16-2002', '10.18653/v1/W16-2003', '10.18653/v1/W16-2004', '10.18653/v1/W16-2005', '10.18653/v1/W16-2006', '10.18653/v1/W16-2007', '10.18653/v1/W16-2008', '10.18653/v1/W16-2009', '10.18653/v1/W16-2010', '10.18653/v1/W16-2011', '10.18653/v1/W16-2012', '10.18653/v1/W16-2013', '10.18653/v1/W16-2014', '10.18653/v1/W16-2015', '10.18653/v1/W16-2016', '10.18653/v1/W16-2017', '10.18653/v1/W16-2018', '10.18653/v1/W16-2019', '10.18653/v1/W16-2020', '10.18653/v1/W16-2021', '10.3115/v1/p15-1001', '10.3115/v1/p15-1002', '10.3115/v1/p15-1003', '10.3115/v1/p15-1004', '10.3115/v1/p15-1005', '10.3115/v1/p15-1006', '10.3115/v1/p15-1007', '10.3115/v1/p15-1008', '10.3115/v1/p15-1009', '10.3115/v1/p15-1010', '10.3115/v1/p15-1011', '10.3115/v1/p15-1012', '10.3115/v1/p15-1013', '10.3115/v1/p15-1014', '10.3115/v1/p15-1015', '10.3115/v1/p15-1016', '10.3115/v1/p15-1017', '10.3115/v1/p15-1018', '10.3115/v1/p15-1019', '10.3115/v1/p15-1020', '10.3115/v1/p15-1021', '10.3115/v1/p15-1022', '10.3115/v1/p15-1023', '10.3115/v1/p15-1024', '10.3115/v1/p15-1025', '10.3115/v1/p15-1026', '10.3115/v1/p15-1027', '10.3115/v1/p15-1028', '10.3115/v1/p15-1029', '10.3115/v1/p15-1030', '10.3115/v1/p15-1031', '10.3115/v1/p15-1032', '10.3115/v1/p15-1033', '10.3115/v1/p15-1034', '10.3115/v1/p15-1035', '10.3115/v1/p15-1036', '10.3115/v1/p15-1037', '10.3115/v1/p15-1038', '10.3115/v1/p15-1039', '10.3115/v1/p15-1040', '10.3115/v1/p15-1041', '10.3115/v1/p15-1042', '10.3115/v1/p15-1043', '10.3115/v1/p15-1044', '10.3115/v1/p15-1045', '10.3115/v1/p15-1046', '10.3115/v1/p15-1047', '10.3115/v1/p15-1048', '10.3115/v1/p15-1049', '10.3115/v1/p15-1050', '10.3115/v1/p15-1051', '10.3115/v1/p15-1052', '10.3115/v1/p15-1053', '10.3115/v1/p15-1054', '10.3115/v1/p15-1055', '10.3115/v1/p15-1056', '10.3115/v1/p15-1057', '10.3115/v1/p15-1058', '10.3115/v1/p15-1059', '10.3115/v1/p15-1060', '10.3115/v1/p15-1061', '10.3115/v1/p15-1062', '10.3115/v1/p15-1063', '10.3115/v1/p15-1064', '10.3115/v1/p15-1065', '10.3115/v1/p15-1066', '10.3115/v1/p15-1067', '10.3115/v1/p15-1068', '10.3115/v1/p15-1069', '10.3115/v1/p15-1070', '10.3115/v1/p15-1071', '10.3115/v1/p15-1072', '10.3115/v1/p15-1073', '10.3115/v1/p15-1074', '10.3115/v1/p15-1075', '10.3115/v1/p15-1076', '10.3115/v1/p15-1077', '10.3115/v1/p15-1078', '10.3115/v1/p15-1079', '10.3115/v1/p15-1080', '10.3115/v1/p15-1081', '10.3115/v1/p15-1082', '10.3115/v1/p15-1083', '10.3115/v1/p15-1084', '10.3115/v1/p15-1085', '10.3115/v1/p15-1086', '10.3115/v1/p15-1087', '10.3115/v1/p15-1088', '10.3115/v1/p15-1089', '10.3115/v1/p15-1090', '10.3115/v1/p15-1091', '10.3115/v1/p15-1092', '10.3115/v1/p15-1093', '10.3115/v1/p15-1094', '10.3115/v1/p15-1095', '10.3115/v1/p15-1096', '10.3115/v1/p15-1097', '10.3115/v1/p15-1098', '10.3115/v1/p15-1099', '10.3115/v1/p15-1100', '10.3115/v1/p15-1101', '10.3115/v1/p15-1102', '10.3115/v1/p15-1103', '10.3115/v1/p15-1104', '10.3115/v1/p15-1105', '10.3115/v1/p15-1106', '10.3115/v1/p15-1107', '10.3115/v1/p15-1108', '10.3115/v1/p15-1109', '10.3115/v1/p15-1110', '10.3115/v1/p15-1111', '10.3115/v1/p15-1112', '10.3115/v1/p15-1113', '10.3115/v1/p15-1114', '10.3115/v1/p15-1115', '10.3115/v1/p15-1116', '10.3115/v1/p15-1117', '10.3115/v1/p15-1118', '10.3115/v1/p15-1119', '10.3115/v1/p15-1120', '10.3115/v1/p15-1121', '10.3115/v1/p15-1122', '10.3115/v1/p15-1123', '10.3115/v1/p15-1124', '10.3115/v1/p15-1125', '10.3115/v1/p15-1126', '10.3115/v1/p15-1127', '10.3115/v1/p15-1128', '10.3115/v1/p15-1129', '10.3115/v1/p15-1130', '10.3115/v1/p15-1131', '10.3115/v1/p15-1132', '10.3115/v1/p15-1133', '10.3115/v1/p15-1134', '10.3115/v1/p15-1135', '10.3115/v1/p15-1136', '10.3115/v1/p15-1137', '10.3115/v1/p15-1138', '10.3115/v1/p15-1139', '10.3115/v1/p15-1140', '10.3115/v1/p15-1141', '10.3115/v1/p15-1142', '10.3115/v1/p15-1143', '10.3115/v1/p15-1144', '10.3115/v1/p15-1145', '10.3115/v1/p15-1146', '10.3115/v1/p15-1147', '10.3115/v1/p15-1148', '10.3115/v1/p15-1149', '10.3115/v1/p15-1150', '10.3115/v1/p15-1151', '10.3115/v1/p15-1152', '10.3115/v1/p15-1153', '10.3115/v1/p15-1154', '10.3115/v1/p15-1155', '10.3115/v1/p15-1156', '10.3115/v1/p15-1157', '10.3115/v1/p15-1158', '10.3115/v1/p15-1159', '10.3115/v1/p15-1160', '10.3115/v1/p15-1161', '10.3115/v1/p15-1162', '10.3115/v1/p15-1163', '10.3115/v1/p15-1164', '10.3115/v1/p15-1165', '10.3115/v1/p15-1166', '10.3115/v1/p15-1167', '10.3115/v1/p15-1168', '10.3115/v1/p15-1169', '10.3115/v1/p15-1170', '10.3115/v1/p15-1171', '10.3115/v1/p15-1172', '10.3115/v1/p15-1173', '10.3115/v1/p15-1174', '10.3115/v1/p15-2001', '10.3115/v1/p15-2002', '10.3115/v1/p15-2003', '10.3115/v1/p15-2004', '10.3115/v1/p15-2005', '10.3115/v1/p15-2006', '10.3115/v1/p15-2007', '10.3115/v1/p15-2008', '10.3115/v1/p15-2009', '10.3115/v1/p15-2010', '10.3115/v1/p15-2011', '10.3115/v1/p15-2012', '10.3115/v1/p15-2013', '10.3115/v1/p15-2014', '10.3115/v1/p15-2015', '10.3115/v1/p15-2016', '10.3115/v1/p15-2017', '10.3115/v1/p15-2018', '10.3115/v1/p15-2019', '10.3115/v1/p15-2020', '10.3115/v1/p15-2021', '10.3115/v1/p15-2022', '10.3115/v1/p15-2023', '10.3115/v1/p15-2024', '10.3115/v1/p15-2025', '10.3115/v1/p15-2026', '10.3115/v1/p15-2027', '10.3115/v1/p15-2028', '10.3115/v1/p15-2029', '10.3115/v1/p15-2030', '10.3115/v1/p15-2031', '10.3115/v1/p15-2032', '10.3115/v1/p15-2033', '10.3115/v1/p15-2034', '10.3115/v1/p15-2035', '10.3115/v1/p15-2036', '10.3115/v1/p15-2037', '10.3115/v1/p15-2038', '10.3115/v1/p15-2039', '10.3115/v1/p15-2040', '10.3115/v1/p15-2041', '10.3115/v1/p15-2042', '10.3115/v1/p15-2043', '10.3115/v1/p15-2044', '10.3115/v1/p15-2045', '10.3115/v1/p15-2046', '10.3115/v1/p15-2047', '10.3115/v1/p15-2048', '10.3115/v1/p15-2049', '10.3115/v1/p15-2050', '10.3115/v1/p15-2051', '10.3115/v1/p15-2052', '10.3115/v1/p15-2053', '10.3115/v1/p15-2054', '10.3115/v1/p15-2055', '10.3115/v1/p15-2056', '10.3115/v1/p15-2057', '10.3115/v1/p15-2058', '10.3115/v1/p15-2059', '10.3115/v1/p15-2060', '10.3115/v1/p15-2061', '10.3115/v1/p15-2062', '10.3115/v1/p15-2063', '10.3115/v1/p15-2064', '10.3115/v1/p15-2065', '10.3115/v1/p15-2066', '10.3115/v1/p15-2067', '10.3115/v1/p15-2068', '10.3115/v1/p15-2069', '10.3115/v1/p15-2070', '10.3115/v1/p15-2071', '10.3115/v1/p15-2072', '10.3115/v1/p15-2073', '10.3115/v1/p15-2074', '10.3115/v1/p15-2075', '10.3115/v1/p15-2076', '10.3115/v1/p15-2077', '10.3115/v1/p15-2078', '10.3115/v1/p15-2079', '10.3115/v1/p15-2080', '10.3115/v1/p15-2081', '10.3115/v1/p15-2082', '10.3115/v1/p15-2083', '10.3115/v1/p15-2084', '10.3115/v1/p15-2085', '10.3115/v1/p15-2086', '10.3115/v1/p15-2087', '10.3115/v1/p15-2088', '10.3115/v1/p15-2089', '10.3115/v1/p15-2090', '10.3115/v1/p15-2091', '10.3115/v1/p15-2092', '10.3115/v1/p15-2093', '10.3115/v1/p15-2094', '10.3115/v1/p15-2095', '10.3115/v1/p15-2096', '10.3115/v1/p15-2097', '10.3115/v1/p15-2098', '10.3115/v1/p15-2099', '10.3115/v1/p15-2100', '10.3115/v1/p15-2101', '10.3115/v1/p15-2102', '10.3115/v1/p15-2103', '10.3115/v1/p15-2104', '10.3115/v1/p15-2105', '10.3115/v1/p15-2106', '10.3115/v1/p15-2107', '10.3115/v1/p15-2108', '10.3115/v1/p15-2109', '10.3115/v1/p15-2110', '10.3115/v1/p15-2111', '10.3115/v1/p15-2112', '10.3115/v1/p15-2113', '10.3115/v1/p15-2114', '10.3115/v1/p15-2115', '10.3115/v1/p15-2116', '10.3115/v1/p15-2117', '10.3115/v1/p15-2118', '10.3115/v1/p15-2119', '10.3115/v1/p15-2120', '10.3115/v1/p15-2121', '10.3115/v1/p15-2122', '10.3115/v1/p15-2123', '10.3115/v1/p15-2124', '10.3115/v1/p15-2125', '10.3115/v1/p15-2126', '10.3115/v1/p15-2127', '10.3115/v1/p15-2128', '10.3115/v1/p15-2129', '10.3115/v1/p15-2130', '10.3115/v1/p15-2131', '10.3115/v1/p15-2132', '10.3115/v1/p15-2133', '10.3115/v1/p15-2134', '10.3115/v1/p15-2135', '10.3115/v1/p15-2136', '10.3115/v1/p15-2137', '10.3115/v1/p15-2138', '10.3115/v1/p15-2139', '10.3115/v1/p15-2140', '10.3115/v1/p15-2141', '10.3115/v1/p15-2142', '10.3115/v1/p15-2143', '10.3115/v1/p15-2144', '10.3115/v1/p15-3001', '10.3115/v1/p15-3002', '10.3115/v1/p15-3003', '10.3115/v1/p15-3004', '10.3115/v1/p15-3005', '10.3115/v1/p15-3006', '10.3115/v1/p15-3007', '10.3115/v1/p15-4001', '10.3115/v1/p15-4002', '10.3115/v1/p15-4003', '10.3115/v1/p15-4004', '10.3115/v1/p15-4005', '10.3115/v1/p15-4006', '10.3115/v1/p15-4007', '10.3115/v1/p15-4008', '10.3115/v1/p15-4009', '10.3115/v1/p15-4010', '10.3115/v1/p15-4011', '10.3115/v1/p15-4012', '10.3115/v1/p15-4013', '10.3115/v1/p15-4014', '10.3115/v1/p15-4015', '10.3115/v1/p15-4016', '10.3115/v1/p15-4017', '10.3115/v1/p15-4018', '10.3115/v1/p15-4019', '10.3115/v1/p15-4020', '10.3115/v1/p15-4021', '10.3115/v1/p15-4022', '10.3115/v1/p15-4023', '10.3115/v1/p15-4024', '10.3115/v1/p15-4025', '10.3115/v1/p15-5001', '10.3115/v1/p15-5002', '10.3115/v1/p15-5003', '10.3115/v1/p15-5004', '10.3115/v1/p15-5005', '10.3115/v1/p15-5006', '10.3115/v1/p15-5007', '10.3115/v1/p15-5008', '10.18653/v1/w15-3701', '10.18653/v1/w15-3702', '10.18653/v1/w15-3703', '10.18653/v1/w15-3704', '10.18653/v1/w15-3705', '10.18653/v1/w15-3706', '10.18653/v1/w15-3707', '10.18653/v1/w15-3708', '10.18653/v1/w15-3709', '10.18653/v1/w15-3710', '10.18653/v1/w15-3711', '10.18653/v1/w15-3712', '10.18653/v1/w15-3713', '10.18653/v1/w15-3714', '10.18653/v1/w15-3715', '10.18653/v1/w15-3716', '10.18653/v1/w15-4101', '10.18653/v1/w15-4102', '10.18653/v1/w15-4103', '10.18653/v1/w15-4104', '10.18653/v1/w15-4105', '10.18653/v1/w15-4106', '10.18653/v1/w15-4107', '10.18653/v1/w15-4108', '10.18653/v1/w15-4109', '10.18653/v1/w15-4110', '10.18653/v1/w15-4111', '10.18653/v1/w15-4112', '10.3115/v1/p14-1001', '10.3115/v1/p14-1002', '10.3115/v1/p14-1003', '10.3115/v1/p14-1004', '10.3115/v1/p14-1005', '10.3115/v1/p14-1006', '10.3115/v1/p14-1007', '10.3115/v1/p14-1008', '10.3115/v1/p14-1009', '10.3115/v1/p14-1010', '10.3115/v1/p14-1011', '10.3115/v1/p14-1012', '10.3115/v1/p14-1013', '10.3115/v1/p14-1014', '10.3115/v1/p14-1015', '10.3115/v1/p14-1016', '10.3115/v1/p14-1017', '10.3115/v1/p14-1018', '10.3115/v1/p14-1019', '10.3115/v1/p14-1020', '10.3115/v1/p14-1021', '10.3115/v1/p14-1022', '10.3115/v1/p14-1023', '10.3115/v1/p14-1024', '10.3115/v1/p14-1025', '10.3115/v1/p14-1026', '10.3115/v1/p14-1027', '10.3115/v1/p14-1028', '10.3115/v1/p14-1029', '10.3115/v1/p14-1030', '10.3115/v1/p14-1031', '10.3115/v1/p14-1032', '10.3115/v1/p14-1033', '10.3115/v1/p14-1034', '10.3115/v1/p14-1035', '10.3115/v1/p14-1036', '10.3115/v1/p14-1037', '10.3115/v1/p14-1038', '10.3115/v1/p14-1039', '10.3115/v1/p14-1040', '10.3115/v1/p14-1041', '10.3115/v1/p14-1042', '10.3115/v1/p14-1043', '10.3115/v1/p14-1044', '10.3115/v1/p14-1045', '10.3115/v1/p14-1046', '10.3115/v1/p14-1047', '10.3115/v1/p14-1048', '10.3115/v1/p14-1049', '10.3115/v1/p14-1050', '10.3115/v1/p14-1051', '10.3115/v1/p14-1052', '10.3115/v1/p14-1053', '10.3115/v1/p14-1054', '10.3115/v1/p14-1055', '10.3115/v1/p14-1056', '10.3115/v1/p14-1057', '10.3115/v1/p14-1058', '10.3115/v1/p14-1059', '10.3115/v1/p14-1060', '10.3115/v1/p14-1061', '10.3115/v1/p14-1062', '10.3115/v1/p14-1063', '10.3115/v1/p14-1064', '10.3115/v1/p14-1065', '10.3115/v1/p14-1066', '10.3115/v1/p14-1067', '10.3115/v1/p14-1068', '10.3115/v1/p14-1069', '10.3115/v1/p14-1070', '10.3115/v1/p14-1071', '10.3115/v1/p14-1072', '10.3115/v1/p14-1073', '10.3115/v1/p14-1074', '10.3115/v1/p14-1075', '10.3115/v1/p14-1076', '10.3115/v1/p14-1077', '10.3115/v1/p14-1078', '10.3115/v1/p14-1079', '10.3115/v1/p14-1080', '10.3115/v1/p14-1081', '10.3115/v1/p14-1082', '10.3115/v1/p14-1083', '10.3115/v1/p14-1084', '10.3115/v1/p14-1085', '10.3115/v1/p14-1086', '10.3115/v1/p14-1087', '10.3115/v1/p14-1088', '10.3115/v1/p14-1089', '10.3115/v1/p14-1090', '10.3115/v1/p14-1091', '10.3115/v1/p14-1092', '10.3115/v1/p14-1093', '10.3115/v1/p14-1094', '10.3115/v1/p14-1095', '10.3115/v1/p14-1096', '10.3115/v1/p14-1097', '10.3115/v1/p14-1098', '10.3115/v1/p14-1099', '10.3115/v1/p14-1100', '10.3115/v1/p14-1101', '10.3115/v1/p14-1102', '10.3115/v1/p14-1103', '10.3115/v1/p14-1104', '10.3115/v1/p14-1105', '10.3115/v1/p14-1106', '10.3115/v1/p14-1107', '10.3115/v1/p14-1108', '10.3115/v1/p14-1109', '10.3115/v1/p14-1110', '10.3115/v1/p14-1111', '10.3115/v1/p14-1112', '10.3115/v1/p14-1113', '10.3115/v1/p14-1114', '10.3115/v1/p14-1115', '10.3115/v1/p14-1116', '10.3115/v1/p14-1117', '10.3115/v1/p14-1118', '10.3115/v1/p14-1119', '10.3115/v1/p14-1120', '10.3115/v1/p14-1121', '10.3115/v1/p14-1122', '10.3115/v1/p14-1123', '10.3115/v1/p14-1124', '10.3115/v1/p14-1125', '10.3115/v1/p14-1126', '10.3115/v1/p14-1127', '10.3115/v1/p14-1128', '10.3115/v1/p14-1129', '10.3115/v1/p14-1130', '10.3115/v1/p14-1131', '10.3115/v1/p14-1132', '10.3115/v1/p14-1133', '10.3115/v1/p14-1134', '10.3115/v1/p14-1135', '10.3115/v1/p14-1136', '10.3115/v1/p14-1137', '10.3115/v1/p14-1138', '10.3115/v1/p14-1139', '10.3115/v1/p14-1140', '10.3115/v1/p14-1141', '10.3115/v1/p14-1142', '10.3115/v1/p14-1143', '10.3115/v1/p14-1144', '10.3115/v1/p14-1145', '10.3115/v1/p14-1146', '10.3115/v1/p14-1147', '10.3115/v1/p14-2001', '10.3115/v1/p14-2002', '10.3115/v1/p14-2003', '10.3115/v1/p14-2004', '10.3115/v1/p14-2005', '10.3115/v1/p14-2006', '10.3115/v1/p14-2007', '10.3115/v1/p14-2008', '10.3115/v1/p14-2009', '10.3115/v1/p14-2010', '10.3115/v1/p14-2011', '10.3115/v1/p14-2012', '10.3115/v1/p14-2013', '10.3115/v1/p14-2014', '10.3115/v1/p14-2015', '10.3115/v1/p14-2016', '10.3115/v1/p14-2017', '10.3115/v1/p14-2018', '10.3115/v1/p14-2019', '10.3115/v1/p14-2020', '10.3115/v1/p14-2021', '10.3115/v1/p14-2022', '10.3115/v1/p14-2023', '10.3115/v1/p14-2024', '10.3115/v1/p14-2025', '10.3115/v1/p14-2026', '10.3115/v1/p14-2027', '10.3115/v1/p14-2028', '10.3115/v1/p14-2029', '10.3115/v1/p14-2030', '10.3115/v1/p14-2031', '10.3115/v1/p14-2032', '10.3115/v1/p14-2033', '10.3115/v1/p14-2034', '10.3115/v1/p14-2035', '10.3115/v1/p14-2036', '10.3115/v1/p14-2037', '10.3115/v1/p14-2038', '10.3115/v1/p14-2039', '10.3115/v1/p14-2040', '10.3115/v1/p14-2041', '10.3115/v1/p14-2042', '10.3115/v1/p14-2043', '10.3115/v1/p14-2044', '10.3115/v1/p14-2045', '10.3115/v1/p14-2046', '10.3115/v1/p14-2047', '10.3115/v1/p14-2048', '10.3115/v1/p14-2049', '10.3115/v1/p14-2050', '10.3115/v1/p14-2051', '10.3115/v1/p14-2052', '10.3115/v1/p14-2053', '10.3115/v1/p14-2054', '10.3115/v1/p14-2055', '10.3115/v1/p14-2056', '10.3115/v1/p14-2057', '10.3115/v1/p14-2058', '10.3115/v1/p14-2059', '10.3115/v1/p14-2060', '10.3115/v1/p14-2061', '10.3115/v1/p14-2062', '10.3115/v1/p14-2063', '10.3115/v1/p14-2064', '10.3115/v1/p14-2065', '10.3115/v1/p14-2066', '10.3115/v1/p14-2067', '10.3115/v1/p14-2068', '10.3115/v1/p14-2069', '10.3115/v1/p14-2070', '10.3115/v1/p14-2071', '10.3115/v1/p14-2072', '10.3115/v1/p14-2073', '10.3115/v1/p14-2074', '10.3115/v1/p14-2075', '10.3115/v1/p14-2076', '10.3115/v1/p14-2077', '10.3115/v1/p14-2078', '10.3115/v1/p14-2079', '10.3115/v1/p14-2080', '10.3115/v1/p14-2081', '10.3115/v1/p14-2082', '10.3115/v1/p14-2083', '10.3115/v1/p14-2084', '10.3115/v1/p14-2085', '10.3115/v1/p14-2086', '10.3115/v1/p14-2087', '10.3115/v1/p14-2088', '10.3115/v1/p14-2089', '10.3115/v1/p14-2090', '10.3115/v1/p14-2091', '10.3115/v1/p14-2092', '10.3115/v1/p14-2093', '10.3115/v1/p14-2094', '10.3115/v1/p14-2095', '10.3115/v1/p14-2096', '10.3115/v1/p14-2097', '10.3115/v1/p14-2098', '10.3115/v1/p14-2099', '10.3115/v1/p14-2100', '10.3115/v1/p14-2101', '10.3115/v1/p14-2102', '10.3115/v1/p14-2103', '10.3115/v1/p14-2104', '10.3115/v1/p14-2105', '10.3115/v1/p14-2106', '10.3115/v1/p14-2107', '10.3115/v1/p14-2108', '10.3115/v1/p14-2109', '10.3115/v1/p14-2110', '10.3115/v1/p14-2111', '10.3115/v1/p14-2112', '10.3115/v1/p14-2113', '10.3115/v1/p14-2114', '10.3115/v1/p14-2115', '10.3115/v1/p14-2116', '10.3115/v1/p14-2117', '10.3115/v1/p14-2118', '10.3115/v1/p14-2119', '10.3115/v1/p14-2120', '10.3115/v1/p14-2121', '10.3115/v1/p14-2122', '10.3115/v1/p14-2123', '10.3115/v1/p14-2124', '10.3115/v1/p14-2125', '10.3115/v1/p14-2126', '10.3115/v1/p14-2127', '10.3115/v1/p14-2128', '10.3115/v1/p14-2129', '10.3115/v1/p14-2130', '10.3115/v1/p14-2131', '10.3115/v1/p14-2132', '10.3115/v1/p14-2133', '10.3115/v1/p14-2134', '10.3115/v1/p14-2135', '10.3115/v1/p14-2136', '10.3115/v1/p14-2137', '10.3115/v1/p14-2138', '10.3115/v1/p14-2139', '10.3115/v1/p14-5001', '10.3115/v1/p14-5002', '10.3115/v1/p14-5003', '10.3115/v1/p14-5004', '10.3115/v1/p14-5005', '10.3115/v1/p14-5006', '10.3115/v1/p14-5007', '10.3115/v1/p14-5008', '10.3115/v1/p14-5009', '10.3115/v1/p14-5010', '10.3115/v1/p14-5011', '10.3115/v1/p14-5012', '10.3115/v1/p14-5013', '10.3115/v1/p14-5014', '10.3115/v1/p14-5015', '10.3115/v1/p14-5016', '10.3115/v1/p14-5017', '10.3115/v1/p14-5018', '10.3115/v1/p14-5019', '10.3115/v1/p14-5020', '10.3115/v1/p14-5021', '10.3115/v1/p14-3001', '10.3115/v1/p14-3002', '10.3115/v1/p14-3003', '10.3115/v1/p14-3004', '10.3115/v1/p14-3005', '10.3115/v1/p14-3006', '10.3115/v1/p14-3007', '10.3115/v1/p14-3008', '10.3115/v1/p14-3009', '10.3115/v1/p14-3010', '10.3115/v1/p14-3011', '10.3115/v1/p14-3012', '10.3115/v1/p14-3013', '10.3115/v1/p14-6001', '10.3115/v1/p14-6002', '10.3115/v1/p14-6003', '10.3115/v1/p14-6004', '10.3115/v1/p14-6005', '10.3115/v1/p14-6006', '10.3115/v1/p14-6007', '10.3115/v1/p14-6008', '10.3115/v1/w14-2101', '10.3115/v1/w14-2102', '10.3115/v1/w14-2103', '10.3115/v1/w14-2104', '10.3115/v1/w14-2105', '10.3115/v1/w14-2106', '10.3115/v1/w14-2107', '10.3115/v1/w14-2108', '10.3115/v1/w14-2109', '10.3115/v1/w14-2110', '10.3115/v1/w14-2111', '10.3115/v1/w14-2112', '10.3115/v1/w14-2113', '10.3115/v1/w14-2114', '10.3115/v1/w14-2115', '10.3115/v1/w14-2116', '10.3115/v1/w14-2117', '10.3115/v1/w14-2118', '10.3115/v1/w14-3301', '10.3115/v1/w14-3302', '10.3115/v1/w14-3303', '10.3115/v1/w14-3304', '10.3115/v1/w14-3305', '10.3115/v1/w14-3306', '10.3115/v1/w14-3307', '10.3115/v1/w14-3308', '10.3115/v1/w14-3309', '10.3115/v1/w14-3310', '10.3115/v1/w14-3311', '10.3115/v1/w14-3312', '10.3115/v1/w14-3313', '10.3115/v1/w14-3314', '10.3115/v1/w14-3315', '10.3115/v1/w14-3316', '10.3115/v1/w14-3317', '10.3115/v1/w14-3318', '10.3115/v1/w14-3319', '10.3115/v1/w14-3320', '10.3115/v1/w14-3321', '10.3115/v1/w14-3322', '10.3115/v1/w14-3323', '10.3115/v1/w14-3324', '10.3115/v1/w14-3325', '10.3115/v1/w14-3326', '10.3115/v1/w14-3327', '10.3115/v1/w14-3328', '10.3115/v1/w14-3329', '10.3115/v1/w14-3330', '10.3115/v1/w14-3331', '10.3115/v1/w14-3332', '10.3115/v1/w14-3333', '10.3115/v1/w14-3334', '10.3115/v1/w14-3335', '10.3115/v1/w14-3336', '10.3115/v1/w14-3337', '10.3115/v1/w14-3338', '10.3115/v1/w14-3339', '10.3115/v1/w14-3340', '10.3115/v1/w14-3341', '10.3115/v1/w14-3342', '10.3115/v1/w14-3343', '10.3115/v1/w14-3344', '10.3115/v1/w14-3345', '10.3115/v1/w14-3346', '10.3115/v1/w14-3347', '10.3115/v1/w14-3348', '10.3115/v1/w14-3349', '10.3115/v1/w14-3350', '10.3115/v1/w14-3351', '10.3115/v1/w14-3352', '10.3115/v1/w14-3353', '10.3115/v1/w14-3354', '10.3115/v1/w14-3355', '10.3115/v1/w14-3356', '10.3115/v1/w14-3357', '10.3115/v1/w14-3358', '10.3115/v1/w14-3359', '10.3115/v1/w14-3360', '10.3115/v1/w14-3361', '10.3115/v1/w14-3362', '10.3115/v1/w14-3363', '10.3115/v1/w14-2601', '10.3115/v1/w14-2602', '10.3115/v1/w14-2603', '10.3115/v1/w14-2604', '10.3115/v1/w14-2605', '10.3115/v1/w14-2606', '10.3115/v1/w14-2607', '10.3115/v1/w14-2608', '10.3115/v1/w14-2609', '10.3115/v1/w14-2610', '10.3115/v1/w14-2611', '10.3115/v1/w14-2612', '10.3115/v1/w14-2613', '10.3115/v1/w14-2614', '10.3115/v1/w14-2615', '10.3115/v1/w14-2616', '10.3115/v1/w14-2617', '10.3115/v1/w14-2618', '10.3115/v1/w14-2619', '10.3115/v1/w14-2620', '10.3115/v1/w14-2621', '10.3115/v1/w14-2622', '10.3115/v1/w14-2623', '10.3115/v1/w14-2624', '10.3115/v1/w14-2625', '10.3115/v1/w14-1801', '10.3115/v1/w14-1802', '10.3115/v1/w14-1803', '10.3115/v1/w14-1804', '10.3115/v1/w14-1805', '10.3115/v1/w14-1806', '10.3115/v1/w14-1807', '10.3115/v1/w14-1808', '10.3115/v1/w14-1809', '10.3115/v1/w14-1810', '10.3115/v1/w14-1811', '10.3115/v1/w14-1812', '10.3115/v1/w14-1813', '10.3115/v1/w14-1814', '10.3115/v1/w14-1815', '10.3115/v1/w14-1816', '10.3115/v1/w14-1817', '10.3115/v1/w14-1818', '10.3115/v1/w14-1819', '10.3115/v1/w14-1820', '10.3115/v1/w14-1821', '10.3115/v1/W14-2801', '10.3115/v1/W14-2802', '10.3115/v1/W14-2803', '10.3115/v1/W14-2804', '10.3115/v1/W14-2805', '10.3115/v1/W14-2806', '10.3115/v1/W14-2807', '10.3115/v1/W14-2808', '10.3115/v1/W14-2501', '10.3115/v1/W14-2502', '10.3115/v1/W14-2503', '10.3115/v1/W14-2504', '10.3115/v1/W14-2505', '10.3115/v1/W14-2506', '10.3115/v1/W14-2507', '10.3115/v1/W14-2508', '10.3115/v1/W14-2509', '10.3115/v1/W14-2510', '10.3115/v1/W14-2511', '10.3115/v1/W14-2512', '10.3115/v1/W14-2513', '10.3115/v1/W14-2514', '10.3115/v1/W14-2515', '10.3115/v1/W14-2516', '10.3115/v1/W14-2517', '10.3115/v1/W14-2518', '10.3115/v1/W14-2519', '10.3115/v1/W14-2520', '10.3115/1220175.1220176', '10.3115/1220175.1220177', '10.3115/1220175.1220178', '10.3115/1220175.1220179', '10.3115/1220175.1220180', '10.3115/1220175.1220181', '10.3115/1220175.1220182', '10.3115/1220175.1220183', '10.3115/1220175.1220184', '10.3115/1220175.1220185', '10.3115/1220175.1220186', '10.3115/1220175.1220187', '10.3115/1220175.1220188', '10.3115/1220175.1220189', '10.3115/1220175.1220190', '10.3115/1220175.1220191', '10.3115/1220175.1220192', '10.3115/1220175.1220193', '10.3115/1220175.1220194', '10.3115/1220175.1220195', '10.3115/1220175.1220196', '10.3115/1220175.1220197', '10.3115/1220175.1220198', '10.3115/1220175.1220199', '10.3115/1220175.1220200', '10.3115/1220175.1220201', '10.3115/1220175.1220202', '10.3115/1220175.1220203', '10.3115/1220175.1220204', '10.3115/1220175.1220205', '10.3115/1220175.1220206', '10.3115/1220175.1220207', '10.3115/1220175.1220208', '10.3115/1220175.1220209', '10.3115/1220175.1220210', '10.3115/1220175.1220211', '10.3115/1220175.1220212', '10.3115/1220175.1220213', '10.3115/1220175.1220214', '10.3115/1220175.1220215', '10.3115/1220175.1220216', '10.3115/1220175.1220217', '10.3115/1220175.1220218', '10.3115/1220175.1220219', '10.3115/1220175.1220220', '10.3115/1220175.1220221', '10.3115/1220175.1220222', '10.3115/1220175.1220223', '10.3115/1220175.1220224', '10.3115/1220175.1220225', '10.3115/1220175.1220226', '10.3115/1220175.1220227', '10.3115/1220175.1220228', '10.3115/1220175.1220229', '10.3115/1220175.1220230', '10.3115/1220175.1220231', '10.3115/1220175.1220232', '10.3115/1220175.1220233', '10.3115/1220175.1220234', '10.3115/1220175.1220235', '10.3115/1220175.1220236', '10.3115/1220175.1220237', '10.3115/1220175.1220238', '10.3115/1220175.1220239', '10.3115/1220175.1220240', '10.3115/1220175.1220241', '10.3115/1220175.1220242', '10.3115/1220175.1220243', '10.3115/1220175.1220244', '10.3115/1220175.1220245', '10.3115/1220175.1220246', '10.3115/1220175.1220247', '10.3115/1220175.1220248', '10.3115/1220175.1220249', '10.3115/1220175.1220250', '10.3115/1220175.1220251', '10.3115/1220175.1220252', '10.3115/1220175.1220253', '10.3115/1220175.1220254', '10.3115/1220175.1220255', '10.3115/1220175.1220256', '10.3115/1220175.1220257', '10.3115/1220175.1220258', '10.3115/1220175.1220259', '10.3115/1220175.1220260', '10.3115/1220175.1220261', '10.3115/1220175.1220262', '10.3115/1220175.1220263', '10.3115/1220175.1220264', '10.3115/1220175.1220265', '10.3115/1220175.1220266', '10.3115/1220175.1220267', '10.3115/1220175.1220268', '10.3115/1220175.1220269', '10.3115/1220175.1220270', '10.3115/1220175.1220271', '10.3115/1220175.1220272', '10.3115/1220175.1220273', '10.3115/1220175.1220274', '10.3115/1220175.1220275', '10.3115/1220175.1220276', '10.3115/1220175.1220277', '10.3115/1220175.1220278', '10.3115/1220175.1220279', '10.3115/1220175.1220280', '10.3115/1220175.1220281', '10.3115/1220175.1220282', '10.3115/1220175.1220283', '10.3115/1220175.1220284', '10.3115/1220175.1220285', '10.3115/1220175.1220286', '10.3115/1220175.1220287', '10.3115/1220175.1220288', '10.3115/1220175.1220289', '10.3115/1220175.1220290', '10.3115/1220175.1220291', '10.3115/1220175.1220292', '10.3115/1220175.1220293', '10.3115/1220175.1220294', '10.3115/1220175.1220295', '10.3115/1220175.1220296', '10.3115/1220175.1220297', '10.3115/1220175.1220298', '10.3115/1220175.1220299', '10.3115/1220175.1220300', '10.3115/1220175.1220301', '10.3115/1220175.1220302', '10.3115/1220175.1220303', '10.3115/1220175.1220304', '10.3115/1220175.1220305', '10.3115/1220175.1220306', '10.3115/1220175.1220307', '10.3115/1220175.1220308', '10.3115/1220175.1220309', '10.3115/1220175.1220310', '10.3115/1220175.1220311', '10.3115/1220175.1220312', '10.3115/1220175.1220313', '10.3115/1220175.1220314', '10.3115/1220175.1220315', '10.3115/1220175.1220316', '10.3115/1220175.1220317', '10.3115/1220175.1220318', '10.3115/1220175.1220319', '10.3115/1220175.1220320', '10.3115/1220175.1220321', '10.3115/1220175.1220322', '10.3115/1225403.1225404', '10.3115/1225403.1225405', '10.3115/1225403.1225406', '10.3115/1225403.1225407', '10.3115/1225403.1225408', '10.3115/1225403.1225409', '10.3115/1225403.1225410', '10.3115/1225403.1225411', '10.3115/1225403.1225412', '10.3115/1225403.1225413', '10.3115/1225403.1225414', '10.3115/1225403.1225415', '10.3115/1225403.1225416', '10.3115/1225403.1225417', '10.3115/1225403.1225418', '10.3115/1225403.1225419', '10.3115/1225403.1225420', '10.3115/1225403.1225421', '10.3115/1225403.1225422', '10.3115/1225403.1225423', '10.3115/1219840.1219841', '10.3115/1219840.1219842', '10.3115/1219840.1219843', '10.3115/1219840.1219844', '10.3115/1219840.1219845', '10.3115/1219840.1219846', '10.3115/1219840.1219847', '10.3115/1219840.1219848', '10.3115/1219840.1219849', '10.3115/1219840.1219850', '10.3115/1219840.1219851', '10.3115/1219840.1219852', '10.3115/1219840.1219853', '10.3115/1219840.1219854', '10.3115/1219840.1219855', '10.3115/1219840.1219856', '10.3115/1219840.1219857', '10.3115/1219840.1219858', '10.3115/1219840.1219859', '10.3115/1219840.1219860', '10.3115/1219840.1219861', '10.3115/1219840.1219862', '10.3115/1219840.1219863', '10.3115/1219840.1219864', '10.3115/1219840.1219865', '10.3115/1219840.1219866', '10.3115/1219840.1219867', '10.3115/1219840.1219868', '10.3115/1219840.1219869', '10.3115/1219840.1219870', '10.3115/1219840.1219871', '10.3115/1219840.1219872', '10.3115/1219840.1219873', '10.3115/1219840.1219874', '10.3115/1219840.1219875', '10.3115/1219840.1219876', '10.3115/1219840.1219877', '10.3115/1219840.1219878', '10.3115/1219840.1219879', '10.3115/1219840.1219880', '10.3115/1219840.1219881', '10.3115/1219840.1219882', '10.3115/1219840.1219883', '10.3115/1219840.1219884', '10.3115/1219840.1219885', '10.3115/1219840.1219886', '10.3115/1219840.1219887', '10.3115/1219840.1219888', '10.3115/1219840.1219889', '10.3115/1219840.1219890', '10.3115/1219840.1219891', '10.3115/1219840.1219892', '10.3115/1219840.1219893', '10.3115/1219840.1219894', '10.3115/1219840.1219895', '10.3115/1219840.1219896', '10.3115/1219840.1219897', '10.3115/1219840.1219898', '10.3115/1219840.1219899', '10.3115/1219840.1219900', '10.3115/1219840.1219901', '10.3115/1219840.1219902', '10.3115/1219840.1219903', '10.3115/1219840.1219904', '10.3115/1219840.1219905', '10.3115/1219840.1219906', '10.3115/1219840.1219907', '10.3115/1219840.1219908', '10.3115/1219840.1219909', '10.3115/1219840.1219910', '10.3115/1219840.1219911', '10.3115/1219840.1219912', '10.3115/1219840.1219913', '10.3115/1219840.1219914', '10.3115/1219840.1219915', '10.3115/1219840.1219916', '10.3115/1219840.1219917', '10.3115/1218955.1218956', '10.3115/1218955.1218957', '10.3115/1218955.1218958', '10.3115/1218955.1218959', '10.3115/1218955.1218960', '10.3115/1218955.1218961', '10.3115/1218955.1218962', '10.3115/1218955.1218963', '10.3115/1218955.1218964', '10.3115/1218955.1218965', '10.3115/1218955.1218966', '10.3115/1218955.1218967', '10.3115/1218955.1218968', '10.3115/1218955.1218969', '10.3115/1218955.1218970', '10.3115/1218955.1218971', '10.3115/1218955.1218972', '10.3115/1218955.1218973', '10.3115/1218955.1218974', '10.3115/1218955.1218975', '10.3115/1218955.1218976', '10.3115/1218955.1218977', '10.3115/1218955.1218978', '10.3115/1218955.1218979', '10.3115/1218955.1218980', '10.3115/1218955.1218981', '10.3115/1218955.1218982', '10.3115/1218955.1218983', '10.3115/1218955.1218984', '10.3115/1218955.1218985', '10.3115/1218955.1218986', '10.3115/1218955.1218987', '10.3115/1218955.1218988', '10.3115/1218955.1218989', '10.3115/1218955.1218990', '10.3115/1218955.1218991', '10.3115/1218955.1218992', '10.3115/1218955.1218993', '10.3115/1218955.1218994', '10.3115/1218955.1218995', '10.3115/1218955.1218996', '10.3115/1218955.1218997', '10.3115/1218955.1218998', '10.3115/1218955.1218999', '10.3115/1218955.1219000', '10.3115/1218955.1219001', '10.3115/1218955.1219002', '10.3115/1218955.1219003', '10.3115/1218955.1219004', '10.3115/1218955.1219005', '10.3115/1218955.1219006', '10.3115/1218955.1219007', '10.3115/1218955.1219008', '10.3115/1218955.1219009', '10.3115/1218955.1219010', '10.3115/1218955.1219011', '10.3115/1218955.1219012', '10.3115/1218955.1219013', '10.3115/1218955.1219014', '10.3115/1218955.1219015', '10.3115/1218955.1219016', '10.3115/1218955.1219017', '10.3115/1218955.1219018', '10.3115/1218955.1219019', '10.3115/1218955.1219020', '10.3115/1218955.1219021', '10.3115/1218955.1219022', '10.3115/1218955.1219023', '10.3115/1218955.1219024', '10.3115/1218955.1219025', '10.3115/1218955.1219026', '10.3115/1218955.1219027', '10.3115/1218955.1219028', '10.3115/1218955.1219029', '10.3115/1218955.1219030', '10.3115/1218955.1219031', '10.3115/1218955.1219032', '10.3115/1218955.1219033', '10.3115/1218955.1219034', '10.3115/1218955.1219035', '10.3115/1218955.1219036', '10.3115/1218955.1219037', '10.3115/1218955.1219038', '10.3115/1218955.1219039', '10.3115/1218955.1219040', '10.3115/1218955.1219041', '10.3115/1218955.1219042', '10.3115/1218955.1219043', '10.3115/1075096.1075097', '10.3115/1075096.1075098', '10.3115/1075096.1075099', '10.3115/1075096.1075100', '10.3115/1075096.1075101', '10.3115/1075096.1075102', '10.3115/1075096.1075103', '10.3115/1075096.1075104', '10.3115/1075096.1075105', '10.3115/1075096.1075106', '10.3115/1075096.1075107', '10.3115/1075096.1075108', '10.3115/1075096.1075109', '10.3115/1075096.1075110', '10.3115/1075096.1075111', '10.3115/1075096.1075112', '10.3115/1075096.1075113', '10.3115/1075096.1075114', '10.3115/1075096.1075115', '10.3115/1075096.1075116', '10.3115/1075096.1075117', '10.3115/1075096.1075118', '10.3115/1075096.1075119', '10.3115/1075096.1075120', '10.3115/1075096.1075121', '10.3115/1075096.1075122', '10.3115/1075096.1075123', '10.3115/1075096.1075124', '10.3115/1075096.1075125', '10.3115/1075096.1075126', '10.3115/1075096.1075127', '10.3115/1075096.1075128', '10.3115/1075096.1075129', '10.3115/1075096.1075130', '10.3115/1075096.1075131', '10.3115/1075096.1075132', '10.3115/1075096.1075133', '10.3115/1075096.1075134', '10.3115/1075096.1075135', '10.3115/1075096.1075136', '10.3115/1075096.1075137', '10.3115/1075096.1075138', '10.3115/1075096.1075139', '10.3115/1075096.1075140', '10.3115/1075096.1075141', '10.3115/1075096.1075142', '10.3115/1075096.1075143', '10.3115/1075096.1075144', '10.3115/1075096.1075145', '10.3115/1075096.1075146', '10.3115/1075096.1075147', '10.3115/1075096.1075148', '10.3115/1075096.1075149', '10.3115/1075096.1075150', '10.3115/1075096.1075151', '10.3115/1075096.1075152', '10.3115/1075096.1075153', '10.3115/1075096.1075154', '10.3115/1075096.1075155', '10.3115/1075096.1075156', '10.3115/1075096.1075157', '10.3115/1075096.1075158', '10.3115/1075096.1075159', '10.3115/1075096.1075160', '10.3115/1075096.1075161', '10.3115/1075096.1075162', '10.3115/1075096.1075163', '10.3115/1075096.1075164', '10.3115/1075096.1075165', '10.3115/1075096.1075166', '10.3115/1075096.1075167', '10.3115/1075178.1075179', '10.3115/1075178.1075180', '10.3115/1075178.1075181', '10.3115/1075178.1075182', '10.3115/1075178.1075183', '10.3115/1075178.1075184', '10.3115/1075178.1075185', '10.3115/1075178.1075186', '10.3115/1075178.1075187', '10.3115/1075178.1075188', '10.3115/1075178.1075189', '10.3115/1075178.1075190', '10.3115/1075178.1075191', '10.3115/1075178.1075192', '10.3115/1075178.1075193', '10.3115/1075178.1075194', '10.3115/1075178.1075195', '10.3115/1075178.1075196', '10.3115/1075178.1075197', '10.3115/1075178.1075198', '10.3115/1075178.1075199', '10.3115/1075178.1075200', '10.3115/1075178.1075201', '10.3115/1075178.1075202', '10.3115/1075178.1075203', '10.3115/1075178.1075204', '10.3115/1075178.1075205', '10.3115/1075178.1075206', '10.3115/1075178.1075207', '10.3115/1075178.1075208', '10.3115/1075178.1075209', '10.3115/1075178.1075210', '10.3115/1075178.1075211', '10.3115/1075178.1075212', '10.3115/1075178.1075213', '10.3115/1075178.1075214', '10.3115/1075178.1075215', '10.3115/1075178.1075216', '10.3115/1075178.1075217', '10.3115/1119384.1119385', '10.3115/1119384.1119386', '10.3115/1119384.1119387', '10.3115/1119384.1119388', '10.3115/1119384.1119389', '10.3115/1119384.1119390', '10.3115/1119384.1119391', '10.3115/1119384.1119392', '10.3115/1119384.1119393', '10.3115/1073083.1073085', '10.3115/1073083.1073086', '10.3115/1073083.1073088', '10.3115/1073083.1073089', '10.3115/1073083.1073091', '10.3115/1073083.1073092', '10.3115/1073083.1073094', '10.3115/1073083.1073095', '10.3115/1073083.1073096', '10.3115/1073083.1073097', '10.3115/1073083.1073099', '10.3115/1073083.1073100', '10.3115/1073083.1073101', '10.3115/1073083.1073102', '10.3115/1073083.1073104', '10.3115/1073083.1073105', '10.3115/1073083.1073106', '10.3115/1073083.1073107', '10.3115/1073083.1073109', '10.3115/1073083.1073110', '10.3115/1073083.1073111', '10.3115/1073083.1073112', '10.3115/1073083.1073114', '10.3115/1073083.1073115', '10.3115/1073083.1073116', '10.3115/1073083.1073117', '10.3115/1073083.1073119', '10.3115/1073083.1073120', '10.3115/1073083.1073121', '10.3115/1073083.1073123', '10.3115/1073083.1073124', '10.3115/1073083.1073125', '10.3115/1073083.1073126', '10.3115/1073083.1073128', '10.3115/1073083.1073129', '10.3115/1073083.1073130', '10.3115/1073083.1073131', '10.3115/1073083.1073133', '10.3115/1073083.1073134', '10.3115/1073083.1073135', '10.3115/1073083.1073137', '10.3115/1073083.1073138', '10.3115/1073083.1073139', '10.3115/1073083.1073141', '10.3115/1073083.1073142', '10.3115/1073083.1073143', '10.3115/1073083.1073145', '10.3115/1073083.1073146', '10.3115/1073083.1073147', '10.3115/1073083.1073149', '10.3115/1073083.1073150', '10.3115/1073083.1073151', '10.3115/1073083.1073153', '10.3115/1073083.1073154', '10.3115/1073083.1073156', '10.3115/1073083.1073157', '10.3115/1073083.1073159', '10.3115/1073083.1073160', '10.3115/1073083.1073161', '10.3115/1073083.1073163', '10.3115/1073083.1073164', '10.3115/1073083.1073165', '10.3115/1073083.1073167', '10.3115/1073083.1073168', '10.3115/1073083.1073169', '10.3115/1118149.1118150', '10.3115/1118149.1118151', '10.3115/1118149.1118152', '10.3115/1118149.1118153', '10.3115/1118149.1118154', '10.3115/1118149.1118155', '10.3115/1118149.1118156', '10.3115/1118149.1118157', '10.3115/1118149.1118158', '10.3115/1118149.1118159', '10.3115/1118149.1118160', '10.3115/1118149.1118161', '10.3115/1118656.1118657', '10.3115/1118656.1118658', '10.3115/1118656.1118659', '10.3115/1118656.1118660', '10.3115/1118656.1118661', '10.3115/1118656.1118662', '10.3115/1118656.1118663', '10.3115/1118656.1118664', '10.3115/1118656.1118665', '10.3115/1118656.1118666', '10.3115/1118656.1118667', '10.3115/1118656.1118668', '10.3115/1118656.1118669', '10.3115/1118656.1118670', '10.3115/1118656.1118671', '10.3115/1118656.1118672', '10.3115/1118656.1118673', '10.3115/1118656.1118674', '10.3115/1073012.1073013', '10.3115/1073012.1073014', '10.3115/1073012.1073015', '10.3115/1073012.1073016', '10.3115/1073012.1073017', '10.3115/1073012.1073018', '10.3115/1073012.1073019', '10.3115/1073012.1073020', '10.3115/1073012.1073021', '10.3115/1073012.1073022', '10.3115/1073012.1073023', '10.3115/1073012.1073025', '10.3115/1073012.1073026', '10.3115/1073012.1073027', '10.3115/1073012.1073028', '10.3115/1073012.1073029', '10.3115/1073012.1073030', '10.3115/1073012.1073031', '10.3115/1073012.1073032', '10.3115/1073012.1073033', '10.3115/1073012.1073034', '10.3115/1073012.1073035', '10.3115/1073012.1073036', '10.3115/1073012.1073037', '10.3115/1073012.1073038', '10.3115/1073012.1073039', '10.3115/1073012.1073040', '10.3115/1073012.1073041', '10.3115/1073012.1073042', '10.3115/1073012.1073043', '10.3115/1073012.1073044', '10.3115/1073012.1073045', '10.3115/1073012.1073046', '10.3115/1073012.1073047', '10.3115/1073012.1073048', '10.3115/1073012.1073049', '10.3115/1073012.1073050', '10.3115/1073012.1073051', '10.3115/1073012.1073052', '10.3115/1073012.1073053', '10.3115/1073012.1073054', '10.3115/1073012.1073055', '10.3115/1073012.1073056', '10.3115/1073012.1073057', '10.3115/1073012.1073058', '10.3115/1073012.1073059', '10.3115/1073012.1073060', '10.3115/1073012.1073061', '10.3115/1073012.1073062', '10.3115/1073012.1073063', '10.3115/1073012.1073064', '10.3115/1073012.1073065', '10.3115/1073012.1073066', '10.3115/1073012.1073067', '10.3115/1073012.1073068', '10.3115/1073012.1073069', '10.3115/1073012.1073070', '10.3115/1073012.1073071', '10.3115/1073012.1073072', '10.3115/1073012.1073073', '10.3115/1073012.1073074', '10.3115/1073012.1073075', '10.3115/1073012.1073076', '10.3115/1073012.1073024', '10.3115/1073012.1073077', '10.3115/1073012.1073078', '10.3115/1073012.1073079', '10.3115/1073012.1073080', '10.3115/1073012.1073081', '10.3115/1073012.1073082', '10.3115/1075218.1075219', '10.3115/1075218.1075220', '10.3115/1075218.1075221', '10.3115/1075218.1075222', '10.3115/1075218.1075223', '10.3115/1075218.1075224', '10.3115/1075218.1075225', '10.3115/1075218.1075226', '10.3115/1075218.1075227', '10.3115/1075218.1075228', '10.3115/1075218.1075229', '10.3115/1075218.1075230', '10.3115/1075218.1075231', '10.3115/1075218.1075232', '10.3115/1075218.1075233', '10.3115/1075218.1075234', '10.3115/1075218.1075235', '10.3115/1075218.1075236', '10.3115/1075218.1075237', '10.3115/1075218.1075238', '10.3115/1075218.1075239', '10.3115/1075218.1075240', '10.3115/1075218.1075241', '10.3115/1075218.1075242', '10.3115/1075218.1075243', '10.3115/1075218.1075244', '10.3115/1075218.1075245', '10.3115/1075218.1075246', '10.3115/1075218.1075247', '10.3115/1075218.1075248', '10.3115/1075218.1075249', '10.3115/1075218.1075250', '10.3115/1075218.1075251', '10.3115/1075218.1075252', '10.3115/1075218.1075253', '10.3115/1075218.1075254', '10.3115/1075218.1075255', '10.3115/1075218.1075256', '10.3115/1075218.1075257', '10.3115/1075218.1075258', '10.3115/1075218.1075259', '10.3115/1075218.1075260', '10.3115/1075218.1075261', '10.3115/1075218.1075262', '10.3115/1075218.1075263', '10.3115/1075218.1075264', '10.3115/1075218.1075265', '10.3115/1075218.1075266', '10.3115/1075218.1075267', '10.3115/1075218.1075268', '10.3115/1075218.1075269', '10.3115/1075218.1075270', '10.3115/1075218.1075271', '10.3115/1075218.1075272', '10.3115/1075218.1075273', '10.3115/1075218.1075274', '10.3115/1075218.1075275', '10.3115/1075218.1075276', '10.3115/1075218.1075277', '10.3115/1075218.1075278', '10.3115/1075218.1075279', '10.3115/1075218.1075280', '10.3115/1075218.1075281', '10.3115/1075218.1075282', '10.3115/1075218.1075283', '10.3115/1075218.1075284', '10.3115/1075218.1075285', '10.3115/1075218.1075286', '10.3115/1075218.1075287', '10.3115/1075218.1075288', '10.3115/1075218.1075289', '10.3115/1075218.1075290', '10.3115/1075218.1075291', '10.3115/1075218.1075292', '10.3115/1075218.1075293', '10.3115/1075218.1075294', '10.3115/1075218.1075295', '10.3115/1075218.1075296', '10.3115/1075218.1075297', '10.3115/1034678.1034679', '10.3115/1034678.1034680', '10.3115/1034678.1034681', '10.3115/1034678.1034693', '10.3115/1034678.1034694', '10.3115/1034678.1034695', '10.3115/1034678.1034696', '10.3115/1034678.1034697', '10.3115/1034678.1034698', '10.3115/1034678.1034699', '10.3115/1034678.1034700', '10.3115/1034678.1034701', '10.3115/1034678.1034702', '10.3115/1034678.1034703', '10.3115/1034678.1034704', '10.3115/1034678.1034705', '10.3115/1034678.1034706', '10.3115/1034678.1034707', '10.3115/1034678.1034708', '10.3115/1034678.1034709', '10.3115/1034678.1034710', '10.3115/1034678.1034711', '10.3115/1034678.1034712', '10.3115/1034678.1034713', '10.3115/1034678.1034714', '10.3115/1034678.1034715', '10.3115/1034678.1034716', '10.3115/1034678.1034717', '10.3115/1034678.1034718', '10.3115/1034678.1034719', '10.3115/1034678.1034720', '10.3115/1034678.1034721', '10.3115/1034678.1034722', '10.3115/1034678.1034723', '10.3115/1034678.1034724', '10.3115/1034678.1034725', '10.3115/1034678.1034726', '10.3115/1034678.1034727', '10.3115/1034678.1034728', '10.3115/1034678.1034729', '10.3115/1034678.1034730', '10.3115/1034678.1034731', '10.3115/1034678.1034732', '10.3115/1034678.1034733', '10.3115/1034678.1034734', '10.3115/1034678.1034735', '10.3115/1034678.1034736', '10.3115/1034678.1034737', '10.3115/1034678.1034738', '10.3115/1034678.1034739', '10.3115/1034678.1034740', '10.3115/1034678.1034741', '10.3115/1034678.1034742', '10.3115/1034678.1034743', '10.3115/1034678.1034744', '10.3115/1034678.1034745', '10.3115/1034678.1034746', '10.3115/1034678.1034747', '10.3115/1034678.1034748', '10.3115/1034678.1034749', '10.3115/1034678.1034750', '10.3115/1034678.1034751', '10.3115/1034678.1034752', '10.3115/1034678.1034753', '10.3115/1034678.1034754', '10.3115/1034678.1034755', '10.3115/1034678.1034756', '10.3115/1034678.1034757', '10.3115/1034678.1034758', '10.3115/1034678.1034759', '10.3115/1034678.1034760', '10.3115/1034678.1034761', '10.3115/1034678.1034682', '10.3115/1034678.1034683', '10.3115/1034678.1034684', '10.3115/1034678.1034685', '10.3115/1034678.1034686', '10.3115/1034678.1034687', '10.3115/1034678.1034688', '10.3115/1034678.1034689', '10.3115/1034678.1034690', '10.3115/1034678.1034691', '10.3115/1034678.1034692', '10.3115/980845.980847', '10.3115/980845.980848', '10.3115/980845.980850', '10.3115/980845.980851', '10.3115/980845.980852', '10.3115/980845.980853', '10.3115/980845.980854', '10.3115/980845.980855', '10.3115/980845.980856', '10.3115/980845.980857', '10.3115/980845.980858', '10.3115/980845.980859', '10.3115/980845.980860', '10.3115/980845.980861', '10.3115/980845.980862', '10.3115/980845.980863', '10.3115/980845.980864', '10.3115/980845.980865', '10.3115/980845.980866', '10.3115/980845.980867', '10.3115/980845.980868', '10.3115/980845.980869', '10.3115/980845.980870', '10.3115/980845.980871', '10.3115/980845.980872', '10.3115/980845.980873', '10.3115/980845.980874', '10.3115/980845.980875', '10.3115/980845.980876', '10.3115/980845.980877', '10.3115/980845.980878', '10.3115/980845.980879', '10.3115/980845.980880', '10.3115/980845.980881', '10.3115/980845.980882', '10.3115/980845.980883', '10.3115/980845.980884', '10.3115/980845.980885', '10.3115/980845.980886', '10.3115/980845.980887', '10.3115/980845.980888', '10.3115/980845.980889', '10.3115/980845.980890', '10.3115/980845.980891', '10.3115/980845.980892', '10.3115/980845.980893', '10.3115/980845.980894', '10.3115/980845.980895', '10.3115/980845.980897', '10.3115/980845.980898', '10.3115/980845.980899', '10.3115/980845.980900', '10.3115/980845.980902', '10.3115/980845.980903', '10.3115/980845.980904', '10.3115/980845.980905', '10.3115/980845.980906', '10.3115/980845.980907', '10.3115/980845.980908', '10.3115/980845.980909', '10.3115/980845.980911', '10.3115/980845.980912', '10.3115/980845.980913', '10.3115/980845.980914', '10.3115/980845.980915', '10.3115/980845.980916', '10.3115/980845.980917', '10.3115/980845.980918', '10.3115/980845.980919', '10.3115/980845.980920', '10.3115/980845.980921', '10.3115/980845.980922', '10.3115/980845.980923', '10.3115/980845.980924', '10.3115/980845.980925', '10.3115/980845.980926', '10.3115/980845.980927', '10.3115/980845.980928', '10.3115/980845.980929', '10.3115/980845.980930', '10.3115/980845.980931', '10.3115/980845.980932', '10.3115/980845.980933', '10.3115/980845.980934', '10.3115/980845.980935', '10.3115/980845.980936', '10.3115/980845.980937', '10.3115/980845.980938', '10.3115/980845.980939', '10.3115/980845.980940', '10.3115/980845.980941', '10.3115/980845.980942', '10.3115/980845.980943', '10.3115/980845.980944', '10.3115/980845.980945', '10.3115/980845.980946', '10.3115/980845.980947', '10.3115/980845.980948', '10.3115/980845.980949', '10.3115/980845.980950', '10.3115/980845.980951', '10.3115/980845.980953', '10.3115/980845.980954', '10.3115/980845.980955', '10.3115/980845.980956', '10.3115/980845.980957', '10.3115/980845.980958', '10.3115/980845.980959', '10.3115/980845.980960', '10.3115/980845.980961', '10.3115/980845.980962', '10.3115/980845.980963', '10.3115/980845.980964', '10.3115/980845.980965', '10.3115/980845.980966', '10.3115/980845.980967', '10.3115/980845.980969', '10.3115/980691.980692', '10.3115/980691.980693', '10.3115/980691.980694', '10.3115/980691.980695', '10.3115/980691.980696', '10.3115/980691.980697', '10.3115/980691.980698', '10.3115/980691.980699', '10.3115/980691.980701', '10.3115/980691.980702', '10.3115/980691.980703', '10.3115/980691.980704', '10.3115/980691.980705', '10.3115/980691.980706', '10.3115/980691.980707', '10.3115/980691.980708', '10.3115/980691.980709', '10.3115/980691.980710', '10.3115/980691.980711', '10.3115/980691.980712', '10.3115/980691.980713', '10.3115/980691.980714', '10.3115/980691.980715', '10.3115/980691.980716', '10.3115/980691.980717', '10.3115/980691.980718', '10.3115/980691.980719', '10.3115/980691.980720', '10.3115/980691.980721', '10.3115/980691.980722', '10.3115/980691.980723', '10.3115/980691.980724', '10.3115/980691.980725', '10.3115/980691.980726', '10.3115/980691.980727', '10.3115/980691.980728', '10.3115/980691.980729', '10.3115/980691.980730', '10.3115/980691.980731', '10.3115/980691.980732', '10.3115/980691.980733', '10.3115/980691.980734', '10.3115/980691.980735', '10.3115/980691.980736', '10.3115/980691.980737', '10.3115/980691.980738', '10.3115/980691.980739', '10.3115/980691.980740', '10.3115/980691.980741', '10.3115/980691.980742', '10.3115/980691.980743', '10.3115/980691.980744', '10.3115/980691.980745', '10.3115/980691.980746', '10.3115/980691.980747', '10.3115/980691.980748', '10.3115/980691.980749', '10.3115/980691.980750', '10.3115/980691.980751', '10.3115/980691.980752', '10.3115/980691.980753', '10.3115/980691.980754', '10.3115/980691.980755', '10.3115/980691.980756', '10.3115/980691.980757', '10.3115/980691.980758', '10.3115/980691.980759', '10.3115/980691.980760', '10.3115/980691.980761', '10.3115/980691.980762', '10.3115/980691.980763', '10.3115/980691.980764', '10.3115/980691.980765', '10.3115/980691.980766', '10.3115/980691.980767', '10.3115/980691.980768', '10.3115/980691.980769', '10.3115/980691.980770', '10.3115/980691.980771', '10.3115/980691.980772', '10.3115/980691.980773', '10.3115/980691.980774', '10.3115/980691.980775', '10.3115/980691.980776', '10.3115/980691.980777', '10.3115/980691.980778', '10.3115/980691.980779', '10.3115/980691.980780', '10.3115/980691.980781', '10.3115/980691.980782', '10.3115/980691.980783', '10.3115/980691.980784', '10.3115/980691.980785', '10.3115/980691.980786', '10.3115/980691.980787', '10.3115/980691.980788', '10.3115/980691.980789', '10.3115/980691.980790', '10.3115/980691.980791', '10.3115/980691.980792', '10.3115/980691.980793', '10.3115/980691.980794', '10.3115/980691.980795', '10.3115/980691.980796', '10.3115/980691.980797', '10.3115/980691.980798', '10.3115/980691.980799', '10.3115/980691.980800', '10.3115/980691.980801', '10.3115/980691.980802', '10.3115/980691.980803', '10.3115/980691.980804', '10.3115/980691.980805', '10.3115/980691.980806', '10.3115/980691.980807', '10.3115/980691.980808', '10.3115/980691.980810', '10.3115/980691.980811', '10.3115/980691.980812', '10.3115/980691.980813', '10.3115/980691.980814', '10.3115/980691.980815', '10.3115/980691.980816', '10.3115/980691.980817', '10.3115/980691.980818', '10.3115/980691.980819', '10.3115/980691.980820', '10.3115/980691.980821', '10.3115/976909.979618', '10.3115/976909.979619', '10.3115/976909.979620', '10.3115/976909.979621', '10.3115/976909.979622', '10.3115/976909.979623', '10.3115/976909.979624', '10.3115/976909.979625', '10.3115/976909.979626', '10.3115/976909.979627', '10.3115/976909.979628', '10.3115/976909.979629', '10.3115/976909.979630', '10.3115/976909.979631', '10.3115/976909.979632', '10.3115/976909.979633', '10.3115/976909.979634', '10.3115/976909.979635', '10.3115/976909.979636', '10.3115/976909.979637', '10.3115/976909.979638', '10.3115/976909.979639', '10.3115/976909.979640', '10.3115/976909.979641', '10.3115/976909.979642', '10.3115/976909.979643', '10.3115/976909.979644', '10.3115/976909.979645', '10.3115/976909.979646', '10.3115/976909.979647', '10.3115/976909.979648', '10.3115/976909.979649', '10.3115/976909.979650', '10.3115/976909.979651', '10.3115/976909.979652', '10.3115/976909.979653', '10.3115/976909.979654', '10.3115/976909.979655', '10.3115/976909.979656', '10.3115/976909.979657', '10.3115/976909.979658', '10.3115/976909.979659', '10.3115/976909.979660', '10.3115/976909.979661', '10.3115/976909.979662', '10.3115/976909.979663', '10.3115/976909.979664', '10.3115/976909.979665', '10.3115/976909.979666', '10.3115/976909.979667', '10.3115/976909.979668', '10.3115/976909.979669', '10.3115/976909.979670', '10.3115/976909.979671', '10.3115/976909.979672', '10.3115/976909.979673', '10.3115/976909.979674', '10.3115/976909.979675', '10.3115/976909.979676', '10.3115/976909.979677', '10.3115/976909.979678', '10.3115/976909.979679', '10.3115/976909.979680', '10.3115/976909.979681', '10.3115/976909.979682', '10.3115/976909.979683', '10.3115/976909.979684', '10.3115/976909.979685', '10.3115/976909.979686', '10.3115/976909.979687', '10.3115/976909.979688', '10.3115/976909.979689', '10.3115/976909.979690', '10.3115/981863.981864', '10.3115/981863.981865', '10.3115/981863.981866', '10.3115/981863.981867', '10.3115/981863.981868', '10.3115/981863.981869', '10.3115/981863.981871', '10.3115/981863.981872', '10.3115/981863.981873', '10.3115/981863.981874', '10.3115/981863.981875', '10.3115/981863.981876', '10.3115/981863.981877', '10.3115/981863.981878', '10.3115/981863.981879', '10.3115/981863.981880', '10.3115/981863.981881', '10.3115/981863.981882', '10.3115/981863.981883', '10.3115/981863.981884', '10.3115/981863.981885', '10.3115/981863.981886', '10.3115/981863.981887', '10.3115/981863.981888', '10.3115/981863.981889', '10.3115/981863.981890', '10.3115/981863.981891', '10.3115/981863.981892', '10.3115/981863.981893', '10.3115/981863.981894', '10.3115/981863.981895', '10.3115/981863.981896', '10.3115/981863.981897', '10.3115/981863.981898', '10.3115/981863.981899', '10.3115/981863.981900', '10.3115/981863.981901', '10.3115/981863.981902', '10.3115/981863.981903', '10.3115/981863.981904', '10.3115/981863.981905', '10.3115/981863.981906', '10.3115/981863.981907', '10.3115/981863.981909', '10.3115/981863.981910', '10.3115/981863.981911', '10.3115/981863.981912', '10.3115/981863.981913', '10.3115/981863.981914', '10.3115/981863.981915', '10.3115/981863.981916', '10.3115/981863.981917', '10.3115/981863.981918', '10.3115/981863.981919', '10.3115/981863.981920', '10.3115/981863.981921', '10.3115/981863.981922', '10.3115/981658.981659', '10.3115/981658.981660', '10.3115/981658.981661', '10.3115/981658.981662', '10.3115/981658.981663', '10.3115/981658.981664', '10.3115/981658.981665', '10.3115/981658.981666', '10.3115/981658.981667', '10.3115/981658.981668', '10.3115/981658.981669', '10.3115/981658.981670', '10.3115/981658.981671', '10.3115/981658.981672', '10.3115/981658.981673', '10.3115/981658.981674', '10.3115/981658.981675', '10.3115/981658.981676', '10.3115/981658.981677', '10.3115/981658.981678', '10.3115/981658.981679', '10.3115/981658.981680', '10.3115/981658.981681', '10.3115/981658.981682', '10.3115/981658.981683', '10.3115/981658.981684', '10.3115/981658.981685', '10.3115/981658.981686', '10.3115/981658.981687', '10.3115/981658.981688', '10.3115/981658.981689', '10.3115/981658.981690', '10.3115/981658.981691', '10.3115/981658.981692', '10.3115/981658.981693', '10.3115/981658.981694', '10.3115/981658.981695', '10.3115/981658.981697', '10.3115/981658.981698', '10.3115/981658.981699', '10.3115/981658.981700', '10.3115/981658.981701', '10.3115/981658.981702', '10.3115/981658.981703', '10.3115/981658.981704', '10.3115/981658.981705', '10.3115/981658.981706', '10.3115/981658.981707', '10.3115/981658.981708', '10.3115/981658.981709', '10.3115/981658.981710', '10.3115/981658.981711', '10.3115/981658.981712', '10.3115/981658.981713', '10.3115/981658.981714', '10.3115/981658.981715', '10.3115/981732.981733', '10.3115/981732.981734', '10.3115/981732.981735', '10.3115/981732.981736', '10.3115/981732.981737', '10.3115/981732.981738', '10.3115/981732.981739', '10.3115/981732.981740', '10.3115/981732.981741', '10.3115/981732.981742', '10.3115/981732.981743', '10.3115/981732.981744', '10.3115/981732.981745', '10.3115/981732.981746', '10.3115/981732.981747', '10.3115/981732.981748', '10.3115/981732.981749', '10.3115/981732.981750', '10.3115/981732.981751', '10.3115/981732.981752', '10.3115/981732.981753', '10.3115/981732.981754', '10.3115/981732.981755', '10.3115/981732.981756', '10.3115/981732.981757', '10.3115/981732.981758', '10.3115/981732.981759', '10.3115/981732.981760', '10.3115/981732.981761', '10.3115/981732.981762', '10.3115/981732.981763', '10.3115/981732.981764', '10.3115/981732.981765', '10.3115/981732.981766', '10.3115/981732.981767', '10.3115/981732.981768', '10.3115/981732.981769', '10.3115/981732.981770', '10.3115/981732.981771', '10.3115/981732.981772', '10.3115/981732.981773', '10.3115/981732.981774', '10.3115/981732.981776', '10.3115/981732.981777', '10.3115/981732.981778', '10.3115/981732.981779', '10.3115/981732.981780', '10.3115/981732.981781', '10.3115/981732.981782', '10.3115/981732.981783', '10.3115/981732.981784', '10.3115/981732.981785', '10.3115/981574.981575', '10.3115/981574.981576', '10.3115/981574.981577', '10.3115/981574.981578', '10.3115/981574.981579', '10.3115/981574.981580', '10.3115/981574.981581', '10.3115/981574.981582', '10.3115/981574.981583', '10.3115/981574.981584', '10.3115/981574.981585', '10.3115/981574.981586', '10.3115/981574.981587', '10.3115/981574.981588', '10.3115/981574.981589', '10.3115/981574.981590', '10.3115/981574.981591', '10.3115/981574.981592', '10.3115/981574.981593', '10.3115/981574.981594', '10.3115/981574.981595', '10.3115/981574.981596', '10.3115/981574.981597', '10.3115/981574.981598', '10.3115/981574.981599', '10.3115/981574.981600', '10.3115/981574.981601', '10.3115/981574.981602', '10.3115/981574.981603', '10.3115/981574.981604', '10.3115/981574.981605', '10.3115/981574.981606', '10.3115/981574.981607', '10.3115/981574.981608', '10.3115/981574.981609', '10.3115/981574.981610', '10.3115/981574.981612', '10.3115/981574.981613', '10.3115/981574.981614', '10.3115/981574.981615', '10.3115/981574.981616', '10.3115/981574.981617', '10.3115/981574.981618', '10.3115/981574.981619', '10.3115/981574.981620', '10.3115/981574.981621', '10.3115/981574.981622', '10.3115/981967.981968', '10.3115/981967.981969', '10.3115/981967.981970', '10.3115/981967.981971', '10.3115/981967.981972', '10.3115/981967.981973', '10.3115/981967.981974', '10.3115/981967.981975', '10.3115/981967.981976', '10.3115/981967.981977', '10.3115/981967.981978', '10.3115/981967.981979', '10.3115/981967.981980', '10.3115/981967.981981', '10.3115/981967.981982', '10.3115/981967.981983', '10.3115/981967.981984', '10.3115/981967.981985', '10.3115/981967.981986', '10.3115/981967.981987', '10.3115/981967.981988', '10.3115/981967.981989', '10.3115/981967.981990', '10.3115/981967.981991', '10.3115/981967.981992', '10.3115/981967.981993', '10.3115/981967.981994', '10.3115/981967.981995', '10.3115/981967.981996', '10.3115/981967.981997', '10.3115/981967.981998', '10.3115/981967.981999', '10.3115/981967.982000', '10.3115/981967.982001', '10.3115/981967.982003', '10.3115/981967.982004', '10.3115/981967.982005', '10.3115/981967.982006', '10.3115/981967.982007', '10.3115/981967.982008', '10.3115/981967.982009', '10.3115/981967.982010', '10.3115/981967.982011', '10.3115/981967.982012', '10.3115/981967.982013', '10.3115/981967.982014', '10.3115/981967.982015', '10.3115/981967.982016', '10.3115/981967.982017', '10.3115/981967.982018', '10.3115/981967.982019', '10.3115/981967.982020', '10.3115/981967.982021', '10.3115/981967.982022', '10.3115/981344.981345', '10.3115/981344.981346', '10.3115/981344.981347', '10.3115/981344.981348', '10.3115/981344.981349', '10.3115/981344.981350', '10.3115/981344.981351', '10.3115/981344.981352', '10.3115/981344.981353', '10.3115/981344.981354', '10.3115/981344.981355', '10.3115/981344.981356', '10.3115/981344.981357', '10.3115/981344.981358', '10.3115/981344.981359', '10.3115/981344.981360', '10.3115/981344.981361', '10.3115/981344.981362', '10.3115/981344.981363', '10.3115/981344.981364', '10.3115/981344.981365', '10.3115/981344.981366', '10.3115/981344.981367', '10.3115/981344.981368', '10.3115/981344.981369', '10.3115/981344.981370', '10.3115/981344.981371', '10.3115/981344.981372', '10.3115/981344.981373', '10.3115/981344.981374', '10.3115/981344.981375', '10.3115/981344.981376', '10.3115/981344.981377', '10.3115/981344.981378', '10.3115/981344.981379', '10.3115/981344.981380', '10.3115/981344.981381', '10.3115/981344.981382', '10.3115/981344.981383', '10.3115/981344.981384', '10.3115/981344.981385', '10.3115/981344.981386', '10.3115/981344.981388', '10.3115/981344.981389', '10.3115/981344.981390', '10.3115/981344.981391', '10.3115/981344.981392', '10.3115/981344.981393', '10.3115/981344.981394', '10.3115/981344.981395', '10.3115/981344.981396', '10.3115/981344.981397', '10.3115/981344.981398', '10.3115/981344.981399', '10.3115/981344.981400', '10.3115/981344.981401', '10.1007/3-540-55801-2_23', '10.1007/3-540-55801-2_24', '10.1007/3-540-55801-2_25', '10.1007/3-540-55801-2_26', '10.1007/3-540-55801-2_27', '10.1007/3-540-55801-2_28', '10.1007/3-540-55801-2_29', '10.1007/3-540-55801-2_30', '10.1007/3-540-55801-2_31', '10.1007/3-540-55801-2_32', '10.1007/3-540-55801-2_33', '10.1007/3-540-55801-2_34', '10.1007/3-540-55801-2_35', '10.1007/3-540-55801-2_36', '10.1007/3-540-55801-2_37', '10.1007/3-540-55801-2_38', '10.1007/3-540-55801-2_39', '10.1007/3-540-55801-2_40', '10.1007/3-540-55801-2_41', '10.1007/3-540-55801-2_42', '10.1007/3-540-55801-2_43', '10.1007/3-540-55801-2_44', '10.3115/981823.981824', '10.3115/981823.981825', '10.3115/981823.981826', '10.3115/981823.981827', '10.3115/981823.981828', '10.3115/981823.981829', '10.3115/981823.981830', '10.3115/981823.981831', '10.3115/981823.981832', '10.3115/981823.981833', '10.3115/981823.981834', '10.3115/981823.981835', '10.3115/981823.981836', '10.3115/981823.981837', '10.3115/981823.981838', '10.3115/981823.981839', '10.3115/981823.981840', '10.3115/981823.981841', '10.3115/981823.981842', '10.3115/981823.981843', '10.3115/981823.981844', '10.3115/981823.981845', '10.3115/981823.981846', '10.3115/981823.981847', '10.3115/981823.981848', '10.3115/981823.981849', '10.3115/981823.981850', '10.3115/981823.981851', '10.3115/981823.981852', '10.3115/981823.981853', '10.3115/981823.981854', '10.3115/981823.981855', '10.3115/981823.981856', '10.3115/981823.981857', '10.3115/981823.981858', '10.3115/981823.981859', '10.3115/981823.981860', '10.3115/981823.981861', '10.3115/981823.981862', '10.3115/981623.981624', '10.3115/981623.981625', '10.3115/981623.981626', '10.3115/981623.981627', '10.3115/981623.981628', '10.3115/981623.981629', '10.3115/981623.981630', '10.3115/981623.981631', '10.3115/981623.981632', '10.3115/981623.981633', '10.3115/981623.981634', '10.3115/981623.981635', '10.3115/981623.981636', '10.3115/981623.981637', '10.3115/981623.981638', '10.3115/981623.981639', '10.3115/981623.981640', '10.3115/981623.981641', '10.3115/981623.981642', '10.3115/981623.981643', '10.3115/981623.981644', '10.3115/981623.981645', '10.3115/981623.981646', '10.3115/981623.981647', '10.3115/981623.981648', '10.3115/981623.981649', '10.3115/981623.981650', '10.3115/981623.981651', '10.3115/981623.981652', '10.3115/981623.981653', '10.3115/981623.981654', '10.3115/981623.981655', '10.3115/981623.981656', '10.3115/981623.981657', '10.3115/982023.982024', '10.3115/982023.982025', '10.3115/982023.982026', '10.3115/982023.982027', '10.3115/982023.982028', '10.3115/982023.982029', '10.3115/982023.982030', '10.3115/982023.982031', '10.3115/982023.982032', '10.3115/982023.982033', '10.3115/982023.982034', '10.3115/982023.982035', '10.3115/982023.982036', '10.3115/982023.982037', '10.3115/982023.982038', '10.3115/982023.982039', '10.3115/982023.982040', '10.3115/982023.982041', '10.3115/982023.982042', '10.3115/982023.982043', '10.3115/982023.982044', '10.3115/982023.982045', '10.3115/982023.982046', '10.3115/982023.982047', '10.3115/982023.982048', '10.3115/982023.982049', '10.3115/982023.982050', '10.3115/982023.982051', '10.3115/982023.982052', '10.3115/982023.982053', '10.3115/982023.982054', '10.3115/982023.982055', '10.3115/982023.982056', '10.3115/982023.982057', '10.3115/982023.982058', '10.3115/981175.981176', '10.3115/981175.981177', '10.3115/981175.981178', '10.3115/981175.981179', '10.3115/981175.981180', '10.3115/981175.981181', '10.3115/981175.981182', '10.3115/981175.981183', '10.3115/981175.981184', '10.3115/981175.981185', '10.3115/981175.981186', '10.3115/981175.981187', '10.3115/981175.981188', '10.3115/981175.981189', '10.3115/981175.981190', '10.3115/981175.981191', '10.3115/981175.981192', '10.3115/981175.981193', '10.3115/981175.981194', '10.3115/981175.981195', '10.3115/981175.981196', '10.3115/981175.981197', '10.3115/981175.981198', '10.3115/981175.981199', '10.3115/981175.981200', '10.3115/981175.981201', '10.3115/981175.981202', '10.3115/981175.981203', '10.3115/981175.981204', '10.3115/981175.981205', '10.3115/981175.981206', '10.3115/981175.981207', '10.3115/981175.981208', '10.3115/981175.981209', '10.3115/981131.981132', '10.3115/981131.981133', '10.3115/981131.981134', '10.3115/981131.981135', '10.3115/981131.981136', '10.3115/981131.981137', '10.3115/981131.981138', '10.3115/981131.981139', '10.3115/981131.981140', '10.3115/981131.981141', '10.3115/981131.981142', '10.3115/981131.981143', '10.3115/981131.981144', '10.3115/981131.981145', '10.3115/981131.981146', '10.3115/981131.981147', '10.3115/981131.981148', '10.3115/981131.981149', '10.3115/981131.981150', '10.3115/981131.981151', '10.3115/981131.981152', '10.3115/981131.981153', '10.3115/981131.981154', '10.3115/981131.981155', '10.3115/981131.981156', '10.3115/981131.981168', '10.3115/981131.981169', '10.3115/981131.981170', '10.3115/981131.981157', '10.3115/981131.981158', '10.3115/981131.981159', '10.3115/981131.981160', '10.3115/981131.981161', '10.3115/981131.981162', '10.3115/981131.981163', '10.3115/981131.981164', '10.3115/981131.981165', '10.3115/981131.981166', '10.3115/981131.981172', '10.3115/981131.981173', '10.3115/981131.981174', '10.3115/981210.981211', '10.3115/981210.981212', '10.3115/981210.981213', '10.3115/981210.981214', '10.3115/981210.981215', '10.3115/981210.981216', '10.3115/981210.981217', '10.3115/981210.981218', '10.3115/981210.981219', '10.3115/981210.981220', '10.3115/981210.981221', '10.3115/981210.981222', '10.3115/981210.981223', '10.3115/981210.981224', '10.3115/981210.981225', '10.3115/981210.981226', '10.3115/981210.981227', '10.3115/981210.981228', '10.3115/981210.981229', '10.3115/981210.981230', '10.3115/981210.981231', '10.3115/981210.981232', '10.3115/981210.981233', '10.3115/981210.981234', '10.3115/981210.981235', '10.3115/981210.981236', '10.3115/981210.981237', '10.3115/981210.981238', '10.3115/981210.981239', '10.3115/981210.981240', '10.3115/981210.981241', '10.3115/981210.981242', '10.3115/981210.981243', '10.3115/981210.981244', '10.3115/981210.981245', '10.3115/981210.981246', '10.3115/981210.981247', '10.3115/981210.981248', '10.3115/981210.981249', '10.3115/981210.981250', '10.3115/980491.980492', '10.3115/980491.980493', '10.3115/980491.980494', '10.3115/980491.980495', '10.3115/980491.980496', '10.3115/980491.980497', '10.3115/980491.980498', '10.3115/980491.980499', '10.3115/980491.980500', '10.3115/980491.980501', '10.3115/980491.980502', '10.3115/980491.980503', '10.3115/980491.980504', '10.3115/980491.980505', '10.3115/980491.980506', '10.3115/980491.980507', '10.3115/980491.980508', '10.3115/980491.980509', '10.3115/980491.980510', '10.3115/980491.980511', '10.3115/980491.980512', '10.3115/980491.980513', '10.3115/980491.980514', '10.3115/980491.980515', '10.3115/980491.980516', '10.3115/980491.980517', '10.3115/980491.980518', '10.3115/980491.980519', '10.3115/980491.980520', '10.3115/980491.980521', '10.3115/980491.980522', '10.3115/980491.980523', '10.3115/980491.980524', '10.3115/980491.980525', '10.3115/980491.980526', '10.3115/980491.980527', '10.3115/980491.980528', '10.3115/980491.980529', '10.3115/980491.980530', '10.3115/980491.980531', '10.3115/980491.980532', '10.3115/980491.980533', '10.3115/980491.980534', '10.3115/980491.980535', '10.3115/980491.980536', '10.3115/980491.980537', '10.3115/980491.980538', '10.3115/980491.980539', '10.3115/980491.980540', '10.3115/980491.980541', '10.3115/980491.980542', '10.3115/980491.980543', '10.3115/980491.980544', '10.3115/980491.980545', '10.3115/980491.980546', '10.3115/980491.980547', '10.3115/980491.980548', '10.3115/980491.980549', '10.3115/980491.980550', '10.3115/980491.980551', '10.3115/980491.980552', '10.3115/980491.980553', '10.3115/980491.980554', '10.3115/980491.980555', '10.3115/980491.980556', '10.3115/980491.980557', '10.3115/980491.980558', '10.3115/980491.980559', '10.3115/980491.980560', '10.3115/980491.980561', '10.3115/980491.980562', '10.3115/980491.980563', '10.3115/980491.980564', '10.3115/980491.980565', '10.3115/980491.980566', '10.3115/980491.980567', '10.3115/980491.980568', '10.3115/980491.980569', '10.3115/980491.980570', '10.3115/980491.980571', '10.3115/980491.980572', '10.3115/980491.980573', '10.3115/980491.980574', '10.3115/980491.980575', '10.3115/980491.980576', '10.3115/980491.980577', '10.3115/980491.980578', '10.3115/980491.980579', '10.3115/980491.980580', '10.3115/980491.980581', '10.3115/980491.980582', '10.3115/980491.980583', '10.3115/980491.980584', '10.3115/980491.980585', '10.3115/980491.980586', '10.3115/980491.980587', '10.3115/980491.980588', '10.3115/980491.980589', '10.3115/980491.980590', '10.3115/980491.980591', '10.3115/980491.980592', '10.3115/980491.980593', '10.3115/980491.980594', '10.3115/980491.980595', '10.3115/980491.980596', '10.3115/980491.980597', '10.3115/980491.980598', '10.3115/980491.980599', '10.3115/980491.980600', '10.3115/980491.980601', '10.3115/980491.980602', '10.3115/980491.980603', '10.3115/980491.980604', '10.3115/980491.980605', '10.3115/980491.980606', '10.3115/980491.980607', '10.3115/981311.981313', '10.3115/981311.981314', '10.3115/981311.981315', '10.3115/981311.981316', '10.3115/981311.981318', '10.3115/981311.981319', '10.3115/981311.981320', '10.3115/981311.981321', '10.3115/981311.981322', '10.3115/981311.981323', '10.3115/981311.981325', '10.3115/981311.981326', '10.3115/981311.981328', '10.3115/981311.981329', '10.3115/981311.981331', '10.3115/981311.981333', '10.3115/981311.981334', '10.3115/981311.981335', '10.3115/981311.981336', '10.3115/981311.981337', '10.3115/981311.981338', '10.3115/981311.981340', '10.3115/981311.981341', '10.3115/981311.981342', '10.3115/981311.981343', '10.3115/981251.981253', '10.3115/981251.981254', '10.3115/981251.981255', '10.3115/981251.981256', '10.3115/981251.981258', '10.3115/981251.981259', '10.3115/981251.981261', '10.3115/981251.981262', '10.3115/981251.981263', '10.3115/981251.981264', '10.3115/981251.981265', '10.3115/981251.981266', '10.3115/981251.981268', '10.3115/981251.981269', '10.3115/981251.981270', '10.3115/981251.981271', '10.3115/981251.981273', '10.3115/981251.981274', '10.3115/981251.981275', '10.3115/981251.981276', '10.3115/981251.981277', '10.3115/981251.981278', '10.3115/981251.981279', '10.3115/981251.981280', '10.3115/981251.981281', '10.3115/981251.981282', '10.3115/981251.981284', '10.3115/981251.981285', '10.3115/981251.981286', '10.3115/981251.981287', '10.3115/981251.981289', '10.3115/981251.981290', '10.3115/981251.981292', '10.3115/981251.981293', '10.3115/981251.981294', '10.3115/981251.981295', '10.3115/981251.981296', '10.3115/981251.981297', '10.3115/981251.981298', '10.3115/981923.981925', '10.3115/981923.981926', '10.3115/981923.981927', '10.3115/981923.981928', '10.3115/981923.981929', '10.3115/981923.981931', '10.3115/981923.981932', '10.3115/981923.981933', '10.3115/981923.981934', '10.3115/981923.981935', '10.3115/981923.981936', '10.3115/981923.981938', '10.3115/981923.981939', '10.3115/981923.981940', '10.3115/981923.981942', '10.3115/981923.981943', '10.3115/981923.981944', '10.3115/981923.981945', '10.3115/981923.981946', '10.3115/981923.981948', '10.3115/981923.981949', '10.3115/981923.981950', '10.3115/981923.981951', '10.3115/981923.981952', '10.3115/981923.981954', '10.3115/981923.981955', '10.3115/981923.981956', '10.3115/981923.981957', '10.3115/981923.981958', '10.3115/981923.981959', '10.3115/981923.981961', '10.3115/981923.981962', '10.3115/981923.981963', '10.3115/981923.981964', '10.3115/981923.981965', '10.3115/981923.981966', '10.3115/981436.981438', '10.3115/981436.981439', '10.3115/981436.981440', '10.3115/981436.981441', '10.3115/981436.981442', '10.3115/981436.981444', '10.3115/981436.981445', '10.3115/981436.981446', '10.3115/981436.981447', '10.3115/981436.981448', '10.3115/981436.981449', '10.3115/981436.981451', '10.3115/981436.981452', '10.3115/981436.981453', '10.3115/981436.981454', '10.3115/981436.981455', '10.3115/981436.981457', '10.3115/981436.981458', '10.3115/981436.981459', '10.3115/981436.981460', '10.3115/981436.981461', '10.3115/981436.981462', '10.3115/981436.981463', '10.3115/981436.981465', '10.3115/981436.981466', '10.3115/981436.981467', '10.3115/981436.981468', '10.3115/981436.981469', '10.3115/981436.981470', '10.3115/981436.981471', '10.3115/981436.981472', '10.3115/981436.981474', '10.3115/981436.981475', '10.3115/981436.981476', '10.3115/981436.981477', '10.3115/981436.981478', '10.3115/981436.981479', '10.3115/981436.981481', '10.3115/981436.981482', '10.3115/981436.981483', '10.3115/981436.981484', '10.3115/981436.981485', '10.3115/981436.981486', '10.3115/981436.981487', '10.3115/982163.982165', '10.3115/982163.982166', '10.3115/982163.982167', '10.3115/982163.982168', '10.3115/982163.982169', '10.3115/982163.982170', '10.3115/982163.982171', '10.3115/982163.982173', '10.3115/982163.982174', '10.3115/982163.982175', '10.3115/982163.982176', '10.3115/982163.982177', '10.3115/982163.982178', '10.3115/982163.982179', '10.3115/982163.982181', '10.3115/982163.982182', '10.3115/982163.982183', '10.3115/982163.982184', '10.3115/982163.982185', '10.3115/982163.982186', '10.3115/982163.982187', '10.3115/982163.982189', '10.3115/982163.982190', '10.3115/982163.982191', '10.3115/982163.982192', '10.3115/982163.982193', '10.3115/982163.982194', '10.3115/982163.982195']\n"
     ]
    }
   ],
   "source": [
    "# paper doi만 추출\n",
    "paper_DOI=[]\n",
    "for paper_link in paper_links:\n",
    "    paper_DOI.append(paper_link.split('https://doi.org/')[1])\n",
    "print(paper_DOI)"
   ]
  },
  {
   "cell_type": "code",
   "execution_count": 212,
   "id": "aedda86e",
   "metadata": {},
   "outputs": [],
   "source": [
    "#dblp_links, paper_links,paper_DOI\n",
    "with open('./dblp_links.json','w') as f:\n",
    "    json.dump(links,f)\n",
    "with open('./paper_links.json','w') as f:\n",
    "    json.dump(paper_links,f)\n",
    "with open('./paper_doi.json','w') as f:\n",
    "    json.dump(paper_DOI,f)"
   ]
  },
  {
   "cell_type": "markdown",
   "id": "e75696a6",
   "metadata": {},
   "source": [
    "## API Only accepts 500 papers in one call."
   ]
  },
  {
   "cell_type": "markdown",
   "id": "26c45eec",
   "metadata": {},
   "source": [
    "## 약 10000개 paper 500개씩 Chunking & API CALL"
   ]
  },
  {
   "cell_type": "code",
   "execution_count": 74,
   "id": "88698cb6",
   "metadata": {},
   "outputs": [],
   "source": [
    "# slice the list of paper doi\n",
    "listOfPaper=[]\n",
    "before=0\n",
    "for i in range(500,len(paper_links),500):\n",
    "    listOfPaper.append(paper_DOI[before:i])\n",
    "    before=i\n",
    "listOfPaper.append(paper_DOI[10000:len(paper_links)])\n"
   ]
  },
  {
   "cell_type": "code",
   "execution_count": 461,
   "id": "bf769062",
   "metadata": {},
   "outputs": [],
   "source": [
    "from semanticscholar import SemanticScholar\n",
    "sch = SemanticScholar()"
   ]
  },
  {
   "cell_type": "markdown",
   "id": "1cbc268c",
   "metadata": {},
   "source": [
    "## 안에 있는 500개 중에 ERROR가 있어서 되는 chunk 먼저 API CALL"
   ]
  },
  {
   "cell_type": "code",
   "execution_count": 99,
   "id": "658a5306",
   "metadata": {},
   "outputs": [
    {
     "name": "stdout",
     "output_type": "stream",
     "text": [
      "7\n",
      "8\n",
      "9\n"
     ]
    }
   ],
   "source": [
    "## There is an error with API, so it needs to be modified a little bit\n",
    "## 7~20 index first\n",
    "temp7to9=[]\n",
    "for i in range(7,10):\n",
    "    print(i)\n",
    "    paper=sch.get_papers(listOfPaper[i])\n",
    "    temp7to9+=list(paper)\n",
    "    "
   ]
  },
  {
   "cell_type": "code",
   "execution_count": 103,
   "id": "50245f4b",
   "metadata": {},
   "outputs": [
    {
     "name": "stdout",
     "output_type": "stream",
     "text": [
      "15\n",
      "16\n"
     ]
    }
   ],
   "source": [
    "## 10,11,12,13,14 is ERROR...............................ㅠㅠㅠㅠ\n",
    "temp15to17=[]  ## typo!! 16까지임\n",
    "for i in range(15,17):\n",
    "    print(i)\n",
    "    paper=sch.get_papers(listOfPaper[i])\n",
    "    temp15to17+=list(paper)"
   ]
  },
  {
   "cell_type": "code",
   "execution_count": 107,
   "id": "7b7adc78",
   "metadata": {},
   "outputs": [],
   "source": [
    "#17,18,19 ERROR\n",
    "temp20=[]\n",
    "paper=sch.get_papers(listOfPaper[20])\n",
    "temp20+=list(paper)"
   ]
  },
  {
   "cell_type": "code",
   "execution_count": 224,
   "id": "52f916c1",
   "metadata": {},
   "outputs": [],
   "source": [
    "# listOfPapers\n",
    "with open('listOfPaper.json','w') as f:\n",
    "    json.dump(listOfPaper,f)"
   ]
  },
  {
   "cell_type": "markdown",
   "id": "439419b1",
   "metadata": {},
   "source": [
    "## SO many errors in API.....*(짧은 시간에 너무 많은 API call로 Ban당하는 중)*"
   ]
  },
  {
   "cell_type": "code",
   "execution_count": 435,
   "id": "dcf144e1",
   "metadata": {},
   "outputs": [],
   "source": [
    "import time # for time sleep\n",
    "from tqdm import tqdm\n",
    "paperIdList=[]# paperid 저장용 list size(15,500)"
   ]
  },
  {
   "cell_type": "code",
   "execution_count": 468,
   "id": "884e2531",
   "metadata": {},
   "outputs": [],
   "source": [
    "SEARCH_FIELDS = [\n",
    "        'abstract',\n",
    "        'authors',\n",
    "        'citationCount',\n",
    "        'corpusId',\n",
    "        'externalIds',\n",
    "        'fieldsOfStudy',\n",
    "        'influentialCitationCount',\n",
    "        'isOpenAccess',\n",
    "        'journal',\n",
    "        'openAccessPdf',\n",
    "        'paperId',\n",
    "        'publicationDate',\n",
    "        'publicationTypes',\n",
    "        'publicationVenue',\n",
    "        'referenceCount',\n",
    "        's2FieldsOfStudy',\n",
    "        'title',\n",
    "        'url',\n",
    "        'venue',\n",
    "        'year'\n",
    "    ]"
   ]
  },
  {
   "cell_type": "markdown",
   "id": "35c9d785",
   "metadata": {},
   "source": [
    "## 중간에 소문자로 인해 인식 안 되는 중 -> 변경"
   ]
  },
  {
   "cell_type": "code",
   "execution_count": 447,
   "id": "4074412d",
   "metadata": {
    "scrolled": false
   },
   "outputs": [
    {
     "name": "stderr",
     "output_type": "stream",
     "text": [
      "11: 100%|████████████████████████████████████████████████████████████████████████████| 500/500 [00:00<00:00, 641919.80it/s]\n",
      "12: 100%|████████████████████████████████████████████████████████████████████████████| 500/500 [00:00<00:00, 621562.54it/s]\n",
      "13: 100%|████████████████████████████████████████████████████████████████████████████| 500/500 [00:00<00:00, 582218.77it/s]\n"
     ]
    }
   ],
   "source": [
    "list11to13=[] #11~13번 chunk\n",
    "for i in [11,12,13]:\n",
    "    ls=[]\n",
    "    for j in tqdm(range(0,500),desc=str(i)):\n",
    "        doi=listOfPaper[i][j].split(\"10.18653/v1/\")[1].upper()\n",
    "        ls.append(\"10.18653/v1/\"+doi)\n",
    "    list11to13.append(ls)    "
   ]
  },
  {
   "cell_type": "code",
   "execution_count": 475,
   "id": "48ca2392",
   "metadata": {
    "scrolled": true
   },
   "outputs": [
    {
     "name": "stderr",
     "output_type": "stream",
     "text": [
      "0:   0%|▎                                                                                | 2/500 [00:20<1:09:48,  8.41s/it]"
     ]
    },
    {
     "name": "stdout",
     "output_type": "stream",
     "text": [
      "0 0 10.18653/v1/P19-1116\n"
     ]
    },
    {
     "name": "stderr",
     "output_type": "stream",
     "text": [
      "0:  31%|████████████████████████▉                                                        | 154/500 [06:06<30:25,  5.28s/it]"
     ]
    },
    {
     "name": "stdout",
     "output_type": "stream",
     "text": [
      "0 153 10.18653/v1/P19-1269\n"
     ]
    },
    {
     "name": "stderr",
     "output_type": "stream",
     "text": [
      "0:  31%|█████████████████████████▎                                                       | 156/500 [06:16<32:30,  5.67s/it]"
     ]
    },
    {
     "name": "stdout",
     "output_type": "stream",
     "text": [
      "0 155 10.18653/v1/P19-1271\n"
     ]
    },
    {
     "name": "stderr",
     "output_type": "stream",
     "text": [
      "0:  81%|█████████████████████████████████████████████████████████████████▍               | 404/500 [15:51<08:28,  5.30s/it]"
     ]
    },
    {
     "name": "stdout",
     "output_type": "stream",
     "text": [
      "0 403 10.18653/v1/P19-1519\n"
     ]
    },
    {
     "name": "stderr",
     "output_type": "stream",
     "text": [
      "0: 100%|█████████████████████████████████████████████████████████████████████████████████| 500/500 [19:19<00:00,  2.32s/it]\n",
      "1:  70%|████████████████████████████████████████████████████████▊                        | 351/500 [13:32<15:55,  6.41s/it]"
     ]
    },
    {
     "name": "stdout",
     "output_type": "stream",
     "text": [
      "1 350 10.18653/v1/P18-1203\n"
     ]
    },
    {
     "name": "stderr",
     "output_type": "stream",
     "text": [
      "1:  82%|██████████████████████████████████████████████████████████████████▌              | 411/500 [15:47<09:31,  6.43s/it]"
     ]
    },
    {
     "name": "stdout",
     "output_type": "stream",
     "text": [
      "1 410 10.18653/v1/P18-2007\n"
     ]
    },
    {
     "name": "stderr",
     "output_type": "stream",
     "text": [
      "1:  86%|█████████████████████████████████████████████████████████████████████▋           | 430/500 [16:21<02:59,  2.57s/it]"
     ]
    },
    {
     "name": "stdout",
     "output_type": "stream",
     "text": [
      "1 428 10.18653/v1/P18-2025\n"
     ]
    },
    {
     "name": "stderr",
     "output_type": "stream",
     "text": [
      "1: 100%|█████████████████████████████████████████████████████████████████████████████████| 500/500 [18:57<00:00,  2.28s/it]\n",
      "2:  29%|███████████████████████▎                                                         | 144/500 [05:36<13:55,  2.35s/it]"
     ]
    },
    {
     "name": "stdout",
     "output_type": "stream",
     "text": [
      "2 143 10.18653/v1/P17-1041\n"
     ]
    },
    {
     "name": "stderr",
     "output_type": "stream",
     "text": [
      "2:  30%|████████████████████████▏                                                        | 149/500 [05:37<03:23,  1.72it/s]"
     ]
    },
    {
     "name": "stdout",
     "output_type": "stream",
     "text": [
      "2 148 10.18653/v1/P17-1046\n"
     ]
    },
    {
     "name": "stderr",
     "output_type": "stream",
     "text": [
      "2: 100%|█████████████████████████████████████████████████████████████████████████████████| 500/500 [18:45<00:00,  2.25s/it]\n"
     ]
    }
   ],
   "source": [
    "temp11to13=[]\n",
    "for i in range(0,3):\n",
    "    for j in tqdm(range(0,500),desc=str(i)):\n",
    "        if j %10==0:\n",
    "            time.sleep(20)\n",
    "        try:\n",
    "            paper=sch.get_paper(list11to13[i][j],SEARCH_FIELDS)\n",
    "            temp11to13.append(paper)\n",
    "        except:\n",
    "            print(i,j,list11to13[i][j])"
   ]
  },
  {
   "cell_type": "markdown",
   "id": "b68d2d06",
   "metadata": {},
   "source": [
    "## 10.18653 이 아니라 10.3115인 구간으로 인해 (14,473)부터 다시 request"
   ]
  },
  {
   "cell_type": "code",
   "execution_count": 476,
   "id": "d0b19a1b",
   "metadata": {},
   "outputs": [
    {
     "name": "stderr",
     "output_type": "stream",
     "text": [
      "14: 100%|████████████████████████████████████████████████████████████████████████████| 473/473 [00:00<00:00, 622694.85it/s]\n",
      "14: 100%|██████████████████████████████████████████████████████████████████████████████| 27/27 [00:00<00:00, 112907.49it/s]\n"
     ]
    }
   ],
   "source": [
    "list14=[] #14번 청크\n",
    "for j in tqdm(range(0,473),desc=str(14)):\n",
    "        doi=listOfPaper[14][j].split(\"10.18653/v1/\")[1].upper()\n",
    "        list14.append(\"10.18653/v1/\"+doi)\n",
    "for j in tqdm(range(473,500),desc=str(14)):\n",
    "    doi=listOfPaper[14][j].split(\"10.3115/v1/\")[1].upper()\n",
    "    list14.append(\"10.3115/v1/\"+doi)"
   ]
  },
  {
   "cell_type": "code",
   "execution_count": 477,
   "id": "38c0755c",
   "metadata": {
    "scrolled": false
   },
   "outputs": [
    {
     "name": "stderr",
     "output_type": "stream",
     "text": [
      "2:  26%|████████████████████▋                                                            | 128/500 [04:53<04:38,  1.33it/s]"
     ]
    },
    {
     "name": "stdout",
     "output_type": "stream",
     "text": [
      "127 10.18653/v1/P16-1146\n"
     ]
    },
    {
     "name": "stderr",
     "output_type": "stream",
     "text": [
      "2:  45%|████████████████████████████████████▎                                            | 224/500 [08:35<10:51,  2.36s/it]"
     ]
    },
    {
     "name": "stdout",
     "output_type": "stream",
     "text": [
      "223 10.18653/v1/P16-2011\n"
     ]
    },
    {
     "name": "stderr",
     "output_type": "stream",
     "text": [
      "2:  71%|█████████████████████████████████████████████████████████▏                       | 353/500 [13:24<07:59,  3.26s/it]"
     ]
    },
    {
     "name": "stdout",
     "output_type": "stream",
     "text": [
      "352 10.18653/v1/P16-3015\n"
     ]
    },
    {
     "name": "stderr",
     "output_type": "stream",
     "text": [
      "2: 100%|█████████████████████████████████████████████████████████████████████████████████| 500/500 [18:47<00:00,  2.25s/it]\n"
     ]
    }
   ],
   "source": [
    "temp14=[]\n",
    "for j in tqdm(range(0,500),desc=str(i)):\n",
    "        if j %10==0:\n",
    "            time.sleep(20)\n",
    "        try:\n",
    "            paper=sch.get_paper(list14[j],SEARCH_FIELDS)\n",
    "            temp14.append(paper)\n",
    "        except:\n",
    "            print(j,list14[j])"
   ]
  },
  {
   "cell_type": "markdown",
   "id": "8163c883",
   "metadata": {},
   "source": [
    "## 17,18,19 chunk 작업"
   ]
  },
  {
   "cell_type": "code",
   "execution_count": 285,
   "id": "b265e903",
   "metadata": {
    "scrolled": false
   },
   "outputs": [
    {
     "name": "stdout",
     "output_type": "stream",
     "text": [
      "10.3115/981344.981401\n",
      "10.1007/3-540-55801-2_23\n",
      "10.1007/3-540-55801-2_44\n",
      "10.3115/981823.981824\n"
     ]
    }
   ],
   "source": [
    "#error 파악\n",
    "print(listOfPaper[19][259])\n",
    "print(listOfPaper[19][260])\n",
    "print(listOfPaper[19][281])\n",
    "print(listOfPaper[19][282])"
   ]
  },
  {
   "cell_type": "code",
   "execution_count": 479,
   "id": "3cea91bc",
   "metadata": {},
   "outputs": [
    {
     "name": "stderr",
     "output_type": "stream",
     "text": [
      "17: 100%|███████████████████████████████████████████████████████████████████████████| 500/500 [00:00<00:00, 1093405.63it/s]\n",
      "18: 100%|███████████████████████████████████████████████████████████████████████████| 500/500 [00:00<00:00, 1190887.00it/s]\n",
      "19: 100%|███████████████████████████████████████████████████████████████████████████| 260/260 [00:00<00:00, 1074403.00it/s]\n",
      "19: 100%|████████████████████████████████████████████████████████████████████████████| 218/218 [00:00<00:00, 421751.97it/s]\n"
     ]
    }
   ],
   "source": [
    "list17to19=[]\n",
    "for i in [17,18]:\n",
    "    ls=[]\n",
    "    for j in tqdm(range(0,500),desc=str(i)):\n",
    "        doi=listOfPaper[i][j].split(\"10.3115/\")[1].upper()\n",
    "        ls.append(\"10.3115/\"+doi)\n",
    "    list17to19.append(ls) \n",
    "    \n",
    "ls=[]\n",
    "for j in tqdm(range(0,260),desc=str(19)):\n",
    "    doi=listOfPaper[i][j].split(\"10.3115/\")[1].upper()\n",
    "    ls.append(\"10.3115/\"+doi)\n",
    "k=23\n",
    "for i in range(260,282):\n",
    "    ls.append(\"10.1007/3-540-55801-2_\"+str(k))\n",
    "    k+=1\n",
    "for j in tqdm(range(282,500),desc=str(19)):\n",
    "    doi=listOfPaper[19][j].split(\"10.3115/\")[1].upper()\n",
    "    ls.append(\"10.3115/\"+doi)\n",
    "list17to19.append(ls)"
   ]
  },
  {
   "cell_type": "code",
   "execution_count": null,
   "id": "16accc81",
   "metadata": {
    "scrolled": true
   },
   "outputs": [
    {
     "name": "stderr",
     "output_type": "stream",
     "text": [
      "0:  34%|███████████████████████████▍                                                     | 169/500 [06:19<03:09,  1.74it/s]"
     ]
    },
    {
     "name": "stdout",
     "output_type": "stream",
     "text": [
      "0 168 10.3115/1218955.1219038\n"
     ]
    },
    {
     "name": "stderr",
     "output_type": "stream",
     "text": [
      "0:  60%|████████████████████████████████████████████████▎                                | 298/500 [11:10<02:27,  1.37it/s]"
     ]
    },
    {
     "name": "stdout",
     "output_type": "stream",
     "text": [
      "0 297 10.3115/1073083.1073091\n"
     ]
    },
    {
     "name": "stderr",
     "output_type": "stream",
     "text": [
      "0:  65%|████████████████████████████████████████████████████▊                            | 326/500 [12:26<12:13,  4.21s/it]"
     ]
    },
    {
     "name": "stdout",
     "output_type": "stream",
     "text": [
      "0 325 10.3115/1073083.1073126\n"
     ]
    },
    {
     "name": "stderr",
     "output_type": "stream",
     "text": [
      "0:  73%|███████████████████████████████████████████████████████████▍                     | 367/500 [13:57<02:00,  1.10it/s]"
     ]
    },
    {
     "name": "stdout",
     "output_type": "stream",
     "text": [
      "0 365 10.3115/1118149.1118157\n"
     ]
    },
    {
     "name": "stderr",
     "output_type": "stream",
     "text": [
      "\r\n",
      "0:  74%|███████████████████████████████████████████████████████████▌                     | 368/500 [13:57<01:30,  1.46it/s]"
     ]
    },
    {
     "name": "stdout",
     "output_type": "stream",
     "text": [
      "0 367 10.3115/1118149.1118159\n"
     ]
    },
    {
     "name": "stderr",
     "output_type": "stream",
     "text": [
      "0:  75%|████████████████████████████████████████████████████████████▍                    | 373/500 [14:19<06:53,  3.25s/it]"
     ]
    },
    {
     "name": "stdout",
     "output_type": "stream",
     "text": [
      "0 372 10.3115/1118656.1118659\n"
     ]
    },
    {
     "name": "stderr",
     "output_type": "stream",
     "text": [
      "0:  75%|████████████████████████████████████████████████████████████▊                    | 375/500 [14:19<03:35,  1.72s/it]"
     ]
    },
    {
     "name": "stdout",
     "output_type": "stream",
     "text": [
      "0 374 10.3115/1118656.1118661\n"
     ]
    },
    {
     "name": "stderr",
     "output_type": "stream",
     "text": [
      "0:  76%|█████████████████████████████████████████████████████████████▌                   | 380/500 [14:20<00:55,  2.16it/s]"
     ]
    },
    {
     "name": "stdout",
     "output_type": "stream",
     "text": [
      "0 378 10.3115/1118656.1118665\n"
     ]
    },
    {
     "name": "stderr",
     "output_type": "stream",
     "text": [
      "0:  77%|██████████████████████████████████████████████████████████████▎                  | 385/500 [14:41<03:14,  1.69s/it]"
     ]
    },
    {
     "name": "stdout",
     "output_type": "stream",
     "text": [
      "0 383 10.3115/1118656.1118670\n"
     ]
    },
    {
     "name": "stderr",
     "output_type": "stream",
     "text": [
      "0: 100%|█████████████████████████████████████████████████████████████████████████████████| 500/500 [18:51<00:00,  2.26s/it]\n",
      "1:  44%|███████████████████████████████████▊                                             | 221/500 [08:48<43:39,  9.39s/it]"
     ]
    },
    {
     "name": "stdout",
     "output_type": "stream",
     "text": [
      "1 220 10.3115/980845.980951\n"
     ]
    },
    {
     "name": "stderr",
     "output_type": "stream",
     "text": [
      "1: 100%|█████████████████████████████████████████████████████████████████████████████████| 500/500 [18:56<00:00,  2.27s/it]\n",
      "2:  53%|██████████████████████████████████████████▉                                      | 265/500 [10:09<06:36,  1.69s/it]"
     ]
    },
    {
     "name": "stdout",
     "output_type": "stream",
     "text": [
      "2 263 10.1007/3-540-55801-2_26\n"
     ]
    },
    {
     "name": "stderr",
     "output_type": "stream",
     "text": [
      "2:  64%|███████████████████████████████████████████████████▋                             | 319/500 [12:07<04:53,  1.62s/it]"
     ]
    },
    {
     "name": "stdout",
     "output_type": "stream",
     "text": [
      "2 318 10.3115/981823.981860\n"
     ]
    },
    {
     "name": "stderr",
     "output_type": "stream",
     "text": [
      "2:  90%|████████████████████████████████████████████████████████████████████████▉        | 450/500 [17:02<00:24,  2.08it/s]"
     ]
    }
   ],
   "source": [
    "temp17to19=[]\n",
    "for i in range(0,3):\n",
    "    for j in tqdm(range(0,500),desc=str(i)):\n",
    "        if j %10==0:\n",
    "            time.sleep(20)\n",
    "        try:\n",
    "            paper=sch.get_paper(list17to19[i][j],SEARCH_FIELDS)\n",
    "            temp17to19.append(paper)\n",
    "        except:\n",
    "            print(i,j,list17to19[i][j])"
   ]
  },
  {
   "cell_type": "code",
   "execution_count": 495,
   "id": "e5ae78a3",
   "metadata": {},
   "outputs": [
    {
     "name": "stderr",
     "output_type": "stream",
     "text": [
      "10: 100%|████████████████████████████████████████████████████████████████| 115/115 [00:00<00:00, 611337.08it/s]\n"
     ]
    }
   ],
   "source": [
    "for j in tqdm(range(385,500),desc=str(10)):\n",
    "        doi=listOfPaper[10][j].split(\"10.18653/v1/\")[1].upper() ## 대문자로 변경해야 됨\n",
    "        listOfPaper[10][j]=\"10.18653/v1/\"+doi"
   ]
  },
  {
   "cell_type": "code",
   "execution_count": 507,
   "id": "53bd1f2a",
   "metadata": {
    "scrolled": false
   },
   "outputs": [
    {
     "name": "stderr",
     "output_type": "stream",
     "text": [
      "4:   4%|██▌                                                                   | 18/500 [00:54<29:49,  3.71s/it]"
     ]
    },
    {
     "name": "stdout",
     "output_type": "stream",
     "text": [
      "4 17 10.18653/v1/2020.acl-main.519\n"
     ]
    },
    {
     "name": "stderr",
     "output_type": "stream",
     "text": [
      "4:  74%|██████████████████████████████████████████████████▉                  | 369/500 [14:03<01:15,  1.74it/s]"
     ]
    },
    {
     "name": "stdout",
     "output_type": "stream",
     "text": [
      "4 367 10.18653/v1/2020.acl-tutorials.6\n"
     ]
    },
    {
     "name": "stderr",
     "output_type": "stream",
     "text": [
      "4:  92%|███████████████████████████████████████████████████████████████▌     | 461/500 [17:46<04:09,  6.39s/it]"
     ]
    },
    {
     "name": "stdout",
     "output_type": "stream",
     "text": [
      "4 460 10.18653/v1/P19-1076\n"
     ]
    },
    {
     "name": "stderr",
     "output_type": "stream",
     "text": [
      "4: 100%|█████████████████████████████████████████████████████████████████████| 500/500 [18:55<00:00,  2.27s/it]\n"
     ]
    }
   ],
   "source": [
    "temp10=[]\n",
    "\n",
    "for j in tqdm(range(0,500),desc=str(i)):\n",
    "        if j %10==0:\n",
    "            time.sleep(20)\n",
    "        try:\n",
    "            paper=sch.get_paper(listOfPaper[10][j],SEARCH_FIELDS)\n",
    "            temp10.append(paper)\n",
    "        except:\n",
    "            print(i,j,listOfPaper[10][j])"
   ]
  },
  {
   "cell_type": "markdown",
   "id": "eea412f5",
   "metadata": {},
   "source": [
    "- 4 17 10.18653/v1/2020.acl-main.519\n",
    "- 4 367 10.18653/v1/2020.acl-tutorials.6 => 10.1145/3394486.3406468\n",
    "- 4 460 10.18653/v1/P19-1076 => CorpusId:170079259"
   ]
  },
  {
   "cell_type": "markdown",
   "id": "93352245",
   "metadata": {},
   "source": [
    "## 0~6 chunk는 중간에 계속 에러 나는 경우가 많아서 어쩔 수 없이 paperId필요\n",
    "## 크롤링 사이트의 형식이 이상해서 가끔 제목추출이 이상하게 되는 경우가 있음. \n",
    "## 따라서 논문 제목을 위해 Crossref Unified Resource API 사용....\n",
    "https://api.crossref.org/swagger-ui/index.html#/Works/get_works__doi_"
   ]
  },
  {
   "cell_type": "code",
   "execution_count": 530,
   "id": "22a3c771",
   "metadata": {
    "scrolled": true
   },
   "outputs": [
    {
     "data": {
      "text/plain": [
       "{'status': 'ok',\n",
       " 'message-type': 'work',\n",
       " 'message-version': '1.0.0',\n",
       " 'message': {'indexed': {'date-parts': [[2023, 8, 5]],\n",
       "   'date-time': '2023-08-05T04:15:51Z',\n",
       "   'timestamp': 1691208951540},\n",
       "  'publisher-location': 'Stroudsburg, PA, USA',\n",
       "  'reference-count': 0,\n",
       "  'publisher': 'Association for Computational Linguistics',\n",
       "  'content-domain': {'domain': [], 'crossmark-restriction': False},\n",
       "  'short-container-title': [],\n",
       "  'published-print': {'date-parts': [[2023]]},\n",
       "  'DOI': '10.18653/v1/2023.acl-long.1',\n",
       "  'type': 'proceedings-article',\n",
       "  'created': {'date-parts': [[2023, 8, 5]],\n",
       "   'date-time': '2023-08-05T00:57:42Z',\n",
       "   'timestamp': 1691197062000},\n",
       "  'source': 'Crossref',\n",
       "  'is-referenced-by-count': 0,\n",
       "  'title': ['One Cannot Stand for Everyone! Leveraging Multiple User Simulators to train Task-oriented Dialogue Systems'],\n",
       "  'prefix': '10.18653',\n",
       "  'author': [{'given': 'Yajiao',\n",
       "    'family': 'Liu',\n",
       "    'sequence': 'first',\n",
       "    'affiliation': []},\n",
       "   {'given': 'Xin',\n",
       "    'family': 'Jiang',\n",
       "    'sequence': 'additional',\n",
       "    'affiliation': []},\n",
       "   {'given': 'Yichun',\n",
       "    'family': 'Yin',\n",
       "    'sequence': 'additional',\n",
       "    'affiliation': []},\n",
       "   {'given': 'Yasheng',\n",
       "    'family': 'Wang',\n",
       "    'sequence': 'additional',\n",
       "    'affiliation': []},\n",
       "   {'given': 'Fei',\n",
       "    'family': 'Mi',\n",
       "    'sequence': 'additional',\n",
       "    'affiliation': []},\n",
       "   {'given': 'Qun',\n",
       "    'family': 'Liu',\n",
       "    'sequence': 'additional',\n",
       "    'affiliation': []},\n",
       "   {'given': 'Xiang',\n",
       "    'family': 'Wan',\n",
       "    'sequence': 'additional',\n",
       "    'affiliation': []},\n",
       "   {'given': 'Benyou',\n",
       "    'family': 'Wang',\n",
       "    'sequence': 'additional',\n",
       "    'affiliation': []}],\n",
       "  'member': '1643',\n",
       "  'event': {'name': 'Proceedings of the 61st Annual Meeting of the Association for Computational Linguistics (Volume 1: Long Papers)',\n",
       "   'location': 'Toronto, Canada',\n",
       "   'start': {'date-parts': [[2023, 7]]},\n",
       "   'end': {'date-parts': [[2023, 7]]}},\n",
       "  'container-title': ['Proceedings of the 61st Annual Meeting of the Association for Computational Linguistics (Volume 1: Long Papers)'],\n",
       "  'original-title': [],\n",
       "  'deposited': {'date-parts': [[2023, 8, 5]],\n",
       "   'date-time': '2023-08-05T01:00:19Z',\n",
       "   'timestamp': 1691197219000},\n",
       "  'score': 1,\n",
       "  'resource': {'primary': {'URL': 'https://aclanthology.org/2023.acl-long.1'}},\n",
       "  'subtitle': [],\n",
       "  'short-title': [],\n",
       "  'issued': {'date-parts': [[2023]]},\n",
       "  'references-count': 0,\n",
       "  'URL': 'http://dx.doi.org/10.18653/v1/2023.acl-long.1',\n",
       "  'relation': {},\n",
       "  'published': {'date-parts': [[2023]]}}}"
      ]
     },
     "execution_count": 530,
     "metadata": {},
     "output_type": "execute_result"
    }
   ],
   "source": [
    "url=\"https://api.crossref.org/works/\"+listOfPaper[0][0]\n",
    "paper_response=requests.get(url)\n",
    "paper=paper_response.json()\n",
    "paper['message']['title'][0]"
   ]
  },
  {
   "cell_type": "markdown",
   "id": "fddef34f",
   "metadata": {},
   "source": [
    "### DOI 중에 arkiv로 되어있는 DOI로 찾아야하는 경우가 많음. 따라서 semantic scholar에서 논문 제목을 통해 paperId 추출"
   ]
  },
  {
   "cell_type": "code",
   "execution_count": 531,
   "id": "cdd5ebe5",
   "metadata": {
    "scrolled": true
   },
   "outputs": [
    {
     "name": "stderr",
     "output_type": "stream",
     "text": [
      "0:  53%|████████████████████████████████████▌                                | 265/500 [33:14<20:42,  5.29s/it]"
     ]
    },
    {
     "name": "stdout",
     "output_type": "stream",
     "text": [
      "An Ordinal Latent Variable Model of Conflict Intensity 10.18653/v1/2023.acl-long.265 0 264\n"
     ]
    },
    {
     "name": "stderr",
     "output_type": "stream",
     "text": [
      "0:  53%|████████████████████████████████████▊                                | 267/500 [33:25<22:33,  5.81s/it]"
     ]
    },
    {
     "name": "stdout",
     "output_type": "stream",
     "text": [
      "Pre-Training to Learn in Context 10.18653/v1/2023.acl-long.267 0 266\n"
     ]
    },
    {
     "name": "stderr",
     "output_type": "stream",
     "text": [
      "0:  81%|███████████████████████████████████████████████████████▊             | 404/500 [46:59<21:03, 13.17s/it]"
     ]
    },
    {
     "name": "stdout",
     "output_type": "stream",
     "text": [
      "Peeking inside the black box: A Commonsense-aware Generative Framework for Explainable Complaint Detection 10.18653/v1/2023.acl-long.404 0 403\n"
     ]
    },
    {
     "name": "stderr",
     "output_type": "stream",
     "text": [
      "0:  83%|█████████████████████████████████████████████████████████▏           | 414/500 [48:37<17:17, 12.07s/it]"
     ]
    },
    {
     "name": "stdout",
     "output_type": "stream",
     "text": [
      "Linguistic representations for fewer-shot relation extraction across domains 10.18653/v1/2023.acl-long.414 0 413\n"
     ]
    },
    {
     "name": "stderr",
     "output_type": "stream",
     "text": [
      "0:  89%|█████████████████████████████████████████████████████████████▌       | 446/500 [50:11<04:14,  4.71s/it]"
     ]
    },
    {
     "name": "stdout",
     "output_type": "stream",
     "text": [
      "Few-Shot Document-Level Event Argument Extraction 10.18653/v1/2023.acl-long.446 0 445\n"
     ]
    },
    {
     "name": "stderr",
     "output_type": "stream",
     "text": [
      "0: 100%|█████████████████████████████████████████████████████████████████████| 500/500 [53:29<00:00,  6.42s/it]\n",
      "1:  13%|█████████▏                                                            | 66/500 [03:51<34:48,  4.81s/it]"
     ]
    },
    {
     "name": "stdout",
     "output_type": "stream",
     "text": [
      "Just Like a Human Would, Direct Access to Sarcasm Augmented with Potential Result and Reaction 10.18653/v1/2023.acl-long.566 1 65\n"
     ]
    },
    {
     "name": "stderr",
     "output_type": "stream",
     "text": [
      "1: 100%|█████████████████████████████████████████████████████████████████████| 500/500 [52:57<00:00,  6.36s/it]\n",
      "2: 100%|███████████████████████████████████████████████████████████████████| 500/500 [1:17:52<00:00,  9.35s/it]\n",
      "3:  70%|██████████████████████████████████████████████▋                    | 348/500 [1:56:05<20:33,  8.11s/it]"
     ]
    },
    {
     "name": "stdout",
     "output_type": "stream",
     "text": [
      "FluentSpeech: Stutter-Oriented Automatic Speech Editing with Context-Aware Diffusion Models 10.18653/v1/2023.findings-acl.741 3 347\n"
     ]
    },
    {
     "name": "stderr",
     "output_type": "stream",
     "text": [
      "3:  87%|████████████████████████████████████████████████████████▌        | 435/500 [2:16:58<1:35:38, 88.28s/it]"
     ]
    },
    {
     "name": "stdout",
     "output_type": "stream",
     "text": [
      "DiffuSum: Generation Enhanced Extractive Summarization with Diffusion 10.18653/v1/2023.findings-acl.828 3 434\n"
     ]
    },
    {
     "name": "stderr",
     "output_type": "stream",
     "text": [
      "3:  89%|█████████████████████████████████████████████████████████▌       | 443/500 [2:26:58<1:34:42, 99.69s/it]"
     ]
    },
    {
     "name": "stdout",
     "output_type": "stream",
     "text": [
      "Abstract then Play: A Skill-centric Reinforcement Learning Framework for Text-based Games 10.18653/v1/2023.findings-acl.836 3 442\n"
     ]
    },
    {
     "name": "stderr",
     "output_type": "stream",
     "text": [
      "3:  90%|█████████████████████████████████████████████████████████▌      | 450/500 [2:43:10<2:02:32, 147.05s/it]"
     ]
    },
    {
     "name": "stdout",
     "output_type": "stream",
     "text": [
      "Don’t Lose Yourself! Empathetic Response Generation via Explicit Self-Other Awareness 10.18653/v1/2023.findings-acl.843 3 449\n"
     ]
    },
    {
     "name": "stderr",
     "output_type": "stream",
     "text": [
      "3:  91%|██████████████████████████████████████████████████████████▎     | 456/500 [2:50:10<1:22:32, 112.56s/it]"
     ]
    },
    {
     "name": "stdout",
     "output_type": "stream",
     "text": [
      "DiaASQ: A Benchmark of Conversational Aspect-based Sentiment Quadruple Analysis 10.18653/v1/2023.findings-acl.849 3 455\n"
     ]
    },
    {
     "name": "stderr",
     "output_type": "stream",
     "text": [
      "3:  93%|███████████████████████████████████████████████████████████▌    | 465/500 [3:02:13<1:15:59, 130.28s/it]"
     ]
    },
    {
     "name": "stdout",
     "output_type": "stream",
     "text": [
      "Exploring the Effectiveness of Prompt Engineering for Legal Reasoning Tasks 10.18653/v1/2023.findings-acl.858 3 464\n"
     ]
    },
    {
     "name": "stderr",
     "output_type": "stream",
     "text": [
      "3:  97%|████████████████████████████████████████████████████████████████▊  | 484/500 [3:21:16<24:50, 93.14s/it]"
     ]
    },
    {
     "name": "stdout",
     "output_type": "stream",
     "text": [
      "Detection and Mitigation of the Negative Impact of Dataset Extractivity on Abstractive Summarization 10.18653/v1/2023.findings-acl.877 3 483\n"
     ]
    },
    {
     "name": "stderr",
     "output_type": "stream",
     "text": [
      "3: 100%|███████████████████████████████████████████████████████████████████| 500/500 [3:29:20<00:00, 25.12s/it]\n",
      "4:  78%|█████████████████████████████████████████████████████▉               | 391/500 [20:04<13:13,  7.28s/it]"
     ]
    },
    {
     "name": "stdout",
     "output_type": "stream",
     "text": [
      "Investigating Failures of Automatic Translationin the Case of Unambiguous Gender 10.18653/v1/2022.acl-long.243 4 390\n"
     ]
    },
    {
     "name": "stderr",
     "output_type": "stream",
     "text": [
      "4:  92%|███████████████████████████████████████████████████████████████▍     | 460/500 [23:07<00:36,  1.09it/s]"
     ]
    },
    {
     "name": "stdout",
     "output_type": "stream",
     "text": [
      "Divide and Rule: Effective Pre-Training for Context-Aware Multi-Encoder Translation Models 10.18653/v1/2022.acl-long.312 4 459\n"
     ]
    },
    {
     "name": "stderr",
     "output_type": "stream",
     "text": [
      "4: 100%|█████████████████████████████████████████████████████████████████████| 500/500 [24:57<00:00,  2.99s/it]\n",
      "5:  31%|█████████████████████▌                                               | 156/500 [07:39<26:38,  4.65s/it]"
     ]
    },
    {
     "name": "stdout",
     "output_type": "stream",
     "text": [
      "Sharpness-Aware Minimization Improves Language Model Generalization 10.18653/v1/2022.acl-long.508 5 155\n"
     ]
    },
    {
     "name": "stderr",
     "output_type": "stream",
     "text": [
      "5: 100%|█████████████████████████████████████████████████████████████████████| 500/500 [26:35<00:00,  3.19s/it]\n",
      "6: 100%|█████████████████████████████████████████████████████████████████████| 500/500 [36:58<00:00,  4.44s/it]\n"
     ]
    }
   ],
   "source": [
    "paperIdList=[]\n",
    "for i in [0,1,2,3,4,5,6]:\n",
    "    ls=[]\n",
    "    for j in tqdm(range(0,500),desc=str(i)):\n",
    "            if j%10==0 and not (i==0 and j==0):\n",
    "                time.sleep(20)\n",
    "            url=\"https://api.crossref.org/works/\"+listOfPaper[i][j]\n",
    "            paper_response=requests.get(url)\n",
    "            if paper_response.status_code==200:\n",
    "                    paper=paper_response.json()\n",
    "                    title=paper['message']['title'][0]\n",
    "                    try:\n",
    "                        temp=sch.search_paper(title)\n",
    "                        if len(temp[0].paperId)==0:\n",
    "                            ls.append(listOfPaper[i][j])\n",
    "                            print(title,listOfPaper[i][j],i,j)\n",
    "                        else:\n",
    "                            ls.append(temp[0].paperId)\n",
    "                            \n",
    "                    except:\n",
    "                        ls.append(listOfPaper[i][j])\n",
    "                        print(title,listOfPaper[i][j],i,j)\n",
    "            else:\n",
    "                print(\"no\")\n",
    "    paperIdList.append(ls)\n",
    "                        "
   ]
  },
  {
   "cell_type": "code",
   "execution_count": null,
   "id": "d7e74f1a",
   "metadata": {
    "scrolled": false
   },
   "outputs": [
    {
     "name": "stderr",
     "output_type": "stream",
     "text": [
      "0:  39%|███████████████████████████▏                                         | 197/500 [08:06<20:48,  4.12s/it]"
     ]
    },
    {
     "name": "stdout",
     "output_type": "stream",
     "text": [
      "0 196 ade39c39048d66465c7288e4a7f8258a1bce9e60\n"
     ]
    },
    {
     "name": "stderr",
     "output_type": "stream",
     "text": [
      "0:  79%|██████████████████████████████████████████████████████▊              | 397/500 [16:00<02:17,  1.34s/it]"
     ]
    },
    {
     "name": "stdout",
     "output_type": "stream",
     "text": [
      "0 396 0232715f9089e3a2fc002cff6737bb9939805b8d\n"
     ]
    },
    {
     "name": "stderr",
     "output_type": "stream",
     "text": [
      "0:  93%|███████████████████████████████████████████████████████████████▉     | 463/500 [18:53<03:54,  6.34s/it]"
     ]
    },
    {
     "name": "stdout",
     "output_type": "stream",
     "text": [
      "0 462 52f3b181f6361cd85914798273e497264b2bc32d\n"
     ]
    },
    {
     "name": "stderr",
     "output_type": "stream",
     "text": [
      "0: 100%|█████████████████████████████████████████████████████████████████████| 500/500 [20:01<00:00,  2.40s/it]\n",
      "1: 100%|█████████████████████████████████████████████████████████████████████| 500/500 [18:55<00:00,  2.27s/it]\n",
      "2:  29%|████████████████████▎                                                | 147/500 [05:44<09:07,  1.55s/it]"
     ]
    },
    {
     "name": "stdout",
     "output_type": "stream",
     "text": [
      "2 146 ef5f7cd21b5d34797636239a7b9c8ba6af440aab\n"
     ]
    },
    {
     "name": "stderr",
     "output_type": "stream",
     "text": [
      "5: 100%|█████████████████████████████████████████████████████████████████████| 500/500 [19:09<00:00,  2.30s/it]\n",
      "6:   4%|██▊                                                                   | 20/500 [00:45<04:07,  1.94it/s]"
     ]
    }
   ],
   "source": [
    "temp0to6=[]\n",
    "for i in range(0,7):\n",
    "    for j in tqdm(range(0,500),desc=str(i)):\n",
    "        if j %10==0:\n",
    "            time.sleep(20)\n",
    "        try:\n",
    "            paper=sch.get_paper(paperIdList[i][j],SEARCH_FIELDS)\n",
    "            temp0to6.append(paper)\n",
    "        except:\n",
    "            print(i,j,paperIdList[i][j])"
   ]
  },
  {
   "cell_type": "code",
   "execution_count": 688,
   "id": "5eff811e",
   "metadata": {},
   "outputs": [
    {
     "name": "stdout",
     "output_type": "stream",
     "text": [
      "3500\n",
      "1500\n",
      "500\n",
      "1500\n",
      "500\n",
      "1000\n",
      "1500\n",
      "293\n"
     ]
    }
   ],
   "source": [
    "for temp in [temp0to6,temp7to9,temp10,temp11to13,temp14,temp15to17,temp17to19,temp20]:\n",
    "    print(len(temp))\n",
    "    for i in range(0,len(temp)):\n",
    "        temp[i]=dict(temp[i])"
   ]
  },
  {
   "cell_type": "code",
   "execution_count": 689,
   "id": "057149c6",
   "metadata": {},
   "outputs": [],
   "source": [
    "acl_papers=[]\n",
    "\n",
    "acl_papers+=temp0to6\n",
    "\n",
    "acl_papers+=temp7to9 #7~9 chunk\n",
    "\n",
    "acl_papers+=temp10\n",
    "\n",
    "acl_papers+=temp11to13\n",
    "\n",
    "acl_papers+=temp14\n",
    "\n",
    "acl_papers+=temp15to17 #15,16, '17' is typo!!!!\n",
    "\n",
    "acl_papers+=temp17to19\n",
    "\n",
    "acl_papers+=temp20 # 20 chunk"
   ]
  },
  {
   "cell_type": "code",
   "execution_count": 1120,
   "id": "39d68c82",
   "metadata": {},
   "outputs": [],
   "source": [
    "datapath=\"./ACL_PAPERS.json\""
   ]
  },
  {
   "cell_type": "code",
   "execution_count": null,
   "metadata": {},
   "outputs": [],
   "source": [
    "with open(datapath,'w') as f:\n",
    "    json.dump(acl_papers,f)"
   ]
  },
  {
   "cell_type": "markdown",
   "id": "b4954e60",
   "metadata": {},
   "source": [
    "----"
   ]
  },
  {
   "cell_type": "markdown",
   "id": "defa8b41",
   "metadata": {},
   "source": [
    "## 300개 missing data 중 55개 제외 살림 (abstract data 없는게 있음)"
   ]
  },
  {
   "cell_type": "code",
   "execution_count": 1394,
   "id": "d6467bc1",
   "metadata": {
    "scrolled": true
   },
   "outputs": [
    {
     "name": "stdout",
     "output_type": "stream",
     "text": [
      "9684 none\n",
      "9760 none\n",
      "2\n"
     ]
    }
   ],
   "source": [
    "c=0\n",
    "absls=[]\n",
    "for i in range(0,len(acl_papers)):\n",
    "        if acl_papers[i]['abstract']==None:\n",
    "            print(i, 'none')\n",
    "            absls.append(i)\n",
    "            c+=1\n",
    "        elif len(acl_papers[i]['abstract'])<2:\n",
    "            print(i,'dot')\n",
    "            absls.append(i)\n",
    "            c+=1\n",
    "print(c)"
   ]
  },
  {
   "cell_type": "code",
   "execution_count": 959,
   "id": "f552f158",
   "metadata": {},
   "outputs": [
    {
     "name": "stdout",
     "output_type": "stream",
     "text": [
      "4028 dd\n"
     ]
    }
   ],
   "source": [
    "for i in absls:\n",
    "    try:\n",
    "        doi=acl_papers[i]['externalIds']['DOI'].split(\"10.18653/v1/\")[1]\n",
    "        link=\"https://aclanthology.org/\"+doi\n",
    "        link_response = requests.get(link)\n",
    "    except:\n",
    "        print(i,\"no site\")\n",
    "        break\n",
    "    if link_response.status_code == 200:\n",
    "        # Parse the HTML content using BeautifulSoup\n",
    "        soup = BeautifulSoup(link_response.text, 'html.parser')\n",
    "        abstract=soup.select('#main >div>div> div >div> span')\n",
    "        try:\n",
    "            if len(abstract[0].text)!=0:\n",
    "                acl_papers[i]['abstract']=abstract[0].text\n",
    "        except:\n",
    "            print(i,\"no abstract\")\n",
    "            break\n",
    "        soup.decompose()\n",
    "    elif link_response.status_code == 404:\n",
    "        print(i)"
   ]
  },
  {
   "cell_type": "markdown",
   "id": "340e2fca",
   "metadata": {},
   "source": [
    "# 약 79~99 - ACM library"
   ]
  },
  {
   "cell_type": "code",
   "execution_count": 1057,
   "id": "a4a98dd5",
   "metadata": {
    "scrolled": true
   },
   "outputs": [
    {
     "name": "stdout",
     "output_type": "stream",
     "text": [
      "9760\n",
      "9761\n",
      "9762\n",
      "9764\n",
      "9765\n",
      "9766\n",
      "9767\n",
      "9768\n",
      "9769\n",
      "9770\n",
      "9771\n",
      "9772\n",
      "9773\n",
      "9774\n",
      "9775\n",
      "9776\n",
      "9777\n",
      "9778\n",
      "9779\n",
      "9780\n",
      "9781\n"
     ]
    }
   ],
   "source": [
    "for i in absls:\n",
    "    try:\n",
    "        doi=acl_papers[i]['externalIds']['DOI']\n",
    "        link=\"https://dl.acm.org/doi/abs/\"+doi\n",
    "        link_response = requests.get(link)\n",
    "    except:\n",
    "        print(i,\"no site\")\n",
    "        break\n",
    "    if link_response.status_code == 200:\n",
    "        # Parse the HTML content using BeautifulSoup\n",
    "        soup = BeautifulSoup(link_response.text, 'html.parser')\n",
    "        abstract=soup.select('div.abstractSection > p')\n",
    "        try:\n",
    "            if len(abstract[0].text)!=0:\n",
    "                acl_papers[i]['abstract']=abstract[0].text\n",
    "        except:\n",
    "            print(i,\"no abstract\")\n",
    "            break\n",
    "        soup.decompose()\n",
    "    elif link_response.status_code == 404:\n",
    "        print(i)\n",
    "    else:\n",
    "        print(\"!!\",i)"
   ]
  },
  {
   "cell_type": "markdown",
   "id": "59978d91",
   "metadata": {},
   "source": [
    "# 9684,9760 제외"
   ]
  },
  {
   "cell_type": "markdown",
   "id": "6475e56a",
   "metadata": {},
   "source": [
    "# 문제 발생"
   ]
  },
  {
   "cell_type": "markdown",
   "id": "f6a69771",
   "metadata": {},
   "source": [
    "{2023: 1739,\n",
    " 2022: 1266,\n",
    " 2021: 1345,\n",
    " 2020: 937,\n",
    " 2019: 821,\n",
    " 2018: 474,\n",
    " 2017: 388,\n",
    " 2016: 489,\n",
    " 2015: 397,\n",
    " 2014: 484,\n",
    " 2013: 2,\n",
    " 2006: 165,\n",
    " 2005: 79,\n",
    " 2004: 87,\n",
    " 2002: 96,\n",
    " 2003: 119,\n",
    " 2001: 70,\n",
    " 2000: 79,\n",
    " 1999: 83,\n",
    " 1998: 245,\n",
    " 1997: 73,\n",
    " 1996: 57,\n",
    " 1995: 56,\n",
    " 1994: 52,\n",
    " 1993: 47,\n",
    " 1992: 54,\n",
    " 1991: 78,\n",
    " 1990: 39,\n",
    " 1989: 34,\n",
    " 1988: 35,\n",
    " 1987: 34,\n",
    " 1986: 40,\n",
    " 1985: 41,\n",
    " 1984: 116,\n",
    " 1983: 25,\n",
    " 1982: 39,\n",
    " 1981: 36,\n",
    " 1980: 44,\n",
    " 1979: 28}\n",
    " \n",
    " 없는 년도가 있다...\n"
   ]
  },
  {
   "cell_type": "markdown",
   "id": "544b2dd8",
   "metadata": {},
   "source": [
    "## 당연히 DOI가 모든 paper에 있을 줄 알고 doi.org/~ 된 것만 추가함..."
   ]
  },
  {
   "cell_type": "code",
   "execution_count": 1127,
   "id": "bd13561e",
   "metadata": {},
   "outputs": [
    {
     "name": "stderr",
     "output_type": "stream",
     "text": [
      " 80%|█████████████████████████████████████████████████████████▊              | 135/168 [05:52<01:26,  2.61s/it]"
     ]
    },
    {
     "name": "stdout",
     "output_type": "stream",
     "text": [
      "THERE IS AN ERROR!\n"
     ]
    },
    {
     "name": "stderr",
     "output_type": "stream",
     "text": [
      "\n"
     ]
    }
   ],
   "source": [
    "#Crawling Papers in Each Conference\n",
    "missed_links=[]\n",
    "for link in tqdm(links):\n",
    "    link_response = requests.get(link)\n",
    "    if link_response.status_code == 200:\n",
    "        # Parse the HTML content using BeautifulSoup\n",
    "        soup = BeautifulSoup(link_response.text, 'html.parser')\n",
    "        temp_list=soup.select('ul > li.inproceedings > nav > ul > li > div > ul > li.ee > a')\n",
    "        temp_list_len=len(temp_list)\n",
    "        alreadyIn=0\n",
    "        for i in range(0,temp_list_len):\n",
    "            if temp_list[i].get('href').startswith('https://doi.org/'):\n",
    "                alreadyIn=1\n",
    "                break\n",
    "        if alreadyIn==0:\n",
    "            for i in range(0,temp_list_len):\n",
    "                if temp_list[i].get('href').startswith('https://aclanthology.org/'):\n",
    "                    missed_links.append(temp_list[i].get('href'))\n",
    "        soup.decompose()\n",
    "    else:\n",
    "        print(link)\n",
    "        "
   ]
  },
  {
   "cell_type": "code",
   "execution_count": 1130,
   "id": "fc492d4e",
   "metadata": {},
   "outputs": [
    {
     "name": "stderr",
     "output_type": "stream",
     "text": [
      "100%|██████████████████████████████████████████████████████████████████████████| 32/32 [00:31<00:00,  1.00it/s]\n"
     ]
    }
   ],
   "source": [
    "for link in tqdm(links[136:]):\n",
    "    link_response = requests.get(link)\n",
    "    if link_response.status_code == 200:\n",
    "        # Parse the HTML content using BeautifulSoup\n",
    "        soup = BeautifulSoup(link_response.text, 'html.parser')\n",
    "        temp_list=soup.select('ul > li.inproceedings > nav > ul > li > div > ul > li.ee > a')\n",
    "        temp_list_len=len(temp_list)\n",
    "        alreadyIn=0\n",
    "        for i in range(0,temp_list_len):\n",
    "            if temp_list[i].get('href').startswith('https://doi.org/'):\n",
    "                alreadyIn=1\n",
    "                break\n",
    "        if alreadyIn==0:\n",
    "            for i in range(0,temp_list_len):\n",
    "                if temp_list[i].get('href').startswith('https://aclanthology.org/'):\n",
    "                    missed_links.append(temp_list[i].get('href'))\n",
    "        soup.decompose()\n",
    "    else:\n",
    "        print(link)"
   ]
  },
  {
   "cell_type": "code",
   "execution_count": 1157,
   "id": "cc29b8d0",
   "metadata": {},
   "outputs": [
    {
     "name": "stdout",
     "output_type": "stream",
     "text": [
      "A Statistical Decision Making Method: A Case Study on Prepositional Phrase Attachment [{'name': 'Mehmet Kayaalp'}, {'name': 'Ted Pedersen'}, {'name': 'Rebecca Bruce'}] 1997\n"
     ]
    }
   ],
   "source": [
    "link_response = requests.get(\"https://aclanthology.org/W97-1005/\")\n",
    "if link_response.status_code == 200:\n",
    "        # Parse the HTML content using BeautifulSoup\n",
    "        soup = BeautifulSoup(link_response.text, 'html.parser')\n",
    "        title=soup.select('#title > a')[0].text\n",
    "        temp=soup.select('p.lead > a')\n",
    "        authors=[{'name':i.text} for i in temp]\n",
    "        year=soup.select('div.order-2 > dl > dd')[3].text\n",
    "        print(title,authors,year)"
   ]
  },
  {
   "cell_type": "code",
   "execution_count": 1191,
   "id": "e4e5046d",
   "metadata": {},
   "outputs": [],
   "source": [
    "#for abstraction\n",
    "def paperId(title):\n",
    "    temp=sch.search_paper(title)\n",
    "    if temp[0]['title']==title:\n",
    "        return temp[0]\n",
    "    else :\n",
    "        print(title)\n",
    "        return None"
   ]
  },
  {
   "cell_type": "code",
   "execution_count": 1217,
   "id": "4768ef90",
   "metadata": {},
   "outputs": [],
   "source": [
    "import random"
   ]
  },
  {
   "cell_type": "code",
   "execution_count": 1302,
   "id": "bfa85b6b",
   "metadata": {},
   "outputs": [
    {
     "name": "stderr",
     "output_type": "stream",
     "text": [
      "100%|██████████████████████████████████████████████████████████████████████████| 22/22 [05:23<00:00, 14.71s/it]\n"
     ]
    }
   ],
   "source": [
    "for link in tqdm(missed_links[2438:]):\n",
    "    link_response = requests.get(link)\n",
    "    if link_response.status_code == 200:\n",
    "        # Parse the HTML content using BeautifulSoup\n",
    "        soup = BeautifulSoup(link_response.text, 'html.parser')\n",
    "        title=soup.select('#title > a')[0].text\n",
    "#         temp=soup.select('p.lead > a')\n",
    "#         authors=[{'name':i.text} for i in temp]\n",
    "#         year=soup.select('div.order-2 > dl > dd')[3].text\n",
    "        paper_info=paperId(title)\n",
    "        if paper_info is None:\n",
    "            continue\n",
    "        else:\n",
    "            missed_papers.append(paper_info)\n",
    "            x=random.randint(10, 15)\n",
    "            time.sleep(x)\n",
    "        soup.decompose()\n",
    "    else:\n",
    "        print(1,link)"
   ]
  },
  {
   "cell_type": "code",
   "execution_count": 1422,
   "id": "1099a77b",
   "metadata": {
    "scrolled": false
   },
   "outputs": [
    {
     "name": "stdout",
     "output_type": "stream",
     "text": [
      "2177 none\n",
      "2347 none\n",
      "2391 none\n",
      "3\n"
     ]
    }
   ],
   "source": [
    "c=0\n",
    "mls=[]\n",
    "for i in range(0,len(missed_papers)):\n",
    "        if missed_papers[i]['abstract']==None:\n",
    "            print(i, 'none')\n",
    "            mls.append(i)\n",
    "            c+=1\n",
    "        elif len(missed_papers[i]['abstract'])<2:\n",
    "            print(i,'dot')\n",
    "            mls.append(i)\n",
    "            c+=1\n",
    "print(c)"
   ]
  },
  {
   "cell_type": "code",
   "execution_count": 1438,
   "id": "6aee7e3d",
   "metadata": {},
   "outputs": [
    {
     "name": "stdout",
     "output_type": "stream",
     "text": [
      "{'paperId': 'b8b961044536ca4e95b025d8683b6f3a096d256a', 'externalIds': {'DBLP': 'conf/acl/Alm11', 'MAG': '2251892406', 'CorpusId': 16940041}, 'corpusId': 16940041, 'publicationVenue': {'id': '1e33b3be-b2ab-46e9-96e8-d4eb4bad6e44', 'name': 'Annual Meeting of the Association for Computational Linguistics', 'type': 'conference', 'alternate_names': ['Annu Meet Assoc Comput Linguistics', 'Meeting of the Association for Computational Linguistics', 'ACL', 'Meet Assoc Comput Linguistics'], 'url': 'https://www.aclweb.org/anthology/venues/acl/'}, 'url': 'https://www.semanticscholar.org/paper/b8b961044536ca4e95b025d8683b6f3a096d256a', 'title': 'Subjective Natural Language Problems: Motivations, Applications, Characterizations, and Implications', 'abstract': 'This opinion paper discusses subjective natural language problems in terms of their motivations, applications, characterizations, and implications. It argues that such problems deserve increased attention because of their potential to challenge the status of theoretical understanding, problem-solving methods, and evaluation techniques in computational linguistics. The author supports a more holistic approach to such problems; a view that extends beyond opinion mining or sentiment analysis.', 'venue': 'Annual Meeting of the Association for Computational Linguistics', 'year': 2011, 'referenceCount': 32, 'citationCount': 56, 'influentialCitationCount': 1, 'isOpenAccess': False, 'openAccessPdf': None, 'fieldsOfStudy': ['Computer Science'], 's2FieldsOfStudy': [{'category': 'Computer Science', 'source': 'external'}, {'category': 'Computer Science', 'source': 's2-fos-model'}, {'category': 'Linguistics', 'source': 's2-fos-model'}], 'publicationTypes': ['JournalArticle', 'Conference'], 'publicationDate': '2011-06-19', 'journal': {'pages': '107-112'}, 'authors': [{'authorId': '144648940', 'name': 'Cecilia Ovesdotter Alm'}]}\n",
      "{'paperId': '02940f157db0b2415f1cbc50576a607d40b2bdc4', 'externalIds': {'CorpusId': 5131462}, 'corpusId': 5131462, 'publicationVenue': None, 'url': 'https://www.semanticscholar.org/paper/02940f157db0b2415f1cbc50576a607d40b2bdc4', 'title': 'From Bilingual Dictionaries to Interlingual Document Representations', 'abstract': 'Mapping documents into an interlingual representation can help bridge the language barrier of a cross-lingual corpus. Previous approaches use aligned documents as training data to learn an interlingual representation, making them sensitive to the domain of the training data. In this paper, we learn an interlingual representation in an unsupervised manner using only a bilingual dictionary. We first use the bilingual dictionary to find candidate document alignments and then use them to find an interlingual representation. Since the candidate alignments are noisy, we develop a robust learning algorithm to learn the interlingual representation. We show that bilingual dictionaries generalize to different domains better: our approach gives better performance than either a word by word translation method or Canonical Correlation Analysis (CCA) trained on a different domain.', 'venue': '', 'year': 2011, 'referenceCount': 25, 'citationCount': 6, 'influentialCitationCount': 0, 'isOpenAccess': False, 'openAccessPdf': None, 'fieldsOfStudy': None, 's2FieldsOfStudy': [{'category': 'Computer Science', 'source': 's2-fos-model'}, {'category': 'Linguistics', 'source': 's2-fos-model'}], 'publicationTypes': None, 'publicationDate': None, 'journal': None, 'authors': [{'authorId': '1728602', 'name': 'S. Dumais'}]}\n",
      "{'paperId': 'abd398e97c591326bae6410e1df35dad95f46d3c', 'externalIds': {'DBLP': 'conf/acl/Seaghdha10', 'MAG': '2147298557', 'CorpusId': 272315}, 'corpusId': 272315, 'publicationVenue': {'id': '1e33b3be-b2ab-46e9-96e8-d4eb4bad6e44', 'name': 'Annual Meeting of the Association for Computational Linguistics', 'type': 'conference', 'alternate_names': ['Annu Meet Assoc Comput Linguistics', 'Meeting of the Association for Computational Linguistics', 'ACL', 'Meet Assoc Comput Linguistics'], 'url': 'https://www.aclweb.org/anthology/venues/acl/'}, 'url': 'https://www.semanticscholar.org/paper/abd398e97c591326bae6410e1df35dad95f46d3c', 'title': 'Latent Variable Models of Selectional Preference', 'abstract': 'This paper describes the application of so-called topic models to selectional preference induction. Three models related to Latent Dirichlet Allocation, a proven method for modelling document-word cooccurrences, are presented and evaluated on datasets of human plausibility judgements. Compared to previously proposed techniques, these models perform very competitively, especially for infrequent predicate-argument combinations where they exceed the quality of Web-scale predictions while using relatively little data.', 'venue': 'Annual Meeting of the Association for Computational Linguistics', 'year': 2010, 'referenceCount': 33, 'citationCount': 119, 'influentialCitationCount': 7, 'isOpenAccess': False, 'openAccessPdf': None, 'fieldsOfStudy': ['Computer Science'], 's2FieldsOfStudy': [{'category': 'Computer Science', 'source': 'external'}, {'category': 'Computer Science', 'source': 's2-fos-model'}, {'category': 'Linguistics', 'source': 's2-fos-model'}], 'publicationTypes': ['JournalArticle', 'Conference'], 'publicationDate': '2010-07-11', 'journal': {'pages': '435-444'}, 'authors': [{'authorId': '8311581', 'name': 'Diarmuid Ó Séaghdha'}]}\n",
      "{'paperId': '443a10f3bd061cd43485b1aa1ca7e3f6be09068d', 'externalIds': {'MAG': '2133685497', 'DBLP': 'conf/acl/Kaljahi10', 'CorpusId': 15662214}, 'corpusId': 15662214, 'publicationVenue': {'id': '1e33b3be-b2ab-46e9-96e8-d4eb4bad6e44', 'name': 'Annual Meeting of the Association for Computational Linguistics', 'type': 'conference', 'alternate_names': ['Annu Meet Assoc Comput Linguistics', 'Meeting of the Association for Computational Linguistics', 'ACL', 'Meet Assoc Comput Linguistics'], 'url': 'https://www.aclweb.org/anthology/venues/acl/'}, 'url': 'https://www.semanticscholar.org/paper/443a10f3bd061cd43485b1aa1ca7e3f6be09068d', 'title': 'Adapting Self-Training for Semantic Role Labeling', 'abstract': 'Supervised semantic role labeling (SRL) systems trained on hand-crafted annotated corpora have recently achieved state-of-the-art performance. However, creating such corpora is tedious and costly, with the resulting corpora not sufficiently representative of the language. This paper describes a part of an ongoing work on applying bootstrapping methods to SRL to deal with this problem. Previous work shows that, due to the complexity of SRL, this task is not straight forward. One major difficulty is the propagation of classification noise into the successive iterations. We address this problem by employing balancing and preselection methods for self-training, as a bootstrapping algorithm. The proposed methods could achieve improvement over the base line, which do not use these methods.', 'venue': 'Annual Meeting of the Association for Computational Linguistics', 'year': 2010, 'referenceCount': 15, 'citationCount': 15, 'influentialCitationCount': 1, 'isOpenAccess': False, 'openAccessPdf': None, 'fieldsOfStudy': ['Computer Science'], 's2FieldsOfStudy': [{'category': 'Computer Science', 'source': 'external'}, {'category': 'Computer Science', 'source': 's2-fos-model'}], 'publicationTypes': ['JournalArticle', 'Conference'], 'publicationDate': '2010-07-13', 'journal': {'pages': '91-96'}, 'authors': [{'authorId': '2095950', 'name': 'R. Kaljahi'}]}\n",
      "{'paperId': '83b2f3f334036ff792cdf1f8d1dff183813fae1e', 'externalIds': {'MAG': '2114874863', 'DBLP': 'conf/acl/NguyenP09', 'DOI': '10.3115/1667583.1667639', 'CorpusId': 3171223}, 'corpusId': 3171223, 'publicationVenue': None, 'url': 'https://www.semanticscholar.org/paper/83b2f3f334036ff792cdf1f8d1dff183813fae1e', 'title': 'An Ontology-Based Approach for Key Phrase Extraction', 'abstract': 'Automatic key phrase extraction is fundamental to the success of many recent digital library applications and semantic information retrieval techniques and a difficult and essential problem in Vietnamese natural language processing (NLP). In this work, we propose a novel method for key phrase extracting of Vietnamese text that exploits the Vietnamese Wikipedia as an ontology and exploits specific characteristics of the Vietnamese language for the key phrase selection stage. We also explore NLP techniques that we propose for the analysis of Vietnamese texts, focusing on the advanced candidate phrases recognition phase as well as part-of-speech (POS) tagging. Finally, we review the results of several experiments that have examined the impacts of strategies chosen for Vietnamese key phrase extracting.', 'venue': 'ACL/IJCNLP', 'year': 2009, 'referenceCount': 7, 'citationCount': 23, 'influentialCitationCount': 1, 'isOpenAccess': True, 'openAccessPdf': None, 'fieldsOfStudy': ['Computer Science'], 's2FieldsOfStudy': [{'category': 'Computer Science', 'source': 'external'}, {'category': 'Computer Science', 'source': 's2-fos-model'}, {'category': 'Linguistics', 'source': 's2-fos-model'}], 'publicationTypes': ['JournalArticle', 'Review'], 'publicationDate': '2009-08-04', 'journal': {'pages': '181-184'}, 'authors': [{'authorId': '1815400', 'name': 'Chau Q. Nguyen'}, {'authorId': '2843932', 'name': 'T. Phan'}]}\n",
      "{'paperId': '12c34b0f5b4420a8bd2551394d23527504a4d774', 'externalIds': {'DBLP': 'conf/acl/Daume09', 'MAG': '2121812871', 'DOI': '10.3115/1667583.1667673', 'CorpusId': 10368968}, 'corpusId': 10368968, 'publicationVenue': None, 'url': 'https://www.semanticscholar.org/paper/12c34b0f5b4420a8bd2551394d23527504a4d774', 'title': 'Markov Random Topic Fields', 'abstract': 'Most approaches to topic modeling assume an independence between documents that is frequently violated. We present an topic model that makes use of one or more user-specified graphs describing relationships between documents. These graph are encoded in the form of a Markov random field over topics and serve to encourage related documents to have similar topic structures. Experiments on show upwards of a 10% improvement in modeling performance.', 'venue': 'ACL/IJCNLP', 'year': 2009, 'referenceCount': 7, 'citationCount': 29, 'influentialCitationCount': 1, 'isOpenAccess': True, 'openAccessPdf': {'url': 'http://dl.acm.org/ft_gateway.cfm?id=1667673&type=pdf', 'status': 'BRONZE'}, 'fieldsOfStudy': ['Computer Science'], 's2FieldsOfStudy': [{'category': 'Computer Science', 'source': 'external'}, {'category': 'Computer Science', 'source': 's2-fos-model'}, {'category': 'Mathematics', 'source': 's2-fos-model'}], 'publicationTypes': ['JournalArticle'], 'publicationDate': '2009-08-04', 'journal': {'pages': '293-296'}, 'authors': [{'authorId': '1722360', 'name': 'Hal Daumé'}]}\n",
      "{'paperId': '4171c85cc6ed4accca639421bc9deda322c22f9e', 'externalIds': {'DBLP': 'conf/sigmorphon/Jones08', 'MAG': '2050952146', 'DOI': '10.3115/1626324.1626331', 'CorpusId': 17336620}, 'corpusId': 17336620, 'publicationVenue': {'id': '56b19d19-ddf9-4e56-ba1e-37ef38ef5943', 'name': 'Special Interest Group on Computational Morphology and Phonology Workshop', 'type': 'conference', 'alternate_names': ['SIGMORPHON', 'Spéc Interest Group Comput Morphol Phonol Workshop'], 'url': 'http://sigmorphon.org/'}, 'url': 'https://www.semanticscholar.org/paper/4171c85cc6ed4accca639421bc9deda322c22f9e', 'title': 'Phonotactic Probability and the Maori Passive: A Computational Approach', 'abstract': 'Two analyses of Maori passives and gerunds have been debated in the literature. Both assume that the thematic consonants in these forms are unpredictable. This paper reports on three computational experiments designed to test whether this assumption is sound. The results suggest that thematic consonants are predictable from the phonotactic probabilities of their active counterparts. This study has potential implications for allomorphy in other Polynesian languages. It also exemplifies the benefits of using computational methods in linguistic analyses.', 'venue': 'Special Interest Group on Computational Morphology and Phonology Workshop', 'year': 2008, 'referenceCount': 29, 'citationCount': 5, 'influentialCitationCount': 0, 'isOpenAccess': True, 'openAccessPdf': {'url': 'http://dl.acm.org/ft_gateway.cfm?id=1626331&type=pdf', 'status': 'BRONZE'}, 'fieldsOfStudy': ['Computer Science'], 's2FieldsOfStudy': [{'category': 'Computer Science', 'source': 'external'}, {'category': 'Computer Science', 'source': 's2-fos-model'}, {'category': 'Linguistics', 'source': 's2-fos-model'}], 'publicationTypes': ['JournalArticle'], 'publicationDate': '2008-06-19', 'journal': {'pages': '39-48'}, 'authors': [{'authorId': '3834060', 'name': 'Oiwi Parker Jones'}]}\n",
      "{'paperId': 'e8ce3ae449642877c0ecf91cd216969dd19a998f', 'externalIds': {'MAG': '2100413690', 'DBLP': 'conf/acl/Seaghdha07', 'DOI': '10.3115/1557835.1557852', 'CorpusId': 1717722}, 'corpusId': 1717722, 'publicationVenue': {'id': '1e33b3be-b2ab-46e9-96e8-d4eb4bad6e44', 'name': 'Annual Meeting of the Association for Computational Linguistics', 'type': 'conference', 'alternate_names': ['Annu Meet Assoc Comput Linguistics', 'Meeting of the Association for Computational Linguistics', 'ACL', 'Meet Assoc Comput Linguistics'], 'url': 'https://www.aclweb.org/anthology/venues/acl/'}, 'url': 'https://www.semanticscholar.org/paper/e8ce3ae449642877c0ecf91cd216969dd19a998f', 'title': 'Annotating and Learning Compound Noun Semantics', 'abstract': 'There is little consensus on a standard experimental design for the compound interpretation task. This paper introduces well-motivated general desiderata for semantic annotation schemes, and describes such a scheme for in-context compound annotation accompanied by detailed publicly available guidelines. Classification experiments on an open-text dataset compare favourably with previously reported results and provide a solid baseline for future research.', 'venue': 'Annual Meeting of the Association for Computational Linguistics', 'year': 2007, 'referenceCount': 20, 'citationCount': 35, 'influentialCitationCount': 6, 'isOpenAccess': True, 'openAccessPdf': {'url': 'https://dl.acm.org/doi/pdf/10.5555/1557835.1557852', 'status': 'BRONZE'}, 'fieldsOfStudy': ['Computer Science'], 's2FieldsOfStudy': [{'category': 'Computer Science', 'source': 'external'}, {'category': 'Computer Science', 'source': 's2-fos-model'}, {'category': 'Linguistics', 'source': 's2-fos-model'}], 'publicationTypes': ['JournalArticle', 'Conference'], 'publicationDate': '2007-06-25', 'journal': {'name': '', 'pages': '73-78', 'volume': ''}, 'authors': [{'authorId': '8311581', 'name': 'Diarmuid Ó Séaghdha'}]}\n",
      "{'paperId': 'f4d1a5da9c66da653b88adb7a63c0271b2de8a85', 'externalIds': {'MAG': '2950429596', 'DBLP': 'conf/acl/MurataUMI01', 'ArXiv': 'cs/0112003', 'DOI': '10.3115/1118037.1118052', 'CorpusId': 15818617}, 'corpusId': 15818617, 'publicationVenue': None, 'url': 'https://www.semanticscholar.org/paper/f4d1a5da9c66da653b88adb7a63c0271b2de8a85', 'title': 'Using a Support-Vector Machine for Japanese-to-English Translation of Tense, Aspect, and Modality', 'abstract': 'This paper describes experiments carried out using a variety of machine-learning methods, including the k-nearest neighborhood method that was used in a previous study, for the translation of tense, aspect, and modality. It was found that the support-vector machine method was the most precise of all the methods tested.', 'venue': 'DDMMT@ACL', 'year': 2001, 'referenceCount': 12, 'citationCount': 15, 'influentialCitationCount': 0, 'isOpenAccess': True, 'openAccessPdf': {'url': 'https://dl.acm.org/doi/pdf/10.3115/1118037.1118052', 'status': 'BRONZE'}, 'fieldsOfStudy': ['Computer Science'], 's2FieldsOfStudy': [{'category': 'Computer Science', 'source': 'external'}, {'category': 'Computer Science', 'source': 's2-fos-model'}, {'category': 'Linguistics', 'source': 's2-fos-model'}], 'publicationTypes': ['JournalArticle'], 'publicationDate': '2001-07-07', 'journal': {'name': 'ArXiv', 'volume': 'cs.CL/0112003'}, 'authors': [{'authorId': '1697381', 'name': 'M. Murata'}, {'authorId': '1783611', 'name': 'Kiyotaka Uchimoto'}, {'authorId': '145853732', 'name': 'Qing Ma'}, {'authorId': '1714134', 'name': 'H. Isahara'}]}\n",
      "{'paperId': '7cd7ea196c8dbf915030d078ca853b550e43fa2e', 'externalIds': {'CorpusId': 11415196}, 'corpusId': 11415196, 'publicationVenue': None, 'url': 'https://www.semanticscholar.org/paper/7cd7ea196c8dbf915030d078ca853b550e43fa2e', 'title': 'Distortion Model Considering Rich Context for Statistical Machine Translation', 'abstract': 'This paper proposes new distortion models for phrase-based SMT. In decoding, a distortion model estimates the source word position to be translated next (NP) given the last translated source word position (CP). We propose a distortion model that can consider the word at the CP, a word at an NP candidate, and the context of the CP and the NP candidate simultaneously. Moreover, we propose a further improved model that considers richer context by discriminating label sequences that specify spans from the CP to NP candidates. It enables our model to learn the effect of relative word order among NP candidates as well as to learn the effect of distances from the training data. In our experiments, our model improved 2.9 BLEU points for Japanese-English and 2.6 BLEU points for Chinese-English translation compared to the lexical reordering models.', 'venue': '', 'year': 2013, 'referenceCount': 19, 'citationCount': 11, 'influentialCitationCount': 1, 'isOpenAccess': False, 'openAccessPdf': None, 'fieldsOfStudy': None, 's2FieldsOfStudy': [{'category': 'Computer Science', 'source': 's2-fos-model'}, {'category': 'Linguistics', 'source': 's2-fos-model'}], 'publicationTypes': None, 'publicationDate': None, 'journal': None, 'authors': [{'authorId': '2205832', 'name': 'Isao Goto'}, {'authorId': '1802277', 'name': 'M. Utiyama'}, {'authorId': '1698363', 'name': 'E. Sumita'}, {'authorId': '2263274512', 'name': 'Akihiro Tamura'}, {'authorId': '1795664', 'name': 'S. Kurohashi'}]}\n",
      "{'paperId': 'd24b7c8bfcb321aaa3e76ed3877ab79c20935b81', 'externalIds': {'CorpusId': 8214629}, 'corpusId': 8214629, 'publicationVenue': None, 'url': 'https://www.semanticscholar.org/paper/d24b7c8bfcb321aaa3e76ed3877ab79c20935b81', 'title': 'Using Derivation Trees for Treebank Error Detection', 'abstract': 'This work introduces a new approach to checking treebank consistency. Derivation trees based on a variant of Tree Adjoining Grammar are used to compare the annotation of word sequences based on their structural similarity. This overcomes the problems of earlier approaches based on using strings of words rather than tree structure to identify the appropriate contexts for comparison. We report on the result of applying this approach to the Penn Arabic Treebank and how this approach leads to high precision of error detection.', 'venue': '', 'year': 2011, 'referenceCount': 11, 'citationCount': 9, 'influentialCitationCount': 0, 'isOpenAccess': False, 'openAccessPdf': None, 'fieldsOfStudy': None, 's2FieldsOfStudy': [{'category': 'Computer Science', 'source': 's2-fos-model'}, {'category': 'Linguistics', 'source': 's2-fos-model'}], 'publicationTypes': None, 'publicationDate': None, 'journal': None, 'authors': [{'authorId': '2695965', 'name': 'S. Kulick'}, {'authorId': '3212973', 'name': 'Ann Bies'}, {'authorId': '47517717', 'name': 'Justin Mott'}]}\n"
     ]
    }
   ],
   "source": [
    "for i in missed_papers:\n",
    "    try:\n",
    "        if i['externalIds']['ACL']==None:\n",
    "            print(i)\n",
    "    except:\n",
    "        print(i)"
   ]
  },
  {
   "cell_type": "code",
   "execution_count": 1430,
   "id": "84b20125",
   "metadata": {},
   "outputs": [],
   "source": [
    "acl_papers+=missed_papers"
   ]
  }
 ],
 "metadata": {
  "kernelspec": {
   "display_name": "Python 3 (ipykernel)",
   "language": "python",
   "name": "python3"
  },
  "language_info": {
   "codemirror_mode": {
    "name": "ipython",
    "version": 3
   },
   "file_extension": ".py",
   "mimetype": "text/x-python",
   "name": "python",
   "nbconvert_exporter": "python",
   "pygments_lexer": "ipython3",
   "version": "3.11.5"
  }
 },
 "nbformat": 4,
 "nbformat_minor": 5
}
