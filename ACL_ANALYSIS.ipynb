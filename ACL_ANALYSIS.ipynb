{
 "cells": [
  {
   "cell_type": "code",
   "execution_count": 16,
   "id": "b19661b4",
   "metadata": {},
   "outputs": [],
   "source": [
    "import json"
   ]
  },
  {
   "cell_type": "code",
   "execution_count": 17,
   "id": "f0bcf66a",
   "metadata": {},
   "outputs": [],
   "source": [
    "with open('./ACL_PAPERS.json','r') as f:\n",
    "    papers=json.load(f)  "
   ]
  },
  {
   "cell_type": "code",
   "execution_count": 18,
   "id": "87798054",
   "metadata": {
    "scrolled": true
   },
   "outputs": [
    {
     "data": {
      "text/plain": [
       "12747"
      ]
     },
     "execution_count": 18,
     "metadata": {},
     "output_type": "execute_result"
    }
   ],
   "source": [
    "len(papers)"
   ]
  },
  {
   "cell_type": "code",
   "execution_count": 32,
   "id": "6d9ff4fb",
   "metadata": {
    "scrolled": true
   },
   "outputs": [
    {
     "data": {
      "text/plain": [
       "{'paperId': 'd337f438930a5f9b024a5e7635cb6c525bd65e9e',\n",
       " 'externalIds': {'DBLP': 'conf/acl/Liu0YWM0WW23',\n",
       "  'ACL': '2023.acl-long.1',\n",
       "  'DOI': '10.18653/v1/2023.acl-long.1',\n",
       "  'CorpusId': 259370595},\n",
       " 'corpusId': 259370595,\n",
       " 'publicationVenue': {'id': '1e33b3be-b2ab-46e9-96e8-d4eb4bad6e44',\n",
       "  'name': 'Annual Meeting of the Association for Computational Linguistics',\n",
       "  'type': 'conference',\n",
       "  'alternate_names': ['Annu Meet Assoc Comput Linguistics',\n",
       "   'Meeting of the Association for Computational Linguistics',\n",
       "   'ACL',\n",
       "   'Meet Assoc Comput Linguistics'],\n",
       "  'url': 'https://www.aclweb.org/anthology/venues/acl/'},\n",
       " 'url': 'https://www.semanticscholar.org/paper/d337f438930a5f9b024a5e7635cb6c525bd65e9e',\n",
       " 'title': 'One Cannot Stand for Everyone! Leveraging Multiple User Simulators to train Task-oriented Dialogue Systems',\n",
       " 'abstract': 'User simulators are agents designed to imitate human users; recent advances have found that Task-oriented Dialogue (ToD) systems optimized toward a user simulator could better satisfy the need of human users. However, this might result in a sub-optimal ToD system if it is tailored to only one ad hoc user simulator, since human users can behave differently. In this paper, we propose a framework called MUST to optimize ToD systems via leveraging Multiple User SimulaTors. The main challenges of implementing MUST fall in 1) how to adaptively determine which user simulator to interact with the ToD system at each optimization step, since the ToD system might be over-fitted to some specific user simulators, and simultaneously under-fitted to some others; 2) how to avoid catastrophic forgetting of the adaption for a simulator that is not selected for several consecutive optimization steps.To tackle these challenges, we formulate MUST as a Multi-armed bandits (MAB) problem and provide a method called MUST_{\\\\mathrm{adaptive}} that balances i) the boosting adaption for adaptive interactions between different user simulators and the ToD system andii) the uniform adaption to avoid the catastrophic forgetting issue.With both automatic evaluations and human evaluations, our experimental results on MultiWOZ show that the dialogue system trained by MUST achieves a better performance than those trained by a single user simulator. It also has a better generalization ability when testing with unseen user simulators.',\n",
       " 'venue': 'Annual Meeting of the Association for Computational Linguistics',\n",
       " 'year': 2023,\n",
       " 'referenceCount': 34,\n",
       " 'citationCount': 2,\n",
       " 'influentialCitationCount': 0,\n",
       " 'isOpenAccess': True,\n",
       " 'openAccessPdf': {'url': 'https://aclanthology.org/2023.acl-long.1.pdf',\n",
       "  'status': 'HYBRID'},\n",
       " 'fieldsOfStudy': ['Computer Science'],\n",
       " 's2FieldsOfStudy': [{'category': 'Computer Science', 'source': 'external'},\n",
       "  {'category': 'Computer Science', 'source': 's2-fos-model'}],\n",
       " 'publicationTypes': ['JournalArticle', 'Conference'],\n",
       " 'publicationDate': None,\n",
       " 'journal': {'pages': '1-21'},\n",
       " 'authors': [{'authorId': '2136358352', 'name': 'Yajiao Liu'},\n",
       "  {'authorId': '2110310493', 'name': 'Xin Jiang'},\n",
       "  {'authorId': '1384668226', 'name': 'Yichun Yin'},\n",
       "  {'authorId': '2136912252', 'name': 'Yasheng Wang'},\n",
       "  {'authorId': '33727421', 'name': 'Fei Mi'},\n",
       "  {'authorId': '30738758', 'name': 'Qun Liu'},\n",
       "  {'authorId': '2101317304', 'name': 'Xiang Wan'},\n",
       "  {'authorId': '2894465', 'name': 'Benyou Wang'}]}"
      ]
     },
     "execution_count": 32,
     "metadata": {},
     "output_type": "execute_result"
    }
   ],
   "source": [
    "papers[0]"
   ]
  },
  {
   "cell_type": "code",
   "execution_count": 26,
   "id": "086f58cd",
   "metadata": {
    "scrolled": true
   },
   "outputs": [],
   "source": [
    "#Omit no abstract paper: 9684,9760\n",
    "\n",
    "# del papers[9684]\n",
    "# del papers[9759]"
   ]
  },
  {
   "cell_type": "code",
   "execution_count": 29,
   "id": "288dd02c",
   "metadata": {},
   "outputs": [],
   "source": [
    "paperNumbersPerYear={}\n",
    "for i in papers:\n",
    "    if i['year'] is None:\n",
    "        print(i)\n",
    "        continue\n",
    "    if i['year'] in paperNumbersPerYear:\n",
    "        paperNumbersPerYear[i['year']]+=1\n",
    "    else:\n",
    "        paperNumbersPerYear[i['year']]=1"
   ]
  },
  {
   "cell_type": "code",
   "execution_count": 30,
   "id": "311411c2",
   "metadata": {
    "scrolled": true
   },
   "outputs": [
    {
     "data": {
      "text/plain": [
       "{2023: 1739,\n",
       " 2022: 1266,\n",
       " 2021: 1345,\n",
       " 2020: 937,\n",
       " 2019: 821,\n",
       " 2018: 474,\n",
       " 2017: 388,\n",
       " 2016: 489,\n",
       " 2015: 398,\n",
       " 2014: 486,\n",
       " 2006: 174,\n",
       " 2005: 142,\n",
       " 2004: 132,\n",
       " 2002: 96,\n",
       " 2003: 125,\n",
       " 2001: 103,\n",
       " 2000: 79,\n",
       " 1999: 97,\n",
       " 1998: 246,\n",
       " 1997: 87,\n",
       " 1996: 57,\n",
       " 1995: 56,\n",
       " 1994: 52,\n",
       " 1993: 47,\n",
       " 1992: 53,\n",
       " 1991: 77,\n",
       " 1990: 39,\n",
       " 1989: 34,\n",
       " 1988: 35,\n",
       " 1987: 34,\n",
       " 1986: 40,\n",
       " 1985: 41,\n",
       " 1984: 116,\n",
       " 1983: 25,\n",
       " 1982: 39,\n",
       " 1981: 36,\n",
       " 1980: 44,\n",
       " 1979: 28,\n",
       " 2013: 528,\n",
       " 2012: 318,\n",
       " 2010: 297,\n",
       " 2011: 390,\n",
       " 2009: 251,\n",
       " 2008: 234,\n",
       " 2007: 250}"
      ]
     },
     "execution_count": 30,
     "metadata": {},
     "output_type": "execute_result"
    }
   ],
   "source": [
    "paperNumbersPerYear"
   ]
  },
  {
   "cell_type": "markdown",
   "id": "46ea851c",
   "metadata": {},
   "source": [
    "----"
   ]
  },
  {
   "cell_type": "code",
   "execution_count": 41,
   "id": "385d954d",
   "metadata": {},
   "outputs": [],
   "source": [
    "def paper(paper):\n",
    "    return {\n",
    "        'year': paper['year'],\n",
    "        'abstract': paper['abstract'],\n",
    "        'title': paper['title'],\n",
    "        'authors': [author['name'] for author in paper['authors']],\n",
    "        'citationCount': paper['citationCount']\n",
    "    }\n",
    "def preprocess_data(data):\n",
    "    preprocessed_data = []\n",
    "    for p in data:\n",
    "        preprocessed_paper = paper(p)\n",
    "        preprocessed_data.append(preprocessed_paper)\n",
    "\n",
    "    return preprocessed_data"
   ]
  },
  {
   "cell_type": "code",
   "execution_count": 42,
   "id": "f17055a4",
   "metadata": {},
   "outputs": [],
   "source": [
    "preprocessed_data = preprocess_data(papers)"
   ]
  },
  {
   "cell_type": "code",
   "execution_count": 43,
   "id": "609ee72b",
   "metadata": {},
   "outputs": [
    {
     "data": {
      "text/plain": [
       "{'year': 2023,\n",
       " 'abstract': 'User simulators are agents designed to imitate human users; recent advances have found that Task-oriented Dialogue (ToD) systems optimized toward a user simulator could better satisfy the need of human users. However, this might result in a sub-optimal ToD system if it is tailored to only one ad hoc user simulator, since human users can behave differently. In this paper, we propose a framework called MUST to optimize ToD systems via leveraging Multiple User SimulaTors. The main challenges of implementing MUST fall in 1) how to adaptively determine which user simulator to interact with the ToD system at each optimization step, since the ToD system might be over-fitted to some specific user simulators, and simultaneously under-fitted to some others; 2) how to avoid catastrophic forgetting of the adaption for a simulator that is not selected for several consecutive optimization steps.To tackle these challenges, we formulate MUST as a Multi-armed bandits (MAB) problem and provide a method called MUST_{\\\\mathrm{adaptive}} that balances i) the boosting adaption for adaptive interactions between different user simulators and the ToD system andii) the uniform adaption to avoid the catastrophic forgetting issue.With both automatic evaluations and human evaluations, our experimental results on MultiWOZ show that the dialogue system trained by MUST achieves a better performance than those trained by a single user simulator. It also has a better generalization ability when testing with unseen user simulators.',\n",
       " 'title': 'One Cannot Stand for Everyone! Leveraging Multiple User Simulators to train Task-oriented Dialogue Systems',\n",
       " 'authors': ['Yajiao Liu',\n",
       "  'Xin Jiang',\n",
       "  'Yichun Yin',\n",
       "  'Yasheng Wang',\n",
       "  'Fei Mi',\n",
       "  'Qun Liu',\n",
       "  'Xiang Wan',\n",
       "  'Benyou Wang'],\n",
       " 'citationCount': 2}"
      ]
     },
     "execution_count": 43,
     "metadata": {},
     "output_type": "execute_result"
    }
   ],
   "source": [
    "preprocessed_data[0]"
   ]
  },
  {
   "cell_type": "markdown",
   "id": "4d473b85",
   "metadata": {},
   "source": [
    "---"
   ]
  },
  {
   "cell_type": "code",
   "execution_count": 34,
   "id": "176400fe",
   "metadata": {},
   "outputs": [],
   "source": [
    "from nltk import wordpunct_tokenize"
   ]
  },
  {
   "cell_type": "code",
   "execution_count": 36,
   "id": "098533b0",
   "metadata": {},
   "outputs": [
    {
     "name": "stdout",
     "output_type": "stream",
     "text": [
      "['User', 'simulators', 'are', 'agents', 'designed', 'to', 'imitate', 'human', 'users', ';', 'recent', 'advances', 'have', 'found', 'that', 'Task', '-', 'oriented', 'Dialogue', '(', 'ToD', ')', 'systems', 'optimized', 'toward', 'a', 'user', 'simulator', 'could', 'better', 'satisfy', 'the', 'need', 'of', 'human', 'users', '.', 'However', ',', 'this', 'might', 'result', 'in', 'a', 'sub', '-', 'optimal', 'ToD', 'system', 'if', 'it', 'is', 'tailored', 'to', 'only', 'one', 'ad', 'hoc', 'user', 'simulator', ',', 'since', 'human', 'users', 'can', 'behave', 'differently', '.', 'In', 'this', 'paper', ',', 'we', 'propose', 'a', 'framework', 'called', 'MUST', 'to', 'optimize', 'ToD', 'systems', 'via', 'leveraging', 'Multiple', 'User', 'SimulaTors', '.', 'The', 'main', 'challenges', 'of', 'implementing', 'MUST', 'fall', 'in', '1', ')', 'how', 'to', 'adaptively', 'determine', 'which', 'user', 'simulator', 'to', 'interact', 'with', 'the', 'ToD', 'system', 'at', 'each', 'optimization', 'step', ',', 'since', 'the', 'ToD', 'system', 'might', 'be', 'over', '-', 'fitted', 'to', 'some', 'specific', 'user', 'simulators', ',', 'and', 'simultaneously', 'under', '-', 'fitted', 'to', 'some', 'others', ';', '2', ')', 'how', 'to', 'avoid', 'catastrophic', 'forgetting', 'of', 'the', 'adaption', 'for', 'a', 'simulator', 'that', 'is', 'not', 'selected', 'for', 'several', 'consecutive', 'optimization', 'steps', '.', 'To', 'tackle', 'these', 'challenges', ',', 'we', 'formulate', 'MUST', 'as', 'a', 'Multi', '-', 'armed', 'bandits', '(', 'MAB', ')', 'problem', 'and', 'provide', 'a', 'method', 'called', 'MUST_', '{\\\\', 'mathrm', '{', 'adaptive', '}}', 'that', 'balances', 'i', ')', 'the', 'boosting', 'adaption', 'for', 'adaptive', 'interactions', 'between', 'different', 'user', 'simulators', 'and', 'the', 'ToD', 'system', 'andii', ')', 'the', 'uniform', 'adaption', 'to', 'avoid', 'the', 'catastrophic', 'forgetting', 'issue', '.', 'With', 'both', 'automatic', 'evaluations', 'and', 'human', 'evaluations', ',', 'our', 'experimental', 'results', 'on', 'MultiWOZ', 'show', 'that', 'the', 'dialogue', 'system', 'trained', 'by', 'MUST', 'achieves', 'a', 'better', 'performance', 'than', 'those', 'trained', 'by', 'a', 'single', 'user', 'simulator', '.', 'It', 'also', 'has', 'a', 'better', 'generalization', 'ability', 'when', 'testing', 'with', 'unseen', 'user', 'simulators', '.']\n"
     ]
    }
   ],
   "source": [
    "print(wordpunct_tokenize(papers[0]['abstract']))"
   ]
  }
 ],
 "metadata": {
  "kernelspec": {
   "display_name": "Python 3 (ipykernel)",
   "language": "python",
   "name": "python3"
  },
  "language_info": {
   "codemirror_mode": {
    "name": "ipython",
    "version": 3
   },
   "file_extension": ".py",
   "mimetype": "text/x-python",
   "name": "python",
   "nbconvert_exporter": "python",
   "pygments_lexer": "ipython3",
   "version": "3.11.5"
  }
 },
 "nbformat": 4,
 "nbformat_minor": 5
}
